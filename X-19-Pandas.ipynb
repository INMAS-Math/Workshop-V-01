{
 "cells": [
  {
   "cell_type": "markdown",
   "id": "355498ee",
   "metadata": {
    "id": "08d3a007"
   },
   "source": [
    "<img src=\"images/inmas.png\" width=130x align='right' />\n",
    "\n",
    "# Exercise 19 - Pandas\n",
    "\n",
    "### Prerequisite\n",
    "Notebook 19\n"
   ]
  },
  {
   "cell_type": "markdown",
   "id": "e27cd39e",
   "metadata": {},
   "source": [
    "### Housekeeping"
   ]
  },
  {
   "cell_type": "code",
   "execution_count": null,
   "id": "ce0043e7",
   "metadata": {
    "id": "a7f0d1c3"
   },
   "outputs": [],
   "source": [
    "import pandas as pd"
   ]
  },
  {
   "cell_type": "markdown",
   "id": "6ffc021a",
   "metadata": {
    "id": "cb7a3f45"
   },
   "source": [
    "### 1.\n",
    "Using the same file as in Notebook 20 (*data/cereals.csv*):\n",
    "\n",
    "#### 1.1\n",
    "Replace the values in the `mfr` column with the following values:\n",
    "\n",
    "* `'U'` --> `'Unknown'`\n",
    "* `'N'` --> `'Nabisco'`\n",
    "* `'R'` --> `'Raiston'`\n",
    "* `'G'` --> `'General Mills'`\n",
    "* `'P'` --> `'Post'`\n",
    "* `'A'` --> `'American Home Products'`"
   ]
  },
  {
   "cell_type": "code",
   "execution_count": null,
   "id": "c02cb991",
   "metadata": {
    "id": "d9d0569c"
   },
   "outputs": [],
   "source": []
  },
  {
   "cell_type": "markdown",
   "id": "cfe6e843",
   "metadata": {
    "id": "07d6af24"
   },
   "source": [
    "#### 1.2\n",
    "\n",
    "Update 'fat' to 'fat (g)' and 'potass' to 'potass (mg)'."
   ]
  },
  {
   "cell_type": "code",
   "execution_count": null,
   "id": "c256a1e1",
   "metadata": {
    "id": "af533578"
   },
   "outputs": [],
   "source": []
  },
  {
   "cell_type": "markdown",
   "id": "649c4ab1",
   "metadata": {
    "id": "7d5f45d2"
   },
   "source": [
    "#### 1.3\n",
    "\n",
    "\n",
    "Create a new dataframe containing only entries with 'mfr' equal to 'Kelloggs'."
   ]
  },
  {
   "cell_type": "code",
   "execution_count": null,
   "id": "1f7f6486",
   "metadata": {
    "id": "11aacbf0"
   },
   "outputs": [],
   "source": []
  },
  {
   "cell_type": "markdown",
   "id": "8bb372a2",
   "metadata": {
    "id": "732e1b36"
   },
   "source": [
    "### 2.*\n",
    "\n",
    "We've barely scratched the surface of Pandas' functionality.\n",
    "\n",
    "Here are a few additional common functions you can explore if you have the time:\n",
    "* `pd.DataFrame.apply()` (you can call this function by adding `.apply()` to the end of a `DataFrame`, as we did in many of the cells above)\n",
    "* `pd.DataFrame.corr()`\n",
    "* `pd.DataFrame.query()`\n",
    "* `pd.DataFrame.sample()`"
   ]
  },
  {
   "cell_type": "markdown",
   "id": "a755f906",
   "metadata": {},
   "source": [
    "### 3.\n",
    "\n",
    "Can you make a separate data frame with only the highest rated cereal from each mfr group? (Hint: You would want to use ```pd.DataFrame.groupby()```.)"
   ]
  },
  {
   "cell_type": "code",
   "execution_count": null,
   "id": "58a66150",
   "metadata": {},
   "outputs": [],
   "source": []
  },
  {
   "cell_type": "markdown",
   "id": "389e48c7",
   "metadata": {},
   "source": [
    "### 4.*\n",
    "\n",
    "Can you calculate the absolute difference between the rating of each cereal and that of the highest rated cereal from each mfr group? Call the column with the absolute difference, 'diff'. (Hint: You would want to use ```pd.DataFrame.merge()```.)"
   ]
  },
  {
   "cell_type": "code",
   "execution_count": null,
   "id": "29593801",
   "metadata": {},
   "outputs": [],
   "source": []
  },
  {
   "cell_type": "markdown",
   "id": "c350b516",
   "metadata": {},
   "source": [
    "### 5.\n",
    "\n",
    "Make a list out of CAPITALIZED column names for the cereals dataframe. (Hint: Use ```df.columns```.)"
   ]
  },
  {
   "cell_type": "code",
   "execution_count": null,
   "id": "c37c9b2e",
   "metadata": {},
   "outputs": [],
   "source": []
  }
 ],
 "metadata": {
  "colab": {
   "provenance": []
  },
  "kernelspec": {
   "display_name": "Python 3 (ipykernel)",
   "language": "python",
   "name": "python3"
  },
  "language_info": {
   "codemirror_mode": {
    "name": "ipython",
    "version": 3
   },
   "file_extension": ".py",
   "mimetype": "text/x-python",
   "name": "python",
   "nbconvert_exporter": "python",
   "pygments_lexer": "ipython3",
   "version": "3.11.7"
  }
 },
 "nbformat": 4,
 "nbformat_minor": 5
}

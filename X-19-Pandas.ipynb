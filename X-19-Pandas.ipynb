{
 "cells": [
  {
   "cell_type": "markdown",
   "id": "355498ee",
   "metadata": {},
   "source": [
    "<img src=\"images/inmas.png\" width=130x align='right' />\n",
    "\n",
    "# Exercise 19 - Pandas\n",
    "\n",
    "### Prerequisite\n",
    "Notebook 19\n",
    "\n",
    "----"
   ]
  },
  {
   "cell_type": "markdown",
   "id": "e27cd39e",
   "metadata": {},
   "source": [
    "### Housekeeping"
   ]
  },
  {
   "cell_type": "code",
   "execution_count": null,
   "id": "ce0043e7",
   "metadata": {},
   "outputs": [],
   "source": [
    "import pandas as pd"
   ]
  },
  {
   "cell_type": "markdown",
   "id": "6ffc021a",
   "metadata": {},
   "source": [
    "### 1.\n",
    "Using the same file *data/cereals.csv* as in the associated Notebook :\n",
    "\n",
    "#### 1.1\n",
    "Replace the values in the `mfr` column with the following values:\n",
    "\n",
    "* `'A'` --> `'American Home Products'`\n",
    "* `'G'` --> `'General Mills'`\n",
    "* `'N'` --> `'Nabisco'`\n",
    "* `'P'` --> `'Post'`\n",
    "* `'Q'` --> `'Quaker'`\n",
    "* `'R'` --> `'Ralston'`\n",
    "* `'U'` --> `'Unknown'`\n"
   ]
  },
  {
   "cell_type": "code",
   "execution_count": null,
   "id": "c02cb991",
   "metadata": {},
   "outputs": [],
   "source": [
    "file = \"data/cereals.csv\" \n",
    "cerealsDf = pd.read_csv(file, sep=';', skiprows=[1])\n",
    "cerealsDf = cerealsDf.fillna({'mfr': 'U'})\n",
    "cerealsDf.dropna(inplace=True)"
   ]
  },
  {
   "cell_type": "markdown",
   "id": "cfe6e843",
   "metadata": {},
   "source": [
    "#### 1.2\n",
    "\n",
    "Update 'fat' to 'fat (g)' and 'potass' to 'potass (mg)'."
   ]
  },
  {
   "cell_type": "code",
   "execution_count": null,
   "id": "c256a1e1",
   "metadata": {},
   "outputs": [],
   "source": []
  },
  {
   "cell_type": "markdown",
   "id": "649c4ab1",
   "metadata": {},
   "source": [
    "#### 1.3\n",
    "\n",
    "Create a new dataframe containing only entries from Kelloggs manufacturer."
   ]
  },
  {
   "cell_type": "code",
   "execution_count": null,
   "id": "1f7f6486",
   "metadata": {},
   "outputs": [],
   "source": []
  },
  {
   "cell_type": "markdown",
   "id": "8bb372a2",
   "metadata": {},
   "source": [
    "### 2.*\n",
    "\n",
    "We've barely scratched the surface of Pandas' functionality.\n",
    "\n",
    "Here are a few additional common functions you can explore if you have the time:\n",
    "* [`pd.DataFrame.apply()`](https://pandas.pydata.org/docs/reference/api/pandas.DataFrame.apply.html)\n",
    "* [`pd.DataFrame.corrwith()`](https://pandas.pydata.org/docs/reference/api/pandas.DataFrame.corrwith.html)\n",
    "* [`pd.DataFrame.query()`](https://pandas.pydata.org/docs/reference/api/pandas.DataFrame.query.html)\n",
    "* [`pd.DataFrame.sample()`](https://pandas.pydata.org/docs/reference/api/pandas.DataFrame.sample.html)\n",
    "\n",
    "Click on the entry to read the reference. Try a few of these methods if time allows."
   ]
  },
  {
   "cell_type": "code",
   "execution_count": null,
   "id": "25780f92",
   "metadata": {},
   "outputs": [],
   "source": []
  },
  {
   "cell_type": "markdown",
   "id": "a755f906",
   "metadata": {},
   "source": [
    "### 3.\n",
    "\n",
    "Can you make a separate data frame with only the highest rated cereal from each mfr group? (Hint: You would want to use ```pd.DataFrame.groupby()```.)"
   ]
  },
  {
   "cell_type": "code",
   "execution_count": null,
   "id": "58a66150",
   "metadata": {},
   "outputs": [],
   "source": []
  },
  {
   "cell_type": "markdown",
   "id": "389e48c7",
   "metadata": {},
   "source": [
    "### 4.*\n",
    "\n",
    "Using results from the previous exercise, can you calculate the absolute difference between the rating of each cereal and that of the highest rated cereal from each mfr group? Call the column with the absolute difference, 'diff'. (Hint: You would want to use ```pd.DataFrame.merge()```.)"
   ]
  },
  {
   "cell_type": "code",
   "execution_count": null,
   "id": "29593801",
   "metadata": {},
   "outputs": [],
   "source": []
  },
  {
   "cell_type": "markdown",
   "id": "c350b516",
   "metadata": {},
   "source": [
    "### 5.\n",
    "\n",
    "Make a list out of CAPITALIZED column names for the cereals dataframe. (Hint: Use ```df.columns```.)"
   ]
  },
  {
   "cell_type": "code",
   "execution_count": null,
   "id": "c37c9b2e",
   "metadata": {},
   "outputs": [],
   "source": []
  }
 ],
 "metadata": {
  "colab": {
   "provenance": []
  },
  "kernelspec": {
   "display_name": "Python 3 (ipykernel)",
   "language": "python",
   "name": "python3"
  },
  "language_info": {
   "codemirror_mode": {
    "name": "ipython",
    "version": 3
   },
   "file_extension": ".py",
   "mimetype": "text/x-python",
   "name": "python",
   "nbconvert_exporter": "python",
   "pygments_lexer": "ipython3",
   "version": "3.11.7"
  }
 },
 "nbformat": 4,
 "nbformat_minor": 5
}

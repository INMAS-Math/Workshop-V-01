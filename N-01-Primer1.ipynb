{
 "cells": [
  {
   "cell_type": "markdown",
   "id": "6bbd5f66",
   "metadata": {
    "id": "6bbd5f66",
    "slideshow": {
     "slide_type": "slide"
    },
    "tags": []
   },
   "source": [
    "<img align=right src=\"images/inmas.png\" width=130x />\n",
    "\n",
    "# Notebook 01 - Python Primer 1\n",
    "\n",
    "Material covered in this notebook:\n",
    "\n",
    "- Precedence of operators and how to associate data to a named variable\n",
    "- Types of data in Python (focusing on integers, floating point numbers, strings, lists, and dictionaries)\n",
    "- How to print values and other information on the terminal\n",
    "- An introduction to lists and dictionnaries\n",
    "- Conditionals: checking if things are true and false with `if` - `else` statements\n",
    "\n",
    "\n",
    "### Prerequisite\n",
    "Notebook 00\n",
    "\n",
    "------"
   ]
  },
  {
   "cell_type": "markdown",
   "id": "f9688ab4",
   "metadata": {
    "id": "f9688ab4",
    "slideshow": {
     "slide_type": "slide"
    }
   },
   "source": [
    "### Operator precedence\n",
    "Any Python interpreter can be used as a calculator"
   ]
  },
  {
   "cell_type": "code",
   "execution_count": null,
   "id": "7e2378ba",
   "metadata": {
    "id": "7e2378ba",
    "slideshow": {
     "slide_type": "fragment"
    }
   },
   "outputs": [],
   "source": [
    "3 + 5 * 4 + 2/4"
   ]
  },
  {
   "cell_type": "markdown",
   "id": "01c2f526",
   "metadata": {
    "id": "01c2f526",
    "slideshow": {
     "slide_type": "fragment"
    }
   },
   "source": [
    "Notice how the `*` and `/` operators have a higher precedence over `+` and `-`\n",
    "\n",
    "The statement above is equivalent to `3 + (5 * 4) + (2/4)`\n",
    "\n",
    "Operator precedence can be summarized by the mnemonic *PEMDAS*, which stands for Parentheses, Exponents, Multiplication and Division, and Addition and Subtraction\n",
    "\n",
    "Understanding PEMDAS is a must for any Python programmer who wants to write error-free code"
   ]
  },
  {
   "cell_type": "markdown",
   "id": "94bc4dc9",
   "metadata": {
    "slideshow": {
     "slide_type": "slide"
    }
   },
   "source": [
    "### Python has many operators\n",
    "The next slide contains a table that lists unary and binary operators in Python, and their order of precedence\n",
    "\n",
    "Use parentheses when in doubt, as they have the highest precedence\n",
    "\n",
    "Take some time to read through it and familiarize yourself with the different operators - there are quite a few"
   ]
  },
  {
   "cell_type": "markdown",
   "id": "cb755f22",
   "metadata": {
    "slideshow": {
     "slide_type": "slide"
    },
    "tags": []
   },
   "source": [
    "|*Highest Precedence*|*Description*|\n",
    "| ----| ----- |\n",
    "| (), [], {} | parentheses and braces|\n",
    "| [index], [index:index], [index:index:step] | subscription and slicing |\n",
    "| ** | exponentiation |\n",
    "| +*x*, -*x*, ~*x*   | positive, negative, bitwise NOT |\n",
    "| \\*, @, /, //, % | multiplication, matrix multiplication, division, floor division, modulo |\n",
    "| +, - | addition and subtraction |\n",
    "| <<, >> | bitwise left shifts, right shifts |\n",
    "| & | bitwise AND |\n",
    "| ^ | bitwise XOR |\n",
    "| \\| | bitwise OR |\n",
    "| in, not in, is, is not, <, <=, >, >=, !=, == | comparisons, including membership tests and identity tests |\n",
    "| not *x* | Boolean NOT |\n",
    "| and | Boolean AND |\n",
    "| or | Boolean OR |\n",
    "| if -- else | conditional expression |\n",
    "| lambda | lambda expression |\n",
    "| =, +=, -=, /=, * * =, //=, %= | assignment operators | \n",
    "| := |  walrus operator |"
   ]
  },
  {
   "cell_type": "markdown",
   "id": "c34aff59",
   "metadata": {
    "slideshow": {
     "slide_type": "slide"
    }
   },
   "source": [
    "### Variables and assignments\n",
    "When writing programs, we need to assign a value to a variable (that is, we want to give that value a name).\n",
    "In Python, we can assign a value to a variable name, using the equals sign `=`\n",
    "\n",
    "It gives a name to a data container. The syntax is simple:\n",
    "> *variable* = *literal*\n",
    "\n",
    "or\n",
    "\n",
    "> *variable* = *expression*\n",
    "\n",
    "In each case, the resulting variable type will be matching the type of the *literal* or the *expression*\n",
    "\n",
    "Next slide describes literals understood in Python"
   ]
  },
  {
   "cell_type": "markdown",
   "id": "7b7308bd",
   "metadata": {
    "slideshow": {
     "slide_type": "slide"
    }
   },
   "source": [
    "### Literals\n",
    "The structure of a literal determines its data type:\n",
    "- **Integers** are pure digits: `1` or `7234`\n",
    "- **Floats** are digits with a `.` or exponent indicated by the letter `e` or `E`: `1.4` or `2e10` or `3.4E2`\n",
    "- **Strings** are any characters between quotes (single or double): `'This is a string!'` or `\"7234\"` or a null string `''`\n",
    "- **Lists** are indicated by square brackets: `[1, 2, 3]` or `[1, 2., 'three']` or an empty list `[]`\n",
    "- **Dictionaries** have curly braces: `{'one': 1, 'two': 2, 'three': 3}` or an empty dictionary `{}`\n",
    "- **Tuples** are series of values separated by commas and (sometimes) enclosed in parentheses `()`\n",
    "\n",
    "Literals cannot be on the left-hand side of an assignment, e.g., this statement is clearly an error:"
   ]
  },
  {
   "cell_type": "code",
   "execution_count": null,
   "id": "57133478",
   "metadata": {
    "slideshow": {
     "slide_type": "fragment"
    }
   },
   "outputs": [],
   "source": [
    "2 = 1"
   ]
  },
  {
   "cell_type": "markdown",
   "id": "fca7bef1",
   "metadata": {
    "slideshow": {
     "slide_type": "slide"
    }
   },
   "source": [
    "### Other types\n",
    "Python also supports the following data types\n",
    "- **Boolean** which can only be `True` or `False`\n",
    "- **Complex numbers** including all associated arithmetics\n",
    "- **None** which is a special type being none of the others\n"
   ]
  },
  {
   "cell_type": "code",
   "execution_count": null,
   "id": "b722d6e4",
   "metadata": {
    "slideshow": {
     "slide_type": "fragment"
    }
   },
   "outputs": [],
   "source": [
    "complex_z1 = 1 + 2j\n",
    "complex_z2 = 2 - 4.5j\n",
    "complex_z3 = complex_z1 * complex_z2"
   ]
  },
  {
   "cell_type": "markdown",
   "id": "7b60e931",
   "metadata": {
    "slideshow": {
     "slide_type": "fragment"
    }
   },
   "source": [
    "In an interactive session, a variable name by itself on a line will result in printing its value. Let's check the value of `complex_z3`:"
   ]
  },
  {
   "cell_type": "code",
   "execution_count": null,
   "id": "181fb712",
   "metadata": {
    "slideshow": {
     "slide_type": "fragment"
    }
   },
   "outputs": [],
   "source": [
    "complex_z3"
   ]
  },
  {
   "cell_type": "markdown",
   "id": "cb696a69",
   "metadata": {
    "slideshow": {
     "slide_type": "slide"
    }
   },
   "source": [
    "### Increment/decrement operators\n",
    "Note that unlike C and C++,  prefix/postfix increment/decrement operators `++` and `--` do not exist in Python\n",
    "\n",
    "Predict the value of `z` in the next cell, then run it:"
   ]
  },
  {
   "cell_type": "code",
   "execution_count": null,
   "id": "42833441",
   "metadata": {
    "slideshow": {
     "slide_type": "fragment"
    }
   },
   "outputs": [],
   "source": [
    "x = 2\n",
    "y = 4\n",
    "z = 3 * ++x + --y\n",
    "z"
   ]
  },
  {
   "cell_type": "markdown",
   "id": "4e1ae8f4",
   "metadata": {
    "slideshow": {
     "slide_type": "fragment"
    }
   },
   "source": [
    "How about this one?"
   ]
  },
  {
   "cell_type": "code",
   "execution_count": null,
   "id": "ea24d183",
   "metadata": {
    "slideshow": {
     "slide_type": "fragment"
    }
   },
   "outputs": [],
   "source": [
    "x = 7\n",
    "y = 1 == 3 - 1 or 5 % 3 + 1 & ++x\n",
    "y"
   ]
  },
  {
   "cell_type": "markdown",
   "id": "79667b15",
   "metadata": {
    "slideshow": {
     "slide_type": "slide"
    }
   },
   "source": [
    "### Casts can convert some data types to another\n",
    "- Create an integer from a float: `int(2.4)`\n",
    "- Create a float from an integer: `float(2)`\n",
    "- Create a string from a float: `str(4.5)`\n",
    "- Create a complex number from two floats: `complex(1, 0)`\n",
    "- Create  Boolean from an integer: `bool(0)`\n",
    "\n",
    "These functions can also be used as constructors for empty objects:\n",
    "```python\n",
    "a = str()\n",
    "```\n",
    "This creates an empty string associated with variable `a`. You can also create an 'empty' integer `b = int()`"
   ]
  },
  {
   "cell_type": "code",
   "execution_count": null,
   "id": "20ccc736",
   "metadata": {
    "slideshow": {
     "slide_type": "fragment"
    }
   },
   "outputs": [],
   "source": [
    "n = int()\n",
    "n"
   ]
  },
  {
   "cell_type": "markdown",
   "id": "3455e35d",
   "metadata": {
    "slideshow": {
     "slide_type": "slide"
    }
   },
   "source": [
    "### Assignments with literals\n",
    "\n",
    "We can store the weight of a patient who weighs 60 kilograms by associating the integer literal `60` to the variable `weight_kg`:"
   ]
  },
  {
   "cell_type": "code",
   "execution_count": null,
   "id": "0c4f54dc",
   "metadata": {
    "id": "0c4f54dc",
    "slideshow": {
     "slide_type": "fragment"
    }
   },
   "outputs": [],
   "source": [
    "weight_kg = 60"
   ]
  },
  {
   "cell_type": "markdown",
   "id": "a3bd99ed",
   "metadata": {
    "slideshow": {
     "slide_type": "fragment"
    }
   },
   "source": [
    "Now, `weight_kg` is a name for integer literal `60` \n",
    "\n",
    "From now on, whenever we use `weight_kg`, Python will substitute the value we assigned to it\n",
    "\n",
    "We could convert `weight_kg` to a float using `float(weight_kg)`"
   ]
  },
  {
   "cell_type": "code",
   "execution_count": null,
   "id": "103383fb",
   "metadata": {
    "slideshow": {
     "slide_type": "fragment"
    }
   },
   "outputs": [],
   "source": [
    "float_weight_kg = float(weight_kg)\n",
    "float_weight_kg"
   ]
  },
  {
   "cell_type": "markdown",
   "id": "ffdce8f6",
   "metadata": {
    "id": "ffdce8f6",
    "slideshow": {
     "slide_type": "slide"
    }
   },
   "source": [
    "### Variable names:\n",
    "\n",
    "- can include letters, digits, and underscores\n",
    "- cannot start with a digit \n",
    "- are case sensitive\n",
    "\n",
    "This means that, for example:\n",
    "\n",
    "- ```weight0``` is a valid variable name, whereas ```0weight``` is not\n",
    "- ```weight``` and ```Weight``` are two different variables\n",
    "\n",
    "Some variable names are illegal in Python because they are reserved words.\n",
    "Full list of reserved words is:\n",
    "\n",
    "- *and as assert break class continue def del elif else except exec finally for from global if import in is lambda not or pass print raise return try while with yield*"
   ]
  },
  {
   "cell_type": "markdown",
   "id": "005d6af4",
   "metadata": {
    "slideshow": {
     "slide_type": "slide"
    }
   },
   "source": [
    "### Printing variables\n",
    "Values of variables can be displayed using the `print()` function:"
   ]
  },
  {
   "cell_type": "code",
   "execution_count": null,
   "id": "63c27212",
   "metadata": {
    "id": "63c27212",
    "slideshow": {
     "slide_type": "fragment"
    }
   },
   "outputs": [],
   "source": [
    "print(weight_kg)"
   ]
  },
  {
   "cell_type": "markdown",
   "id": "7dc24932",
   "metadata": {
    "slideshow": {
     "slide_type": "fragment"
    }
   },
   "source": [
    "Alternatively, value will be automatically printed by just typing the variable name as we have seen in the previous slides\n",
    "\n",
    "But this only works in interactive sessions, and only the **last statement** gets printed:"
   ]
  },
  {
   "cell_type": "code",
   "execution_count": null,
   "id": "8948463b",
   "metadata": {
    "slideshow": {
     "slide_type": "fragment"
    }
   },
   "outputs": [],
   "source": [
    "weight_kg\n",
    "float_weight_kg"
   ]
  },
  {
   "cell_type": "markdown",
   "id": "a81c7a1f",
   "metadata": {
    "id": "a81c7a1f",
    "slideshow": {
     "slide_type": "slide"
    }
   },
   "source": [
    "### Floats and integers\n",
    "\n",
    "In the previous example, the variable ```weight_kg``` was associated with an integer value of 60\n",
    "\n",
    "If we have a more accurate scale recording the weight of our patient, we would use a floating point variable created by an assignment to a float literal:"
   ]
  },
  {
   "cell_type": "code",
   "execution_count": null,
   "id": "e892a6f6",
   "metadata": {
    "id": "e892a6f6",
    "slideshow": {
     "slide_type": "fragment"
    }
   },
   "outputs": [],
   "source": [
    "weight_kg = 60.3"
   ]
  },
  {
   "cell_type": "markdown",
   "id": "83633119",
   "metadata": {
    "id": "26502954",
    "slideshow": {
     "slide_type": "slide"
    }
   },
   "source": [
    "### Using variables in Python\n",
    "Once we have data associated with variable names, we can use these names directly in calculations. We may want to store our patient’s weight in pounds as well as kilograms:"
   ]
  },
  {
   "cell_type": "code",
   "execution_count": null,
   "id": "17c902cd",
   "metadata": {
    "id": "a24416bb",
    "slideshow": {
     "slide_type": "fragment"
    }
   },
   "outputs": [],
   "source": [
    "weight_lb = 2.2 * weight_kg"
   ]
  },
  {
   "cell_type": "markdown",
   "id": "c884162f",
   "metadata": {
    "id": "c6dd6fa9",
    "slideshow": {
     "slide_type": "slide"
    }
   },
   "source": [
    "### Finding the data type of a variable\n",
    "\n",
    "We can check the type of a variable using the `type()` command. To check the type of the variables we created, we use: "
   ]
  },
  {
   "cell_type": "code",
   "execution_count": null,
   "id": "654ccd75",
   "metadata": {
    "id": "d74bfbad",
    "slideshow": {
     "slide_type": "fragment"
    }
   },
   "outputs": [],
   "source": [
    "print(type(weight_kg))\n",
    "print(type(float_weight_kg))"
   ]
  },
  {
   "cell_type": "markdown",
   "id": "be90e8fc",
   "metadata": {
    "id": "be90e8fc",
    "slideshow": {
     "slide_type": "slide"
    }
   },
   "source": [
    "### Strings\n",
    "To create a string literal, we add single or double quotes around some text (quotes need to be paired however - single or double - no mixing). To identify a patient throughout our study, we can assign each person a unique identifier by storing it in a string:"
   ]
  },
  {
   "cell_type": "code",
   "execution_count": null,
   "id": "ba49cd01",
   "metadata": {
    "id": "ba49cd01",
    "slideshow": {
     "slide_type": "fragment"
    }
   },
   "outputs": [],
   "source": [
    "patient_id = '001'"
   ]
  },
  {
   "cell_type": "markdown",
   "id": "d6065ff8",
   "metadata": {
    "slideshow": {
     "slide_type": "fragment"
    }
   },
   "source": [
    "*Note that '001' is a string, not an integer*"
   ]
  },
  {
   "cell_type": "markdown",
   "id": "bceadad2",
   "metadata": {
    "id": "bceadad2",
    "slideshow": {
     "slide_type": "fragment"
    }
   },
   "source": [
    "We can also use some operators on strings. For example, strings can be concatenated together using the `+` operator:"
   ]
  },
  {
   "cell_type": "code",
   "execution_count": null,
   "id": "4e27d178",
   "metadata": {
    "id": "fee0f3bb",
    "slideshow": {
     "slide_type": "fragment"
    }
   },
   "outputs": [],
   "source": [
    "patient_id = 'inflam_' + patient_id"
   ]
  },
  {
   "cell_type": "markdown",
   "id": "682ca648",
   "metadata": {
    "slideshow": {
     "slide_type": "slide"
    }
   },
   "source": [
    "### Effect of operators on strings\n",
    "We have seen that strings can be added. They can also be multiplied by an integer. For example,"
   ]
  },
  {
   "cell_type": "code",
   "execution_count": null,
   "id": "ecd2855a",
   "metadata": {
    "slideshow": {
     "slide_type": "fragment"
    }
   },
   "outputs": [],
   "source": [
    "dashline = '- ' * 20\n",
    "dashline"
   ]
  },
  {
   "cell_type": "markdown",
   "id": "7aa6fbe3",
   "metadata": {
    "slideshow": {
     "slide_type": "fragment"
    }
   },
   "source": [
    "Another special operator with strings is `%` which requires a tuple as a second argument:"
   ]
  },
  {
   "cell_type": "code",
   "execution_count": null,
   "id": "ed5a9e98",
   "metadata": {
    "slideshow": {
     "slide_type": "fragment"
    }
   },
   "outputs": [],
   "source": [
    "a = 3\n",
    "b = 5.4e-8\n",
    "astring = 'This string is built by ingesting other data types such as an int %d or a float %e.' % (a, b)\n",
    "astring"
   ]
  },
  {
   "cell_type": "markdown",
   "id": "8ea65f7f",
   "metadata": {
    "slideshow": {
     "slide_type": "fragment"
    }
   },
   "source": [
    "Arguments `%*` in the string follow the same order as those in the tuple. Next slide describes argument specifiers in more detail. "
   ]
  },
  {
   "cell_type": "markdown",
   "id": "97b055a0",
   "metadata": {
    "slideshow": {
     "slide_type": "slide"
    }
   },
   "source": [
    "### % argument specifiers\n",
    "- %d integer\n",
    "- %f fixed point float\n",
    "- %e float in scientific notation\n",
    "- %s a string\n",
    "- %r default representation of the object\n",
    "\n",
    "Additional formatting instructions can also be provided: "
   ]
  },
  {
   "cell_type": "code",
   "execution_count": null,
   "id": "312693bb",
   "metadata": {
    "slideshow": {
     "slide_type": "fragment"
    }
   },
   "outputs": [],
   "source": [
    "a = 4\n",
    "print('integer with fixed width of 3 characters \"%03d\" with leading zeros.' % a)\n",
    "print('float with fixed width of 8, and rounded at 3 decimals \"%8.3f\" with leading spaces.' % 4.5678)"
   ]
  },
  {
   "cell_type": "markdown",
   "id": "cde12291",
   "metadata": {
    "slideshow": {
     "slide_type": "fragment"
    }
   },
   "source": [
    "Notice how a tuple of 1 element did not need parentheses"
   ]
  },
  {
   "cell_type": "markdown",
   "id": "11fb4267",
   "metadata": {
    "id": "11fb4267",
    "slideshow": {
     "slide_type": "slide"
    }
   },
   "source": [
    "### More on printing\n",
    "We can print multiple items with `print()`:"
   ]
  },
  {
   "cell_type": "code",
   "execution_count": null,
   "id": "2ebe95ce",
   "metadata": {
    "id": "2ebe95ce",
    "slideshow": {
     "slide_type": "fragment"
    }
   },
   "outputs": [],
   "source": [
    "print(patient_id, 'weight in kilograms:', weight_kg)"
   ]
  },
  {
   "cell_type": "markdown",
   "id": "4fe84de5",
   "metadata": {
    "id": "4fe84de5",
    "slideshow": {
     "slide_type": "fragment"
    }
   },
   "source": [
    "Notice how a space is introduced between each value, and how `print()` inserts a newline character at the end by default\n",
    "\n",
    "We can also do arithmetic with variables whereever an expression is expected. For example, using the print function:"
   ]
  },
  {
   "cell_type": "code",
   "execution_count": null,
   "id": "7e7c0860",
   "metadata": {
    "id": "7e7c0860",
    "slideshow": {
     "slide_type": "fragment"
    }
   },
   "outputs": [],
   "source": [
    "print('weight in pounds:', 2.2 * weight_kg)\n",
    "print('weight in pounds: %r.' % (2.2 * weight_kg))   # This version allows you to put a period at the end of your sentence."
   ]
  },
  {
   "cell_type": "markdown",
   "id": "0ae8445c",
   "metadata": {
    "id": "0ae8445c",
    "slideshow": {
     "slide_type": "slide"
    }
   },
   "source": [
    "The commands on the previous slide\n",
    "\n",
    "```python\n",
    "print('weight in pounds:', 2.2 * weight_kg)\n",
    "```\n",
    "\n",
    "did not change the value of ```weight_kg```. Let's check:"
   ]
  },
  {
   "cell_type": "code",
   "execution_count": null,
   "id": "329d0486",
   "metadata": {
    "id": "329d0486",
    "slideshow": {
     "slide_type": "fragment"
    }
   },
   "outputs": [],
   "source": [
    "print(weight_kg)"
   ]
  },
  {
   "cell_type": "markdown",
   "id": "651e9a00",
   "metadata": {
    "id": "651e9a00",
    "slideshow": {
     "slide_type": "fragment"
    }
   },
   "source": [
    "To change the value of the weight_kg variable, we have to assign weight_kg a new value using an assignment:"
   ]
  },
  {
   "cell_type": "code",
   "execution_count": null,
   "id": "d7875c59",
   "metadata": {
    "id": "d7875c59",
    "slideshow": {
     "slide_type": "fragment"
    }
   },
   "outputs": [],
   "source": [
    "weight_kg = 65.0\n",
    "print('weight in kilograms is now:', weight_kg)"
   ]
  },
  {
   "cell_type": "markdown",
   "id": "cee92973",
   "metadata": {
    "id": "cee92973",
    "slideshow": {
     "slide_type": "slide"
    }
   },
   "source": [
    "### Key Points\n",
    "\n",
    "- Basic data types in Python include integers, strings, and floating-point numbers\n",
    "- Use ```variable = value``` to assign a value to a variable that can be subsequently used in expressions\n",
    "- Variables are created on demand whenever a value is assigned to them, with variable type matching the assigned value\n",
    "- Use ```print(something)``` to display the value of ```something```\n",
    "- Strings can be added together and multiplied by an integer\n",
    "- The `%` operator allows to insert and format other data types in a string\n",
    "- The `type(arg)` built-in function will return a string with the data type of its argument `arg`"
   ]
  },
  {
   "cell_type": "markdown",
   "id": "ll0f5C7ytOSz",
   "metadata": {
    "id": "ll0f5C7ytOSz",
    "slideshow": {
     "slide_type": "slide"
    }
   },
   "source": [
    "### Python lists and indices\n",
    "We create a list by putting values inside square brackets and separating the values with commas:"
   ]
  },
  {
   "cell_type": "code",
   "execution_count": null,
   "id": "NDrTk1bFtOS0",
   "metadata": {
    "id": "NDrTk1bFtOS0",
    "slideshow": {
     "slide_type": "fragment"
    }
   },
   "outputs": [],
   "source": [
    "oddInts = [1, 3, 5, 7, 9, 11, 13, 15]\n",
    "print('odds are:', oddInts)"
   ]
  },
  {
   "cell_type": "markdown",
   "id": "f940878b",
   "metadata": {
    "id": "f940878b",
    "slideshow": {
     "slide_type": "fragment"
    }
   },
   "source": [
    "We can access elements of a list using indices – numbered positions of elements in the list, in a pair of brackets following the variable name\n",
    "\n",
    "These positions are numbered starting at 0, so the first element has an index of 0"
   ]
  },
  {
   "cell_type": "code",
   "execution_count": null,
   "id": "7b05376d",
   "metadata": {
    "id": "7b05376d",
    "slideshow": {
     "slide_type": "fragment"
    }
   },
   "outputs": [],
   "source": [
    "print('First element:', oddInts[0])\n",
    "print('Last element:', oddInts[7])\n",
    "print('\"-1\" element:', oddInts[-1])"
   ]
  },
  {
   "cell_type": "markdown",
   "id": "50fbf43a",
   "metadata": {
    "id": "50fbf43a",
    "slideshow": {
     "slide_type": "fragment"
    }
   },
   "source": [
    "Yes, we can use negative numbers as indices in Python. When we do so, the index ```-1``` gives us the last element in the list, ```-2``` the second to last, and so on. Notice how the last two statements are equivalent."
   ]
  },
  {
   "cell_type": "markdown",
   "id": "2b693a49",
   "metadata": {
    "slideshow": {
     "slide_type": "slide"
    }
   },
   "source": [
    "### Size of a list or a string\n",
    "The built-in function `len()` is used to determine the size (or *length*) of a list, dictionary, or string. This is used as follows:"
   ]
  },
  {
   "cell_type": "code",
   "execution_count": null,
   "id": "318c7f22",
   "metadata": {
    "slideshow": {
     "slide_type": "fragment"
    }
   },
   "outputs": [],
   "source": [
    "oddInts = [1, 3, 5, 7, 9, 11, 13, 15]\n",
    "print('list oddInts has', len(oddInts), 'items.')\n",
    "pangram = 'The quick brown fox jumps over the lazy dog.'\n",
    "print('\"%s\"'%pangram, 'has', len(pangram), 'characters.')    # Notice how we've put quotes around the pangram string using %"
   ]
  },
  {
   "cell_type": "markdown",
   "id": "875cb7c1",
   "metadata": {
    "slideshow": {
     "slide_type": "fragment"
    }
   },
   "source": [
    "Lists also have a cast operator/constructor called `list()`. Here we create a list from the tuple (1, 2, 3):"
   ]
  },
  {
   "cell_type": "code",
   "execution_count": null,
   "id": "07ee5ddf",
   "metadata": {
    "slideshow": {
     "slide_type": "fragment"
    }
   },
   "outputs": [],
   "source": [
    "a = list((1, 2, 3))       # Notice the double parentheses: one set to form a tuple, the other set for the function call\n",
    "a"
   ]
  },
  {
   "cell_type": "markdown",
   "id": "1b1bb38a",
   "metadata": {
    "slideshow": {
     "slide_type": "slide"
    }
   },
   "source": [
    "### Slicing operators\n",
    "A range of values in a list can be given using the `:` operator inside the brackets.\n",
    "The syntax is `[start:end:increment]`. If no value are provided, as in `[::]`, it defaults to 0:len(object):1. Note that the end index is not inclusive while the first one is.\n",
    "\n",
    "Let's look at the following examples, with a special attention on the last two statements:"
   ]
  },
  {
   "cell_type": "code",
   "execution_count": null,
   "id": "ee05efe7",
   "metadata": {
    "slideshow": {
     "slide_type": "fragment"
    }
   },
   "outputs": [],
   "source": [
    "print(oddInts[1:])                       # Recall oddInts = [1, 3, 5, 7, 9, 11, 13, 15]\n",
    "print(oddInts[2:4])\n",
    "print(oddInts[:len(oddInts)])\n",
    "print(oddInts[1::2])\n",
    "print(oddInts[:-1])\n",
    "print(oddInts[-1])"
   ]
  },
  {
   "cell_type": "markdown",
   "id": "f57fbe6a",
   "metadata": {
    "id": "f57fbe6a",
    "slideshow": {
     "slide_type": "slide"
    }
   },
   "source": [
    "### Modifying elements in a list\n",
    "\n",
    "We can change individual list elements by assigning a value to a single element:"
   ]
  },
  {
   "cell_type": "code",
   "execution_count": null,
   "id": "1f3ed3dc",
   "metadata": {
    "id": "1f3ed3dc",
    "slideshow": {
     "slide_type": "fragment"
    }
   },
   "outputs": [],
   "source": [
    "names = ['Gauss', 'Legandre', 'Turing']   # typo in Legendre's name\n",
    "print('names list is originally:', names) # (this is a comment: anything after a # character is ignored)\n",
    "names[1] = 'Legendre'                     # correct the name\n",
    "print('Modified value of names:', names)"
   ]
  },
  {
   "cell_type": "markdown",
   "id": "6ee6db09",
   "metadata": {
    "id": "6ee6db09",
    "slideshow": {
     "slide_type": "fragment"
    }
   },
   "source": [
    "We can also add elements to an existing list:"
   ]
  },
  {
   "cell_type": "code",
   "execution_count": null,
   "id": "5b8bfd2a",
   "metadata": {
    "id": "5b8bfd2a",
    "slideshow": {
     "slide_type": "fragment"
    }
   },
   "outputs": [],
   "source": [
    "names.append('Descartes')\n",
    "print(names)"
   ]
  },
  {
   "cell_type": "markdown",
   "id": "cea547df",
   "metadata": {
    "id": "cea547df",
    "slideshow": {
     "slide_type": "slide"
    }
   },
   "source": [
    "### Operators on lists\n",
    "We can combine two existing lists by adding them:"
   ]
  },
  {
   "cell_type": "code",
   "execution_count": null,
   "id": "b23388cf",
   "metadata": {
    "id": "b23388cf",
    "slideshow": {
     "slide_type": "fragment"
    }
   },
   "outputs": [],
   "source": [
    "warm_colors = ['red', 'orange', 'yellow']\n",
    "cold_colors = ['green', 'blue', 'purple']\n",
    "combined_colors = warm_colors + cold_colors\n",
    "combined_colors"
   ]
  },
  {
   "cell_type": "markdown",
   "id": "ffb7dd13",
   "metadata": {
    "id": "dab8769d",
    "slideshow": {
     "slide_type": "fragment"
    }
   },
   "source": [
    "Or n-plicate it when multiplying a list with an integer:"
   ]
  },
  {
   "cell_type": "code",
   "execution_count": null,
   "id": "cb0f2baa",
   "metadata": {
    "slideshow": {
     "slide_type": "fragment"
    }
   },
   "outputs": [],
   "source": [
    "a = [1, 2]\n",
    "b = a * 12\n",
    "b"
   ]
  },
  {
   "cell_type": "markdown",
   "id": "5ab15cbc",
   "metadata": {
    "slideshow": {
     "slide_type": "fragment"
    }
   },
   "source": [
    "Notice how the result is not `[12, 24]` as some might have anticipated. This will be different with NumPy arrays."
   ]
  },
  {
   "cell_type": "markdown",
   "id": "c7b58cc0",
   "metadata": {
    "slideshow": {
     "slide_type": "slide"
    }
   },
   "source": [
    "### Line continuation for lists\n",
    "Long lists can be given on multiple lines. While not required, it is customary to keep the same level of indentation for a better style:"
   ]
  },
  {
   "cell_type": "code",
   "execution_count": null,
   "id": "17363d07",
   "metadata": {
    "slideshow": {
     "slide_type": "fragment"
    }
   },
   "outputs": [],
   "source": [
    "longList = [1,\n",
    "            2,\n",
    "            3,\n",
    "            4,\n",
    "           ]"
   ]
  },
  {
   "cell_type": "markdown",
   "id": "e26d2b5a",
   "metadata": {
    "slideshow": {
     "slide_type": "fragment"
    }
   },
   "source": [
    "Notice the trailing comma which is allowed, and often inserted by code beautifiers like *black*, or *pylint*"
   ]
  },
  {
   "cell_type": "markdown",
   "id": "305e4514",
   "metadata": {
    "slideshow": {
     "slide_type": "slide"
    }
   },
   "source": [
    "### Line continuation for strings\n",
    "Strings spanning multiple lines are inserted using triple quotes:"
   ]
  },
  {
   "cell_type": "code",
   "execution_count": null,
   "id": "5bb400af",
   "metadata": {
    "slideshow": {
     "slide_type": "fragment"
    }
   },
   "outputs": [],
   "source": [
    "multilineString = '''a- This string a long string\n",
    "b- which can span multiple\n",
    "c- lines.'''\n",
    "print(multilineString)"
   ]
  },
  {
   "cell_type": "markdown",
   "id": "14b8c21e",
   "metadata": {
    "slideshow": {
     "slide_type": "fragment"
    }
   },
   "source": [
    "Unlike lists, dictionaries, or tuples, any indentation will be part of the string. Therefore, the string will need to wrap around, and start at the beginning of the next line. Another approach is to add strings with end of line characters `'\\n'` such as:"
   ]
  },
  {
   "cell_type": "code",
   "execution_count": null,
   "id": "29d72839",
   "metadata": {
    "slideshow": {
     "slide_type": "fragment"
    }
   },
   "outputs": [],
   "source": [
    "longString = ('a- This is a long string\\n' +\n",
    "              'b- which is on multiple\\n' +\n",
    "              'c- lines.')\n",
    "print(longString)"
   ]
  },
  {
   "cell_type": "markdown",
   "id": "ff6f4dfd",
   "metadata": {
    "slideshow": {
     "slide_type": "slide"
    }
   },
   "source": [
    "### Dictionaries\n",
    "Dictionary is a data type in Python indicated by curly braces. It is a map between values and keys, and values are retrieved using the key. Keys must be unique while values do not have to.\n",
    "\n",
    "Here is an example:"
   ]
  },
  {
   "cell_type": "code",
   "execution_count": null,
   "id": "08a63560",
   "metadata": {
    "slideshow": {
     "slide_type": "fragment"
    }
   },
   "outputs": [],
   "source": [
    "dico1 = {1: 'one', 2: 'two', 3: 'three'}          # Integers are used for keys, values are strings\n",
    "dico2 = {'one': 1., 'two': 2., 'three': 3.}       # Strings are used as keys, values are floats\n",
    "print('dico1[1] is', dico1[1])\n",
    "print('dico2[\"two\"] is', dico2['two'])"
   ]
  },
  {
   "cell_type": "markdown",
   "id": "715647e3",
   "metadata": {
    "slideshow": {
     "slide_type": "slide"
    }
   },
   "source": [
    "### Adding and fetching values to/from a dictionary\n",
    "The simplest way to add a value to a dictionary is by assignment with a key. Re-assigning with the same key just overwrites the value:"
   ]
  },
  {
   "cell_type": "code",
   "execution_count": null,
   "id": "723dec99",
   "metadata": {
    "slideshow": {
     "slide_type": "fragment"
    }
   },
   "outputs": [],
   "source": [
    "person = {'name': 'Sam Smith'}\n",
    "person['age'] = 26\n",
    "print(person['name'], 'is', person['age'], 'years old.')\n",
    "person['age'] = 27\n",
    "print('Oops I meant', person['name'], 'is', person['age'], 'years old.')"
   ]
  },
  {
   "cell_type": "markdown",
   "id": "7bdde4e5",
   "metadata": {
    "slideshow": {
     "slide_type": "fragment"
    }
   },
   "source": [
    "But requesting a key that does not exist generates an error:"
   ]
  },
  {
   "cell_type": "code",
   "execution_count": null,
   "id": "239e9487",
   "metadata": {
    "slideshow": {
     "slide_type": "fragment"
    }
   },
   "outputs": [],
   "source": [
    "print('Name:', person['name'])\n",
    "print('Weight:', person['weight'])"
   ]
  },
  {
   "cell_type": "markdown",
   "id": "f0d74139",
   "metadata": {
    "slideshow": {
     "slide_type": "slide"
    }
   },
   "source": [
    "### Tuples\n",
    "A tuple is a series of values separated by commas and enclosed in parentheses\n",
    "\n",
    "Tuples are handy in functions returning multiple values\n",
    "\n",
    "Here is an example creating the tuple `(1, 2, 3)`:"
   ]
  },
  {
   "cell_type": "code",
   "execution_count": null,
   "id": "602b6459",
   "metadata": {
    "slideshow": {
     "slide_type": "fragment"
    }
   },
   "outputs": [],
   "source": [
    "mytuple = (1, 2, 3)\n",
    "print('mytuple[1] is', mytuple[1])\n",
    "print(type(mytuple))"
   ]
  },
  {
   "cell_type": "markdown",
   "id": "e39461a0",
   "metadata": {
    "slideshow": {
     "slide_type": "fragment"
    }
   },
   "source": [
    "For tuples, parentheses are not as important as the comma:"
   ]
  },
  {
   "cell_type": "code",
   "execution_count": null,
   "id": "5cd30167",
   "metadata": {
    "slideshow": {
     "slide_type": "fragment"
    }
   },
   "outputs": [],
   "source": [
    "mytuple = 1,\n",
    "print('mytuple[0] is', mytuple[0])\n",
    "print(type(mytuple))"
   ]
  },
  {
   "cell_type": "markdown",
   "id": "bc4cfa98",
   "metadata": {
    "slideshow": {
     "slide_type": "slide"
    }
   },
   "source": [
    "### Comma assignments\n",
    "Tuples can be used to assign multiple variables in one statement:"
   ]
  },
  {
   "cell_type": "code",
   "execution_count": null,
   "id": "040fb54e",
   "metadata": {
    "slideshow": {
     "slide_type": "fragment"
    }
   },
   "outputs": [],
   "source": [
    "(a, b) = (10, 12)\n",
    "print('a is', a, 'and b is', b)"
   ]
  },
  {
   "cell_type": "markdown",
   "id": "d950e8e1",
   "metadata": {
    "slideshow": {
     "slide_type": "fragment"
    }
   },
   "source": [
    "While tuples are often enclosed in parentheses, in some cases one could go without them:"
   ]
  },
  {
   "cell_type": "code",
   "execution_count": null,
   "id": "3c9107d1",
   "metadata": {
    "slideshow": {
     "slide_type": "fragment"
    }
   },
   "outputs": [],
   "source": [
    "a, b = 10, 12\n",
    "print('a is', a, 'and b is', b)"
   ]
  },
  {
   "cell_type": "markdown",
   "id": "0a0e11de",
   "metadata": {
    "slideshow": {
     "slide_type": "fragment"
    }
   },
   "source": [
    "A list can be typecasted into a tuple using the `tuple()` call\n",
    "\n",
    "Casting a dictionary to a `tuple()` extracts the keys only"
   ]
  },
  {
   "cell_type": "markdown",
   "id": "91ce4766",
   "metadata": {
    "slideshow": {
     "slide_type": "slide"
    }
   },
   "source": [
    "### Exponentiation operator\n",
    "The power operator is `**` (and not `^` as in *LaTeX*)\n",
    "\n",
    "Predict the outcome of these statements:"
   ]
  },
  {
   "cell_type": "code",
   "execution_count": null,
   "id": "7d921481",
   "metadata": {
    "slideshow": {
     "slide_type": "fragment"
    }
   },
   "outputs": [],
   "source": [
    "2**3 == 8"
   ]
  },
  {
   "cell_type": "code",
   "execution_count": null,
   "id": "b22e3b8a",
   "metadata": {
    "slideshow": {
     "slide_type": "fragment"
    }
   },
   "outputs": [],
   "source": [
    "2.**(3/2)"
   ]
  },
  {
   "cell_type": "code",
   "execution_count": null,
   "id": "9c217be7",
   "metadata": {
    "slideshow": {
     "slide_type": "fragment"
    }
   },
   "outputs": [],
   "source": [
    "(-1)**.5"
   ]
  },
  {
   "cell_type": "markdown",
   "id": "483f32e2",
   "metadata": {
    "slideshow": {
     "slide_type": "slide"
    }
   },
   "source": [
    "### Addition/subtraction/multiplication... assignment operators\n",
    "These operators include the `+=` and `-=`. The use on floats and integers is straightforward:"
   ]
  },
  {
   "cell_type": "code",
   "execution_count": null,
   "id": "d89b982f",
   "metadata": {
    "slideshow": {
     "slide_type": "fragment"
    }
   },
   "outputs": [],
   "source": [
    "a = 10\n",
    "a -= 2.    # Notice the automatic promotion of 'a' to a float through the subtraction operation.\n",
    "a"
   ]
  },
  {
   "cell_type": "markdown",
   "id": "5a3971bc",
   "metadata": {
    "slideshow": {
     "slide_type": "fragment"
    }
   },
   "source": [
    "The operator '+='  also operates on lists and strings, most commonly as:"
   ]
  },
  {
   "cell_type": "code",
   "execution_count": null,
   "id": "16a3e1a2",
   "metadata": {
    "slideshow": {
     "slide_type": "fragment"
    }
   },
   "outputs": [],
   "source": [
    "b = []\n",
    "b += [2]\n",
    "b"
   ]
  },
  {
   "cell_type": "code",
   "execution_count": null,
   "id": "c00bf4a6",
   "metadata": {
    "slideshow": {
     "slide_type": "fragment"
    }
   },
   "outputs": [],
   "source": [
    "c = 'A string'\n",
    "c += ' for you!'\n",
    "c"
   ]
  },
  {
   "cell_type": "markdown",
   "id": "5338d0cc",
   "metadata": {
    "slideshow": {
     "slide_type": "fragment"
    }
   },
   "source": [
    "Other such operators include `/=`, `*=`, `%=`, `//=`, and so on"
   ]
  },
  {
   "cell_type": "markdown",
   "id": "going-network",
   "metadata": {
    "id": "going-network",
    "slideshow": {
     "slide_type": "slide"
    }
   },
   "source": [
    "### Conditional statements: if, elif, else\n",
    "\n",
    "The syntax for conditional execution of code uses the keywords `if`, `elif` (else if), and `else`:\n",
    " \n",
    "```python\n",
    "if condition1:\n",
    "    print(\"condition1 is True\")  \n",
    "elif condition2:\n",
    "    print(\"condition2 is True\")\n",
    "else:\n",
    "    print(\"condition1 and condition2 are False\")\n",
    "```\n",
    "`if` or `elif` conditional statements make decisions about running the code block below it. Python uses the colon symbol (:) and indentation for showing where blocks of code begin and end.\n",
    "\n",
    "Notice how indentation is critical in Python - this is one of the main characteristics of the language\n",
    "\n",
    "The conditions are Boolean expressions in which logical operators `and`, `or`, and `not` can be used\n"
   ]
  },
  {
   "cell_type": "markdown",
   "id": "52395185",
   "metadata": {
    "slideshow": {
     "slide_type": "slide"
    }
   },
   "source": [
    "### A note on indentation in Python\n",
    "- The first line of code cannot have any indentation\n",
    "- Number of spaces used to indent can be anything - it is up to the user\n",
    "    - Minimum of 1 space\n",
    "    - The use of 4 spaces is the widespread convention \n",
    "- Mixing TAB and spaces will lead to problems\n",
    "    - Most Python editors will convert TABS to spaces"
   ]
  },
  {
   "cell_type": "markdown",
   "id": "9ec6a3fd",
   "metadata": {
    "slideshow": {
     "slide_type": "slide"
    }
   },
   "source": [
    "\n",
    "The language also contains two Boolean built-in constants: `True` and `False`. Run and analyse the output of the code below:"
   ]
  },
  {
   "cell_type": "code",
   "execution_count": null,
   "id": "processed-drove",
   "metadata": {
    "id": "processed-drove",
    "slideshow": {
     "slide_type": "fragment"
    }
   },
   "outputs": [],
   "source": [
    "t = True\n",
    "f = False\n",
    "print(type(t))"
   ]
  },
  {
   "cell_type": "code",
   "execution_count": null,
   "id": "coastal-relaxation",
   "metadata": {
    "id": "coastal-relaxation",
    "slideshow": {
     "slide_type": "fragment"
    }
   },
   "outputs": [],
   "source": [
    "print(t and f) # Logical AND;\n",
    "print(t or f)  # Logical OR;\n",
    "print(not t)   # Logical NOT;\n",
    "print(t != f)  # Not equal. This can also be used for comparing integers or strings. Equivalent to XOR for two binary variables."
   ]
  },
  {
   "cell_type": "code",
   "execution_count": null,
   "id": "superb-poker",
   "metadata": {
    "id": "superb-poker",
    "slideshow": {
     "slide_type": "fragment"
    }
   },
   "outputs": [],
   "source": [
    "if True:\n",
    "    print(\"Yes\")"
   ]
  },
  {
   "cell_type": "code",
   "execution_count": null,
   "id": "functional-compression",
   "metadata": {
    "id": "functional-compression",
    "slideshow": {
     "slide_type": "fragment"
    }
   },
   "outputs": [],
   "source": [
    "if False:\n",
    "    print(\"No\")"
   ]
  },
  {
   "cell_type": "markdown",
   "id": "olive-championship",
   "metadata": {
    "id": "olive-championship",
    "slideshow": {
     "slide_type": "slide"
    }
   },
   "source": [
    "Python comparison operators (==, !=, <=, <, >=, >) can be used for comparing values in the conditionals. But beware:\n",
    "- a single equal sign `=` is used to assign values\n",
    "- a double equal sign `==` is used to test for equality\n",
    "\n",
    "Run and analyze the output of the code below:"
   ]
  },
  {
   "cell_type": "code",
   "execution_count": null,
   "id": "global-stack",
   "metadata": {
    "id": "global-stack",
    "slideshow": {
     "slide_type": "fragment"
    }
   },
   "outputs": [],
   "source": [
    "a, b = 10, 0\n",
    "print(a == b)\n",
    "print(a != b)\n",
    "print(a > b)\n",
    "print(a >= b)\n",
    "print(a < b)\n",
    "print(a <= b)"
   ]
  },
  {
   "cell_type": "markdown",
   "id": "84d32d70",
   "metadata": {
    "slideshow": {
     "slide_type": "slide"
    }
   },
   "source": [
    "### With non-Booleans, what values are considered `True` and `False`?\n",
    "\n",
    "- The following values are considered `False` : \n",
    "     * None\n",
    "     * 0 &emsp;*(integer zero)*\n",
    "     * 0\\. &emsp; *(float zero)*\n",
    "     * '' or \"\"   &emsp;*(empty string)*\n",
    "     * []   &emsp;*(empty list)*\n",
    "     * ()   &emsp;*(empty tuple)*\n",
    "     * {}   &emsp;*(empty dictionary)*\n",
    " \n",
    "- All other values evaluate as `True`\n",
    "\n",
    "`None` is used for objects that have not been defined - think of it as a null pointer in other languages"
   ]
  },
  {
   "cell_type": "markdown",
   "id": "917db3dd",
   "metadata": {
    "slideshow": {
     "slide_type": "slide"
    }
   },
   "source": [
    "### Equality comparisons\n",
    "Comparing integers is OK. **Avoid float equality statements**. Here is an example:"
   ]
  },
  {
   "cell_type": "code",
   "execution_count": null,
   "id": "54bc497d",
   "metadata": {
    "slideshow": {
     "slide_type": "fragment"
    }
   },
   "outputs": [],
   "source": [
    "print(0.1 + 0.2 == .3)"
   ]
  },
  {
   "cell_type": "markdown",
   "id": "c18cb52f",
   "metadata": {
    "slideshow": {
     "slide_type": "fragment"
    }
   },
   "source": [
    "Strings can also be compared and comparison > and < use Unicode values of characters in the string:"
   ]
  },
  {
   "cell_type": "code",
   "execution_count": null,
   "id": "d746ab40",
   "metadata": {
    "slideshow": {
     "slide_type": "fragment"
    }
   },
   "outputs": [],
   "source": [
    "a = \"rhinoceros\"\n",
    "b = \"rhino\"\n",
    "c = [a, b]\n",
    "print(a > b)\n",
    "print(a[0:5] == b)\n",
    "print(b in a)\n",
    "print('hino' in a and 'hino' in b)\n",
    "print(a in c)"
   ]
  },
  {
   "cell_type": "markdown",
   "id": "fd8d9038",
   "metadata": {
    "slideshow": {
     "slide_type": "slide"
    }
   },
   "source": [
    "Some more easy examples involving Boolean expressions:"
   ]
  },
  {
   "cell_type": "code",
   "execution_count": null,
   "id": "stainless-delhi",
   "metadata": {
    "id": "stainless-delhi",
    "slideshow": {
     "slide_type": "fragment"
    }
   },
   "outputs": [],
   "source": [
    "print('ex1 is:', 3 + 12 > 7 + 3)\n",
    "print('ex2 is:', 5 + 10 * 3 > 7 + 3 * 20)\n",
    "print('ex3 is:', 5 + 10 > 3 and 7 + 3 == 10)\n",
    "print('ex4 is:', 5 + 10 > 0 and not 7 + 3 == 10)"
   ]
  },
  {
   "cell_type": "markdown",
   "id": "bc13ab34",
   "metadata": {
    "slideshow": {
     "slide_type": "slide"
    }
   },
   "source": [
    "### Equality `==` *vs* `is`\n",
    "Equality `==` tests if two objects have the same value. `is` tests if they are the same object:"
   ]
  },
  {
   "cell_type": "code",
   "execution_count": null,
   "id": "68e821d5",
   "metadata": {
    "slideshow": {
     "slide_type": "fragment"
    }
   },
   "outputs": [],
   "source": [
    "a = [1, 2]\n",
    "b = [1, 2]\n",
    "c = a\n",
    "print('a == b?', a == b)\n",
    "print('a is b?', a is b)\n",
    "print('a is c?', a is c)\n",
    "print('b is c?', b is c)"
   ]
  },
  {
   "cell_type": "markdown",
   "id": "b9209178",
   "metadata": {
    "slideshow": {
     "slide_type": "fragment"
    }
   },
   "source": [
    "What if `a` and `b` are assigned to an integer, say 23? Does that still hold? What does that mean?"
   ]
  },
  {
   "cell_type": "markdown",
   "id": "763001c5",
   "metadata": {
    "slideshow": {
     "slide_type": "slide"
    }
   },
   "source": [
    "### Key Points\n",
    "- Python data types include int, float, string, list, dictionary, and tuple\n",
    "- Integers are automatically upcasted to floats when mixing arithmetics of the two types\n",
    "- Accessing elements in a string or a list can be done with slicing operations\n",
    "- Indentation is how blocks of code are separated in Python, starting after a statement ending with a colon`:`\n",
    "    - if, elif, else, for, while, ...\n",
    "- The equality operator should never be used for comparing floats\n"
   ]
  },
  {
   "cell_type": "markdown",
   "id": "56c3d239",
   "metadata": {
    "slideshow": {
     "slide_type": "slide"
    }
   },
   "source": [
    "### Further Reading\n",
    "\n",
    "- Counting to 1024 using fingers\n",
    "  [https://www.youtube.com/watch?v=UixU1oRW64Q](https://www.youtube.com/watch?v=UixU1oRW64Q)  \n",
    "- Basic intro into floating-point representation\n",
    "  [https://www.youtube.com/watch?v=PZRI1IfStY0](https://www.youtube.com/watch?v=PZRI1IfStY0)  \n",
    "- *What Every Computer Scientist Should Know About Floating-Point Arithmetics* by David Goldberg (pdf)\n",
    "  [http://www.itu.dk/~sestoft/bachelor/IEEE754_article.pdf](http://www.itu.dk/~sestoft/bachelor/IEEE754_article.pdf)\n",
    "- Formatting strings and output [https://pyformat.info/](https://pyformat.info/)  \n",
    "- Python built-in functions   [https://docs.python.org/3/library/functions.html](https://docs.python.org/3/library/functions.html)  "
   ]
  },
  {
   "cell_type": "markdown",
   "id": "b1e0bf74",
   "metadata": {
    "slideshow": {
     "slide_type": "slide"
    }
   },
   "source": [
    "### What's Next?\n",
    "- Complete the exercises in this associated exercise notebook [X-01-Primer1.ipynb](X-01-Primer1.ipynb)\n",
    "- Next notebook is [N-02-Primer2.ipynb](N-02-Primer2.ipynb)"
   ]
  }
 ],
 "metadata": {
  "celltoolbar": "Slideshow",
  "colab": {
   "collapsed_sections": [],
   "provenance": []
  },
  "kernelspec": {
   "display_name": "Python 3 (ipykernel)",
   "language": "python",
   "name": "python3"
  },
  "language_info": {
   "codemirror_mode": {
    "name": "ipython",
    "version": 3
   },
   "file_extension": ".py",
   "mimetype": "text/x-python",
   "name": "python",
   "nbconvert_exporter": "python",
   "pygments_lexer": "ipython3",
   "version": "3.11.7"
  }
 },
 "nbformat": 4,
 "nbformat_minor": 5
}

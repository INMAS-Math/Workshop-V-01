{
 "cells": [
  {
   "cell_type": "markdown",
   "id": "c4e678b4",
   "metadata": {},
   "source": [
    "<img src=\"images/inmas.png\" width=130x align=right />\n",
    "\n",
    "# Exercise 09a - Rock, Paper, Scissors\n",
    " \n",
    "\n",
    "\n",
    "### Prerequisite\n",
    "Notebook 09"
   ]
  },
  {
   "cell_type": "markdown",
   "id": "12c6471c",
   "metadata": {},
   "source": [
    "### Instructions\n",
    "In this Notebook you will create a game: Rock, Paper, Scissors! \n",
    "\n",
    "If you’ve never played this game, here’s how it works:\n",
    "\n",
    "Each player puts one of their hands behind their back and will choose between: \n",
    "- rock (close fist)\n",
    "- paper (open hand)\n",
    "- scissors (extended index and major fingers mimicking scissors)\n",
    "    \n",
    "The rock beats scissors, the paper beats rock, and the scissors beat the paper.\n",
    "\n",
    "Create a function that asks for the user's choice using:\n",
    "- 1 for rock\n",
    "- 2 for paper\n",
    "- 3 for scissors\n",
    "- 0 to quit playing\n",
    "\n",
    "Tell the user if she/he won or lost! Keep track of scores and report on quitting. \n",
    "\n",
    "- You use the `input` function to ask the users input.\n",
    "- Use `if, elif`, and `else` statements. \n",
    "- You can `print` the the game instructions if time allows with an additional key ('h', or '?'). \n",
    "\n"
   ]
  },
  {
   "cell_type": "code",
   "execution_count": null,
   "id": "65981c3f",
   "metadata": {},
   "outputs": [],
   "source": []
  }
 ],
 "metadata": {
  "colab": {
   "collapsed_sections": [],
   "provenance": []
  },
  "kernelspec": {
   "display_name": "Python 3 (ipykernel)",
   "language": "python",
   "name": "python3"
  },
  "language_info": {
   "codemirror_mode": {
    "name": "ipython",
    "version": 3
   },
   "file_extension": ".py",
   "mimetype": "text/x-python",
   "name": "python",
   "nbconvert_exporter": "python",
   "pygments_lexer": "ipython3",
   "version": "3.11.7"
  }
 },
 "nbformat": 4,
 "nbformat_minor": 5
}

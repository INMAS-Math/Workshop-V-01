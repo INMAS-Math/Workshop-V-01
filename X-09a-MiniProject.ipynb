{
 "cells": [
  {
   "cell_type": "markdown",
   "id": "c4e678b4",
   "metadata": {},
   "source": [
    "<img src=\"images/inmas.png\" width=130x align=right />\n",
    "\n",
    "# Exercise 09a - Rock, Paper, Scissors\n",
    " \n",
    "\n",
    "\n",
    "### Prerequisite\n",
    "Notebook 09"
   ]
  },
  {
   "cell_type": "markdown",
   "id": "12c6471c",
   "metadata": {},
   "source": [
    "## Instructions\n",
    "In this Notebook you will create a game: Rock, Paper, Scissors! \n",
    "\n",
    "If you’ve never played this game, here’s how it works:\n",
    "\n",
    "Each player puts one of their hands behind their back and will choose between: \n",
    "- rock (close fist)\n",
    "- paper (open hand)\n",
    "- scissors (extended index and major fingers mimicking scissors)\n",
    "    \n",
    "The rock beats scissors, the paper beats rock, and the scissors beat the paper."
   ]
  },
  {
   "cell_type": "markdown",
   "id": "75637565",
   "metadata": {},
   "source": [
    "### 1. \n",
    "Create a list containing rock, paper, scissors."
   ]
  },
  {
   "cell_type": "code",
   "execution_count": null,
   "id": "a7a3baf2",
   "metadata": {},
   "outputs": [],
   "source": []
  },
  {
   "cell_type": "markdown",
   "id": "5ecd51e2",
   "metadata": {},
   "source": [
    "### 2.\n",
    "\n",
    "Set up the computer\n",
    "- Assign a random play to the computer: In this step you need to create a function that randomly chooses rock, paper, or scissors. \n",
    "- The input should be the list created in Step 1. You want to choose randomly from this list, you can use the `random` module! \n"
   ]
  },
  {
   "cell_type": "code",
   "execution_count": null,
   "id": "e3959221",
   "metadata": {},
   "outputs": [],
   "source": []
  },
  {
   "cell_type": "markdown",
   "id": "c2111ac0",
   "metadata": {},
   "source": [
    "### 3. \n",
    "Create a function that asks for your input and tells you if you won or lost! \n",
    "\n",
    "Using step one and two, create a function that plays the game. \n",
    "\n",
    "- You can use the `input` function to ask the users input.\n",
    "- Use `if, elif`, and `else` statements. \n",
    "- Make sure the user knows that word spelling is important. You can `print` the instructions and also tell the player whenever the spelling is wrong. \n",
    "\n",
    "Remember the rules! \n",
    "\n"
   ]
  },
  {
   "cell_type": "code",
   "execution_count": null,
   "id": "a3591296",
   "metadata": {},
   "outputs": [],
   "source": [
    "\n"
   ]
  },
  {
   "cell_type": "markdown",
   "id": "BNELUw0CRRMA",
   "metadata": {},
   "source": [
    "### 4.*\n",
    "Make the game so that you can play it multiple times. You can do so by asking the player if they want to continue playing! \n",
    "\n",
    "Hint: Use a while loop! "
   ]
  },
  {
   "cell_type": "code",
   "execution_count": null,
   "id": "wf8DI9LgVTwF",
   "metadata": {},
   "outputs": [],
   "source": []
  }
 ],
 "metadata": {
  "colab": {
   "collapsed_sections": [],
   "provenance": []
  },
  "kernelspec": {
   "display_name": "Python 3 (ipykernel)",
   "language": "python",
   "name": "python3"
  },
  "language_info": {
   "codemirror_mode": {
    "name": "ipython",
    "version": 3
   },
   "file_extension": ".py",
   "mimetype": "text/x-python",
   "name": "python",
   "nbconvert_exporter": "python",
   "pygments_lexer": "ipython3"
  }
 },
 "nbformat": 4,
 "nbformat_minor": 5
}

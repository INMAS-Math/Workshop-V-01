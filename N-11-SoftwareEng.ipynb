{
 "cells": [
  {
   "cell_type": "markdown",
   "id": "09fafc10",
   "metadata": {
    "slideshow": {
     "slide_type": "slide"
    }
   },
   "source": [
    "<img src=\"images/inmas.png\" width=130x align=right />\n",
    "\n",
    "# Notebook 11 - Elements of Software Engineering\n",
    "\n",
    "Material covered in this notebook:\n",
    "\n",
    "- Understanding Coding Standards\n",
    "- The need for documentation\n",
    "- Source Code Management - Version Control and git\n",
    "- Working from the command line of a terminal\n",
    "- Testing your code - the importance of unit testing and regression testing\n",
    "\n",
    "### Prerequisites\n",
    "Notebooks 10\n"
   ]
  },
  {
   "cell_type": "markdown",
   "id": "afea994e",
   "metadata": {
    "slideshow": {
     "slide_type": "slide"
    }
   },
   "source": [
    "In this module you will learn the basics of software engineering and best practices typically used in the industry \n",
    "\n",
    "While a Jupyter notebook is a great tool for interactive scripting, writing tutorials, as well as coding prototypes, larger projects are typically characterized by Python modules shared amongst team members\n",
    "\n",
    "In view of facilitating the integration of the multiple contributors involved in a given project, it is often necessary to adopt common coding best practices"
   ]
  },
  {
   "cell_type": "markdown",
   "id": "8ebb14b0",
   "metadata": {
    "slideshow": {
     "slide_type": "slide"
    }
   },
   "source": [
    "### Coding Standards\n",
    "As Python is a very flexible language, there are often multiple ways to achieve the same goal. For example, a simple loop can be coded by using an index\n",
    "\n",
    "```python\n",
    "for i in range(len(x)):\n",
    "```\n",
    "or using an iterator,\n",
    "```python\n",
    "for item in x:\n",
    "```\n",
    "or even with a forever loop such as:\n",
    "```python\n",
    "while 1:\n",
    "```\n",
    "with an appropriate `break` condition"
   ]
  },
  {
   "cell_type": "markdown",
   "id": "2c64643c",
   "metadata": {
    "slideshow": {
     "slide_type": "slide"
    }
   },
   "source": [
    "### Iterators of not?\n",
    "- It is recommended to use iterators whenever possible\n",
    "- In a few situations, however, iterators can lead to problems\n",
    "- What are these cases?\n"
   ]
  },
  {
   "cell_type": "markdown",
   "id": "e608aa73",
   "metadata": {
    "slideshow": {
     "slide_type": "fragment"
    }
   },
   "source": [
    "Hint: Avoid modifying containers while iterating. For example:"
   ]
  },
  {
   "cell_type": "code",
   "execution_count": null,
   "id": "1c9ee08b",
   "metadata": {
    "slideshow": {
     "slide_type": "fragment"
    }
   },
   "outputs": [],
   "source": [
    "mylist  = list(range(10))                         \n",
    "for x in mylist:                         \n",
    "    print(x, ', ', end='')             \n",
    "    print(mylist.pop(0), ', ', end='')                  \n",
    "    print(mylist.pop(0))"
   ]
  },
  {
   "cell_type": "markdown",
   "id": "473e486a",
   "metadata": {
    "slideshow": {
     "slide_type": "slide"
    }
   },
   "source": [
    "### Inquire about your team's coding standards\n",
    "The purpose of this introduction is not to propose a given coding standard, but rather to make you aware that coding standards do exist and that you should (1) think about adopting a given style in your own Python scripts and (2) inquire about the existence of such standard in your future assignments\n",
    "\n",
    "A good place to start is to read the de facto __[guide to Python scripting](https://peps.python.org/pep-0008/)__ (known as PEP 8) from the author of Python himself (PEP stands for Python Enhancement Proposal)\n",
    "\n",
    "If you integrate to a new team, ask for the agreed-upon coding standard if any\n",
    "\n",
    "If none, propose one!"
   ]
  },
  {
   "cell_type": "markdown",
   "id": "cf6a2b5b",
   "metadata": {
    "slideshow": {
     "slide_type": "slide"
    }
   },
   "source": [
    "### The `black` formatter\n",
    "\n",
    "Coding standards are intrinsically boring but are a necessary tool in team environments \n",
    "\n",
    "- Fortunately, __[automated tools](https://github.com/life4/awesome-python-code-formatters)__ exist for reformating the code in order to comply with parts of the standard involving where to put spaces (or not)\n",
    "\n",
    "- We demonstrate using `black` starting from some 'bad' code\n",
    "\n",
    "Run the cell on the next slide to load the file contents in the cell"
   ]
  },
  {
   "cell_type": "code",
   "execution_count": null,
   "id": "fdd24b0e",
   "metadata": {
    "slideshow": {
     "slide_type": "slide"
    }
   },
   "outputs": [],
   "source": [
    "%load Code_10/badstyle.py"
   ]
  },
  {
   "cell_type": "markdown",
   "id": "2e530c2f",
   "metadata": {
    "slideshow": {
     "slide_type": "slide"
    }
   },
   "source": [
    "### Running `black` on your code is easy\n",
    "\n",
    "Let's run `black` automated source code formatter on the file and reload:"
   ]
  },
  {
   "cell_type": "code",
   "execution_count": null,
   "id": "e15ddbd2",
   "metadata": {
    "slideshow": {
     "slide_type": "fragment"
    }
   },
   "outputs": [],
   "source": [
    "! black Code_10/badstyle.py"
   ]
  },
  {
   "cell_type": "markdown",
   "id": "5a4a37ed",
   "metadata": {
    "slideshow": {
     "slide_type": "fragment"
    }
   },
   "source": [
    "#### Done. Now let's compare!"
   ]
  },
  {
   "cell_type": "code",
   "execution_count": null,
   "id": "d778764b",
   "metadata": {
    "slideshow": {
     "slide_type": "slide"
    }
   },
   "outputs": [],
   "source": [
    "%load Code_10/badstyle.py"
   ]
  },
  {
   "cell_type": "markdown",
   "id": "256fdc1d",
   "metadata": {
    "slideshow": {
     "slide_type": "slide"
    }
   },
   "source": [
    "### Strings style and line length can be personal\n",
    "- As strings can be represented by either ' ' or \" \", some users develop a preference\n",
    "- PEP recommends double quotes for some practical reasons\n",
    "- By default, black converts string to double-quote style\n",
    "    - can be ignored with `black -S` option\n",
    "- Line lengths can also be configured with the `-l n` option (use lines < n characters)\n",
    "\n",
    "`black` can also be used on notebooks\n",
    "\n",
    "There is no reason for you not to use it!\n"
   ]
  },
  {
   "cell_type": "markdown",
   "id": "8dd6a229",
   "metadata": {
    "slideshow": {
     "slide_type": "slide"
    }
   },
   "source": [
    "### You won't remember your code in 6 months!\n",
    "Another unpopular topic is documentation\n",
    "\n",
    "Prototypical codes are generally poorly documented as the code is in a constant state of change\n",
    "\n",
    "Python offers multiple ways by which code can be documented as it gets written, specifically named arguments and doc strings for functions and modules\n",
    "\n",
    "Make it a habit to use descriptive names for variables and named arguments\n",
    "\n",
    "The main customer of your code is you: make sure you will be able to understand your own code 6 months after not seeing it\n",
    "\n",
    "In the following cell, we define a function using doc string:"
   ]
  },
  {
   "cell_type": "code",
   "execution_count": null,
   "id": "31639ddd",
   "metadata": {
    "slideshow": {
     "slide_type": "slide"
    }
   },
   "outputs": [],
   "source": [
    "def double(x):\n",
    "    '''Return twice the number provided in the argument'''\n",
    "    return 2*x"
   ]
  },
  {
   "cell_type": "markdown",
   "id": "0378a5e6",
   "metadata": {
    "slideshow": {
     "slide_type": "fragment"
    }
   },
   "source": [
    "The text gets stored in the variable '\\__doc__' associated with the function"
   ]
  },
  {
   "cell_type": "code",
   "execution_count": null,
   "id": "784b03de",
   "metadata": {
    "slideshow": {
     "slide_type": "fragment"
    }
   },
   "outputs": [],
   "source": [
    "double.__doc__"
   ]
  },
  {
   "cell_type": "markdown",
   "id": "791668a5",
   "metadata": {
    "slideshow": {
     "slide_type": "slide"
    }
   },
   "source": [
    "Multiple lines can also be used such as in:"
   ]
  },
  {
   "cell_type": "code",
   "execution_count": null,
   "id": "bcfb2991",
   "metadata": {
    "slideshow": {
     "slide_type": "fragment"
    }
   },
   "outputs": [],
   "source": [
    "def add_binary(a, b):\n",
    "    '''\n",
    "    Return a string representing the sum of two decimal numbers in binary digits.\n",
    "\n",
    "            Parameters:\n",
    "                    a (int): A decimal integer\n",
    "                    b (int): Another decimal integer\n",
    "\n",
    "            Returns:\n",
    "                    Binary string of the sum of a and b\n",
    "    '''\n",
    "    binary_sum = bin(a+b)[2:]\n",
    "    return binary_sum"
   ]
  },
  {
   "cell_type": "markdown",
   "id": "88f5d072",
   "metadata": {
    "slideshow": {
     "slide_type": "slide"
    }
   },
   "source": [
    "### Coding interface is now easier to use\n",
    "Now any user can call the help() function and know what the function does:"
   ]
  },
  {
   "cell_type": "code",
   "execution_count": null,
   "id": "1a680785",
   "metadata": {
    "slideshow": {
     "slide_type": "fragment"
    }
   },
   "outputs": [],
   "source": [
    "add_binary(1024, 1)"
   ]
  },
  {
   "cell_type": "code",
   "execution_count": null,
   "id": "6acaf9b2",
   "metadata": {
    "slideshow": {
     "slide_type": "fragment"
    }
   },
   "outputs": [],
   "source": [
    "help(add_binary)    # Equivalent to print(add_binary.__doc__)"
   ]
  },
  {
   "cell_type": "markdown",
   "id": "fe0750fa",
   "metadata": {
    "slideshow": {
     "slide_type": "slide"
    }
   },
   "source": [
    "### Source Code Management\n",
    "Jupyter Notebook allows for checkpoints and the ability to recall previous versions\n",
    "\n",
    "In team environments, however, `git` is often the preferred tool for incorporating contributions from various team members\n",
    "\n",
    "The basic functionality of `git` is relatively simple to master and might even be useful to you when you start writing your thesis in LaTeX.\n",
    "\n",
    "A good place to start is to read a __[short tutorial](https://git-scm.com/doc)__ on git and install it on your computer\n",
    "\n",
    "This __[web site](https://git-scm.com/)__ is the main resource for `git` source code management tool\n",
    "\n",
    "There are also multiple websites (e.g, __[github](https://github.com/)__, __[gitlab](https://about.gitlab.com/)__, ...) that can host your project for free\n",
    "\n",
    "Industries often use these cloud services or an internal server for that purpose"
   ]
  },
  {
   "cell_type": "markdown",
   "id": "4a93e622",
   "metadata": {
    "slideshow": {
     "slide_type": "slide"
    }
   },
   "source": [
    "### Modules, Parameter Files, and Command Line Basics\n",
    "Software reusability can significantly reduce development costs\n",
    "\n",
    "The main mechanism by which code can be re-used in Python is through modules\n",
    "\n",
    "In this section we will go beyond the Jupyter notebook and implement a few modules from the command line\n",
    "\n",
    "To start, open a terminal window using the Anaconda powershell on Windows or the equivalent on macOs or Linux. Let's first see if Python is in your path by running:\n",
    "```\n",
    "python --version\n",
    "```\n",
    "Note that on Windows, a shell started from the Anaconda Navigator will have the PATH variable properly configured "
   ]
  },
  {
   "cell_type": "markdown",
   "id": "d928af6d",
   "metadata": {
    "slideshow": {
     "slide_type": "slide"
    }
   },
   "source": [
    "### Command line basics\n",
    "Good! Next let's change to a directory to where you stored the files from the Workshop and where you will write our own modules\n",
    "\n",
    "If you have never used a command line, the following commands will get you 90% of the work done:\n",
    "- **pwd**: Print working directory\n",
    "- **cd** *dirpath*: Change directory to *dirpath* (../ to climb one level)\n",
    "- **mkdir** *newdir*: Make a new directory called *newdir*\n",
    "- **ls**: List the files contained in the current directory\n",
    "- **mv**: Rename a file or move it to a directory\n",
    "- **cp**: Copy a file"
   ]
  },
  {
   "cell_type": "markdown",
   "id": "277b9446",
   "metadata": {
    "slideshow": {
     "slide_type": "slide"
    }
   },
   "source": [
    "### Running Python from the command line\n",
    "A Python script is run as:\n",
    "> python main.py\n",
    "\n",
    "<br>or, if you want to pass arguments to the script\n",
    "\n",
    "> python main.py arg1 arg2 ...\n",
    "\n",
    "Most scripts require (re-)configurable parameters to run\n",
    "\n",
    "This is different when using a single-file Jupyter notebook, where parameters tend to be hardcoded in the notebook"
   ]
  },
  {
   "cell_type": "markdown",
   "id": "cb3e6707",
   "metadata": {
    "slideshow": {
     "slide_type": "slide"
    }
   },
   "source": [
    "### Isolate and pass parameters to make algorithms more flexible\n",
    "For re-usability of the code, it is beneficial to isolate the parameters that will make the algorithm more universally re-usable\n",
    "\n",
    "There are multiple ways to pass configuration values to a Python script, generally:\n",
    "1. Through a parameter file\n",
    "2. Through command line arguments\n",
    "3. Through a Graphical User Interface\n",
    "\n",
    "Here, we will mainly address 1 and 2 and leave the GUI topic for an another time"
   ]
  },
  {
   "cell_type": "markdown",
   "id": "5cf95950",
   "metadata": {
    "slideshow": {
     "slide_type": "slide"
    }
   },
   "source": [
    "### A first draft\n",
    "The following simple code reads a parameter file and creates and assigns variables as described in the file:"
   ]
  },
  {
   "cell_type": "code",
   "execution_count": null,
   "id": "fe0e210a",
   "metadata": {
    "slideshow": {
     "slide_type": "fragment"
    }
   },
   "outputs": [],
   "source": [
    "def readParameters(filename):\n",
    "    '''Read run-time parameters from a text file'''\n",
    "    file = open(filename, 'r')\n",
    "    for line in file:\n",
    "        variable, value = [word.strip() for word in line.split('=')]\n",
    "        variable.replace(' ', '_')\n",
    "        pythoncode = variable + '=' + value\n",
    "        exec(pythoncode)"
   ]
  },
  {
   "cell_type": "markdown",
   "id": "a7ef53c4",
   "metadata": {
    "slideshow": {
     "slide_type": "fragment"
    }
   },
   "source": [
    "Notice how this function generates new code as it reads the parameter file\n",
    "\n",
    "This is one of the benefits of Python being a dynamically-typed, interpreted language"
   ]
  },
  {
   "cell_type": "markdown",
   "id": "c476a134",
   "metadata": {
    "slideshow": {
     "slide_type": "slide"
    }
   },
   "source": [
    "### Writing robust code\n",
    "The code on next page contains known and new elements:\n",
    "- Documenting the program\n",
    "- Using `try` and `except` for handling potential errors\n",
    "- Modularizing most of the algorithm for clarity and reusability\n",
    "- Ensuring that main program is not loaded as a module\n",
    "\n",
    "Modularisation is an important method which reduces the size of your code\n",
    "\n",
    "Always remember that a line of code is a liability more than being an asset: less is always better\n",
    "\n",
    "Every time you do a cut and paste should raise a red flag in your mind for a missed opportunity for a function or a module"
   ]
  },
  {
   "cell_type": "markdown",
   "id": "0f02ff83",
   "metadata": {
    "slideshow": {
     "slide_type": "slide"
    }
   },
   "source": [
    "### Putting it all together\n",
    "- We will demonstrate running a script from the command line\n",
    "\n",
    "- For that purpose, we provide you with a file called *main_1.py* located in the *Code_11* directory\n",
    "\n",
    "- This file is shown on the next slide\n",
    "    - Use mouse scrolling to see all the code"
   ]
  },
  {
   "cell_type": "markdown",
   "id": "85e8927b",
   "metadata": {
    "slideshow": {
     "slide_type": "slide"
    }
   },
   "source": [
    "#### Use mouse scrolling to see all the code.\n",
    "\n",
    "```python\n",
    "#!/usr/bin/env python3\n",
    "'''\n",
    "A prototypical main file demonstrating how to read parameters from a file\n",
    "Martin-D. Lacasse, JHU 2022\n",
    "'''\n",
    "\n",
    "import sys\n",
    "import params\n",
    "\n",
    "# Print Usage\n",
    "def printHelp(name):\n",
    "   print(\"Usage: \", name, \"filename.par\")\n",
    "   sys.exit(1)\n",
    "     \n",
    "def run():\n",
    "   try:\n",
    "      filename = sys.argv[1]\n",
    "   except:\n",
    "      printHelp(sys.argv[0])\n",
    "    \n",
    "   myDico = params.readParameters(filename)\n",
    "   params.printParameters(myDico)                                                                                                                                                                                                                    #####################################################################\n",
    "# This is the main program\n",
    "if __name__ == '__main__':\n",
    "    run()\n",
    "else:\n",
    "    print(\"Error: Can't import main script as a module.\", repr(__name__))      \n",
    "```"
   ]
  },
  {
   "cell_type": "markdown",
   "id": "1eea6042",
   "metadata": {
    "slideshow": {
     "slide_type": "slide"
    }
   },
   "source": [
    "Notice how functions definitions are separated from the main part of the program, and how this code cannot be imported as a module\n",
    "\n",
    "This practice will force you to modularize your code and design an architecture that can be more easily understood and maintained\n",
    "\n",
    "By going to the file tab of Jupyter, navigate to the *Code_11* directory and open the `main1.py` file in a separate tab. Alternatively, you can use your preferred code editor.\n",
    "\n",
    "Also look at the module (file) `params.py` which is imported here\n",
    "\n",
    "We can now run this main file from Jupyter using the *bang* (!) operator as in the following command:"
   ]
  },
  {
   "cell_type": "code",
   "execution_count": null,
   "id": "70c2131a",
   "metadata": {
    "slideshow": {
     "slide_type": "fragment"
    }
   },
   "outputs": [],
   "source": [
    "!python Code_11/main_1.py Code_11/parameters.txt"
   ]
  },
  {
   "cell_type": "markdown",
   "id": "50024955",
   "metadata": {
    "slideshow": {
     "slide_type": "slide"
    }
   },
   "source": [
    "### Running from the command line\n",
    "Or one can also run this python script from a terminal by using\n",
    "```shell\n",
    "python main_1.py parameters.txt\n",
    "```\n",
    "from the Code_11 directory"
   ]
  },
  {
   "cell_type": "markdown",
   "id": "73435611",
   "metadata": {
    "slideshow": {
     "slide_type": "fragment"
    }
   },
   "source": [
    "Open a shell, change directory to Code_11, and run the command above"
   ]
  },
  {
   "cell_type": "markdown",
   "id": "f1ceace3",
   "metadata": {
    "slideshow": {
     "slide_type": "slide"
    }
   },
   "source": [
    "### Arguments passed on the command line\n",
    "Another way to pass parameters is through command-line arguments. This is typically achieved using the getopt() function from the C standard library made available through the *getopt* module in Python. The following file `main_2.py` shows a typical usage of the `getopt()` function.\n",
    "\n",
    "The code is shown on the next slide. Use mouse scrolling to see it all."
   ]
  },
  {
   "cell_type": "markdown",
   "id": "54f16e91",
   "metadata": {
    "slideshow": {
     "slide_type": "slide"
    }
   },
   "source": [
    "#### Use mouse scrolling to see all the code.\n",
    "```python\n",
    "#!/usr/bin/env python3\n",
    "\n",
    "# A prototypical main file with parameters from command line arguments\n",
    "# Martin-D. Lacasse, JHU 2022\n",
    "\n",
    "import sys\n",
    "import getopt\n",
    "import params\n",
    "\n",
    "# Print Usage\n",
    "def printHelp(name):\n",
    "    print(\"Usage: \", name, \"-[h] [-a a_param] [-b b_param] [-c c_param] [-s _sourceCode] [-d DesiredOutcom] -f [file]\")\n",
    "    sys.exit(1)\n",
    "\n",
    "# Parse options from command line\n",
    "def processCommandLineArgs(argv):\n",
    "    progName = argv[0]\n",
    "    argList =  argv[1:]\n",
    "    # Default values\n",
    "    a, b, c, sourceCode, desiredOutcome = 0, 0, 0, 'none', 'failure'\n",
    "\n",
    "    # Options\n",
    "    options = \"ha:b:c:s:d:\"\n",
    "\n",
    "    # Long options for parameters\n",
    "    longOptions = [\"help\", \"a=\", \"b=\", \"c==\", \"d=\", \"s=\"]\n",
    "\n",
    "    try:\n",
    "        # Parsing arguments\n",
    "        opts, vals = getopt.getopt(argList, options, longOptions)\n",
    "\n",
    "        # Checking each argument\n",
    "        for opt, val in opts:\n",
    "            if opt in (\"-h\", \"--help\"):\n",
    "                printHelp(progName)\n",
    "            elif opt in (\"-a\", \"--a\"):\n",
    "                a = int(val)\n",
    "            elif opt in (\"-b\", \"--b\"):\n",
    "                b = int(val)\n",
    "            elif opt in (\"-c\", \"--c\"):\n",
    "                c = int(val)\n",
    "            elif opt in (\"-s\", \"--sourceCode\"):\n",
    "                sourceCode = val\n",
    "            elif opt in (\"-d\", \"--desiredOutcome\"):\n",
    "                desiredOutcome = val\n",
    "\n",
    "    except getopt.error as err:\n",
    "            print(str(err))\n",
    "            printHelp(progName)\n",
    "            sys.exit(2)\n",
    "\n",
    "    # print(\"Opt is\", opt)\n",
    "    # print(\"Val is\", val)\n",
    "    return a, b, c, sourceCode, desiredOutcome\n",
    "\n",
    "def run():\n",
    "    a, b, c, sourceCode, desiredOutcome = processCommandLineArgs(sys.argv)\n",
    "    print('Arguments are:', 'a=', a, 'b=', b, 'c=', c, 'sourceCode=', sourceCode, 'desiredOutcom=', desiredOutcome)\n",
    "\n",
    "\n",
    "#####################################################################\n",
    "# This is the main program\n",
    "if __name__ == \"__main__\":\n",
    "    run()\n",
    "else:\n",
    "    print(\"Error: Can't import main script as a module.\", repr(__name__))\n",
    "```"
   ]
  },
  {
   "cell_type": "markdown",
   "id": "5e40e9d8",
   "metadata": {
    "slideshow": {
     "slide_type": "slide"
    }
   },
   "source": [
    "### Passing arguments on the command line\n",
    "You should have noticed in the code how the strings provided through the command line need to be converted to int.\n",
    "\n",
    "This script will read parameters from the command line and override the default values defined when the variables are first initialized. \n"
   ]
  },
  {
   "cell_type": "code",
   "execution_count": null,
   "id": "1864ab33",
   "metadata": {},
   "outputs": [],
   "source": [
    "!python Code_11/main_2.py -a 2 -b 3"
   ]
  },
  {
   "cell_type": "markdown",
   "id": "ac8d624b",
   "metadata": {
    "slideshow": {
     "slide_type": "slide"
    }
   },
   "source": [
    "### Unit and Regression Testing\n",
    "Once we develop our own modules, it is important to define tests that verify the conditions of use of our new algorithms. In most team environments, contributors are asked to run all tests before pushing their changes to the common code repository. As an additional incentive, source code management tools (subversion, git, etc.) have a 'blame' functionality for assigning the responsibility of a broken code to the individual who made the faulty changes.\n",
    "\n",
    "The action to test a function in isolation is called __unit testing__ while the action of testing the ensemble, i.e., how the functions interact with one another, is called __regression testing__. Let's look at our newly created module to read parameters as an example.\n",
    "\n",
    "A robust parameter reader should detect:\n",
    "- duplicate entries\n",
    "- missing or poorly formatted assignments\n",
    "- lines starting with a '#' and treat them as comments"
   ]
  },
  {
   "cell_type": "markdown",
   "id": "04969363",
   "metadata": {
    "slideshow": {
     "slide_type": "slide"
    }
   },
   "source": [
    "### Unit testing in Python\n",
    "We will now introduce the common approach to write unit tests in Python\n",
    "\n",
    "These tests are themselves boolean functions starting with the 'test_' keyword and typically living in a separate file located in the same directory as your module\n",
    "\n",
    "In the interest of time, we will use simple numerical examples to illustrate how to proceed\n",
    "\n",
    "Before we start, however, we need to discuss (yes, again) an important point about float comparison "
   ]
  },
  {
   "cell_type": "markdown",
   "id": "509187f8",
   "metadata": {
    "slideshow": {
     "slide_type": "slide"
    }
   },
   "source": [
    "Let's start with a case where it works:\n",
    "\n",
    "Say that we have the following function which normalizes a 3D vector that we represent as a tuple (this function is already available in NumPy and is only used as a short representative example here)"
   ]
  },
  {
   "cell_type": "code",
   "execution_count": null,
   "id": "05f942db",
   "metadata": {
    "slideshow": {
     "slide_type": "fragment"
    }
   },
   "outputs": [],
   "source": [
    "def normalize(v):\n",
    "    from math import sqrt\n",
    "    norm = sqrt(v[0]*v[0] + v[1]*v[1] + v[2]*v[2])\n",
    "    if norm == 0.:\n",
    "        v = (0., 0., 0.)\n",
    "    else:\n",
    "        v = (v[0]/norm, v[1]/norm, v[2]/norm)\n",
    "    return v"
   ]
  },
  {
   "cell_type": "markdown",
   "id": "32444135",
   "metadata": {
    "slideshow": {
     "slide_type": "slide"
    }
   },
   "source": [
    "Writing this function raises a few questions:\n",
    "1. Should the vector be normalized in-place or should a new tuple be created (libraries typically implement both approaches and use past participle to distinguish between the two, e.g., 'normalize()' vs. 'normalized()'\n",
    "2. A zero vector should be detected to avoid division by zero"
   ]
  },
  {
   "cell_type": "markdown",
   "id": "c03daeba",
   "metadata": {
    "slideshow": {
     "slide_type": "slide"
    }
   },
   "source": [
    "To answer the second question, we will need a comparison involving floating numbers\n",
    "\n",
    "We can get away with a simple comparison here, but in most other cases, we must use something more sophisticated\n",
    "\n",
    "For that purpose, the concept of machine epsilon is necessary: this is the floating number which added to unity will return unity due to numerical inaccuraries. Running the following code will give an estimate of the value of machine epsilon on your system:"
   ]
  },
  {
   "cell_type": "code",
   "execution_count": null,
   "id": "8366f60b",
   "metadata": {
    "slideshow": {
     "slide_type": "fragment"
    }
   },
   "outputs": [],
   "source": [
    "eps = 1.0\n",
    "while 1 + eps > 1:\n",
    "    eps /= 2\n",
    "eps *= 2\n",
    "\n",
    "print('Your machine epsilon is about: ', eps)"
   ]
  },
  {
   "cell_type": "markdown",
   "id": "edeb51a6",
   "metadata": {
    "slideshow": {
     "slide_type": "slide"
    }
   },
   "source": [
    "Because the numerator in the `normalize()` function decreases at a similar rate as the denominator, we only have a 'division by zero' problem when the vector is truely 0. Let's prove our case by trying to make our function to fail: "
   ]
  },
  {
   "cell_type": "code",
   "execution_count": null,
   "id": "1d9f1ae1",
   "metadata": {
    "slideshow": {
     "slide_type": "fragment"
    }
   },
   "outputs": [],
   "source": [
    "normalize([eps, 0, 0])"
   ]
  },
  {
   "cell_type": "code",
   "execution_count": null,
   "id": "4110ed5c",
   "metadata": {
    "slideshow": {
     "slide_type": "fragment"
    }
   },
   "outputs": [],
   "source": [
    "normalize( (1.e-30, 1.e-21, 1.e-32) )"
   ]
  },
  {
   "cell_type": "code",
   "execution_count": null,
   "id": "01ea6053",
   "metadata": {
    "slideshow": {
     "slide_type": "fragment"
    }
   },
   "outputs": [],
   "source": [
    "normalize((0., 0., 0.))"
   ]
  },
  {
   "cell_type": "markdown",
   "id": "c2c2ab0e",
   "metadata": {
    "slideshow": {
     "slide_type": "slide"
    }
   },
   "source": [
    "Great! A simple comparison with 0 seems to work.\n",
    "\n",
    "Let's now consider this simple equality (please run):"
   ]
  },
  {
   "cell_type": "code",
   "execution_count": null,
   "id": "9471af23",
   "metadata": {
    "slideshow": {
     "slide_type": "fragment"
    }
   },
   "outputs": [],
   "source": [
    "a = 0.1\n",
    "b = 0.2\n",
    "c = 0.3\n",
    "a + b == c"
   ]
  },
  {
   "cell_type": "markdown",
   "id": "536fcd94",
   "metadata": {
    "slideshow": {
     "slide_type": "fragment"
    }
   },
   "source": [
    "Surprised? This comparison involves floating point numbers which representation is only valid down to an epsilon. A better way to test is as follows: "
   ]
  },
  {
   "cell_type": "code",
   "execution_count": null,
   "id": "6813ab05",
   "metadata": {
    "slideshow": {
     "slide_type": "fragment"
    }
   },
   "outputs": [],
   "source": [
    "abs((a + b) - c) < abs(c)*eps"
   ]
  },
  {
   "cell_type": "markdown",
   "id": "8708aadf",
   "metadata": {
    "slideshow": {
     "slide_type": "fragment"
    }
   },
   "source": [
    "Notice how we normalize on the right hand side as we want to make all comparisons relative to unity, as epsilon is defined with respect to 1. We are now ready to write our first unit test: "
   ]
  },
  {
   "cell_type": "markdown",
   "id": "2ccbbcc5",
   "metadata": {
    "slideshow": {
     "slide_type": "slide"
    }
   },
   "source": [
    "### Writing test functions\n",
    "In the interest of time, we will write a test to verify existing functions. Say that you just wrote a faster trigonometric library. Let's write a test that will verify our 'new' cos() function. This test needs some help. We will fix it in the exercise."
   ]
  },
  {
   "cell_type": "code",
   "execution_count": null,
   "id": "f3405d13",
   "metadata": {
    "slideshow": {
     "slide_type": "fragment"
    }
   },
   "outputs": [],
   "source": [
    "import math\n",
    "def mycos(x):\n",
    "    '''Placeholder to define my own cosine function'''\n",
    "    return math.cos(x)\n",
    "\n",
    "def test_mycos1():\n",
    "    '''Test mycos() with respect to inverse function over float range'''\n",
    "    import random\n",
    "    i = 0\n",
    "    while (i < 10000):\n",
    "        i += 1\n",
    "        x = 2*random.random() - 1.\n",
    "        assert (mycos(math.acos(x)) == x)\n",
    "        \n",
    "test_mycos1()"
   ]
  },
  {
   "cell_type": "markdown",
   "id": "20cab0f2",
   "metadata": {
    "slideshow": {
     "slide_type": "slide"
    }
   },
   "source": [
    "Notice the use of `assert` which is instrumental in error checking, even in day-to-day code\n",
    "\n",
    "Test functions typically reside in a module called, say, test_mytrig if your library was mytrig. Once written, these tests can be automated and run before each time you commit new code to make sure that your new shiny features have not broken anything in the existing software framework.\n",
    "\n",
    "Automation can be implemented with various tools, including the `unittest` library, but these topics are beyond the scope of this introductory tutorial. These libraries also have the benefit to provide broader comparison functions such as `assertEqual()` which detect the type of object (float, vs boolean, integer, tuple, dicts, etc.) and behave accordingly."
   ]
  },
  {
   "cell_type": "markdown",
   "id": "0bf1f240",
   "metadata": {
    "slideshow": {
     "slide_type": "slide"
    }
   },
   "source": [
    "### Test-driven development\n",
    "Testing is an important part of software development. It is generally thought of as a way to discover and prevent bugs.\n",
    "\n",
    "Another interesting approach of testing is design through testing, unlike the typical waterfall method, which consists of designing sofware to meet some pre-defined capabilities and implementing it. \n",
    "\n",
    "__[Test-driven development](https://en.wikipedia.org/wiki/Test-driven_development)__ can be a great way to accelerate your project!"
   ]
  },
  {
   "cell_type": "markdown",
   "id": "2198a360",
   "metadata": {
    "slideshow": {
     "slide_type": "slide"
    }
   },
   "source": [
    "### Key Points\n",
    "\n",
    "- Coding standards do exist and you should inquire about best practices\n",
    "- Teams use source code management tools such as `git` that can also be beneficial to your PhD work\n",
    "- Code is a liability more than an asset. Never cut and paste - use functions.\n",
    "- Modules are a great way to achieve re-usability. A long self-contained notebook is more appropriate for completing an assignment. Multiple modular files are better suited for devising, testing, and managing a scalable project.\n",
    "- Drop the mouse for a sec! A little knowledge of command line functions can get you a long way. \n",
    "- Software development in teams is often governed by established software design approaches and human engineering methods.\n",
    "- Test your software. These tests can also help you design your code.\n",
    "- Take the habit of documenting your code: You'll be the first one to thank you."
   ]
  },
  {
   "cell_type": "markdown",
   "id": "d83582ed",
   "metadata": {
    "slideshow": {
     "slide_type": "slide"
    }
   },
   "source": [
    "### Further reading\n",
    "- [Coding styles](https://docs.python-guide.org/writing/style/#idioms)\n",
    "- [Test-driven development](https://en.wikipedia.org/wiki/Test-driven_development)"
   ]
  }
 ],
 "metadata": {
  "celltoolbar": "Slideshow",
  "kernelspec": {
   "display_name": "Python 3 (ipykernel)",
   "language": "python",
   "name": "python3"
  },
  "language_info": {
   "codemirror_mode": {
    "name": "ipython",
    "version": 3
   },
   "file_extension": ".py",
   "mimetype": "text/x-python",
   "name": "python",
   "nbconvert_exporter": "python",
   "pygments_lexer": "ipython3",
   "version": "3.11.7"
  }
 },
 "nbformat": 4,
 "nbformat_minor": 5
}

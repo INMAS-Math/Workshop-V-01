{
 "cells": [
  {
   "cell_type": "markdown",
   "metadata": {
    "id": "91eq7qoAtkDL",
    "slideshow": {
     "slide_type": "slide"
    }
   },
   "source": [
    "<img align=right src=\"images/inmas.png\" width=130x />\n",
    "\n",
    "# Notebook 02 - Python Primer 2\n",
    "\n",
    "- Additional practice with lists\n",
    "    - Functions vs. methods in Python\n",
    "    - A word of caution: Modifying data in place\n",
    "    - Nested/multi-dimensional lists\n",
    "- Flow control: how to loop through many different values using `for` and `while` statements\n",
    "    - Infinite loops\n",
    "- List comprehensions\n",
    "- Simple interactive input\n",
    "\n",
    "### Prerequisite\n",
    "Notebook 01\n"
   ]
  },
  {
   "cell_type": "markdown",
   "metadata": {
    "id": "DAIQPBm7Ks7i",
    "slideshow": {
     "slide_type": "slide"
    }
   },
   "source": [
    "### Additional Practice with lists\n",
    "\n",
    "### Functions vs. Methods\n",
    "One important key to understanding Python syntax is that it is an object-oriented programming language. This means that Python focuses around \"objects,\" like say a list of numbers:"
   ]
  },
  {
   "cell_type": "code",
   "execution_count": null,
   "metadata": {
    "id": "EVfJaf1FLETD",
    "slideshow": {
     "slide_type": "fragment"
    }
   },
   "outputs": [],
   "source": [
    "mylist = [1,2,3,4]"
   ]
  },
  {
   "cell_type": "markdown",
   "metadata": {
    "id": "0zGPKvBJLGmG",
    "slideshow": {
     "slide_type": "fragment"
    }
   },
   "source": [
    "`mylist` is a list object, which has certain properties and can be manipulated in certain ways. These manipulations, called methods, are specific to the list object, and thus are accessed by calling `object.method()`. So, for example, if you wanted to add an additional element to the list (the value 0 for instance), we could do:"
   ]
  },
  {
   "cell_type": "code",
   "execution_count": null,
   "metadata": {
    "colab": {
     "base_uri": "https://localhost:8080/"
    },
    "executionInfo": {
     "elapsed": 4,
     "status": "ok",
     "timestamp": 1634741335370,
     "user": {
      "displayName": "Emily Shinkle",
      "photoUrl": "https://lh3.googleusercontent.com/a/default-user=s64",
      "userId": "06575640438948846197"
     },
     "user_tz": 300
    },
    "id": "no13Q6d_LP-l",
    "outputId": "c3ed3c2a-2bd7-4579-bbc4-14807f3e74ff",
    "slideshow": {
     "slide_type": "fragment"
    }
   },
   "outputs": [],
   "source": [
    "mylist.append(0)\n",
    "print(mylist)"
   ]
  },
  {
   "cell_type": "markdown",
   "metadata": {
    "id": "FQGHQiXBLVyU",
    "slideshow": {
     "slide_type": "slide"
    }
   },
   "source": [
    "As we've seen in Notebook 01, an equivalent but less efficient way to achieve the same result is to use the `+=` operator with another list containing the element 0:"
   ]
  },
  {
   "cell_type": "code",
   "execution_count": null,
   "metadata": {
    "slideshow": {
     "slide_type": "fragment"
    }
   },
   "outputs": [],
   "source": [
    "mylist += [0]\n",
    "print(mylist)"
   ]
  },
  {
   "cell_type": "markdown",
   "metadata": {
    "id": "FQGHQiXBLVyU",
    "slideshow": {
     "slide_type": "slide"
    }
   },
   "source": [
    "Other list methods include `clear()`, `copy()`, `count()`, `extend()`, `index()`, `pop()`, `remove()`, `reverse()`, and `sort()`\n",
    "\n",
    "For example:"
   ]
  },
  {
   "cell_type": "code",
   "execution_count": null,
   "metadata": {
    "slideshow": {
     "slide_type": "fragment"
    }
   },
   "outputs": [],
   "source": [
    "mylist.sort()\n",
    "print(mylist)"
   ]
  },
  {
   "cell_type": "markdown",
   "metadata": {
    "slideshow": {
     "slide_type": "fragment"
    }
   },
   "source": [
    "Make sure you read about the behavior of these methods. In the last case, for example, one can be tempted to write:"
   ]
  },
  {
   "cell_type": "code",
   "execution_count": null,
   "metadata": {
    "slideshow": {
     "slide_type": "fragment"
    }
   },
   "outputs": [],
   "source": [
    "print(mylist.sort())"
   ]
  },
  {
   "cell_type": "markdown",
   "metadata": {
    "slideshow": {
     "slide_type": "fragment"
    }
   },
   "source": [
    "And not have the anticipated result. `help(list.sort)` has the answer."
   ]
  },
  {
   "cell_type": "markdown",
   "metadata": {
    "id": "FQGHQiXBLVyU",
    "slideshow": {
     "slide_type": "slide"
    }
   },
   "source": [
    "In addition to methods of objects, you also can have functions that operate on objects. An example of these functions is the `len()` function that we have already seen and returns the length of a list (or string, dictionary, or tuple):"
   ]
  },
  {
   "cell_type": "code",
   "execution_count": null,
   "metadata": {
    "colab": {
     "base_uri": "https://localhost:8080/"
    },
    "executionInfo": {
     "elapsed": 263,
     "status": "ok",
     "timestamp": 1634741358381,
     "user": {
      "displayName": "Emily Shinkle",
      "photoUrl": "https://lh3.googleusercontent.com/a/default-user=s64",
      "userId": "06575640438948846197"
     },
     "user_tz": 300
    },
    "id": "Z0YF_JKmLXlZ",
    "outputId": "cb0ddef2-9671-41f2-efa0-65a79a86e0c8",
    "slideshow": {
     "slide_type": "fragment"
    }
   },
   "outputs": [],
   "source": [
    "print('mylist average:', sum(mylist)/len(mylist))\n",
    "\n",
    "dico = {}\n",
    "print('length of empty dictionary dico is', len(dico))"
   ]
  },
  {
   "cell_type": "markdown",
   "metadata": {
    "id": "e071330c",
    "slideshow": {
     "slide_type": "slide"
    }
   },
   "source": [
    "### A word of caution: modifying data in place\n",
    "Be careful with lists when modifying data in place. If two variables refer to the same list, and you modify the list value, it will change for both variables!"
   ]
  },
  {
   "cell_type": "code",
   "execution_count": null,
   "metadata": {
    "id": "70ea370f",
    "slideshow": {
     "slide_type": "fragment"
    }
   },
   "outputs": [],
   "source": [
    "salsa = ['peppers', 'onions', 'cilantro', 'tomatoes']\n",
    "my_salsa = salsa                                      # my_salsa and salsa point to the *same* list data in memory\n",
    "salsa[0] = 'hot peppers'\n",
    "print('Ingredients in salsa:', salsa)\n",
    "print('Ingredients in my salsa:', my_salsa)"
   ]
  },
  {
   "cell_type": "markdown",
   "metadata": {
    "id": "9f2c3eed",
    "slideshow": {
     "slide_type": "slide"
    }
   },
   "source": [
    "If you want variables with mutable values to be independent, you must make a copy of the list when you assign it:"
   ]
  },
  {
   "cell_type": "code",
   "execution_count": null,
   "metadata": {
    "id": "7c08a268",
    "slideshow": {
     "slide_type": "fragment"
    }
   },
   "outputs": [],
   "source": [
    "salsa = ['peppers', 'onions', 'cilantro', 'tomatoes']\n",
    "my_salsa = list(salsa)                                # makes a *copy* of the list\n",
    "salsa[0] = 'hot peppers'\n",
    "print('Ingredients in salsa:', salsa)\n",
    "print('Ingredients in my salsa:', my_salsa)"
   ]
  },
  {
   "cell_type": "markdown",
   "metadata": {
    "id": "8975dab1",
    "slideshow": {
     "slide_type": "fragment"
    }
   },
   "source": [
    "The `list()` function is a constructor that creates a new object initialized with the values of *salsa*. Because of pitfalls like this, code which modifies data in place can be more difficult to understand. However, it is often far more efficient to modify a large data structure in place than to create a modified copy for every small change. You should consider both of these aspects when writing your code."
   ]
  },
  {
   "cell_type": "markdown",
   "metadata": {
    "id": "SSyBkyUxPv4g",
    "slideshow": {
     "slide_type": "slide"
    }
   },
   "source": [
    "Lists are *mutable*, meaning that they can be altered after creation. In contrast, tuples and strings are *immutable*:"
   ]
  },
  {
   "cell_type": "code",
   "execution_count": null,
   "metadata": {
    "colab": {
     "base_uri": "https://localhost:8080/",
     "height": 178
    },
    "executionInfo": {
     "elapsed": 238,
     "status": "error",
     "timestamp": 1634742863406,
     "user": {
      "displayName": "Emily Shinkle",
      "photoUrl": "https://lh3.googleusercontent.com/a/default-user=s64",
      "userId": "06575640438948846197"
     },
     "user_tz": 300
    },
    "id": "kuSQiNjWQUYx",
    "outputId": "7fc8c742-825a-4a3e-c7c8-ff6802e98c82",
    "slideshow": {
     "slide_type": "fragment"
    }
   },
   "outputs": [],
   "source": [
    "commonTypo = 'seperation'\n",
    "commonTypo[3] = 'a'"
   ]
  },
  {
   "cell_type": "markdown",
   "metadata": {
    "id": "gC--2nKEQaQ1",
    "slideshow": {
     "slide_type": "fragment"
    }
   },
   "source": [
    "To fix the typo, you'll need to create a new string:"
   ]
  },
  {
   "cell_type": "code",
   "execution_count": null,
   "metadata": {
    "slideshow": {
     "slide_type": "fragment"
    }
   },
   "outputs": [],
   "source": [
    "noMoreTypo = 'separation'"
   ]
  },
  {
   "cell_type": "markdown",
   "metadata": {
    "id": "95122fd8",
    "slideshow": {
     "slide_type": "slide"
    }
   },
   "source": [
    "### Nested Lists\n",
    "Since a list can contain elements of any Python type, it can therefore contain other lists\n",
    "\n",
    "For example, we could inventory the produces on the different shelves of the refrigerator:"
   ]
  },
  {
   "cell_type": "code",
   "execution_count": null,
   "metadata": {
    "id": "9def08db",
    "slideshow": {
     "slide_type": "fragment"
    }
   },
   "outputs": [],
   "source": [
    "nestedList = [['pepper', 'zucchini', 'onion'],\n",
    "              ['cabbage', 'lettuce', 'garlic'],\n",
    "              ['apple', 'pear', 'oranges']]"
   ]
  },
  {
   "cell_type": "markdown",
   "metadata": {
    "id": "ff6e7345",
    "slideshow": {
     "slide_type": "fragment"
    }
   },
   "source": [
    "Notice how the statement can be on multiple lines as a bracket is open.\n",
    "As before, ```nestedList[0]``` will return the first element of the list ```nestedList```, which in this case is another list:"
   ]
  },
  {
   "cell_type": "code",
   "execution_count": null,
   "metadata": {
    "slideshow": {
     "slide_type": "fragment"
    }
   },
   "outputs": [],
   "source": [
    "print('First shelf contains:', nestedList[0])"
   ]
  },
  {
   "cell_type": "markdown",
   "metadata": {
    "slideshow": {
     "slide_type": "slide"
    }
   },
   "source": [
    "And the `print()` function knows how to display nested lists:"
   ]
  },
  {
   "cell_type": "code",
   "execution_count": null,
   "metadata": {
    "slideshow": {
     "slide_type": "fragment"
    }
   },
   "outputs": [],
   "source": [
    "print('nestedList is', nestedList)"
   ]
  },
  {
   "cell_type": "markdown",
   "metadata": {
    "slideshow": {
     "slide_type": "slide"
    }
   },
   "source": [
    "### Conditional ternary operator\n",
    "A special construct with `if` can be made as an expression:\n",
    "> a if condition else b\n",
    "\n",
    "returns `a` if condition is True and `b` otherwise. Both `a` and `b` can be expressions (i.e., `x + sin(y)/2.`) "
   ]
  },
  {
   "cell_type": "code",
   "execution_count": null,
   "metadata": {
    "slideshow": {
     "slide_type": "fragment"
    }
   },
   "outputs": [],
   "source": [
    "x = -1\n",
    "y = x if x > 0 else 0\n",
    "y"
   ]
  },
  {
   "cell_type": "markdown",
   "metadata": {
    "slideshow": {
     "slide_type": "fragment"
    }
   },
   "source": [
    "This code will only assign positive values to y"
   ]
  },
  {
   "cell_type": "markdown",
   "metadata": {
    "id": "371cd355",
    "slideshow": {
     "slide_type": "slide"
    }
   },
   "source": [
    "### Key Points about Lists\n",
    "\n",
    "- Construct `[value1, value2, value3, ...]` creates a list\n",
    "- Lists can contain any Python object, including lists (i.e., list of lists)\n",
    "- Lists and strings are indexed and sliced with square brackets (e.g., `list[0]` and `list[2:9]`)\n",
    "- Lists are mutable (i.e., their values can be changed in place), while strings and tuples are not\n",
    "- Objects such as lists, strings, tuples, and dictionaries have multiple methods associated with them"
   ]
  },
  {
   "cell_type": "markdown",
   "metadata": {
    "id": "fantastic-cleaner",
    "slideshow": {
     "slide_type": "slide"
    }
   },
   "source": [
    "### **`for` loops**\n",
    "\n",
    "In Python, loops can be programmed in a number of different ways. The most common is the `for` loop, which is used on iterable objects, such as lists. The basic syntax is:\n",
    "\n",
    "```python\n",
    "a = [1, 2, 4, 3, 5]\n",
    "for i in a:\n",
    "    print (i, i * 2)\n",
    "```\n",
    "\n",
    "The `for` loop iterates over the elements of the supplied list, and sequentially executes the containing block once for each element. Any kind of list can be used in the `for` loop."
   ]
  },
  {
   "cell_type": "markdown",
   "metadata": {
    "id": "fantastic-cleaner",
    "slideshow": {
     "slide_type": "slide"
    }
   },
   "source": [
    "For a range of integers, Python provides the `range()` utility function. Here are a few examples:"
   ]
  },
  {
   "cell_type": "code",
   "execution_count": null,
   "metadata": {
    "id": "covered-pickup",
    "slideshow": {
     "slide_type": "fragment"
    }
   },
   "outputs": [],
   "source": [
    "for v1 in range(10): # By default range() starts at 0\n",
    "    print(v1, end=', ')\n",
    "print()"
   ]
  },
  {
   "cell_type": "markdown",
   "metadata": {
    "slideshow": {
     "slide_type": "fragment"
    }
   },
   "source": [
    "Exploring the use of the 3 arguments of the range() built-in function:\n"
   ]
  },
  {
   "cell_type": "code",
   "execution_count": null,
   "metadata": {
    "id": "figured-bobby",
    "slideshow": {
     "slide_type": "fragment"
    }
   },
   "outputs": [],
   "source": [
    "for v2 in range(-1, 11, 2):\n",
    "    print(v2, end=', ')\n",
    "print()"
   ]
  },
  {
   "cell_type": "markdown",
   "metadata": {
    "slideshow": {
     "slide_type": "fragment"
    }
   },
   "source": [
    "\n",
    "Beware: `range()` arguments have the same meaning as slicing indices, except that they are separated by commas instead of colons"
   ]
  },
  {
   "cell_type": "markdown",
   "metadata": {
    "slideshow": {
     "slide_type": "slide"
    }
   },
   "source": [
    "### `for` loops iterating over a list, a dictionary, or a string"
   ]
  },
  {
   "cell_type": "code",
   "execution_count": null,
   "metadata": {
    "id": "useful-liechtenstein",
    "scrolled": true,
    "slideshow": {
     "slide_type": "fragment"
    }
   },
   "outputs": [],
   "source": [
    "lotto_numbers = [11, 19, 21, 28, 36, 37]\n",
    "print(\"Your number:\")\n",
    "for number in lotto_numbers:\n",
    "    print(number, end=', ')"
   ]
  },
  {
   "cell_type": "code",
   "execution_count": null,
   "metadata": {
    "slideshow": {
     "slide_type": "fragment"
    }
   },
   "outputs": [],
   "source": [
    "dico = {'Canada': 'Ottawa', 'Mexico': 'Mexico City', 'Japan': 'Tokyo', 'Palau': 'Ngerulmud'}\n",
    "for key in dico:\n",
    "    print('The capital of', key, 'is', dico[key])"
   ]
  },
  {
   "cell_type": "code",
   "execution_count": null,
   "metadata": {
    "id": "distant-updating",
    "slideshow": {
     "slide_type": "fragment"
    }
   },
   "outputs": [],
   "source": [
    "name = 'KennRY'\n",
    "for n in name:\n",
    "    if n.isupper():\n",
    "        print(n, end='')\n",
    "    else:\n",
    "        print(n.upper(), end='')"
   ]
  },
  {
   "cell_type": "markdown",
   "metadata": {
    "id": "drawn-hollow",
    "slideshow": {
     "slide_type": "slide"
    }
   },
   "source": [
    "The built-in function `enumerate()` returns a tuple of the index and element of a list while iterating through a sequence:"
   ]
  },
  {
   "cell_type": "code",
   "execution_count": null,
   "metadata": {
    "id": "plastic-michigan",
    "slideshow": {
     "slide_type": "fragment"
    }
   },
   "outputs": [],
   "source": [
    "names = [\"Targaryen\", \"Stark\", \"Lannister\", \"Arryn\", \"Tully\", \"Greyjoy\", \"Baratheon\", \"Tyrell\"]\n",
    "for i, name in enumerate(names):\n",
    "    print(i, name)"
   ]
  },
  {
   "cell_type": "markdown",
   "metadata": {
    "id": "rough-import",
    "slideshow": {
     "slide_type": "slide"
    }
   },
   "source": [
    "### **`while` loops**\n",
    "The `while` loop executes a set of statements as long as a condition is true. The basic syntax is:\n",
    "\n",
    "```python\n",
    "val = 1\n",
    "while val < 11:\n",
    "    print(val)\n",
    "    val += 1\n",
    "```"
   ]
  },
  {
   "cell_type": "code",
   "execution_count": null,
   "metadata": {
    "id": "religious-blanket",
    "slideshow": {
     "slide_type": "fragment"
    }
   },
   "outputs": [],
   "source": [
    "sum1 = 0\n",
    "cnt1 = 1\n",
    "while cnt1 <= 100:\n",
    "    sum1 += cnt1\n",
    "    cnt1 += 1\n",
    "    \n",
    "print('The sum of all natural numbers from 1 to 100 : ', sum1)\n",
    "print('The sum of all natural numbers from 1 to 100 : ', sum(range(1, 101)))  # Using the sum() and range() built-in functions"
   ]
  },
  {
   "cell_type": "markdown",
   "metadata": {
    "slideshow": {
     "slide_type": "slide"
    }
   },
   "source": [
    "#### Another `while` example, introducing the modulo division operator `%`\n",
    "\n",
    "This code will print even numbers from 10 to 0:"
   ]
  },
  {
   "cell_type": "code",
   "execution_count": null,
   "metadata": {
    "id": "spare-reproduction",
    "scrolled": true,
    "slideshow": {
     "slide_type": "fragment"
    }
   },
   "outputs": [],
   "source": [
    "val = 10\n",
    "while val >= 0:\n",
    "    if val % 2 == 0:\n",
    "        print(val, end=', ')\n",
    "    val -= 1\n",
    "print()"
   ]
  },
  {
   "cell_type": "markdown",
   "metadata": {
    "id": "tvTF7_BQtkDe",
    "slideshow": {
     "slide_type": "slide"
    }
   },
   "source": [
    "### Using infinite loops\n",
    "It's sometimes useful to use infinite loops. It is then necessary to break out of a `for` or `while` loop.\n",
    "\n",
    "A typical way to construct an infinite loop is to use a `while` loop with a condition that is always true\n",
    "\n",
    "Execute the below cell and exit by interrupting the kernel (type the 3-key sequence: Esc+i+i):"
   ]
  },
  {
   "cell_type": "code",
   "execution_count": null,
   "metadata": {
    "id": "appointed-rugby",
    "slideshow": {
     "slide_type": "fragment"
    }
   },
   "outputs": [],
   "source": [
    "i = 0\n",
    "while True:\n",
    "    i+=1\n",
    "    \n",
    "print(i)"
   ]
  },
  {
   "cell_type": "markdown",
   "metadata": {
    "slideshow": {
     "slide_type": "slide"
    }
   },
   "source": [
    "### Exiting infinite loops\n",
    "A common strategy to exit an infinite loop is to use a flag to signal failure or success\n",
    "\n",
    "Fix the bug in the following code:"
   ]
  },
  {
   "cell_type": "code",
   "execution_count": null,
   "metadata": {
    "id": "adequate-mediterranean",
    "slideshow": {
     "slide_type": "fragment"
    }
   },
   "outputs": [],
   "source": [
    "numbers = [14, 3, 4, 7, 10, 24, 17, 2, 33, 15, 34, 36, 38]\n",
    "n = len(numbers)\n",
    "i = 0\n",
    "found = False\n",
    "while not found and i < n:\n",
    "    if numbers[i] == 33:\n",
    "        print(\"Found 33!\")\n",
    "        found = True"
   ]
  },
  {
   "cell_type": "markdown",
   "metadata": {
    "id": "working-cuisine",
    "slideshow": {
     "slide_type": "slide"
    }
   },
   "source": [
    "### Using `break` to exit a loop\n",
    "The `break` statement enables us to exit the loop even if the condition is still true. We use the magic function `%%time` to report the CPU time used by the cell."
   ]
  },
  {
   "cell_type": "code",
   "execution_count": null,
   "metadata": {
    "id": "mineral-malaysia",
    "slideshow": {
     "slide_type": "fragment"
    }
   },
   "outputs": [],
   "source": [
    "%%time\n",
    "i = 0\n",
    "while True:\n",
    "    if i == 10000000:            # Counting to ten millions in less than a second!\n",
    "        print(\"Counted to\", i)\n",
    "        break\n",
    "    i += 1"
   ]
  },
  {
   "cell_type": "markdown",
   "metadata": {
    "id": "simplified-fitting",
    "slideshow": {
     "slide_type": "slide"
    }
   },
   "source": [
    "### Using `continue` to skip to the next iteration\n",
    "The `continue` statement enables us to stop/skip the current iteration, and continue with the next iteration\n",
    "\n",
    "Notice how a list can contain mixed objects:"
   ]
  },
  {
   "cell_type": "code",
   "execution_count": null,
   "metadata": {
    "id": "musical-shower",
    "slideshow": {
     "slide_type": "fragment"
    }
   },
   "outputs": [],
   "source": [
    "heteroList = [\"1\", 2, 5, True, 4.3, complex(4)]\n",
    "\n",
    "for v in heteroList:\n",
    "    if type(v) is float:\n",
    "        continue\n",
    "\n",
    "    print(\"type:\", type(v))"
   ]
  },
  {
   "cell_type": "markdown",
   "metadata": {
    "slideshow": {
     "slide_type": "slide"
    }
   },
   "source": [
    "### Using `pass` to keep a correct syntax\n",
    "The pass statement does nothing at all. It allows the statement to have a correct syntaxic structure. This is mostly used when one of the conditions results in leaving things as they are. For example,"
   ]
  },
  {
   "cell_type": "code",
   "execution_count": null,
   "metadata": {
    "slideshow": {
     "slide_type": "fragment"
    }
   },
   "outputs": [],
   "source": [
    "mystring = 'Hello'\n",
    "if mystring.isdigit():\n",
    "    pass\n",
    "elif mystring.isupper():\n",
    "    mystring = mystring.tolower()\n",
    "elif mystring.islower():\n",
    "    mystring = mystring.capitalize()\n",
    "else:\n",
    "    mystring = mystring.swapcase()\n",
    "mystring"
   ]
  },
  {
   "cell_type": "markdown",
   "metadata": {
    "slideshow": {
     "slide_type": "fragment"
    }
   },
   "source": [
    "Run the cell again with different values of `mystring`. Remove the `pass` statement and try to run."
   ]
  },
  {
   "cell_type": "markdown",
   "metadata": {
    "id": "first-nature",
    "slideshow": {
     "slide_type": "slide"
    }
   },
   "source": [
    "### Using `else` after a `for` loop\n",
    "\n",
    "Just like in the `if` clause, the `else` statement enables us to run a block of code once when the condition no longer is true, or the iteration is exhausted"
   ]
  },
  {
   "cell_type": "code",
   "execution_count": null,
   "metadata": {
    "id": "interim-constraint",
    "scrolled": true,
    "slideshow": {
     "slide_type": "fragment"
    }
   },
   "outputs": [],
   "source": [
    "numbers = [14, 3, 4, 7, 10, 24, 17, 2, 33, 15, 34, 36, 38]\n",
    "lucky = 4\n",
    "for num in numbers:\n",
    "    if num == lucky:  \n",
    "        print(\"Found\", lucky, '!')\n",
    "        break\n",
    "else:\n",
    "    print(lucky, \"not found.\")"
   ]
  },
  {
   "cell_type": "markdown",
   "metadata": {
    "slideshow": {
     "slide_type": "slide"
    }
   },
   "source": [
    "### Using `else` after a `while` loop\n",
    "`else` can also be used with a `while` loop:"
   ]
  },
  {
   "cell_type": "code",
   "execution_count": null,
   "metadata": {
    "slideshow": {
     "slide_type": "fragment"
    }
   },
   "outputs": [],
   "source": [
    "i, k = 0, 0\n",
    "while i < 100:\n",
    "    if k > 15:\n",
    "        break\n",
    "    if i%5 == 0:\n",
    "        k += 1\n",
    "    i += 1\n",
    "else:\n",
    "    print('Index i went all the way up to %d.' % i)    # Only runs if loop completed.\n",
    "\n",
    "print('while loop completed with k = %d and i = %d' % (k, i))"
   ]
  },
  {
   "cell_type": "markdown",
   "metadata": {
    "slideshow": {
     "slide_type": "fragment"
    }
   },
   "source": [
    "Change the line `if k > 15` to `if k > 25` and run again"
   ]
  },
  {
   "cell_type": "markdown",
   "metadata": {
    "id": "apparent-manchester",
    "slideshow": {
     "slide_type": "slide"
    }
   },
   "source": [
    "### Nested loops\n",
    "It is very common to nest a loop inside another loop. Each loop needs an additional indentation:\n",
    "\n",
    "```python\n",
    "a = [1, 2, 4]\n",
    "for i in a:\n",
    "    for j in a:\n",
    "        print(i * j)\n",
    "```"
   ]
  },
  {
   "cell_type": "code",
   "execution_count": null,
   "metadata": {
    "id": "serious-death",
    "scrolled": true,
    "slideshow": {
     "slide_type": "fragment"
    }
   },
   "outputs": [],
   "source": [
    "# Nested for loop: building a multiplication table\n",
    "for i in range(1, 11):\n",
    "    for j in range(1, 11):\n",
    "        print('%4d' % (i * j), end='')   # Argument modifier %4d request to use 4 characters to represent integer\n",
    "    print()"
   ]
  },
  {
   "cell_type": "markdown",
   "metadata": {
    "slideshow": {
     "slide_type": "slide"
    }
   },
   "source": [
    "### `for` loops with multiple indices\n",
    "We introduce here the `zip()` built-in function, allowing to unroll multiple lists as tuples:"
   ]
  },
  {
   "cell_type": "code",
   "execution_count": null,
   "metadata": {
    "slideshow": {
     "slide_type": "fragment"
    }
   },
   "outputs": [],
   "source": [
    "for i, j in zip(range(5), [\"a\",\"b\",\"c\",\"d\", \"e\"]):\n",
    "    print('i=%d j=%s' % (i, j), end=', ')\n",
    "print()"
   ]
  },
  {
   "cell_type": "markdown",
   "metadata": {
    "id": "O7oIZh2UMYHf",
    "slideshow": {
     "slide_type": "slide"
    }
   },
   "source": [
    "### List comprehension\n",
    "\n",
    "A list comprehension is used to transform a list from an existing iterable object, most typically to another list\n",
    "\n",
    "It has the following structure, with optional if condition:\n",
    "\n",
    "> my_new_list = [ expression for item in iterable_object if condition ]\n",
    "\n",
    "or\n",
    "\n",
    "\n",
    "> my_new_list = [ expression for item in iterable_object]\n",
    "\n",
    "\n",
    "List comprehensions allow to build lists more succintly"
   ]
  },
  {
   "cell_type": "markdown",
   "metadata": {
    "slideshow": {
     "slide_type": "slide"
    }
   },
   "source": [
    "For example, the following code:"
   ]
  },
  {
   "cell_type": "code",
   "execution_count": null,
   "metadata": {
    "slideshow": {
     "slide_type": "fragment"
    }
   },
   "outputs": [],
   "source": [
    "list1 = [1, 3, 4, 7, 9, 12, 17, 21, 24, 25, 32]\n",
    "newlist = []\n",
    "for item in list1:\n",
    "    if item%3 == 0:\n",
    "        newlist.append('item + 1 = %d'%(item + 1))\n",
    "print(newlist)"
   ]
  },
  {
   "cell_type": "markdown",
   "metadata": {
    "slideshow": {
     "slide_type": "fragment"
    }
   },
   "source": [
    "can be expressed more succintly as follows with a list comprehension:"
   ]
  },
  {
   "cell_type": "code",
   "execution_count": null,
   "metadata": {
    "slideshow": {
     "slide_type": "fragment"
    }
   },
   "outputs": [],
   "source": [
    "newlist = ['item + 1 = %d'%(x + 1) for x in list1 if x%3 == 0]\n",
    "print(newlist)"
   ]
  },
  {
   "cell_type": "markdown",
   "metadata": {
    "slideshow": {
     "slide_type": "slide"
    }
   },
   "source": [
    "### List comprehensions with multiple indices"
   ]
  },
  {
   "cell_type": "markdown",
   "metadata": {
    "slideshow": {
     "slide_type": "fragment"
    }
   },
   "source": [
    "The following cell computes the first 4 powers of numbers 2, 3, and 5:"
   ]
  },
  {
   "cell_type": "code",
   "execution_count": null,
   "metadata": {
    "slideshow": {
     "slide_type": "fragment"
    }
   },
   "outputs": [],
   "source": [
    "p = [x**y for x in (2,3,5) for y in range(1, 5)]\n",
    "p"
   ]
  },
  {
   "cell_type": "markdown",
   "metadata": {
    "slideshow": {
     "slide_type": "slide"
    }
   },
   "source": [
    "### Simple interactive input\n",
    "Now that we master `while` loops, we will briefly cover simple interactive input. Coincidently, this is achieved with the `input()` function which takes an optional prompt argument.\n",
    "\n",
    "It is typically used as follows:\n",
    "```python\n",
    "answer = input(prompt)\n",
    "```\n",
    "\n",
    "- The string `prompt` will be printed on the screen\n",
    "- Keys typed by the user until the *Enter* key is hit will be stored in string `answer`\n",
    "- String `answer` does not include the new line character\n",
    "- If the `readline` module is loaded, input will provide elaborate line editing and history"
   ]
  },
  {
   "cell_type": "markdown",
   "metadata": {
    "slideshow": {
     "slide_type": "slide"
    }
   },
   "source": [
    "### A simple example for `input()`\n",
    "Let's look at a simple code that uses input\n",
    "- Notice that method `str.capitalize()` returns a new string, unlike method `list.sort()` which sorts the list in place and returns `None`\n",
    "- This is a consequence that unlike lists which are mutable, strings are immutable"
   ]
  },
  {
   "cell_type": "code",
   "execution_count": null,
   "metadata": {
    "slideshow": {
     "slide_type": "fragment"
    }
   },
   "outputs": [],
   "source": [
    "instring = ''\n",
    "while instring != 'stop':\n",
    "    instring = input('Enter a word (\"stop\" to exit): ')\n",
    "    print(instring.capitalize())\n",
    "else:\n",
    "    print('Thank you!')"
   ]
  },
  {
   "cell_type": "markdown",
   "metadata": {
    "slideshow": {
     "slide_type": "slide"
    }
   },
   "source": [
    "### Key Points\n",
    "- Lists can contain any data types and are often nested\n",
    "- `for` loops iterate over strings, lists, dictionaries, or using the `range()` utility function \\n\"\n",
    "- break, pass, and continue can be used to construct loops with special requirements\n",
    "- Ternary operator `if .. else ...` can be used as an expression\n",
    "- Strings and tuples are not mutable objects, meaning that characters cannot be modified once created\n",
    "- The input() function can be used to get simple interactive input from the user"
   ]
  },
  {
   "cell_type": "markdown",
   "metadata": {
    "slideshow": {
     "slide_type": "slide"
    }
   },
   "source": [
    "### Further reading\n",
    "- Read about other list and string methods [here](https://docs.python.org/3/tutorial/datastructures.html)\n",
    "- List of standard Python functions [here](https://docs.python.org/3/library/functions.html)"
   ]
  },
  {
   "cell_type": "markdown",
   "metadata": {
    "slideshow": {
     "slide_type": "slide"
    }
   },
   "source": [
    "### What's Next?\n",
    "- Complete the exercises in this associated exercise notebook [X-02-Primer2.ipynb](X-02-Primer2.ipynb)\n",
    "- Next notebook is [N-03-ImportingModules.ipynb](N-03-ImportingModules.ipynb)"
   ]
  }
 ],
 "metadata": {
  "celltoolbar": "Slideshow",
  "kernelspec": {
   "display_name": "Python 3 (ipykernel)",
   "language": "python",
   "name": "python3"
  },
  "language_info": {
   "codemirror_mode": {
    "name": "ipython",
    "version": 3
   },
   "file_extension": ".py",
   "mimetype": "text/x-python",
   "name": "python",
   "nbconvert_exporter": "python",
   "pygments_lexer": "ipython3",
   "version": "3.11.7"
  }
 },
 "nbformat": 4,
 "nbformat_minor": 4
}

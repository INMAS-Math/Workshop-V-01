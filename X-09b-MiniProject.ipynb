{
 "cells": [
  {
   "cell_type": "markdown",
   "id": "6b7baa68",
   "metadata": {
    "id": "6b7baa68"
   },
   "source": [
    "<img src=\"images/inmas.png\" width=130x align=right />\n",
    "\n",
    "# Exercise 09b - Hangman\n",
    "\n",
    "If you have a lot of experience with Python, this notebook contains a more advanced, challenging exercise that is provided to further your skills.\n",
    "\n",
    "\n",
    "### Prerequisite\n",
    "Notebook  09"
   ]
  },
  {
   "cell_type": "markdown",
   "id": "db73d5a7",
   "metadata": {},
   "source": [
    "## Instructions\n",
    "\n",
    "In this notebook, you are going to combine the concepts you’ve learned so far and build a text-based game, the classic Hangman.\n",
    "\n",
    "If you’ve never played Hangman, here’s how it works:\n",
    "1. Player One picks a secret word and draws a line for each letter in it (you will use an underscore to represent each line).\n",
    "2. Player Two tries to guess the word one letter at a time.\n",
    "3. If Player Two guesses a letter correctly, Player One replaces the corresponding underscore with the correct letter. In this version of the game, if a letter appears twice in a word, you have to guess it twice. OR If Player Two guesses incorrectly, Player One draws a body part of a hanged stick figure (starting with the head). In this version, we will count the number of guesses remaining rather than drawing a stick figure.\n",
    "4. If Player Two completes the word before the drawing of the hangman is complete, they win. If not, they lose.\n",
    "\n",
    "In your program, the computer will be Player One, and the person guessing will be Player Two.\n",
    "\n",
    "Are you ready to build Hangman?"
   ]
  },
  {
   "cell_type": "markdown",
   "id": "5ebbaac9",
   "metadata": {
    "id": "5ebbaac9"
   },
   "source": [
    "### 1.\n",
    "Create a list of words. "
   ]
  },
  {
   "cell_type": "code",
   "execution_count": null,
   "id": "49de9eed",
   "metadata": {},
   "outputs": [],
   "source": []
  },
  {
   "cell_type": "markdown",
   "id": "8694d685",
   "metadata": {
    "id": "8694d685"
   },
   "source": [
    "### 2.\n",
    "Create game statistics.\n",
    "Below we will create a few variables to store the game statistics.\n",
    "- An empty list called `userGuesslist`\n",
    "- An empty list called `userGuesses`\n",
    "- A variable called `playGame` set as `True`\n"
   ]
  },
  {
   "cell_type": "code",
   "execution_count": null,
   "id": "8fc557ab",
   "metadata": {},
   "outputs": [],
   "source": []
  },
  {
   "cell_type": "markdown",
   "id": "9a7d6763",
   "metadata": {
    "id": "9a7d6763"
   },
   "source": [
    "### 3.\n",
    "Create the game introduction. \n",
    "- Prompt the player for their name and store it in a variable, you can use the `input()` function. \n",
    "\n",
    "- Before starting the game, display some details about the game (rules and such).\n",
    "- Use the `time` module’s `sleep()` function to pause for a few seconds between the displays."
   ]
  },
  {
   "cell_type": "code",
   "execution_count": null,
   "id": "d5e55456",
   "metadata": {},
   "outputs": [],
   "source": []
  },
  {
   "cell_type": "markdown",
   "id": "709fb8f0",
   "metadata": {
    "id": "709fb8f0"
   },
   "source": [
    "### 4.\n",
    "Choosing a random word. \n",
    "Allow the program to choose a random word from a desired list. You can use the `random` module!  There's multiple ways to do this part. "
   ]
  },
  {
   "cell_type": "code",
   "execution_count": null,
   "id": "4f886f9b",
   "metadata": {},
   "outputs": [],
   "source": []
  },
  {
   "cell_type": "markdown",
   "id": "69b3d166",
   "metadata": {
    "id": "69b3d166"
   },
   "source": [
    "### 5.\n",
    "Showing blank lines for every letter in the chosen word. \n",
    "- After the random word is chosen by the program we want to show the player placeholders (we are using blank lines in this program) for every letter in the chosen word. \n",
    "- The number of placeholders indicates the length of the word to be guessed.\n",
    "\n",
    "\n",
    "Below convert our `secretWord` to a list and store it in a variable called `secretWordList`. Note we have the \n",
    "```\n",
    "if playGame: \n",
    "```\n",
    "statement, this is because we want to play the game whenever \n",
    "```\n",
    "playGame = True\n",
    "```"
   ]
  },
  {
   "cell_type": "code",
   "execution_count": null,
   "id": "4f4e516a",
   "metadata": {},
   "outputs": [],
   "source": []
  },
  {
   "cell_type": "markdown",
   "id": "f9e51b33",
   "metadata": {
    "id": "f9e51b33"
   },
   "source": [
    "- We are also limiting the number of allowed attempts dynamically based on the secret word. \n",
    "- The number of attempts allowed is being limited to two more than the number of letters in the secret word. \n",
    "- In order to achieve this, we need to keep track of the length of the secret word as well as the number of attempts the player took to guess the word. Create a variable called `attempts` that has the total number of attempts the player has. "
   ]
  },
  {
   "cell_type": "code",
   "execution_count": null,
   "id": "e73672b3",
   "metadata": {},
   "outputs": [],
   "source": []
  },
  {
   "cell_type": "markdown",
   "id": "50959942",
   "metadata": {
    "id": "50959942"
   },
   "source": [
    "- Now, we will work on showing the placeholders for the secret word. For this, we will first create a variable called `userGuesslist`. We will initiate this variable with an empty list."
   ]
  },
  {
   "cell_type": "code",
   "execution_count": null,
   "id": "419a88c3",
   "metadata": {},
   "outputs": [],
   "source": []
  },
  {
   "cell_type": "markdown",
   "id": "edae55d6",
   "metadata": {
    "id": "edae55d6"
   },
   "source": [
    "Next, we will loop through our `secretWordList` list and for each element in the list we will append an `_`  to our `userGuesslist` list. Use a `for` loop. "
   ]
  },
  {
   "cell_type": "code",
   "execution_count": null,
   "id": "3c5a2292",
   "metadata": {},
   "outputs": [],
   "source": []
  },
  {
   "cell_type": "markdown",
   "id": "48f12af3",
   "metadata": {
    "id": "48f12af3"
   },
   "source": [
    "To display our `userGuesslist` we will create a function `printGuessedLetter()` and use it every time we want to print our list."
   ]
  },
  {
   "cell_type": "code",
   "execution_count": null,
   "id": "3434aa3f",
   "metadata": {},
   "outputs": [],
   "source": []
  },
  {
   "cell_type": "markdown",
   "id": "2179ac3a",
   "metadata": {
    "id": "2179ac3a"
   },
   "source": [
    "We also want to print the amount of attempts left. "
   ]
  },
  {
   "cell_type": "code",
   "execution_count": null,
   "id": "a2d1193f",
   "metadata": {},
   "outputs": [],
   "source": []
  },
  {
   "cell_type": "markdown",
   "id": "f4020dd3",
   "metadata": {
    "id": "f4020dd3"
   },
   "source": [
    "### 6.\n",
    "Logic to ask for a letter and display in the placeholder\n",
    "\n",
    "Next, we will work on the logic of asking the player to enter a letter until they guess the word correctly or run out of allowed attempts. \n",
    "\n",
    "- Create a while loop to keep asking for letter input from the player.\n",
    "- If the letter is in the chosen word, we will add the letter to the correct position in our `userGuesslist` list and then display the list.\n",
    "- Every time the player makes a guess the number of attempts will be reduced by 1 till the player guesses the correct word or there aren’t any more attempts left.\n",
    "\n",
    "Next, we will check if the letter input by the player has already been entered.\n",
    "\n",
    "- We will use the empty `userGuesses` list created in Step 2, and every time the player enters a letter we will append that to the `userGuesses` list. \n",
    "- If the letter exists in the `userGuesses` list, we will ask the player to choose another letter. "
   ]
  },
  {
   "cell_type": "code",
   "execution_count": null,
   "id": "ef79da11",
   "metadata": {},
   "outputs": [],
   "source": []
  },
  {
   "cell_type": "markdown",
   "id": "95ee1794",
   "metadata": {
    "id": "95ee1794"
   },
   "source": [
    "- Otherwise, the program will loop through our `secretWordList`, get the index of the letter input and in the same index number, add the letter in the `userGuesslist` list."
   ]
  },
  {
   "cell_type": "code",
   "execution_count": null,
   "id": "ded857a8",
   "metadata": {},
   "outputs": [],
   "source": []
  },
  {
   "cell_type": "markdown",
   "id": "0de4801c",
   "metadata": {
    "id": "0de4801c"
   },
   "source": [
    "### 7.\n",
    "Tell the player if they have lost or won. \n",
    "We are almost at the end of our game. Here we will work on our win / loss logic.\n",
    "\n",
    "- We will join the `userGuesslist` variable and store it in the variable `joinedList`. You can use the `join()` method."
   ]
  },
  {
   "cell_type": "code",
   "execution_count": null,
   "id": "af708e2f",
   "metadata": {},
   "outputs": [],
   "source": []
  },
  {
   "cell_type": "markdown",
   "id": "ae71e774",
   "metadata": {
    "id": "ae71e774"
   },
   "source": [
    "- To determine win/loss we will compare the `secretWord` (the computer chosen word) with the `joinedList` variable. If they both match, the player will win. As mentioned earlier, after each guess, we will also track the number of attempts remaining to check if it equals 0, in which case the player will lose."
   ]
  },
  {
   "cell_type": "code",
   "execution_count": null,
   "id": "bc156ff9",
   "metadata": {},
   "outputs": [],
   "source": []
  },
  {
   "cell_type": "markdown",
   "id": "5f473eb8",
   "metadata": {
    "id": "5f473eb8"
   },
   "source": [
    "### 8.\n",
    "Play Again? \n",
    "\n",
    "Last but not least we will work on the 'Play Again' logic for the game. \n",
    "\n",
    "- We prompt the player to check if they want to play again and will store the response in a variable called `continueGame`. You can use the `input()` function. \n",
    "- If the player wants to continue, then we empty the `userGuessList` list and the `userGuesses` list to reset them so that the new game is tracked properly. \n",
    "- We will also set the `playGame` boolean variable to `True`.\n",
    "- If the player chooses not to play again, we will break out of the loop in the else block.\n"
   ]
  },
  {
   "cell_type": "code",
   "execution_count": null,
   "id": "cb36a735",
   "metadata": {
    "id": "cb36a735",
    "outputId": "c8c3956d-813a-4b6e-ba90-3b4b428e1587"
   },
   "outputs": [],
   "source": []
  },
  {
   "cell_type": "markdown",
   "id": "3fec2cdf",
   "metadata": {
    "id": "3fec2cdf"
   },
   "source": [
    "### 9.\n",
    "Combine the steps above to create the final game!\n",
    "\n",
    "You can create new code cells using the 'b' shortcut, or using the *Insert* tab in the top bar."
   ]
  },
  {
   "cell_type": "code",
   "execution_count": null,
   "id": "809ebd9d",
   "metadata": {},
   "outputs": [],
   "source": []
  }
 ],
 "metadata": {
  "colab": {
   "collapsed_sections": [],
   "provenance": []
  },
  "kernelspec": {
   "display_name": "Python 3 (ipykernel)",
   "language": "python",
   "name": "python3"
  },
  "language_info": {
   "codemirror_mode": {
    "name": "ipython",
    "version": 3
   },
   "file_extension": ".py",
   "mimetype": "text/x-python",
   "name": "python",
   "nbconvert_exporter": "python",
   "pygments_lexer": "ipython3",
   "version": "3.11.7"
  }
 },
 "nbformat": 4,
 "nbformat_minor": 5
}

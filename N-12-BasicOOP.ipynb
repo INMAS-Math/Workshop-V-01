{
 "cells": [
  {
   "cell_type": "markdown",
   "id": "09fafc10",
   "metadata": {
    "slideshow": {
     "slide_type": "slide"
    }
   },
   "source": [
    "<img src=\"images/inmas.png\" width=130x align=right />\n",
    "\n",
    "# Notebook 12 - Basic Object-Oriented Programming in Python\n",
    "\n",
    "Material covered in this notebook:\n",
    "\n",
    "- Procedural vs. Object-Oriented Programming\n",
    "- Defining a class in Python\n",
    "\n",
    "### Prerequisite\n",
    "Notebooks 08\n"
   ]
  },
  {
   "cell_type": "markdown",
   "id": "afea994e",
   "metadata": {
    "slideshow": {
     "slide_type": "slide"
    }
   },
   "source": [
    "### Most common styles of programming languages\n",
    "\n",
    "- **Procedural programming**  \n",
    "  - series of computational steps to be carried out  \n",
    "  - routines/functions for modularization of steps  \n",
    "\n",
    "- **Object-oriented programming**  \n",
    "  - classes and objects with attributes/properties and methods  \n",
    "\n",
    "Python is a pragmatic mix of styles"
   ]
  },
  {
   "cell_type": "markdown",
   "id": "8ebb14b0",
   "metadata": {
    "slideshow": {
     "slide_type": "slide"
    }
   },
   "source": [
    "### Procedural Programming\n",
    "This is the most common type of programming. We will code the Fibonacci sequence using procedural programming.\n",
    "\n",
    "The [Fibonacci](https://en.wikipedia.org/wiki/Fibonacci_sequence) sequence starts from 2 integers, usually 1, and 1. Some other versions however, start from 0, and 1, or 1, and 2. \n",
    "Here is a function defined to compute Fibonacci's numbers, defaulting from 1 and 1 as the first 2 numbers of the sequence:"
   ]
  },
  {
   "cell_type": "code",
   "execution_count": null,
   "id": "dd7dc066",
   "metadata": {
    "slideshow": {
     "slide_type": "fragment"
    }
   },
   "outputs": [],
   "source": [
    "def fibonacci_procedural(n, first=1, sec=1):\n",
    "    ''' Return the Fibonacci sequence of n items returned as a list.'''\n",
    "    f = [0]*n                          # Create a list of n items initialized to zeros\n",
    "    f[0], f[1] = first, sec            # Assign first two elements to fst and sec\n",
    "    for i in range(2, n):              # Compute the rest of the sequence\n",
    "        f[i]= f[i-1] + f[i-2]\n",
    "    return f                           # Return list\n",
    "\n",
    "x1, x2 = 1, 1                          # Data stored at the main scope\n",
    "for k in fibonacci_procedural(10, x1, x2):\n",
    "    print(k, end=' ')                  # print without new line"
   ]
  },
  {
   "cell_type": "markdown",
   "id": "160027eb",
   "metadata": {
    "slideshow": {
     "slide_type": "slide"
    }
   },
   "source": [
    "### Procedural Programming has limitations\n",
    "When using procedural programming on complex projects, the namespace of the main scope gets crowded, and often, many variables need to be passed down to functions, as functions don't typically store data\n",
    "\n",
    "Variables tend to all live in the global space, leading to potential conflicts"
   ]
  },
  {
   "cell_type": "markdown",
   "id": "ec619c53",
   "metadata": {
    "slideshow": {
     "slide_type": "slide"
    }
   },
   "source": [
    "### Vocabulary of Object-oriented programming (OOP)\n",
    "\n",
    "- *Classes* are defined and can contain attributes and methods\n",
    "    - *attributes* are variables associated with the *class* or with each *object*\n",
    "    - *methods* are procedures/functions that apply to the *objects*\n",
    "- *Objects* are instances of a class  \n",
    "- Each *object* has its own attributes/properties\n"
   ]
  },
  {
   "cell_type": "markdown",
   "id": "e3e7ab09",
   "metadata": {
    "slideshow": {
     "slide_type": "slide"
    }
   },
   "source": [
    "## Comparing OOP with Procedural Programming\n",
    "<img src=\"images/oop.png\" width=1500px >"
   ]
  },
  {
   "cell_type": "markdown",
   "id": "ceaeb71f",
   "metadata": {
    "slideshow": {
     "slide_type": "slide"
    }
   },
   "source": [
    "### In Python everything is an object!\n",
    "\n",
    "- Variables of all types  \n",
    "- Functions, both custom and built-in \n",
    "- Imported modules  \n",
    "- Input and output (files)  \n",
    "- etc.  "
   ]
  },
  {
   "cell_type": "markdown",
   "id": "ab25db76",
   "metadata": {
    "slideshow": {
     "slide_type": "slide"
    }
   },
   "source": [
    "### A class is created with the `class` reserved word\n",
    "\n",
    "<small>\n",
    "\n",
    "    class myClass:\n",
    "        '''docstring for the class'''\n",
    "        staticAttribute1 = ... \n",
    "        staticAttribute2 = ...\n",
    "    \n",
    "        def __init__(self, ...):                    # where ... means other arguments if any\n",
    "            '''docstring for the constructor'''\n",
    "            self.objectAttribute1 = ...\n",
    "        \n",
    "        def myMethod(self, ...):\n",
    "            '''docstring for method'''\n",
    "    \n",
    "        def myFunction(...):\n",
    "            '''docstring for class function (no self)'''\n",
    "</small>\n"
   ]
  },
  {
   "cell_type": "markdown",
   "id": "6424a18c",
   "metadata": {
    "slideshow": {
     "slide_type": "slide"
    }
   },
   "source": [
    "### Classes as data containers\n",
    "While dictionaries can be used for containing data, classes are also well-suited for that task \n",
    "\n",
    "Here is a simple example where we create a list of Patients:"
   ]
  },
  {
   "cell_type": "code",
   "execution_count": null,
   "id": "479ad58a",
   "metadata": {
    "slideshow": {
     "slide_type": "fragment"
    }
   },
   "outputs": [],
   "source": [
    "class Patient:    \n",
    "    def __init__(self, name, weight_kg, age=0):\n",
    "        self.name = name\n",
    "        self.weight_kg = weight_kg\n",
    "        self.age = age\n",
    "        self.weight_lb = 2.2 * self.weight_kg\n",
    "\n",
    "pList = []\n",
    "pList.append(Patient('Smith, Sam', 65, 26))\n",
    "pList.append(Patient('Wong, Kim', 62.5, 27))\n",
    "for p in pList:\n",
    "    print('Name: %20s; Age: %r; Weight: %r lb'%(p.name, p.age, p.weight_lb))"
   ]
  },
  {
   "cell_type": "markdown",
   "id": "ea8d1b10",
   "metadata": {
    "slideshow": {
     "slide_type": "slide"
    }
   },
   "source": [
    "### Example of a class with a method\n",
    "Let's define a SimplePolynomial class that we initialize with coefficients and which then can compute the polynomial of any value of `x`\n",
    "\n",
    "The special `__init__()` method is the constructor: its get called once when the object is built and initializes the attributes. Notice the use of `self` as the first argument of all methods."
   ]
  },
  {
   "cell_type": "code",
   "execution_count": null,
   "id": "81c1ea6d",
   "metadata": {
    "slideshow": {
     "slide_type": "fragment"
    }
   },
   "outputs": [],
   "source": [
    "class SimplePolynomial:\n",
    "    '''Stores the coefficients of a polynomial and computes value for arbitrary \"x\".'''\n",
    "    def __init__(self, coeff):         # Constructor/Initializer requires a list of coefficients\n",
    "        self.coeff = coeff             # Public properties\n",
    "        self.degree = len(coeff) - 1\n",
    "\n",
    "    def compute(self, x):              # Public method\n",
    "        res = 0\n",
    "        for i, c in enumerate(self.coeff):\n",
    "            res += c * x**i\n",
    "        return res"
   ]
  },
  {
   "cell_type": "code",
   "execution_count": null,
   "id": "b60b42fc",
   "metadata": {
    "slideshow": {
     "slide_type": "fragment"
    }
   },
   "outputs": [],
   "source": [
    "p = SimplePolynomial([1, 2, 4, 8])  # This is the constructor: it returns an instance of the class.\n",
    "print('p is degree:', p.degree)     # Print a public attribute\n",
    "print('p(2) is', p.compute(2))      # Use the compute() method"
   ]
  },
  {
   "cell_type": "markdown",
   "id": "d6da21d4",
   "metadata": {
    "slideshow": {
     "slide_type": "slide"
    }
   },
   "source": [
    "### Making a class object callable\n",
    "The SimplePolynomial can be further simplified by making the object callable directly. This can be done using the `__call__()` special method:"
   ]
  },
  {
   "cell_type": "code",
   "execution_count": null,
   "id": "7e2642c7",
   "metadata": {
    "slideshow": {
     "slide_type": "fragment"
    }
   },
   "outputs": [],
   "source": [
    "class SimplePolynomial2:\n",
    "    '''Stores the coefficients of a polynomial and computes value for arbitrary \"x\".'''\n",
    "    def __init__(self, coeff):         # Constructor/Initializer requires a list of ceofficients\n",
    "        self.coeff = coeff             # Public properties\n",
    "        self.degree = len(coeff) - 1\n",
    "\n",
    "    def __call__(self, x):              # Make the object itself a callable method\n",
    "        res = 0\n",
    "        for i, c in enumerate(self.coeff):\n",
    "            res += c * x**i\n",
    "        return res"
   ]
  },
  {
   "cell_type": "code",
   "execution_count": null,
   "id": "998dcff1",
   "metadata": {
    "slideshow": {
     "slide_type": "fragment"
    }
   },
   "outputs": [],
   "source": [
    "p = SimplePolynomial2([1, 2, 4, 8])  # This is the constructor: it returns an instance of the class.\n",
    "print('p is degree:', p.degree)      # Print a public attribute\n",
    "print('p(2) is', p(2))               # Call the class object"
   ]
  },
  {
   "cell_type": "markdown",
   "id": "440d9474",
   "metadata": {
    "slideshow": {
     "slide_type": "slide"
    }
   },
   "source": [
    "### Fibonacci function using OOP\n",
    "We will now code the Fibonacci function using an object-oriented programming approach. Notice that attibutes defined outside methods but inside the class are defined for all instances of the class. "
   ]
  },
  {
   "cell_type": "code",
   "execution_count": null,
   "id": "c096f053",
   "metadata": {
    "slideshow": {
     "slide_type": "fragment"
    }
   },
   "outputs": [],
   "source": [
    "class fibonacci:\n",
    "    ''' Builds Fibonacci sequence of n items returned as a list.'''\n",
    "    first = 1                                  # Data stored inside the class\n",
    "    sec = 1                                    # Static attributes = the same for all objects\n",
    "\n",
    "    def __init__(self, n=5):                   # Initializer/Constructor\n",
    "        self.n = n                             # Public attribute. Value of n can change between instances\n",
    "\n",
    "    def __call__(self):                        # Method to make object callable\n",
    "        f = [0]*self.n                         # list of n zeros\n",
    "        f[0], f[1] = fibonacci.first, fibonacci.sec\n",
    "        for i in range(2,self.n):\n",
    "            f[i] = f[i-1] + f[i-2]\n",
    "        return f\n",
    "\n",
    "f = fibonacci(10)                              # Create instance of a class = object\n",
    "print(type(f))\n",
    "for k in f():                                  # Call the object fibonacci directly to get the list\n",
    "    print(k, end=' ')                          # Print without new line"
   ]
  },
  {
   "cell_type": "markdown",
   "id": "4293e666",
   "metadata": {
    "slideshow": {
     "slide_type": "slide"
    }
   },
   "source": [
    "### Listing the string class\n",
    "Let's list the string class in light of what we just learned. Pay attention to the methods, and the `self` argument. Can you now spot the methods? The standard methods (i.e., `__init__`, `__add__`, etc)?"
   ]
  },
  {
   "cell_type": "code",
   "execution_count": null,
   "id": "84095d6c",
   "metadata": {
    "slideshow": {
     "slide_type": "fragment"
    }
   },
   "outputs": [],
   "source": [
    "help(str)"
   ]
  },
  {
   "cell_type": "markdown",
   "id": "2198a360",
   "metadata": {
    "slideshow": {
     "slide_type": "slide"
    }
   },
   "source": [
    "### Key Points\n",
    "- Object-oriented programming is possible in Python\n",
    "- Classes are defined with the `class` keyword\n",
    "- Methods are defined inside classes with the `def` keyword\n",
    "    - First argument is `self` which refers to the object itself\n",
    "- Classes are a great way to encapsulate data\n",
    "- All objects in Python are classes"
   ]
  },
  {
   "cell_type": "markdown",
   "id": "d83582ed",
   "metadata": {
    "slideshow": {
     "slide_type": "slide"
    }
   },
   "source": [
    "### Further reading\n",
    "- List of standard class methods [here](https://docs.python.org/3/reference/datamodel.html#special-method-names)\n",
    "- This tutorial covered the minimum of OOP. Concepts like inheritance and polymorphism were not discussed.\n",
    "- Further training in OOP with Python in this [book](https://www.amazon.com/Python-Object-Oriented-Programming-maintainable-object-oriented/dp/1801077266/)"
   ]
  }
 ],
 "metadata": {
  "celltoolbar": "Slideshow",
  "kernelspec": {
   "display_name": "Python 3 (ipykernel)",
   "language": "python",
   "name": "python3"
  },
  "language_info": {
   "codemirror_mode": {
    "name": "ipython",
    "version": 3
   },
   "file_extension": ".py",
   "mimetype": "text/x-python",
   "name": "python",
   "nbconvert_exporter": "python",
   "pygments_lexer": "ipython3",
   "version": "3.11.7"
  }
 },
 "nbformat": 4,
 "nbformat_minor": 5
}

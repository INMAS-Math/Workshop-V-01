{
 "cells": [
  {
   "cell_type": "markdown",
   "id": "08d3a007",
   "metadata": {
    "slideshow": {
     "slide_type": "slide"
    }
   },
   "source": [
    "<img src=\"images/inmas.png\" width=130x align='right' />\n",
    "\n",
    "# Notebook 21 - Virtual Environments in Anaconda\n",
    "\n",
    "<small>\n",
    "\n",
    "This notebook is a short tutorial on managing environments in Anaconda. It covers:\n",
    "\n",
    "- Creating and deleting virtual environments\n",
    "- Listing environments and their contents\n",
    "- Activating environments...\n",
    "    - through the command line or in Jupyter\n",
    "    \n",
    "This notebook requires that you concurrently use a terminal. Use virtual desktops if possible (e.g., Windows Key+Ctl+arrows).\n",
    "\n",
    "### Prerequisite\n",
    "Notebook 11\n",
    "</small>\n",
    "----"
   ]
  },
  {
   "cell_type": "markdown",
   "id": "22d6c1e3",
   "metadata": {
    "slideshow": {
     "slide_type": "slide"
    }
   },
   "source": [
    "### What are virtual environments in Python?\n",
    "Virtual environments are isolated directories that partition Python packages. They...\n",
    "-  allow each environment to have its own dependencies and versions of Python and its libraries, without affecting the system-wide Python installation\n",
    "- avoid conflicts between packages requiring different versions of the same dependency\n",
    "- enable reproducibility of results\n",
    "- allow to collaborate more easily"
   ]
  },
  {
   "cell_type": "markdown",
   "id": "2e259b6b",
   "metadata": {
    "slideshow": {
     "slide_type": "slide"
    }
   },
   "source": [
    "###  Listing available environment with `conda`\n",
    "Anaconda has its own package manager which stores packages in a directory called *anaconda* located in your home directory (in default configuration)\n",
    "\n",
    "The default environment provided by Anaconda is called *base*\n",
    "\n",
    "To list all the environments available, we use the `conda` command in a terminal (here using the bang `!` operator)"
   ]
  },
  {
   "cell_type": "code",
   "execution_count": null,
   "id": "7a26aacd",
   "metadata": {
    "scrolled": true,
    "slideshow": {
     "slide_type": "fragment"
    }
   },
   "outputs": [],
   "source": [
    "! conda env list"
   ]
  },
  {
   "cell_type": "markdown",
   "id": "fe60eed6",
   "metadata": {
    "slideshow": {
     "slide_type": "fragment"
    }
   },
   "source": [
    "The asterisk `*` indicates the environment that is currently active"
   ]
  },
  {
   "cell_type": "markdown",
   "id": "6e70e530",
   "metadata": {
    "slideshow": {
     "slide_type": "slide"
    }
   },
   "source": [
    "### Creating a new environment with `conda`\n",
    "All environments will be located under the *anaconda* directory in your home directory\n",
    "\n",
    "`conda` is used to create a new environment, here called *ENV_NAME*:\n",
    "```bash\n",
    "conda create -n ENV_NAME\n",
    "```\n",
    "We could use the `!` operator here again, but this is not recommended as this complex operation often prompts the user for input"
   ]
  },
  {
   "cell_type": "markdown",
   "id": "a0a155b3",
   "metadata": {
    "slideshow": {
     "slide_type": "slide"
    }
   },
   "source": [
    "Open a terminal and run the following command **from the terminal**:\n",
    "```bash\n",
    "conda create -n testEnv\n",
    "```\n",
    "Once done, verify the installation with\n",
    "```bash\n",
    "conda env list\n",
    "```"
   ]
  },
  {
   "cell_type": "markdown",
   "id": "2a366f51",
   "metadata": {
    "slideshow": {
     "slide_type": "slide"
    }
   },
   "source": [
    "### Changing environment using the command line\n",
    "The environment is changed by activating the new environment. This is done with\n",
    "```bash\n",
    "conda activate ENV_NAME\n",
    "```\n",
    "In our case, we would need to type\n",
    "```bash\n",
    "conda activate testEnv\n",
    "```\n",
    "in a terminal window. "
   ]
  },
  {
   "cell_type": "markdown",
   "id": "27072fc0",
   "metadata": {
    "slideshow": {
     "slide_type": "slide"
    }
   },
   "source": [
    "Observe how the terminal command prompt changes from *(base)* to *(testEnv)*\n",
    "\n",
    "To deactivate:\n",
    "```bash\n",
    "conda deactivate\n",
    "```\n",
    "will return to the *base* environment, or the environment where you were when the `activate` call was made"
   ]
  },
  {
   "cell_type": "markdown",
   "id": "07f82a29",
   "metadata": {
    "slideshow": {
     "slide_type": "slide"
    }
   },
   "source": [
    "### Installing packages in an environment\n",
    "Once an environment is activated, the command `conda install` will now install packages in this environment\n",
    "\n",
    "For example:\n",
    "```bash\n",
    "conda activate testEnv\n",
    "conda install numpy\n",
    "```\n",
    "would install numpy and its dependencies in the testEnv\n",
    "\n",
    "This could be used, for example, to test a new version of the NumPy library on your code (in our current case, both versions would be the same)"
   ]
  },
  {
   "cell_type": "markdown",
   "id": "e09abd76",
   "metadata": {
    "slideshow": {
     "slide_type": "slide"
    }
   },
   "source": [
    "### Importing packages in a virtual environment\n",
    "When you use the import statement in your code\n",
    "- Python first looks for the package in the current directory\n",
    "- Then, within the active virtual environment's site-packages directory\n",
    "\n",
    "Virtual environments are always stacked over the system-wide installation (*base* in our case)"
   ]
  },
  {
   "cell_type": "markdown",
   "id": "b8a57b0c",
   "metadata": {
    "slideshow": {
     "slide_type": "slide"
    }
   },
   "source": [
    "### Listing packages in an environment\n",
    "Using the command line, the packages installed in an environment can be listed using\n",
    "```bash\n",
    "conda list -n ENV_NAME\n",
    "```\n",
    "This will list all packages installed in the environment *ENV_NAME*\n",
    "\n",
    "If no name option is given, the currently active environment is listed\n",
    "\n",
    "Alternatively, packages can also be browsed using the Navigator as we will see shorty"
   ]
  },
  {
   "cell_type": "markdown",
   "id": "a8be6731",
   "metadata": {
    "slideshow": {
     "slide_type": "slide"
    }
   },
   "source": [
    "### Deleting environments\n",
    "To remove an environment, we use\n",
    "```bash\n",
    "conda remove --name ENV_NAME --all\n",
    "```\n",
    "Obviously, **environments cannot be activated while being deleted** - first deactivate before removing\n",
    "\n",
    "To remove the environment we just created, we need to type\n",
    "```bash\n",
    "conda deactivate\n",
    "conda remove --name testEnv --all\n",
    "```"
   ]
  },
  {
   "cell_type": "markdown",
   "id": "d2784814",
   "metadata": {
    "slideshow": {
     "slide_type": "slide"
    }
   },
   "source": [
    "### Navigating your environments in Anaconda Navigator\n",
    "The left toolbar of the Anaconda Navigator has an 'Environments' tab\n",
    "\n",
    "- This allows you to see all the packages contained in each environment\n",
    "    - updates can be managed separately for each environment\n",
    "- Applications available might also be different under each environment\n",
    "    - selected by the drop menu at the top (pay attention to Launch vs Install)"
   ]
  },
  {
   "cell_type": "markdown",
   "id": "fe4433c4",
   "metadata": {
    "slideshow": {
     "slide_type": "slide"
    }
   },
   "source": [
    "### Selecting a new environment in Jupyter\n",
    "Changing environments in Jupyter is not as simple as `activate`\n",
    "\n",
    "This very Jupyter notebook uses the environment *(base)* or *(rise)*, as it was launched from that environment\n",
    "\n",
    "A package called `nb_conda_kernels` can be used to load different kernels (and therefore environments)\n",
    "\n",
    "Install this package in the environment where Jupyter is launched (e.g., *(base)* or *(rise)*):"
   ]
  },
  {
   "cell_type": "code",
   "execution_count": null,
   "id": "bb55150e",
   "metadata": {
    "slideshow": {
     "slide_type": "slide"
    }
   },
   "outputs": [],
   "source": [
    "! conda install nb_conda_kernels"
   ]
  },
  {
   "cell_type": "markdown",
   "id": "8d8b685b",
   "metadata": {
    "slideshow": {
     "slide_type": "fragment"
    }
   },
   "source": [
    "From now on, any environment having an interactive Python kernel `ipykernel` installed will appear in the *Kernel* menu of Jupyter"
   ]
  },
  {
   "cell_type": "markdown",
   "id": "2178c931",
   "metadata": {
    "slideshow": {
     "slide_type": "slide"
    }
   },
   "source": [
    "### Stocking a new environment with unique packages\n",
    "We (well you) will now create a new environment using a terminal with the following commands\n",
    "```bash\n",
    "conda create -n newEnv ipykernel\n",
    "```\n",
    "This will create a new environment called *newEnv* and install *ipykernel* into it"
   ]
  },
  {
   "cell_type": "markdown",
   "id": "8ae73bc4",
   "metadata": {
    "slideshow": {
     "slide_type": "slide"
    }
   },
   "source": [
    "Now, activate the new environment and install a package that is not in the *base* environment:\n",
    "```bash\n",
    "conda activate newEnv\n",
    "conda install conda-forge::yfinance\n",
    "```\n",
    "This package is not installed in *base* and therefore this command should fail:"
   ]
  },
  {
   "cell_type": "code",
   "execution_count": null,
   "id": "6587dbdd",
   "metadata": {
    "slideshow": {
     "slide_type": "fragment"
    }
   },
   "outputs": [],
   "source": [
    "import yfinance"
   ]
  },
  {
   "cell_type": "markdown",
   "id": "e9a917ad",
   "metadata": {
    "slideshow": {
     "slide_type": "slide"
    }
   },
   "source": [
    "### Restarting Jupyter to see the new environment\n",
    "From the Anaconda Navigator, launch another instance of Jupyter Notebook the same way you did before\n",
    "\n",
    "### Reopen this notebook with the Other Instance of Jupyter\n",
    "Once reopened, select the kernel marked *newEnv* under *Kernel -> Change Kernel -> Python [conda env:newEnv]* before returning to slide mode\n",
    "- Notice that in the menu the *base* environment is now called *Python [conda env:root]*\n"
   ]
  },
  {
   "cell_type": "markdown",
   "id": "2ab86721",
   "metadata": {
    "slideshow": {
     "slide_type": "slide"
    }
   },
   "source": [
    "\n",
    "## Now Close this Notebook in the original instance of Jupyter\n",
    "\n",
    "### See you on the next slide using the newer instance of Jupyter "
   ]
  },
  {
   "cell_type": "markdown",
   "id": "3917dd8a",
   "metadata": {
    "slideshow": {
     "slide_type": "slide"
    }
   },
   "source": [
    "## You should now be in the newly launched instance of Jupyter"
   ]
  },
  {
   "cell_type": "markdown",
   "id": "e0701c11",
   "metadata": {
    "slideshow": {
     "slide_type": "slide"
    }
   },
   "source": [
    "### Changing environment through changing kernel\n",
    "The current kernel should now be associated with the *newEnv* environment\n",
    "\n",
    "Let's demonstrate this by loading a package that only exists in this environment"
   ]
  },
  {
   "cell_type": "code",
   "execution_count": null,
   "id": "1953a550",
   "metadata": {
    "slideshow": {
     "slide_type": "fragment"
    }
   },
   "outputs": [],
   "source": [
    "import yfinance"
   ]
  },
  {
   "cell_type": "markdown",
   "id": "3fa3cd18",
   "metadata": {
    "slideshow": {
     "slide_type": "fragment"
    }
   },
   "source": [
    "This command shoud have succeeded"
   ]
  },
  {
   "cell_type": "markdown",
   "id": "570e5091",
   "metadata": {
    "slideshow": {
     "slide_type": "slide"
    }
   },
   "source": [
    "### Virtual environments without Anaconda\n",
    "The mechanics of virtual environments is provided by the `venv` module, which is part of the standard Python library\n",
    "\n",
    "New environments can be created anywhere from the command line using\n",
    "```bash\n",
    "python -m venv ENV_NAME\n",
    "```\n",
    "and a directory with the name *ENV_NAME* will be created in current directory"
   ]
  },
  {
   "cell_type": "markdown",
   "id": "1b1aaed6",
   "metadata": {
    "slideshow": {
     "slide_type": "slide"
    }
   },
   "source": [
    "Environment is then activated using\n",
    "```bash\n",
    "source ENV_NAME/bin/activate\n",
    "```\n",
    "\n",
    "Packages are installed using the Python installer (called `pip`)\n",
    "\n",
    "To avoid problems, it is good practice not to use `pip` in an Anaconda installation whenever possible"
   ]
  },
  {
   "cell_type": "markdown",
   "id": "082c25c5",
   "metadata": {
    "slideshow": {
     "slide_type": "slide"
    }
   },
   "source": [
    "### Key Points\n",
    "- Environments can be created and deleted with the `conda` command\n",
    "    - Always use a terminal to create and delete environments\n",
    "- New environments need to be activated to be used\n",
    "- When not using anaconda (at all), environments can be managed with the `venv` module and `pip`\n"
   ]
  },
  {
   "cell_type": "markdown",
   "id": "591e05b1",
   "metadata": {
    "slideshow": {
     "slide_type": "slide"
    }
   },
   "source": [
    "### Further Reading\n",
    "- Anaconda reference manual for creating environments is [here](https://docs.anaconda.com/working-with-conda/environments/)\n",
    "- Python reference on `venv` is [here](https://docs.python.org/3/library/venv.html)\n",
    "- Difference between `conda` and `pip` on [Anaconda website](https://www.anaconda.com/blog/understanding-conda-and-pip)\n",
    "- Discussion on (not to) mixing `conda` and `venv/pip` on [stack exchange](https://stackoverflow.com/questions/56134588/is-it-a-bad-idea-to-use-conda-and-pip-install-on-the-same-environment)"
   ]
  },
  {
   "cell_type": "markdown",
   "id": "0fc147b9",
   "metadata": {
    "slideshow": {
     "slide_type": "slide"
    }
   },
   "source": [
    "### What's Next?\n",
    "- Complete the exercises in this associated exercise notebook [X-22-VirtualEnv.ipynb](X-22-VirtualEnv.ipynb)\n",
    "- Next notebook is [N-23-OpenAI.ipynb](N-23-OpenAI.ipynb)"
   ]
  }
 ],
 "metadata": {
  "celltoolbar": "Slideshow",
  "kernelspec": {
   "display_name": "Python [conda env:rise] *",
   "language": "python",
   "name": "conda-env-rise-py"
  },
  "language_info": {
   "codemirror_mode": {
    "name": "ipython",
    "version": 3
   },
   "file_extension": ".py",
   "mimetype": "text/x-python",
   "name": "python",
   "nbconvert_exporter": "python",
   "pygments_lexer": "ipython3",
   "version": "3.12.7"
  }
 },
 "nbformat": 4,
 "nbformat_minor": 5
}

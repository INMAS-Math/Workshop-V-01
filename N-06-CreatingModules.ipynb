{
 "cells": [
  {
   "cell_type": "markdown",
   "id": "af4ee8a4",
   "metadata": {
    "id": "af4ee8a4",
    "slideshow": {
     "slide_type": "slide"
    }
   },
   "source": [
    "<img src=\"images/inmas.png\" width=130x align=right />\n",
    "\n",
    "# Notebook 06 - Creating Modules\n",
    "\n",
    "Material covered in this notebook:\n",
    "\n",
    "- How to create a simple module\n",
    "\n",
    "### Prerequisite\n",
    "Notebooks 05\n"
   ]
  },
  {
   "cell_type": "markdown",
   "id": "dd818b7e",
   "metadata": {
    "id": "dd818b7e",
    "slideshow": {
     "slide_type": "slide"
    }
   },
   "source": [
    "### Creating modules \n",
    "\n",
    "In many cases, we will want to create our own functions and use them when necessary. \n",
    "\n",
    "- For reusability, it is best to create modules over defining functions in a notebook\n",
    "\n",
    "A module name is simply the file name without the suffix .py appended. Within a module, the module’s name (as a string) is available as the value of the class variable `__name__`, regardless on how it was imported.\n"
   ]
  },
  {
   "cell_type": "code",
   "execution_count": null,
   "id": "ba184dd9",
   "metadata": {
    "id": "ba184dd9",
    "scrolled": true,
    "slideshow": {
     "slide_type": "fragment"
    }
   },
   "outputs": [],
   "source": [
    "import math as m\n",
    "print(m.__name__)"
   ]
  },
  {
   "cell_type": "markdown",
   "id": "7db18a4b",
   "metadata": {
    "slideshow": {
     "slide_type": "slide"
    }
   },
   "source": [
    "### Modules can be a simple file\n",
    "A module can simply be a single file ending with the `.py` extension. It is recommended that the contents of the file starts with a docstring so that the module is documented. Then, the rest of the file can contain whatever code you'd like to get imported, most likely function and class definitions.\n",
    "\n",
    "Running the next cell will create a file called simplemod.py in the current directory.\n"
   ]
  },
  {
   "cell_type": "code",
   "execution_count": null,
   "id": "9d180d7e",
   "metadata": {
    "slideshow": {
     "slide_type": "fragment"
    }
   },
   "outputs": [],
   "source": [
    "%%writefile simplemod.py\n",
    "'''This is an example of a simple module.\n",
    "This module has two functions defined, one public and one private.\n",
    "'''\n",
    "\n",
    "def _privateFunction(a):\n",
    "    '''Builds a string containing greeting for a.'''\n",
    "    return 'Hello ' + a + '!'\n",
    "    \n",
    "def greeting(name):\n",
    "    '''Prints a greeting message to name.'''\n",
    "    print(_privateFunction(name))"
   ]
  },
  {
   "cell_type": "markdown",
   "id": "9198756c",
   "metadata": {
    "slideshow": {
     "slide_type": "slide"
    }
   },
   "source": [
    "### Importing my modules\n",
    "Next steps should be familar by now. \n",
    "\n",
    "Notice that the function `_privateFunction` is not mentioned by help() because it is starting with an underscore."
   ]
  },
  {
   "cell_type": "code",
   "execution_count": null,
   "id": "d08427cf",
   "metadata": {
    "scrolled": true,
    "slideshow": {
     "slide_type": "fragment"
    }
   },
   "outputs": [],
   "source": [
    "import simplemod as sm\n",
    "help(sm)"
   ]
  },
  {
   "cell_type": "markdown",
   "id": "1da680a1",
   "metadata": {
    "slideshow": {
     "slide_type": "slide"
    }
   },
   "source": [
    "### Calling functions in modules\n",
    "Functions in our module are just called as before:"
   ]
  },
  {
   "cell_type": "code",
   "execution_count": null,
   "id": "6301dcfd",
   "metadata": {
    "slideshow": {
     "slide_type": "fragment"
    }
   },
   "outputs": [],
   "source": [
    "sm.greeting('you')"
   ]
  },
  {
   "cell_type": "markdown",
   "id": "96a3b90f",
   "metadata": {
    "slideshow": {
     "slide_type": "fragment"
    }
   },
   "source": [
    "Privacy in Python is a gentlemen's agreement. We can still call the 'private' function. We're just suggested we should not."
   ]
  },
  {
   "cell_type": "code",
   "execution_count": null,
   "id": "ee02326b",
   "metadata": {
    "slideshow": {
     "slide_type": "fragment"
    }
   },
   "outputs": [],
   "source": [
    "print(sm._privateFunction('me'))"
   ]
  },
  {
   "cell_type": "markdown",
   "id": "8fc65d27",
   "metadata": {
    "slideshow": {
     "slide_type": "slide"
    }
   },
   "source": [
    "### Modules can also be directories\n",
    "With complex modules, multiple files contain code so that they can have their private name space. Files can still collaborate together. For example, parts of the code in one file can rely on functions or objects being coded in another file.\n",
    "\n",
    "In these situations, it is important to determine how to initialize the module, and which files to load, and in what order.\n",
    "This is done with a special file named `__init__.py` located in the module directory.\n",
    "\n",
    "These modules are often distributed as packages. Building packages is beyond the scope of this tutorial. Our goal here is to give you an idea of the basic mechanics by which modules and packages are built."
   ]
  },
  {
   "cell_type": "markdown",
   "id": "9a41ce5a",
   "metadata": {
    "slideshow": {
     "slide_type": "slide"
    }
   },
   "source": [
    "### Key Points\n",
    "- modules can be simple files with the `.py` extension imported in other Python programs for re-usability\n",
    "- modules are documented with a docstring at the top of the file\n",
    "- modules can also be directories containing multiple `.py` files\n",
    "     - module directories have a `__init__.py` file indicating what files to load and in what order"
   ]
  },
  {
   "cell_type": "markdown",
   "id": "2f1c6f8c",
   "metadata": {
    "slideshow": {
     "slide_type": "slide"
    }
   },
   "source": [
    "### Further Reading\n",
    "- Tutorial on packaging python [here](https://packaging.python.org/en/latest/tutorials/packaging-projects/)"
   ]
  }
 ],
 "metadata": {
  "celltoolbar": "Slideshow",
  "colab": {
   "collapsed_sections": [],
   "provenance": []
  },
  "kernelspec": {
   "display_name": "Python 3 (ipykernel)",
   "language": "python",
   "name": "python3"
  },
  "language_info": {
   "codemirror_mode": {
    "name": "ipython",
    "version": 3
   },
   "file_extension": ".py",
   "mimetype": "text/x-python",
   "name": "python",
   "nbconvert_exporter": "python",
   "pygments_lexer": "ipython3",
   "version": "3.11.7"
  }
 },
 "nbformat": 4,
 "nbformat_minor": 5
}

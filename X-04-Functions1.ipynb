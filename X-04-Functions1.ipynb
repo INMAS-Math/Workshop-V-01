{
 "cells": [
  {
   "cell_type": "markdown",
   "metadata": {
    "id": "SA6NTppk6RHc",
    "slideshow": {
     "slide_type": "-"
    }
   },
   "source": [
    "<img src=\"images/inmas.png\" width=130x align=right />\n",
    "\n",
    "# Exercises 04 - Functions 1\n",
    "\n",
    "\n",
    "### Prerequisite\n",
    "Notebook 04"
   ]
  },
  {
   "cell_type": "markdown",
   "metadata": {
    "id": "yOetREhH6RHs",
    "slideshow": {
     "slide_type": "-"
    }
   },
   "source": [
    "### 1.\n",
    "Create a function that takes two arguments $x$ and $y$ and returns\n",
    "\n",
    "$$\n",
    "cos(x \\; \\pi) + sin(y \\; \\pi) \n",
    "$$\n",
    "\n",
    "Suppose your function was called $f$ then call\n",
    "```\n",
    "f(2,3)\n",
    "```\n",
    "and\n",
    "```\n",
    "f(\"2\",\"3\")\n",
    "```\n",
    "\n",
    "What do you observe?"
   ]
  },
  {
   "cell_type": "code",
   "execution_count": null,
   "metadata": {
    "id": "oFhBh4br6RHt"
   },
   "outputs": [],
   "source": []
  },
  {
   "cell_type": "code",
   "execution_count": null,
   "metadata": {
    "id": "J4Ke4-PrNrJt"
   },
   "outputs": [],
   "source": [
    "print(f(2, 3))\n",
    "print(f('2','3'))"
   ]
  },
  {
   "cell_type": "markdown",
   "metadata": {
    "id": "GsOome_W6RHu"
   },
   "source": [
    "### 2.\n",
    "\n",
    "Make a function, that takes two arguments $x$ and $y$ and returns\n",
    "\n",
    "$$\n",
    "x+y \n",
    "$$\n",
    "\n",
    "Suppose your function was called $f$ then call\n",
    "\n",
    "Suppose your function was called $f$ then call\n",
    "```\n",
    "f(2, 3)\n",
    "```\n",
    "and\n",
    "```\n",
    "f('2', '3')\n",
    "```\n",
    "What do you observe?\n"
   ]
  },
  {
   "cell_type": "code",
   "execution_count": null,
   "metadata": {
    "id": "EMAUGMokOM0f"
   },
   "outputs": [],
   "source": []
  },
  {
   "cell_type": "code",
   "execution_count": null,
   "metadata": {},
   "outputs": [],
   "source": [
    "print(f(2, 3))\n",
    "print(f('2','3'))"
   ]
  },
  {
   "cell_type": "markdown",
   "metadata": {
    "id": "Nd0BS9P36RHx"
   },
   "source": [
    "### 3.\n",
    "Create a function that..."
   ]
  },
  {
   "cell_type": "markdown",
   "metadata": {},
   "source": [
    "#### 3.1\n",
    "...takes a list of numbers and returns the mean of the list."
   ]
  },
  {
   "cell_type": "code",
   "execution_count": null,
   "metadata": {
    "id": "NwlUh6EN6RHx"
   },
   "outputs": [],
   "source": []
  },
  {
   "cell_type": "markdown",
   "metadata": {},
   "source": [
    "#### 3.2\n",
    "...checks whether a number is prime or not."
   ]
  },
  {
   "cell_type": "code",
   "execution_count": null,
   "metadata": {
    "id": "IGsVvkwq6RHx"
   },
   "outputs": [],
   "source": []
  },
  {
   "cell_type": "markdown",
   "metadata": {
    "id": "RynPg_Fz6RHx"
   },
   "source": [
    "#### 3.3\n",
    "...returns a list of all the prime numbers between 2 and input argument."
   ]
  },
  {
   "cell_type": "code",
   "execution_count": null,
   "metadata": {},
   "outputs": [],
   "source": []
  },
  {
   "cell_type": "markdown",
   "metadata": {
    "id": "7oC69kFk6RH1"
   },
   "source": [
    "### 4. Finding the container with the most water\n",
    "\n",
    "You are given an integer array of length *n* containing heights of different points along a map. These are represented as *n* vertical lines drawn such that the two endpoints of the ith line are `(i, 0)` and `(i, height[i])`.\n",
    "Any pair of separate lines, together with the *x*-axis can form a container that fills with water after heavy rain (assuming sufficient rainfall to fill any container).\n",
    "\n",
    "Write a function that finds the two lines that can contain the most water, and return the maximum amount of water that container can store.\n",
    "\n",
    "Here is one example:\n",
    "\n",
    "Input: height = [1, 8, 6, 2, 5, 4, 8, 3, 7]\n",
    "\n",
    "Output: 49\n",
    "\n",
    "Explanation: The heights of the ground are shown as vertical lines represented by array [1,8,6,2,5,4,8,3,7]. In this case, the max area of water (blue section) the container can contain is 49.\n",
    "\n",
    "![container_with_most_water](https://s3-lc-upload.s3.amazonaws.com/uploads/2018/07/17/question_11.jpg)\n"
   ]
  },
  {
   "cell_type": "markdown",
   "metadata": {},
   "source": [
    "### 5.\n",
    "Define a function that..."
   ]
  },
  {
   "cell_type": "markdown",
   "metadata": {},
   "source": [
    "#### 5.1 \n",
    "...requires 2 arguments"
   ]
  },
  {
   "cell_type": "code",
   "execution_count": null,
   "metadata": {},
   "outputs": [],
   "source": []
  },
  {
   "cell_type": "markdown",
   "metadata": {},
   "source": [
    "#### 5.2\n",
    "...requires 1 argument, but has two other optional ones "
   ]
  },
  {
   "cell_type": "code",
   "execution_count": null,
   "metadata": {},
   "outputs": [],
   "source": []
  },
  {
   "cell_type": "markdown",
   "metadata": {},
   "source": [
    "#### 5.3 \n",
    "...only takes named arguments as **kwargs"
   ]
  },
  {
   "cell_type": "code",
   "execution_count": null,
   "metadata": {},
   "outputs": [],
   "source": []
  },
  {
   "cell_type": "markdown",
   "metadata": {},
   "source": [
    "### 6.\n",
    "What type do built-in functions have?\n",
    "- Define a short function. What type does it have?\n",
    "- What would `print(type(type))` return?"
   ]
  },
  {
   "cell_type": "code",
   "execution_count": null,
   "metadata": {},
   "outputs": [],
   "source": []
  }
 ],
 "metadata": {
  "celltoolbar": "Slideshow",
  "colab": {
   "collapsed_sections": [],
   "name": "Notebook8_Functions.ipynb",
   "provenance": [],
   "toc_visible": true
  },
  "kernelspec": {
   "display_name": "Python 3 (ipykernel)",
   "language": "python",
   "name": "python3"
  },
  "language_info": {
   "codemirror_mode": {
    "name": "ipython",
    "version": 3
   },
   "file_extension": ".py",
   "mimetype": "text/x-python",
   "name": "python",
   "nbconvert_exporter": "python",
   "pygments_lexer": "ipython3",
   "version": "3.11.7"
  }
 },
 "nbformat": 4,
 "nbformat_minor": 1
}

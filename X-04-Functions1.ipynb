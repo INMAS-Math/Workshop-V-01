{
 "cells": [
  {
   "cell_type": "markdown",
   "metadata": {},
   "source": [
    "<img src=\"images/inmas.png\" width=130x align=right />\n",
    "\n",
    "# Exercises 04 - Functions 1\n",
    "\n",
    "\n",
    "### Prerequisite\n",
    "Notebook 04"
   ]
  },
  {
   "cell_type": "markdown",
   "metadata": {},
   "source": [
    "### 1.\n",
    "Create a function that takes two arguments $x$ and $y$ and returns\n",
    "\n",
    "$$\n",
    "cos(x \\; \\pi) + sin(y \\; \\pi) \n",
    "$$\n",
    "\n",
    "Suppose your function was called $f$ then call\n",
    "```\n",
    "f(2,3)\n",
    "```\n",
    "and\n",
    "```\n",
    "f(\"2\",\"3\")\n",
    "```\n",
    "\n",
    "What do you observe?"
   ]
  },
  {
   "cell_type": "code",
   "execution_count": null,
   "metadata": {},
   "outputs": [],
   "source": []
  },
  {
   "cell_type": "code",
   "execution_count": null,
   "metadata": {},
   "outputs": [],
   "source": [
    "print(f(2, 3))\n",
    "print(f('2','3'))"
   ]
  },
  {
   "cell_type": "markdown",
   "metadata": {},
   "source": [
    "### 2.\n",
    "\n",
    "Make a function, that takes two arguments $x$ and $y$ and returns\n",
    "\n",
    "$$\n",
    "x+y \n",
    "$$\n",
    "\n",
    "Suppose your function was called $f$ then call\n",
    "```\n",
    "f(2, 3)\n",
    "```\n",
    "and\n",
    "```\n",
    "f('2', '3')\n",
    "```\n",
    "What do you observe?\n"
   ]
  },
  {
   "cell_type": "code",
   "execution_count": null,
   "metadata": {},
   "outputs": [],
   "source": []
  },
  {
   "cell_type": "code",
   "execution_count": null,
   "metadata": {},
   "outputs": [],
   "source": [
    "print(f(2, 3))\n",
    "print(f('2','3'))"
   ]
  },
  {
   "cell_type": "markdown",
   "metadata": {},
   "source": [
    "### 3.\n",
    "Create a function that..."
   ]
  },
  {
   "cell_type": "markdown",
   "metadata": {},
   "source": [
    "#### 3.1\n",
    "...takes a list of numbers and returns the mean of the list."
   ]
  },
  {
   "cell_type": "code",
   "execution_count": null,
   "metadata": {},
   "outputs": [],
   "source": []
  },
  {
   "cell_type": "markdown",
   "metadata": {},
   "source": [
    "#### 3.2\n",
    "...checks whether a number is prime or not."
   ]
  },
  {
   "cell_type": "code",
   "execution_count": null,
   "metadata": {},
   "outputs": [],
   "source": []
  },
  {
   "cell_type": "markdown",
   "metadata": {},
   "source": [
    "#### 3.3\n",
    "...returns a list of all the prime numbers between 2 and input argument."
   ]
  },
  {
   "cell_type": "code",
   "execution_count": null,
   "metadata": {},
   "outputs": [],
   "source": []
  },
  {
   "cell_type": "markdown",
   "metadata": {},
   "source": [
    "\n",
    "### 4.*\n",
    "#### Trapping rainwater problem:\n",
    "\n",
    "An elevation map shows the different heights at different points on a region on a map.\n",
    "Given non-negative integers representing an elevation map where the width of each bar is 1, find the maximum amount of water that can be trapped within the map after raining (assuming infinite rainfall).\n",
    "\n",
    "For example, if elevation_map = [7, 0, 4, 2, 5, 0, 6, 4, 0, 5], total units of trapped water is 25. \n",
    "\n",
    "![Water Trap ex](https://www.techiedelight.com/wp-content/uploads/Rain-Water-Trapping.png)\n",
    "\n",
    "Hint: Traverse the list and find the highest bars on the left and right sides."
   ]
  },
  {
   "cell_type": "code",
   "execution_count": null,
   "metadata": {},
   "outputs": [],
   "source": []
  },
  {
   "cell_type": "markdown",
   "metadata": {},
   "source": [
    "### 5.\n",
    "Define a function that..."
   ]
  },
  {
   "cell_type": "markdown",
   "metadata": {},
   "source": [
    "#### 5.1 \n",
    "...requires 2 arguments"
   ]
  },
  {
   "cell_type": "code",
   "execution_count": null,
   "metadata": {},
   "outputs": [],
   "source": []
  },
  {
   "cell_type": "markdown",
   "metadata": {},
   "source": [
    "#### 5.2\n",
    "...requires 1 argument, but has two other optional ones "
   ]
  },
  {
   "cell_type": "code",
   "execution_count": null,
   "metadata": {},
   "outputs": [],
   "source": []
  },
  {
   "cell_type": "markdown",
   "metadata": {},
   "source": [
    "#### 5.3 \n",
    "...only takes named arguments as **kwargs"
   ]
  },
  {
   "cell_type": "code",
   "execution_count": null,
   "metadata": {},
   "outputs": [],
   "source": []
  },
  {
   "cell_type": "markdown",
   "metadata": {},
   "source": [
    "### 6.\n",
    "What type do built-in functions have?\n",
    "1) Define a short function. What type does it have?\n",
    "1) What does `print(type(len))` returns?\n",
    "1) What would `print(type(type))` return?"
   ]
  },
  {
   "cell_type": "code",
   "execution_count": null,
   "metadata": {},
   "outputs": [],
   "source": []
  }
 ],
 "metadata": {
  "colab": {
   "collapsed_sections": [],
   "name": "Notebook8_Functions.ipynb",
   "provenance": [],
   "toc_visible": true
  },
  "kernelspec": {
   "display_name": "Python 3 (ipykernel)",
   "language": "python",
   "name": "python3"
  },
  "language_info": {
   "codemirror_mode": {
    "name": "ipython",
    "version": 3
   },
   "file_extension": ".py",
   "mimetype": "text/x-python",
   "name": "python",
   "nbconvert_exporter": "python",
   "pygments_lexer": "ipython3",
   "version": "3.11.7"
  }
 },
 "nbformat": 4,
 "nbformat_minor": 1
}

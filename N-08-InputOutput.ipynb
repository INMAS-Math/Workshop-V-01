{
 "cells": [
  {
   "cell_type": "markdown",
   "metadata": {
    "id": "A7h_kPcP8zaU"
   },
   "source": [
    "<img src=\"images/inmas.png\" width=130x align=right />\n",
    "\n",
    "# Notebook 08 - Input and Output\n",
    "\n",
    "Material covered in this notebook:\n",
    "- How to open and close a file\n",
    "- How to read lines from a text file\n",
    "- How to write text to a file\n",
    "\n",
    "### Prerequisite\n",
    "Notebooks 07"
   ]
  },
  {
   "cell_type": "markdown",
   "metadata": {
    "id": "nQDGrROs8zaX",
    "slideshow": {
     "slide_type": "slide"
    }
   },
   "source": [
    "### Opening files for reading and writing\n",
    "\n",
    "The most common way to access a file in Python is to use the built-in <code>open</code> function\n",
    "\n",
    "- [`open()`](https://docs.python.org/3/library/functions.html#open) : returns a file object\n",
    "    - It commonly takes two arguments: `open(filename, mode)`\n",
    "      - filename : name of the file you want to open\n",
    "      - mode (optional)\n",
    "           - `'r'` : reading only (default)\n",
    "           - `'w'` : Write - will create a file if the specified file does not exist\n",
    "           - `'x'` : Create - will create a file, returns an error if the file exist\n",
    "           - `'a'` : Append - will create a file if the specified file does not exist \n",
    "           - `'r+'`: both reading and writing\n",
    "           \n",
    "\n"
   ]
  },
  {
   "cell_type": "markdown",
   "metadata": {
    "id": "nQDGrROs8zaX",
    "slideshow": {
     "slide_type": "slide"
    }
   },
   "source": [
    "\n",
    "### Providing a file name\n",
    "The first parameter you need is the file path and the file name. An example is shown as follow:\n",
    "\n",
    "```\n",
    "file = open('somepath/somefile.xxx', 'r')\n",
    "```\n",
    "\n",
    "On Windows, your file path can use backslashes ('\\\\') while macOS and Linux use forward slashes ('/'). See the README file associated with this Workshop for a more detailed explanation on file paths.\n",
    "\n",
    "The data we will use is located in the `data` folder inside the folder where you saved the notebooks. To access files in this folder you could include the relative path in the `filename` variable as below:"
   ]
  },
  {
   "cell_type": "code",
   "execution_count": null,
   "metadata": {
    "slideshow": {
     "slide_type": "fragment"
    }
   },
   "outputs": [],
   "source": [
    "filename= \"data/sample.txt\""
   ]
  },
  {
   "cell_type": "markdown",
   "metadata": {
    "slideshow": {
     "slide_type": "slide"
    }
   },
   "source": [
    "### Reading a text file\n",
    "Once a text file is open, two commonly used built-in functions can be used to read its contents\n",
    "- `read()` : method that reads the specified number of bytes from the file\n",
    "    - If not specified, default is -1 which means to read the whole file\n",
    "- `readline()` : method that reads the file object line by line (use for text files)\n",
    "\n",
    "These are called methods, because they are invoked as `f.read()` for a file object `f`\n",
    "\n",
    "Let's look at a full example:"
   ]
  },
  {
   "cell_type": "markdown",
   "metadata": {
    "slideshow": {
     "slide_type": "slide"
    }
   },
   "source": [
    "The file *data/sample.txt* contains the following:\n",
    "```\n",
    "Hello World!\n",
    "Welcome to the INMAS Python workshop.\n",
    "```\n",
    "Let's open the file and read its contents. The function `read()` returns a single string containing all the file contents.\n",
    "\n",
    "In that case, all new lines are included in the string as newline `'\\n'` characters"
   ]
  },
  {
   "cell_type": "code",
   "execution_count": null,
   "metadata": {
    "colab": {
     "base_uri": "https://localhost:8080/",
     "height": 215
    },
    "executionInfo": {
     "elapsed": 134,
     "status": "error",
     "timestamp": 1634749805638,
     "user": {
      "displayName": "Adriana Morales Miranda",
      "photoUrl": "https://lh3.googleusercontent.com/a/default-user=s64",
      "userId": "02653100314428723174"
     },
     "user_tz": 300
    },
    "id": "xySmSpdO8zaY",
    "outputId": "81a7b9a6-4b20-4e60-c3a5-e703f3118aeb",
    "slideshow": {
     "slide_type": "fragment"
    }
   },
   "outputs": [],
   "source": [
    "filename= \"data/sample.txt\"\n",
    "f = open(filename, 'r')\n",
    "contents = f.read()         # Default to read the contents of the whole file.\n",
    "f.close()                   # It's important to close the file! It will free up the resources that were tied with the file.\n",
    "print(contents)"
   ]
  },
  {
   "cell_type": "markdown",
   "metadata": {
    "id": "0z84Y6nZX-F-",
    "slideshow": {
     "slide_type": "slide"
    }
   },
   "source": [
    "### A more robust way to perform I/O\n",
    "Using the <code>with</code> statement is better practice, as it automatically closes the file even if the code encounters an exception. The code will run everything in the indented block then close the file object. \n",
    "\n",
    "- `with` statement\n",
    "    - better syntax and frees resources if exceptions occur\n",
    "    - no need to explicitly call the `close()` method. This is done internally.\n",
    "\n",
    "The steps are examplified in this code snippet here:\n",
    "```\n",
    "    with open('somepath/somefile.xxx', 'r') as file:\n",
    "        fileContents = file.read()\n",
    "        \n",
    "    # End of block - At this point the file object has been automatically closed\n",
    "    print(fileContents)\n",
    "```\n"
   ]
  },
  {
   "cell_type": "markdown",
   "metadata": {
    "slideshow": {
     "slide_type": "slide"
    }
   },
   "source": [
    "### Using `with` to read files\n",
    "Here is an example using the `read()` function. This function returns a string."
   ]
  },
  {
   "cell_type": "code",
   "execution_count": null,
   "metadata": {
    "id": "Di1KLF7NX-F-",
    "outputId": "0faef2fb-367d-4ed7-ea34-5c8882706050",
    "slideshow": {
     "slide_type": "fragment"
    }
   },
   "outputs": [],
   "source": [
    "# Read file using read()\n",
    "with open(filename, 'r') as f:\n",
    "    contents = f.read()\n",
    "    print(contents)"
   ]
  },
  {
   "cell_type": "markdown",
   "metadata": {
    "slideshow": {
     "slide_type": "fragment"
    }
   },
   "source": [
    "Or with the `readline()` function, which keeps the carriage returns (thus `end=''` in `print()`):"
   ]
  },
  {
   "cell_type": "code",
   "execution_count": null,
   "metadata": {
    "id": "S1vJAkcEX-F-",
    "outputId": "6733dd96-fcd2-433d-b8da-cdf8ce3a78cf",
    "slideshow": {
     "slide_type": "fragment"
    }
   },
   "outputs": [],
   "source": [
    "# Read file using readline()\n",
    "with open(filename, 'r') as f:\n",
    "    line = f.readline()\n",
    "    while line:\n",
    "        print(line, end='')\n",
    "        line = f.readline()"
   ]
  },
  {
   "cell_type": "markdown",
   "metadata": {
    "slideshow": {
     "slide_type": "slide"
    }
   },
   "source": [
    "### Stripping new line characters\n",
    "Sometimes it is useful to get rid of the newline characters (i.e., '\\n') at the end of the lines. For this we use the string `strip()` method from the `str` (string) class."
   ]
  },
  {
   "cell_type": "code",
   "execution_count": null,
   "metadata": {
    "slideshow": {
     "slide_type": "fragment"
    }
   },
   "outputs": [],
   "source": [
    "# Read file using readline() but stripping new line character(s)\n",
    "with open(filename, 'r') as f:\n",
    "    line = f.readline().strip()\n",
    "    while line:\n",
    "        print('Stripped line is \"%s\"'%line)\n",
    "        line = f.readline().strip()"
   ]
  },
  {
   "cell_type": "markdown",
   "metadata": {
    "slideshow": {
     "slide_type": "fragment"
    }
   },
   "source": [
    "Compare with the version on the previous slide"
   ]
  },
  {
   "cell_type": "markdown",
   "metadata": {
    "id": "9rODNuik0PSQ",
    "slideshow": {
     "slide_type": "slide"
    }
   },
   "source": [
    "### Working with CSV files in Python\n",
    "\n",
    "A common file standard for storing data in columns is the comma-separated-values (CSV) format. There are multiple ways in which we can open and see CSV files in Python.\n",
    "\n",
    "We can either use the csv module, or use the Pandas module."
   ]
  },
  {
   "cell_type": "markdown",
   "metadata": {
    "id": "0Fil6gyuX-F_",
    "slideshow": {
     "slide_type": "slide"
    }
   },
   "source": [
    "### Using the csv module\n",
    "While we could use the built-in `open()` function to work with CSV files in Python, there is a dedicated `csv` module that makes working with CSV files much easier.\n",
    "\n",
    "Before we can use the methods to the `csv` module, we need to import the module first using:"
   ]
  },
  {
   "cell_type": "code",
   "execution_count": null,
   "metadata": {
    "id": "VbYVIpULX-F_",
    "slideshow": {
     "slide_type": "fragment"
    }
   },
   "outputs": [],
   "source": [
    "import csv"
   ]
  },
  {
   "cell_type": "markdown",
   "metadata": {
    "id": "7JMhacRKX-GA",
    "slideshow": {
     "slide_type": "fragment"
    }
   },
   "source": [
    "To read a CSV file in Python, we can use the `csv.reader()` function. Let's open the csv file named `people.csv`:"
   ]
  },
  {
   "cell_type": "code",
   "execution_count": null,
   "metadata": {
    "colab": {
     "base_uri": "https://localhost:8080/",
     "height": 164
    },
    "executionInfo": {
     "elapsed": 154,
     "status": "error",
     "timestamp": 1634752184567,
     "user": {
      "displayName": "Adriana Morales Miranda",
      "photoUrl": "https://lh3.googleusercontent.com/a/default-user=s64",
      "userId": "02653100314428723174"
     },
     "user_tz": 300
    },
    "id": "3cuS8dfT0pvt",
    "outputId": "33af556f-a40f-4cb6-871a-51d2faef7477",
    "slideshow": {
     "slide_type": "fragment"
    }
   },
   "outputs": [],
   "source": [
    "people= \"data/people.csv\"\n",
    "with open(people, 'r') as file:\n",
    "    reader = csv.reader(file)\n",
    "    for row in reader:\n",
    "        print(row)"
   ]
  },
  {
   "cell_type": "markdown",
   "metadata": {
    "slideshow": {
     "slide_type": "slide"
    }
   },
   "source": [
    "### Understand what you write and read\n",
    "With csv.reader(), each line gets parsed into a list, and each entry is a string\n",
    "\n",
    "Even if 'numbers' were written to the csv file, they are written as strings that will have to be converted back to an integer, or a float. Fortunately, the cast functions of Python are very powerful and understand things like:"
   ]
  },
  {
   "cell_type": "code",
   "execution_count": null,
   "metadata": {
    "slideshow": {
     "slide_type": "fragment"
    }
   },
   "outputs": [],
   "source": [
    "print(int('2'))\n",
    "print(float('2.4'))"
   ]
  },
  {
   "cell_type": "markdown",
   "metadata": {
    "slideshow": {
     "slide_type": "fragment"
    }
   },
   "source": [
    "where we are converting from string to int (through a cast) back to string (through print())\n",
    "\n",
    "Depending on the precision being used when floats are written, precision can be lost. This is a common pitfall for losing accuracy. Be vigilent!"
   ]
  },
  {
   "cell_type": "markdown",
   "metadata": {
    "id": "HslBAiuiX-GA",
    "slideshow": {
     "slide_type": "slide"
    }
   },
   "source": [
    "### Specifying different delimiters\n",
    "Note that if you open the *people.csv* file in a text editor everything is separated by commas. This is called a delimiter. Suppose our CSV file was using tab as a delimiter. To read such files, one must provide the *delimiter* parameters to the `csv.reader()` function. This would be done as follows, as `\\t` is the code for a tab.\n",
    "```\n",
    "reader = csv.reader(file, delimiter='\\t')\n",
    "```"
   ]
  },
  {
   "cell_type": "markdown",
   "metadata": {
    "id": "QhVd5iq-X-GB",
    "slideshow": {
     "slide_type": "slide"
    }
   },
   "source": [
    "### Using the Pandas module to handle CSV files\n",
    "\n",
    "\n",
    "Pandas is a popular data science library in Python for data manipulation and analysis. If we are working with huge chunks of data, it's better to use Pandas to handle CSV files for ease and efficiency."
   ]
  },
  {
   "cell_type": "code",
   "execution_count": null,
   "metadata": {
    "id": "1O1kT-tVX-GB",
    "slideshow": {
     "slide_type": "fragment"
    }
   },
   "outputs": [],
   "source": [
    "import pandas as pd"
   ]
  },
  {
   "cell_type": "markdown",
   "metadata": {
    "id": "aK4FJJMrX-GC",
    "slideshow": {
     "slide_type": "fragment"
    }
   },
   "source": [
    "To read the CSV file using pandas, we can use the `read_csv()` function. This function returns a dataframe that we will explore in detail in a subsequent notebook. Notice the nice printing output."
   ]
  },
  {
   "cell_type": "code",
   "execution_count": null,
   "metadata": {
    "id": "tDmpnU6IX-GC",
    "outputId": "1808f451-99b7-44f2-c0b1-ad62aaf75c8b",
    "slideshow": {
     "slide_type": "fragment"
    }
   },
   "outputs": [],
   "source": [
    "pd.read_csv(people)"
   ]
  },
  {
   "cell_type": "markdown",
   "metadata": {
    "id": "WwGXaBfV8zab",
    "slideshow": {
     "slide_type": "slide"
    }
   },
   "source": [
    "### Writing to a file\n",
    "As for reading, there are two built-in methods for writing to a file:\n",
    "\n",
    "- `write()` :  writes a string to a text file\n",
    "- `writelines()` : write a list of strings to a file all at once\n",
    "\n",
    "As for reading, we will use a `with` construct which will close the file at the end of the code block"
   ]
  },
  {
   "cell_type": "markdown",
   "metadata": {
    "slideshow": {
     "slide_type": "slide"
    }
   },
   "source": [
    "### Writing using `write()`\n",
    "In this example, we use `write()` to write a list of lines, string by string:"
   ]
  },
  {
   "cell_type": "code",
   "execution_count": null,
   "metadata": {
    "id": "fdesC-YEYLPT",
    "slideshow": {
     "slide_type": "fragment"
    }
   },
   "outputs": [],
   "source": [
    "lines2 = ['Hello World!', 'We are happily coding in Python.']\n",
    "\n",
    "with open(\"data/sample2.txt\", 'w') as f:\n",
    "    for line in lines2:\n",
    "        f.write(line)\n",
    "        f.write('\\n')"
   ]
  },
  {
   "cell_type": "markdown",
   "metadata": {
    "id": "D5v2IB5HX-GD",
    "slideshow": {
     "slide_type": "slide"
    }
   },
   "source": [
    "### Writing using `writelines()`\n",
    "An example of writing in a file using `writelines()` all at once, providing the whole list:"
   ]
  },
  {
   "cell_type": "code",
   "execution_count": null,
   "metadata": {
    "id": "pyEb-6_T8zab",
    "slideshow": {
     "slide_type": "fragment"
    }
   },
   "outputs": [],
   "source": [
    "lines3 = ['INMAS', 'Python Workshop.']\n",
    "\n",
    "with open(\"data/sample3.txt\", 'w') as f:\n",
    "    f.writelines(lines3)"
   ]
  },
  {
   "cell_type": "markdown",
   "metadata": {
    "id": "-XKxoDZQ14tI",
    "slideshow": {
     "slide_type": "slide"
    }
   },
   "source": [
    "### Removing Files\n",
    "If you want to remove the file we just created, we need to import the operating system (os) module:"
   ]
  },
  {
   "cell_type": "code",
   "execution_count": null,
   "metadata": {
    "id": "3r7a34-vJGaU",
    "slideshow": {
     "slide_type": "fragment"
    }
   },
   "outputs": [],
   "source": [
    "import os"
   ]
  },
  {
   "cell_type": "markdown",
   "metadata": {},
   "source": [
    "The following code will remove the files *data/sample2.txt* and *3* if they exist"
   ]
  },
  {
   "cell_type": "code",
   "execution_count": null,
   "metadata": {
    "id": "y0v_ttsI8zag",
    "slideshow": {
     "slide_type": "fragment"
    }
   },
   "outputs": [],
   "source": [
    "myfiles = ['data/sample2.txt', 'data/sample3.txt']\n",
    "for file in myfiles:\n",
    "    if os.path.isfile(file):\n",
    "        print('removing file \"%s\"...' % file)\n",
    "        os.remove(file)\n",
    "    else:\n",
    "        print('File \"%s\" not found!' % file)"
   ]
  },
  {
   "cell_type": "markdown",
   "metadata": {
    "slideshow": {
     "slide_type": "slide"
    }
   },
   "source": [
    "### Listing directories\n",
    "We can then verify that the file was removed. This returns a list of strings of all the files in the directory:"
   ]
  },
  {
   "cell_type": "code",
   "execution_count": null,
   "metadata": {
    "colab": {
     "base_uri": "https://localhost:8080/",
     "height": 162
    },
    "executionInfo": {
     "elapsed": 163,
     "status": "error",
     "timestamp": 1633892329423,
     "user": {
      "displayName": "Emily Shinkle",
      "photoUrl": "https://lh3.googleusercontent.com/a/default-user=s64",
      "userId": "06575640438948846197"
     },
     "user_tz": 300
    },
    "id": "-6qiFt8tIq1A",
    "outputId": "e30dfa7b-7e3a-4c40-c181-c55a1c897475",
    "slideshow": {
     "slide_type": "fragment"
    }
   },
   "outputs": [],
   "source": [
    "os.listdir('data')"
   ]
  },
  {
   "cell_type": "markdown",
   "metadata": {
    "slideshow": {
     "slide_type": "slide"
    }
   },
   "source": [
    "### Key Points\n",
    "- Using `with` when opening files will take care of resources and closes open files\n",
    "- There are two ways to read a file: all at once, or line by line\n",
    "- Same for writing files\n",
    "- Be aware of what is being written and read to a file and how it converts back to numbers\n",
    "- Files can be removed using the `os` module"
   ]
  },
  {
   "cell_type": "markdown",
   "metadata": {
    "slideshow": {
     "slide_type": "slide"
    }
   },
   "source": [
    "### What's Next?\n",
    "- Complete the exercises in this associated exercise notebook [X-08-InputOutput.ipynb](X-08-InputOutput.ipynb)\n",
    "- Next notebook is [N-09-MiniProject.ipynb](N-09-MiniProject.ipynb)"
   ]
  }
 ],
 "metadata": {
  "celltoolbar": "Slideshow",
  "colab": {
   "collapsed_sections": [],
   "name": "Notebook5_Input_Output.ipynb",
   "provenance": []
  },
  "kernelspec": {
   "display_name": "Python 3 (ipykernel)",
   "language": "python",
   "name": "python3"
  },
  "language_info": {
   "codemirror_mode": {
    "name": "ipython",
    "version": 3
   },
   "file_extension": ".py",
   "mimetype": "text/x-python",
   "name": "python",
   "nbconvert_exporter": "python",
   "pygments_lexer": "ipython3",
   "version": "3.11.7"
  }
 },
 "nbformat": 4,
 "nbformat_minor": 1
}

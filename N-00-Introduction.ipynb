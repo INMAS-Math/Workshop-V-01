{
 "cells": [
  {
   "cell_type": "markdown",
   "metadata": {
    "slideshow": {
     "slide_type": "slide"
    }
   },
   "source": [
    "<img align=right src=\"images/inmas.png\" width=150x />\n",
    "\n",
    "\n",
    "# Workshop #1\n",
    "\n",
    "\n",
    "# Intro to Python and its Scientific Software Stack\n",
    "In this workshop you will learn basic programming and computational\n",
    "skills in Python using notebooks tailored for mathematicians\n",
    "\n",
    "### Prerequisite\n",
    "Anaconda\n",
    "\n",
    "### Credits\n",
    "See the README file for credits\n",
    "\n",
    "----"
   ]
  },
  {
   "cell_type": "markdown",
   "metadata": {
    "slideshow": {
     "slide_type": "slide"
    }
   },
   "source": [
    "### Installing and using the RISE notebook extension\n",
    "- These notebooks can use the RISE notebook extension to display their contents through slides\n",
    "- RISE has a few unresolved issues when using JupyterLab, and therefore **we strongly recommend using the classic Jupyter Notebook**\n",
    "\n",
    "Instructions for installing the RISE extension are [here](https://github.com/INMAS-Math/Workshop-V-01/blob/main/README.md#installing-and-enabling-the-optional-rise-extension)\n",
    "\n",
    "To view the contents in slide mode, make sure that you are running jupyter from the `rise` environment created through the instructions provided\n",
    "\n",
    "1) Press Alt-r to switch to presentation mode, alternatively, click on the slide icon in the top toolbar\n",
    "   - In classic Jupyter, this will start full-screen presentation mode, click the X in the upper left corner to return to normal view\n",
    "   - On Windows, you can also put your web browser in full-screen mode using F11\n",
    "1) Navigate slides using the arrow keys, or the space bar (Shift-space bar to go back)\n"
   ]
  },
  {
   "cell_type": "markdown",
   "metadata": {
    "slideshow": {
     "slide_type": "slide"
    }
   },
   "source": [
    "### Welcome to Workshop \\#1 : Intro to Python and its Scientific Software Stack\n",
    "- This workshop is aimed at both novice and experienced Python programmers\n",
    "   - Ability to adjust the level of difficulty by selecting/omitting more challenging exercises\n",
    "\n",
    "- Notebooks are in sequential order starting from N-00 and ending at N-22\n",
    "- Each lecture Notebook has an associated eXercise notebook denoted by X-00 to X-22\n",
    "- Complete the exercise notebook **before** moving to the next level\n",
    "    - Exercises marked with an asterisk are optional but recommended for advanced users\n"
   ]
  },
  {
   "cell_type": "markdown",
   "metadata": {
    "slideshow": {
     "slide_type": "slide"
    }
   },
   "source": [
    "### Theory and Practice\n",
    "- Notebooks N-* contain the material and were designed to be read in slide presentation mode (Alt-r)\n",
    "    - Displaying slides requires the RISE module that you should have installed (only once)\n",
    "    - Each Notebook has an associated exercise notebook\n",
    "- Exercise notebooks X-* are meant to be read and edited in regular Jupyter mode\n",
    "    - Exercises marked with an asterisk are optional and meant for students proficient in Python\n"
   ]
  },
  {
   "cell_type": "markdown",
   "metadata": {
    "slideshow": {
     "slide_type": "slide"
    }
   },
   "source": [
    "### Workshop #1 has 6 sections\n",
    "\n",
    "1) **Introduction to Python**: Notebooks 00 to 03\n",
    "1) **Python Fundamentals**: Notebooks 04 to 08\n",
    "    1) **Mini-Project**: Notebook 09 - A short project for integrating the lessons learned\n",
    "1) **Intermediate Concepts**: Notebooks 10 to 13\n",
    "1) **Scientific Python**: Notebooks 14 to 19 - Python Scientific Stack (NumPy, Matplotlib, SciPy, Pandas)\n",
    "1) **Additional Topics**: Notebooks 20 to 23\n",
    "    1) **Mini-Project**: Notebook 20 - Another short project for practice\n",
    "1) **Final Project**: Notebook 24"
   ]
  },
  {
   "cell_type": "markdown",
   "metadata": {
    "slideshow": {
     "slide_type": "slide"
    }
   },
   "source": [
    "<img align=right src=\"images/inmas.png\" width=130x />\n",
    "\n",
    "# Notebook 00 - Introduction to Python\n",
    "\n",
    "This notebook covers the rationale for choosing the Python language and shows some basic comparisons with other programming languages\n",
    "\n",
    "### Prerequisite\n",
    "A desire for learning a cool programming language"
   ]
  },
  {
   "cell_type": "markdown",
   "metadata": {
    "slideshow": {
     "slide_type": "slide"
    }
   },
   "source": [
    "### Jupyter Notebooks\n",
    "\n",
    "- We will use Jupyter Notebooks for learning and running Python code  \n",
    "- This and all other slides are made in Jupyter Notebooks\n",
    "\n",
    "- As you work through this notebook, you will be asked to run the code cells below\n",
    "- If you are new to jupyter, don't worry:\n",
    "    - the first exercise of this workshop is a short tutorial on Jupyter\n",
    "\n"
   ]
  },
  {
   "cell_type": "markdown",
   "metadata": {
    "slideshow": {
     "slide_type": "slide"
    }
   },
   "source": [
    "### Introduction to Python\n",
    "\n",
    "<img src=\"images/PythonLogo.jpg\" width=512px>\n",
    "\n",
    "- General–purpose programming language capable of performing *many\n",
    "  different tasks* including scientific computing  \n",
    "- Open source (free!), development coordinated through the [Python Software Foundation](https://www.python.org/psf/)  \n",
    "- Experienced rapid adoption in the last decade, and is now one of the\n",
    "  most popular programming languages  "
   ]
  },
  {
   "cell_type": "markdown",
   "metadata": {
    "slideshow": {
     "slide_type": "slide"
    }
   },
   "source": [
    "### Why Python for INMAS?\n",
    "\n",
    "- Versatile high-level programming language  \n",
    "- High-quality scientific libraries (NumPy, SciPy, Pandas, Matplotlib)  \n",
    "- Parallelization and just-in-time (JIT) compilation  \n",
    "- Modern machine-learning libraries (Tensorflow API, Scikit Learn)  \n",
    "- Vast array of free libraries in other fields (web, networks, natural language processing)\n",
    "- Positive spillovers from popularity (Stack Overflow, Stack Exchange, etc.)"
   ]
  },
  {
   "cell_type": "markdown",
   "metadata": {
    "slideshow": {
     "slide_type": "slide"
    }
   },
   "source": [
    "### Popularity of Python\n",
    "\n",
    "<img src=\"images/python_projections.png\" width=800px align='right' >\n",
    "\n",
    "Projection made by Seasonal and Trend Decomposition using Loess\n",
    "\n",
    "Notice the seasonality in questions - homeworks?\n",
    "\n",
    "[<small> Source: StackOverflow </small>](https://stackoverflow.blog/2017/09/06/incredible-growth-python/)"
   ]
  },
  {
   "cell_type": "markdown",
   "metadata": {
    "slideshow": {
     "slide_type": "slide"
    }
   },
   "source": [
    "### Python is used for multiple different applications and in many industries\n",
    "\n",
    "<img src=\"images/python_usage.png\" width=800px align='center' >\n",
    "\n",
    "[<small>Source: Quora</small>](https://www.quora.com/What-are-the-places-where-Python-is-used)"
   ]
  },
  {
   "cell_type": "markdown",
   "metadata": {
    "slideshow": {
     "slide_type": "slide"
    }
   },
   "source": [
    "### Comparing low- and high-level programming languages\n",
    "\n",
    "1. Low-level languages (Assembler, FORTRAN, C, C++)\n",
    "   * Very fast\n",
    "   * Very verbose\n",
    "1. High-level languages (Python, Matlab, R, Sage, Julia, ...)\n",
    "   * Slower (although not for all tasks and circumstances)\n",
    "   * A lot more concise\n",
    "   * Versatile with (usually) many libraries\n",
    "\n",
    "\n",
    "What to choose?"
   ]
  },
  {
   "cell_type": "markdown",
   "metadata": {
    "slideshow": {
     "slide_type": "slide"
    }
   },
   "source": [
    "### Trade-offs between execution speed and productivity\n",
    "\n",
    "<img src=\"images/tradeoffs.png\" width=800px align='right' >\n",
    "\n",
    "For some tasks, Python combined with the NumPy library offers speed comparable to low-level languages\n",
    "\n",
    "When prototyping, productivity is more important than speed "
   ]
  },
  {
   "cell_type": "markdown",
   "metadata": {
    "slideshow": {
     "slide_type": "slide"
    }
   },
   "source": [
    "### Some languages are more chatty than others\n",
    "\n",
    "<img src=\"images/language_verbosity.png\" width=700px align='right' >\n",
    "\n",
    "- Mathematica is very concise\n",
    "- Python is more chatty than MATLAB or R\n",
    "\n",
    "\n",
    "[<small> Source: blog.revolutionanalytics.com</small>](http://blog.revolutionanalytics.com/2012/11/which-programming-language-is-the-most-concise.html)"
   ]
  },
  {
   "cell_type": "markdown",
   "metadata": {
    "slideshow": {
     "slide_type": "slide"
    }
   },
   "source": [
    "### How does Python execution speed compares to other languages? \n",
    "\n",
    "<img src=\"images/runtime1.png\" width=700px>\n",
    "\n",
    "<img src=\"images/runtime2.png\" width=725px>\n",
    "\n",
    "<small> Speed comparisons from Aruoba and Fernández-Villaverde </small>"
   ]
  },
  {
   "cell_type": "markdown",
   "metadata": {
    "slideshow": {
     "slide_type": "slide"
    }
   },
   "source": [
    "### Setting up your own workspace\n",
    "\n",
    "1. Install Python environment manager Anaconda  \n",
    "1. Install Git and Git GUI\n",
    "1. Register at GitHub\n",
    "1. Install a good text editor\n"
   ]
  },
  {
   "cell_type": "markdown",
   "metadata": {
    "slideshow": {
     "slide_type": "slide"
    }
   },
   "source": [
    "### 1. Installing Anaconda\n",
    "Anaconda provides:\n",
    "- Python kernel\n",
    "- Jupyter Notebook\n",
    "- Scientific programming libraries\n",
    "\n",
    "As you are reading this file in a Jupyter notebook, it is assumed that this step has been completed!"
   ]
  },
  {
   "cell_type": "markdown",
   "metadata": {
    "slideshow": {
     "slide_type": "slide"
    }
   },
   "source": [
    "### 2. Installing Git\n",
    "\n",
    "Git a source code management that acts as a time machine and allows many users to share the same code and make modifications. It works great with text files such as programming code or with TeX files, so that it can also help you while writing your thesis.\n",
    "\n",
    "Installation instructions are [here](https://git-scm.com/book/en/v2/Getting-Started-Installing-Git) and vary depending on your operating system"
   ]
  },
  {
   "cell_type": "markdown",
   "metadata": {
    "slideshow": {
     "slide_type": "slide"
    }
   },
   "source": [
    "### 3. Register at GitHub\n",
    "GitHub is a social coding network website that\n",
    "  - Hosts a large number of open-source code repositories for community projects \n",
    "  - Provides version control and integrations\n",
    "  - Connects community of coders\n",
    "\n",
    "Register [here](https://www.github.com)"
   ]
  },
  {
   "cell_type": "markdown",
   "metadata": {
    "slideshow": {
     "slide_type": "slide"
    }
   },
   "source": [
    "### 4. Installing a good text editor\n",
    "A good text editor is essential for editing source files  \n",
    "- Could be done in Jupyter but less convenient  \n",
    "- Essential for bigger coding projects\n",
    "\n",
    "There are many good text editors and different styles. Here are a view (free) suggestions:\n",
    "\n",
    "- [hyper](https://hyper.is)\n",
    "- [VS Code](https://code.visualstudio.com/)\n",
    "- [PyCharm](https://www.jetbrains.com/pycharm/) (complete IDE)\n",
    "- [vim](https://www.vim.org/download.php) (powerfull, old school and steep learning curve)\n"
   ]
  },
  {
   "cell_type": "markdown",
   "metadata": {
    "slideshow": {
     "slide_type": "slide"
    }
   },
   "source": [
    "### Key Points\n",
    "At this point you should:\n",
    "- Have a working version of Anaconda with the RISE extension\n",
    "- Have installed git on your computer\n",
    "- Have installed a text editor for coding"
   ]
  },
  {
   "cell_type": "markdown",
   "metadata": {
    "slideshow": {
     "slide_type": "slide"
    }
   },
   "source": [
    "### What's Next?\n",
    "- Complete the exercises in this associated exercise notebook [X-00-Introduction.ipynb](X-00-Introduction.ipynb)\n",
    "- Next notebook is [N-01-Primer1.ipynb](N-01-Primer1.ipynb)"
   ]
  }
 ],
 "metadata": {
  "celltoolbar": "Slideshow",
  "date": 1612589584.261502,
  "download_nb": false,
  "filename": "01_introduction.rst",
  "filename_with_path": "01_introduction",
  "kernelspec": {
   "display_name": "Python [conda env:rise] *",
   "language": "python",
   "name": "conda-env-rise-py"
  },
  "language_info": {
   "codemirror_mode": {
    "name": "ipython",
    "version": 3
   },
   "file_extension": ".py",
   "mimetype": "text/x-python",
   "name": "python",
   "nbconvert_exporter": "python",
   "pygments_lexer": "ipython3",
   "version": "3.12.7"
  },
  "panel-cell-order": [
   "6cd423c4",
   "427c4bac",
   "1156e7c6",
   "264b8a0e",
   "a1dc56b6",
   "4060cf82",
   "c8a72e84",
   "c072f5ad",
   "593eeb59",
   "4ca4731a",
   "004004be",
   "5ee2cee4",
   "28d05f84",
   "8c3cce15",
   "0c22867a",
   "5e8659e9",
   "020d3ac2",
   "1e20ab22",
   "1ce055ce"
  ],
  "title": "Foundations of Computational Economics"
 },
 "nbformat": 4,
 "nbformat_minor": 4
}

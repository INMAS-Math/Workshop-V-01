{
 "cells": [
  {
   "cell_type": "markdown",
   "metadata": {
    "id": "8FzPm-6HJYBp",
    "slideshow": {
     "slide_type": "slide"
    }
   },
   "source": [
    "<img src=\"images/inmas.png\" width=130x align='right' />\n",
    "\n",
    "# Notebook 18 - SciPy Basics\n",
    "\n",
    "Material covered in this notebook:\n",
    "\n",
    "- How to solve a system of ODEs using SciPy\n",
    "- How to solve a linear programming problem\n",
    "- How to use special functions in the SciPy module\n",
    "\n",
    "#### Prerequisite\n",
    "Notebook 17"
   ]
  },
  {
   "cell_type": "markdown",
   "metadata": {
    "slideshow": {
     "slide_type": "slide"
    }
   },
   "source": [
    "#### Housekeeping"
   ]
  },
  {
   "cell_type": "code",
   "execution_count": null,
   "metadata": {
    "id": "TDUR7jjyJzrx",
    "slideshow": {
     "slide_type": "fragment"
    }
   },
   "outputs": [],
   "source": [
    "import numpy as np\n",
    "import matplotlib.pyplot as plt"
   ]
  },
  {
   "cell_type": "markdown",
   "metadata": {
    "id": "gYhlG2rWJYBt",
    "slideshow": {
     "slide_type": "slide"
    }
   },
   "source": [
    "### What is SciPy?\n",
    "\n",
    "- `SciPy` in Python is an open-source library of algorithms designed to solve mathematical problems\n",
    "- It builds on top of the low-level `NumPy` framework for multidimensional arrays\n",
    "- It provides a large number of higher-level scientific algorithms grouped in submodules\n"
   ]
  },
  {
   "cell_type": "markdown",
   "metadata": {
    "slideshow": {
     "slide_type": "slide"
    }
   },
   "source": [
    "### SciPy has many submodules\n",
    "\n",
    "<table>\n",
    "<tr>\n",
    "<td>\n",
    "    \n",
    "    Special functions (scipy.special)\n",
    "    Integration (scipy.integrate)\n",
    "    Optimization (scipy.optimize)\n",
    "    Interpolation (scipy.interpolate)\n",
    "    Fourier Transforms (scipy.fftpack)\n",
    "    Signal Processing (scipy.signal)\n",
    "    \n",
    "</td>\n",
    "<td>\n",
    "    \n",
    "    Linear Algebra (scipy.linalg)\n",
    "    Sparse Eigenvalue Problems (scipy.sparse)\n",
    "    Statistics (scipy.stats)\n",
    "    Multi-dimensional image processing (scipy.ndimage)\n",
    "    File IO (scipy.io)\n",
    "    \n",
    "</td>\n",
    "</tr>\n",
    "</table>\n",
    "\n",
    "Each of these submodules provides a number of functions and classes that can be used to solve problems in their respective topics"
   ]
  },
  {
   "cell_type": "markdown",
   "metadata": {
    "id": "O27N3uMyEoeD",
    "slideshow": {
     "slide_type": "slide"
    }
   },
   "source": [
    "### SciPy can solve ordinary differential equations (ODE)\n",
    "\n",
    "- `SciPy` provides two different ways to solve ODEs:\n",
    "    - a procedural approach based on the function `odeint`\n",
    "    - an object-oriented API based on the class `ode`\n",
    "- For non-OOP users, `odeint` is easier to get started with, but the `ode` class offers some finer level of control\n",
    "\n",
    "Here we will use the `odeint` functions from submodule `scipy.integrate`"
   ]
  },
  {
   "cell_type": "code",
   "execution_count": null,
   "metadata": {
    "id": "QyPWqnbeJYBu",
    "slideshow": {
     "slide_type": "fragment"
    }
   },
   "outputs": [],
   "source": [
    "from scipy.integrate import odeint"
   ]
  },
  {
   "cell_type": "markdown",
   "metadata": {
    "id": "3dQFTeznFRNB",
    "slideshow": {
     "slide_type": "slide"
    }
   },
   "source": [
    "### Formulation a system of ODE's\n",
    "The standard form of a system of ODE's is:\n",
    "\n",
    "$y′=f(y, t)$\n",
    "\n",
    "where\n",
    "\n",
    "$y=[y_1(t),y_2(t),...,y_n(t)]$\n",
    "\n",
    "and $f$ is some function that gives the derivatives of the functions $y_i(t)$\n",
    "\n",
    "To solve an initial-value problem we need to know the function $f$ and initial conditions, $y(0)$"
   ]
  },
  {
   "cell_type": "markdown",
   "metadata": {
    "id": "3dQFTeznFRNB",
    "slideshow": {
     "slide_type": "slide"
    }
   },
   "source": [
    "### Solving an ODE system in SciPy\n",
    "\n",
    "For solving in Python, all we need is to define the derivative function `f()` and build the array of initial values `y0` and  discretized time coordinates `t`\n",
    " \n",
    "we can then use the `odeint` function as:\n",
    "\n",
    "```\n",
    "yt = odeint(f, y0, t)\n",
    "```\n",
    "\n",
    "where `yt` is an array with one row for each point in time in `t`, and where each column corresponds to a solution `y_i(t)` at that point in time\n",
    "\n",
    "Let's look at some examples"
   ]
  },
  {
   "cell_type": "markdown",
   "metadata": {
    "id": "tnzwUTKSGHBr",
    "slideshow": {
     "slide_type": "slide"
    }
   },
   "source": [
    "### Predator-prey equations\n",
    "\n",
    "- One fist example considers a two-species predator-prey equations\n",
    "- These equations are named the Lotka-Volterra equations\n",
    "    - more details [here](https://en.wikipedia.org/wiki/Lotka–Volterra_equations)\n",
    "- For two species, they involve 4 coefficients and can be written as:\n",
    "\n",
    "> $\\dot{x} = \\alpha x-\\beta xy$ <br>\n",
    "> $\\dot{y} = \\delta xy -\\gamma y$\n",
    "\n",
    "where $\\dot{x}$ is the time derivative of $x$.\n",
    "\n",
    "Predators $y$ thrive when $x$ population is large, while preys $x$' growth decreases if predators are numerous"
   ]
  },
  {
   "cell_type": "markdown",
   "metadata": {
    "slideshow": {
     "slide_type": "slide"
    }
   },
   "source": [
    "### Coding the derivative in Python"
   ]
  },
  {
   "cell_type": "code",
   "execution_count": null,
   "metadata": {
    "id": "qmjngZUfa-8_",
    "slideshow": {
     "slide_type": "fragment"
    }
   },
   "outputs": [],
   "source": [
    "alpha = 1.\n",
    "beta = 0.1\n",
    "delta = 0.07\n",
    "gamma = 1.5\n",
    "\n",
    "def derivative(X, t):\n",
    "    '''The right-hand side of the ODE.'''\n",
    "    x, y = X\n",
    "    xdot = x * (alpha - beta * y)\n",
    "    ydot = y * (delta * x - gamma)\n",
    "    return np.array([xdot, ydot])"
   ]
  },
  {
   "cell_type": "markdown",
   "metadata": {
    "slideshow": {
     "slide_type": "slide"
    }
   },
   "source": [
    "### Defining initial conditions and time discretization\n",
    "We will now define an initial population of 10 rabbits and 5 foxes:"
   ]
  },
  {
   "cell_type": "code",
   "execution_count": null,
   "metadata": {
    "id": "e5EszYO0H3B_",
    "slideshow": {
     "slide_type": "fragment"
    }
   },
   "outputs": [],
   "source": [
    "X0 = np.array([10, 5]) # 10 preys and 5 predators"
   ]
  },
  {
   "cell_type": "markdown",
   "metadata": {
    "slideshow": {
     "slide_type": "fragment"
    }
   },
   "source": [
    "We choose to model for 15 periods discretized over 1000 points:"
   ]
  },
  {
   "cell_type": "code",
   "execution_count": null,
   "metadata": {
    "id": "8rdk0O--Ig46",
    "slideshow": {
     "slide_type": "fragment"
    }
   },
   "outputs": [],
   "source": [
    "t = np.linspace(0, 15,  1000) "
   ]
  },
  {
   "cell_type": "markdown",
   "metadata": {
    "id": "fV-2JIqaNbrc",
    "slideshow": {
     "slide_type": "slide"
    }
   },
   "source": [
    "### Integrating the  system of ODEs\n",
    "A simple call integrates this system of ODEs:"
   ]
  },
  {
   "cell_type": "code",
   "execution_count": null,
   "metadata": {
    "id": "rNUiB-MfIoyw",
    "slideshow": {
     "slide_type": "fragment"
    }
   },
   "outputs": [],
   "source": [
    "X = odeint(derivative, X0, t)"
   ]
  },
  {
   "cell_type": "markdown",
   "metadata": {
    "slideshow": {
     "slide_type": "fragment"
    }
   },
   "source": [
    "The results in time are in rows. We need to transpose to split time series by preys and predators:"
   ]
  },
  {
   "cell_type": "code",
   "execution_count": null,
   "metadata": {
    "id": "qCyoh9QWLBd4",
    "slideshow": {
     "slide_type": "fragment"
    }
   },
   "outputs": [],
   "source": [
    "prey, predator = X.transpose()"
   ]
  },
  {
   "cell_type": "markdown",
   "metadata": {
    "id": "js-PHBBBJj2A",
    "slideshow": {
     "slide_type": "slide"
    }
   },
   "source": [
    "### Plotting the results with matplotlib"
   ]
  },
  {
   "cell_type": "code",
   "execution_count": null,
   "metadata": {
    "id": "tVVNih4NJXn4",
    "slideshow": {
     "slide_type": "fragment"
    }
   },
   "outputs": [],
   "source": [
    "f1 = plt.figure()\n",
    "plt.plot(t, prey, 'r-', label='Preys')\n",
    "plt.plot(t, predator  , 'b-', label='Predators')\n",
    "plt.grid()\n",
    "plt.legend(loc='best')\n",
    "plt.xlabel('time')\n",
    "plt.ylabel('population')\n",
    "plt.title('Evolution of prey and predator populations');"
   ]
  },
  {
   "cell_type": "markdown",
   "metadata": {
    "slideshow": {
     "slide_type": "slide"
    }
   },
   "source": [
    "### SciPy can also solve many types of optimization problems\n",
    "- **minimize()** for minimizing a scalar function of one or more variables (local minimum)\n",
    "    - many other methods to deal with global optimization\n",
    "- **linprog()** for solving linear programming problems\n",
    "     - **milp()** for solving linear programming problems with mixed integers\n",
    "- **leastsq()** for minimizing the sum of squares of a set of equations\n",
    "- **curve_fit** for non-linear least-squares fit to a function\n"
   ]
  },
  {
   "cell_type": "markdown",
   "metadata": {
    "slideshow": {
     "slide_type": "slide"
    }
   },
   "source": [
    "### A simple linear programming example\n",
    "- Company produces 4 products priced at \\\\$12, \\\\$14, \\\\$25, and \\\\$40 respectively\n",
    "- Production line cannot produce more that 50 units per day\n",
    "- Producing these units costs 3, 2, 1, 0 units of material A and 0, 2, 2, 5 units of material B, respectively\n",
    "- Supply chain limits consumption of 100 units of material A and 90 units of material B per day\n",
    "\n",
    "Maximize profits:\n",
    "$$\n",
    "\\max 12x_1 + 14 x_2 + 25 x_3 + 40 x_4\\\\\n",
    "\\text{subject to:}\\hspace{1cm} x_1 + x_2 + x_3 + x_4 \\le 50 \\\\\n",
    "\\hspace{2.2cm} 3 x_1 + 2 x_2 +  x_3 \\le 100 \\\\\n",
    "\\hspace{2.2cm} 2 x_2 + 2 x_3 + 5 x_4 \\le 90\n",
    "$$"
   ]
  },
  {
   "cell_type": "markdown",
   "metadata": {
    "slideshow": {
     "slide_type": "slide"
    }
   },
   "source": [
    "### Converting to maximize $c \\cdot x$ subject to $Ax \\le b$\n",
    "$$\n",
    "\\max 12x_1 + 14 x_2 + 25 x_3 + 40 x_4\\\\\n",
    "\\text{subject to:}\\hspace{1cm} x_1 + x_2 + x_3 + x_4 \\le 50 \\\\\n",
    "\\hspace{2.2cm} 3 x_1 + 2 x_2 +  x_3 \\le 100 \\\\\n",
    "\\hspace{2.2cm} 2 x_2 + 2 x_3 + 5 x_4 \\le 90,\n",
    "$$\n",
    "becomes\n",
    "$$\n",
    "c = (12, 14, 25, 40),\\\\\n",
    "A = \n",
    "\\begin{pmatrix}\n",
    "1 & 1 & 1 & 1 \\\\\n",
    "3 & 2 & 1 & 0 \\\\\n",
    "0 & 2 & 2 & 5\n",
    "\\end{pmatrix},\\\\\n",
    "b = (50, 100, 90)\n",
    "$$"
   ]
  },
  {
   "cell_type": "markdown",
   "metadata": {
    "slideshow": {
     "slide_type": "slide"
    }
   },
   "source": [
    "### Solving our problem in Python \n"
   ]
  },
  {
   "cell_type": "code",
   "execution_count": null,
   "metadata": {
    "slideshow": {
     "slide_type": "fragment"
    }
   },
   "outputs": [],
   "source": [
    "from scipy.optimize import linprog\n",
    "\n",
    "vec_c = -np.array([12, 14, 25, 40]) # We want to maximize therefore minimize the negative\n",
    "matrix_A = np.array([[1, 1, 1, 1], [3, 2, 1, 0],[0, 2, 2, 4]])\n",
    "vec_b = np.array([50, 100, 90])\n",
    "opt = linprog(c=vec_c, A_ub=matrix_A, b_ub=vec_b)\n",
    "print(opt.x)"
   ]
  },
  {
   "cell_type": "markdown",
   "metadata": {
    "slideshow": {
     "slide_type": "fragment"
    }
   },
   "source": [
    "Maximum profits are achieved by selling 27.5 units of product 1 and 22.5 of product 4, and none for products 2 and 3!"
   ]
  },
  {
   "cell_type": "markdown",
   "metadata": {
    "slideshow": {
     "slide_type": "slide"
    }
   },
   "source": [
    "### SciPy offers many special functions\n",
    "\n",
    "- Airy, Error, Gamma, Kelvin, Lambert W, Legendre, Mathieu, Struve functions\n",
    "- Elliptic functions and integrals\n",
    "- Bessel functions\n",
    "    - their zeros, integrals and derivatives\n",
    "    - spherical Bessel and Ricatti-Bessel functions\n",
    "- Statistical functions\n",
    "    - Binomial, Beta, F, Gamma, Normal, Poisson, Student t, Kolmogorov, Chi square, ...\n",
    "- Orthogonal polynomials (Jacobi, Hermite, Laguerre\n",
    "- Combinatics\n",
    "- ...\n",
    "\n",
    "\n",
    "\n"
   ]
  },
  {
   "cell_type": "markdown",
   "metadata": {
    "slideshow": {
     "slide_type": "slide"
    }
   },
   "source": [
    "### Plotting Bessel function of the first kind - order 0\n",
    "A simple example:"
   ]
  },
  {
   "cell_type": "code",
   "execution_count": null,
   "metadata": {
    "slideshow": {
     "slide_type": "fragment"
    }
   },
   "outputs": [],
   "source": [
    "from scipy import special\n",
    "\n",
    "x = np.linspace(0, 30, 200)\n",
    "y = special.j0(x)\n",
    "plt.plot(x, y)\n",
    "plt.grid()"
   ]
  },
  {
   "cell_type": "markdown",
   "metadata": {
    "slideshow": {
     "slide_type": "slide"
    }
   },
   "source": [
    "### Key Points\n",
    "- SciPy has a broad array of capabilities for solving numerical problems\n",
    "- It is built over NumPy's arrays functionality\n",
    "- It can be used to solve linear programming problems and much more"
   ]
  },
  {
   "cell_type": "markdown",
   "metadata": {
    "slideshow": {
     "slide_type": "slide"
    }
   },
   "source": [
    "### Further Reading\n",
    "- The SciPy documentation is [here](https://docs.scipy.org/doc/scipy/reference/)"
   ]
  },
  {
   "cell_type": "markdown",
   "metadata": {
    "slideshow": {
     "slide_type": "slide"
    }
   },
   "source": [
    "### What's Next?\n",
    "- Complete the exercises in this associated exercise notebook [X-18-SciPy.ipynb](X-18-SciPy.ipynb)\n",
    "- Next notebook is [N-19-Pandas.ipynb](N-19-Pandas.ipynb)"
   ]
  }
 ],
 "metadata": {
  "celltoolbar": "Slideshow",
  "colab": {
   "collapsed_sections": [],
   "provenance": []
  },
  "kernelspec": {
   "display_name": "Python 3 (ipykernel)",
   "language": "python",
   "name": "python3"
  },
  "language_info": {
   "codemirror_mode": {
    "name": "ipython",
    "version": 3
   },
   "file_extension": ".py",
   "mimetype": "text/x-python",
   "name": "python",
   "nbconvert_exporter": "python",
   "pygments_lexer": "ipython3",
   "version": "3.11.7"
  }
 },
 "nbformat": 4,
 "nbformat_minor": 1
}

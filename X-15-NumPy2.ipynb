{
 "cells": [
  {
   "cell_type": "markdown",
   "metadata": {
    "id": "8FzPm-6HJYBp"
   },
   "source": [
    "<img src=\"images/inmas.png\" width=130x align='right' />\n",
    "\n",
    "# Exercise 15 -  Intermediate NumPy\n",
    "\n",
    "\n",
    "### Prerequisite\n",
    "Notebook 15\n"
   ]
  },
  {
   "cell_type": "markdown",
   "metadata": {
    "id": "ugD2Rlkx88Z7"
   },
   "source": [
    "### 1.\n",
    "Create an array with values from -1 to 1, with step size 0.1."
   ]
  },
  {
   "cell_type": "code",
   "execution_count": null,
   "metadata": {
    "id": "b7-1qhg_JYB4"
   },
   "outputs": [],
   "source": []
  },
  {
   "cell_type": "markdown",
   "metadata": {
    "id": "QGZCvnmR3rHy"
   },
   "source": [
    "### 2.\n",
    "Using NumPy and matplotlib, make a plot of a sinusoid on the interval $[−\\pi, \\pi]$.\n",
    "- Include a title and labels for the $x$- and $y$-axes. \n",
    "- Experiment with different step sizes to obtain a nice smooth graph.\n",
    "    - What is an optimal value? (*Hint:* Think pixels on your screen.)"
   ]
  },
  {
   "cell_type": "code",
   "execution_count": null,
   "metadata": {
    "id": "-cxUDa_334Xh"
   },
   "outputs": [],
   "source": []
  },
  {
   "cell_type": "markdown",
   "metadata": {
    "id": "vZjmAKaj4gCS"
   },
   "source": [
    "### 3.\n",
    "Produce a plot of the functions $f(x) = e^{-x/10} \\sin(\\pi x)$ and $g(x) = xe^{−x/3}$ over the interval $[0, 10]$. Include labels for the $x$- and $y$-axes, and a legend explaining which line is which plot."
   ]
  },
  {
   "cell_type": "code",
   "execution_count": null,
   "metadata": {
    "id": "GDmBRTz54mjx"
   },
   "outputs": [],
   "source": []
  },
  {
   "cell_type": "markdown",
   "metadata": {
    "id": "PVn22vjl9jeu"
   },
   "source": [
    "### 4.\n",
    "How is `np.linspace()` different from `np.arange()`? What does `np.logspace()` do?"
   ]
  },
  {
   "cell_type": "markdown",
   "metadata": {},
   "source": [
    "### 5.\n",
    "Using the `shape` property and the `zeros()` function, write an equivalent to the `zeros_like()` function."
   ]
  },
  {
   "cell_type": "code",
   "execution_count": null,
   "metadata": {},
   "outputs": [],
   "source": []
  },
  {
   "cell_type": "markdown",
   "metadata": {
    "id": "CDWRceUf981U"
   },
   "source": [
    "### 6.\n",
    "Use the commands just learned to create the following matrices:\n",
    "\n",
    "#### 6.1\n",
    "A $4\\times4$ diagonal matrix with diagonal entries $1, 2, 3, 4$."
   ]
  },
  {
   "cell_type": "code",
   "execution_count": null,
   "metadata": {},
   "outputs": [],
   "source": []
  },
  {
   "cell_type": "markdown",
   "metadata": {},
   "source": [
    "#### 6.2\n",
    "A $5\\times 3$ matrix of all $1$s."
   ]
  },
  {
   "cell_type": "code",
   "execution_count": null,
   "metadata": {},
   "outputs": [],
   "source": []
  },
  {
   "cell_type": "markdown",
   "metadata": {},
   "source": [
    "#### 6.3\n",
    "The vector $(1,1.2,1.4,1.6,1.8,2)$ using two different methods."
   ]
  },
  {
   "cell_type": "code",
   "execution_count": null,
   "metadata": {
    "id": "5r9SIg_PdvUc"
   },
   "outputs": [],
   "source": []
  },
  {
   "cell_type": "markdown",
   "metadata": {},
   "source": [
    "#### 6.4\n",
    "A vector of length $8$ with random entries drawn from a normal distribution with mean 1 and variance 1."
   ]
  },
  {
   "cell_type": "code",
   "execution_count": null,
   "metadata": {},
   "outputs": [],
   "source": []
  },
  {
   "cell_type": "markdown",
   "metadata": {
    "id": "MEU1sh0Ad58i"
   },
   "source": [
    "### 7.\n",
    "What happens if one tries to open a file with `genfromtxt()` and the file:\n",
    "1) does not exists?\n",
    "1) already exists?\n",
    "1) How to fix potential issues arising from the behavior of the function?"
   ]
  },
  {
   "cell_type": "code",
   "execution_count": null,
   "metadata": {
    "id": "L6FLsVnvd02B"
   },
   "outputs": [],
   "source": []
  },
  {
   "cell_type": "markdown",
   "metadata": {
    "id": "RAxGQg_5LFfi"
   },
   "source": [
    "### 8.\n",
    "Slice thee following array to obtain values at even indices of the array A.\n"
   ]
  },
  {
   "cell_type": "code",
   "execution_count": null,
   "metadata": {
    "id": "6irbNbSzg81c"
   },
   "outputs": [],
   "source": [
    "A = np.array([1, 2, 3, 4, 5, 6, 7, 8, 9])"
   ]
  },
  {
   "cell_type": "markdown",
   "metadata": {},
   "source": [
    "### 9.\n",
    "Using the array A from the previous problem:\n",
    "- Slice the array A by providing all three values \\[start:stop:increment\\] such that A prints all its values\n",
    "- Slice A to print in reverse order\n",
    "- Slice A by providing all three values to print in reverse order"
   ]
  },
  {
   "cell_type": "markdown",
   "metadata": {
    "id": "q_Mhu9HBhUZr"
   },
   "source": [
    "### 10.\n",
    "Using matrix A below, write code to print:\n",
    "1. `array([ 1, 11, 21, 31, 41])`\n",
    "2. `array([[ 1,  3], [11, 13], [21, 23], [31, 33], [41, 43]])` \n",
    "3. `array([[11, 13], [31, 33]])`\n",
    "4. `array([[33, 34], [43, 44]])`"
   ]
  },
  {
   "cell_type": "code",
   "execution_count": null,
   "metadata": {
    "id": "lYDQ1IdlhpkF"
   },
   "outputs": [],
   "source": [
    "A = np.array([[n + m*10 for n in range(5)] for m in range(5)])"
   ]
  },
  {
   "cell_type": "markdown",
   "metadata": {
    "id": "N954C9DijBiP"
   },
   "source": [
    "### 11.\n",
    "Create a $5\\times 5$ matrix with entries drawn from a uniform distribution on $[-1,1]$. Using a mask, print only the positive entries of the matrix.\n",
    "\n"
   ]
  },
  {
   "cell_type": "code",
   "execution_count": null,
   "metadata": {
    "id": "HWDvDNeWjc8T"
   },
   "outputs": [],
   "source": []
  },
  {
   "cell_type": "markdown",
   "metadata": {},
   "source": [
    "### 12.*\n",
    "In NumPy, data can be saved in CSV format or in binary format. In the latter, a header is included that contains the type and shape of the object, as well as information on the binary format used to store the data. Because of the additional diskspace required for the header, small arrays can sometimes take less disk space in CSV format.\n",
    "\n",
    "- Build a `for` loop that builds 5 x N arrays and saves them to disk in both text and binary formats (vary N from small to large, and use N to name your files).\n",
    "- What is the size of the array for which the size of binary and CSV files are roughly equivalent?\n",
    "- How are you results changing when using different floating-point precision for the text format? "
   ]
  },
  {
   "cell_type": "code",
   "execution_count": null,
   "metadata": {},
   "outputs": [],
   "source": []
  },
  {
   "cell_type": "markdown",
   "metadata": {},
   "source": [
    "### 13.\n",
    "Run the following code and explain the results. What if `x` is 12?"
   ]
  },
  {
   "cell_type": "code",
   "execution_count": null,
   "metadata": {},
   "outputs": [],
   "source": [
    "import numpy as np\n",
    "\n",
    "x = 120\n",
    "a = int(2)\n",
    "c = a**x\n",
    "print(c)\n",
    "\n",
    "b = 2*np.ones(2, dtype=int)\n",
    "d = b**x\n",
    "print(d)"
   ]
  }
 ],
 "metadata": {
  "colab": {
   "collapsed_sections": [],
   "name": "Notebook10_Numpy_intermediate.ipynb",
   "provenance": [],
   "toc_visible": true
  },
  "kernelspec": {
   "display_name": "Python 3 (ipykernel)",
   "language": "python",
   "name": "python3"
  },
  "language_info": {
   "codemirror_mode": {
    "name": "ipython",
    "version": 3
   },
   "file_extension": ".py",
   "mimetype": "text/x-python",
   "name": "python",
   "nbconvert_exporter": "python",
   "pygments_lexer": "ipython3",
   "version": "3.11.7"
  }
 },
 "nbformat": 4,
 "nbformat_minor": 4
}

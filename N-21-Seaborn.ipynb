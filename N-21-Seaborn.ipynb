{
 "cells": [
  {
   "cell_type": "markdown",
   "id": "08d3a007",
   "metadata": {
    "slideshow": {
     "slide_type": "slide"
    }
   },
   "source": [
    "<img src=\"images/inmas.png\" width=130x align='right' />\n",
    "\n",
    "# Notebook 21 - Visualizing with Seaborn\n",
    "This notebook is a short introduction to Seaborn. It covers:\n",
    "\n",
    "<small>\n",
    "\n",
    "- Reading a data set\n",
    "- Relational plots such as scatterplots, line plots, and regression plots\n",
    "- Categorical plots such as bar plots, and box plots\n",
    "- Distribution plot such as histograms\n",
    "- Grid plots and pair plots\n",
    "\n",
    "### Prerequisite\n",
    "Notebook 20\n",
    "</small>\n",
    "----"
   ]
  },
  {
   "cell_type": "markdown",
   "id": "22d6c1e3",
   "metadata": {
    "slideshow": {
     "slide_type": "slide"
    }
   },
   "source": [
    "### Housekeeping"
   ]
  },
  {
   "cell_type": "code",
   "execution_count": null,
   "id": "b3e4b96c",
   "metadata": {
    "slideshow": {
     "slide_type": "fragment"
    }
   },
   "outputs": [],
   "source": [
    "import seaborn as sbn"
   ]
  },
  {
   "cell_type": "markdown",
   "id": "6e70e530",
   "metadata": {
    "slideshow": {
     "slide_type": "slide"
    }
   },
   "source": [
    "### What is Seaborn?\n",
    "<small>\n",
    "\n",
    "- Seaborn is a Python data visualization library based on Matplotlib providing a high-level interface for drawing attractive and informative statistical graphics\n",
    "- Seaborn offers a richer set of plotting functions such as:\n",
    "    - Relational plots: Scatterplots, line plots, and regression plots\n",
    "    - Categorical plots: Bar plots, count plots, box plots, and violin plots\n",
    "    - Distribution plots: Histograms, kernel density estimation (KDE) plots, and rug plots\n",
    "    - Grid plots: FacetGrid and PairGrid for creating multiple plots in a grid layout\n",
    "    - Matrix plots: Heatmaps and clustermaps\n",
    "</small>"
   ]
  },
  {
   "cell_type": "markdown",
   "id": "d0f0629a",
   "metadata": {
    "slideshow": {
     "slide_type": "slide"
    }
   },
   "source": [
    "### Loading sample data from the Seaborn package\n",
    "We'll use the [palmer penguins](https://allisonhorst.github.io/palmerpenguins/) data set, which comes part of the Seaborn package\n",
    "\n",
    "Data set contains anatomical measurements for three species of penguins: Adelie, Gentoo, and Chinstrap"
   ]
  },
  {
   "cell_type": "code",
   "execution_count": null,
   "id": "1eb3930e",
   "metadata": {
    "slideshow": {
     "slide_type": "fragment"
    }
   },
   "outputs": [],
   "source": [
    "penguinsDf = sbn.load_dataset('penguins')\n",
    "type(penguinsDf)"
   ]
  },
  {
   "cell_type": "markdown",
   "id": "0be6c1bb",
   "metadata": {
    "slideshow": {
     "slide_type": "slide"
    }
   },
   "source": [
    "- Seaborn's data format is based on Pandas! (notice `pandas` was not directly imported)\n",
    "- As data is a data frame we can use the commands we already know:"
   ]
  },
  {
   "cell_type": "code",
   "execution_count": null,
   "id": "4d52c48b",
   "metadata": {
    "slideshow": {
     "slide_type": "fragment"
    }
   },
   "outputs": [],
   "source": [
    "penguinsDf.head(3)"
   ]
  },
  {
   "cell_type": "markdown",
   "id": "154e78a8",
   "metadata": {
    "slideshow": {
     "slide_type": "slide"
    }
   },
   "source": [
    "### Exploring the 'penguins' data set\n",
    "We can use additional Pandas command to explore the contents of the data set just loaded:"
   ]
  },
  {
   "cell_type": "code",
   "execution_count": null,
   "id": "623fd5e1",
   "metadata": {
    "slideshow": {
     "slide_type": "fragment"
    }
   },
   "outputs": [],
   "source": [
    "penguinsDf.info()"
   ]
  },
  {
   "cell_type": "markdown",
   "id": "d9a300c3",
   "metadata": {
    "slideshow": {
     "slide_type": "fragment"
    }
   },
   "source": [
    "Notice the few missing entries"
   ]
  },
  {
   "cell_type": "code",
   "execution_count": null,
   "id": "7dbc7b35",
   "metadata": {
    "slideshow": {
     "slide_type": "slide"
    }
   },
   "outputs": [],
   "source": [
    "penguinsDf.describe()"
   ]
  },
  {
   "cell_type": "markdown",
   "id": "ee8edfbe",
   "metadata": {
    "slideshow": {
     "slide_type": "slide"
    }
   },
   "source": [
    "### Using Seaborn for generating scatterplots\n",
    "\n",
    "We'll make some scatterplots using the 'penguins' data set to look for possible correlations:"
   ]
  },
  {
   "cell_type": "code",
   "execution_count": null,
   "id": "5b407937",
   "metadata": {
    "slideshow": {
     "slide_type": "fragment"
    }
   },
   "outputs": [],
   "source": [
    "sbn.scatterplot(data=penguinsDf, x=\"flipper_length_mm\", y=\"bill_length_mm\"); "
   ]
  },
  {
   "cell_type": "markdown",
   "id": "202b6f58",
   "metadata": {
    "slideshow": {
     "slide_type": "slide"
    }
   },
   "source": [
    "We can color the points by species"
   ]
  },
  {
   "cell_type": "code",
   "execution_count": null,
   "id": "9a268922",
   "metadata": {
    "slideshow": {
     "slide_type": "fragment"
    }
   },
   "outputs": [],
   "source": [
    "sbn.scatterplot(data=penguinsDf, x=\"flipper_length_mm\", y=\"bill_length_mm\", hue=\"species\");"
   ]
  },
  {
   "cell_type": "markdown",
   "id": "033ce4d6",
   "metadata": {
    "slideshow": {
     "slide_type": "slide"
    }
   },
   "source": [
    "As Seaborn is based on Matplotlib, we can also add details to each plot by using `matplotlib`:"
   ]
  },
  {
   "cell_type": "code",
   "execution_count": null,
   "id": "ebf1f31f",
   "metadata": {
    "slideshow": {
     "slide_type": "fragment"
    }
   },
   "outputs": [],
   "source": [
    "sbn.scatterplot(data=penguinsDf, x=\"flipper_length_mm\", y=\"bill_length_mm\", hue=\"species\")\n",
    "\n",
    "import matplotlib.pyplot as plt\n",
    "plt.title('Flipper length (mm) vs. Bill Length (mm)')\n",
    "plt.xlabel('Flipper length (mm)')\n",
    "plt.ylabel('Bill length (mm)');"
   ]
  },
  {
   "cell_type": "markdown",
   "id": "1b422fd6",
   "metadata": {
    "slideshow": {
     "slide_type": "slide"
    }
   },
   "source": [
    "### Automatic linear regression (lm = linear model)\n",
    "As linear regressions are common, the command `lmplot` superimpose a best-fit line over the scatterplot:"
   ]
  },
  {
   "cell_type": "code",
   "execution_count": null,
   "id": "fc668f62",
   "metadata": {
    "slideshow": {
     "slide_type": "fragment"
    }
   },
   "outputs": [],
   "source": [
    "sbn.lmplot(data=penguinsDf, x=\"flipper_length_mm\", y=\"bill_length_mm\");"
   ]
  },
  {
   "cell_type": "markdown",
   "id": "bf07f2de",
   "metadata": {
    "slideshow": {
     "slide_type": "slide"
    }
   },
   "source": [
    "Regressions can also be done separately for each species:"
   ]
  },
  {
   "cell_type": "code",
   "execution_count": null,
   "id": "666d4267",
   "metadata": {
    "scrolled": false,
    "slideshow": {
     "slide_type": "fragment"
    }
   },
   "outputs": [],
   "source": [
    "sbn.lmplot(data=penguinsDf, x=\"flipper_length_mm\", y=\"bill_length_mm\", hue=\"species\");"
   ]
  },
  {
   "cell_type": "markdown",
   "id": "74ac4a01",
   "metadata": {
    "slideshow": {
     "slide_type": "fragment"
    }
   },
   "source": [
    "Notice the uncertainty of the model indicated by the light shadow"
   ]
  },
  {
   "cell_type": "markdown",
   "id": "037014f1",
   "metadata": {
    "slideshow": {
     "slide_type": "slide"
    }
   },
   "source": [
    "### Facet plots\n",
    "\n",
    "<small>\n",
    "\n",
    "- Facet grids are a means to partition the data set by groups into subplots that can be combined together to form a single, larger graph\n",
    "    - similar to `subplots` in Matplotlib, but automated in Seaborn\n",
    "- Facets are useful when there are multiple discrete or categorical variables present\n",
    "- Making a facet plot requires two separate steps: \n",
    "    1. Using `FacetGrid()`, create a grid with the desired row and/or column variables\n",
    "    2. Use the `map()` method to map the desired graphs of selected variables onto the grid\n",
    "</small>"
   ]
  },
  {
   "cell_type": "markdown",
   "id": "d8ce272c",
   "metadata": {
    "slideshow": {
     "slide_type": "slide"
    }
   },
   "source": [
    "    \n",
    "For example:\n",
    "```python\n",
    "grid = seaborn.FacetGrid(dataset_name, col=\"col_name\")\n",
    "grid.map(seaborb.function_name, \"variable_1\", \"variable_2\");\n",
    "```\n"
   ]
  },
  {
   "cell_type": "markdown",
   "id": "8dcb12b0",
   "metadata": {
    "slideshow": {
     "slide_type": "slide"
    }
   },
   "source": [
    "Running the code for creating a facet grid with one column by island"
   ]
  },
  {
   "cell_type": "code",
   "execution_count": null,
   "id": "02847cc8",
   "metadata": {
    "slideshow": {
     "slide_type": "fragment"
    }
   },
   "outputs": [],
   "source": [
    "grid = sbn.FacetGrid(penguinsDf, col=\"island\")\n",
    "grid.map(sbn.scatterplot, \"flipper_length_mm\", \"bill_length_mm\");"
   ]
  },
  {
   "cell_type": "markdown",
   "id": "cd387b2f",
   "metadata": {
    "slideshow": {
     "slide_type": "slide"
    }
   },
   "source": [
    "### Boxplot\n",
    "\n",
    "- A boxplot is a way to showcase relationships with categorical and continuous data\n",
    "- It displays: Quantile 25%, Median (50%), Quantile 75%, and outliers"
   ]
  },
  {
   "cell_type": "code",
   "execution_count": null,
   "id": "6a2f300d",
   "metadata": {
    "slideshow": {
     "slide_type": "fragment"
    }
   },
   "outputs": [],
   "source": [
    "sbn.boxplot(data=penguinsDf, x=\"sex\", y=\"bill_length_mm\", hue=\"species\");"
   ]
  },
  {
   "cell_type": "markdown",
   "id": "9ed37a92",
   "metadata": {
    "slideshow": {
     "slide_type": "slide"
    }
   },
   "source": [
    "### Scatterplots with a categorical variable\n",
    "\n",
    "If we applied a scatterplot when one variable was categorical, the outcome wouldn't look great..."
   ]
  },
  {
   "cell_type": "code",
   "execution_count": null,
   "id": "a2eeebcb",
   "metadata": {
    "slideshow": {
     "slide_type": "fragment"
    }
   },
   "outputs": [],
   "source": [
    "sbn.scatterplot(data=penguinsDf, x=\"sex\", y=\"bill_length_mm\", hue=\"species\");"
   ]
  },
  {
   "cell_type": "markdown",
   "id": "c44555c8",
   "metadata": {
    "slideshow": {
     "slide_type": "fragment"
    }
   },
   "source": [
    "Fortunately, Seaborn has the commands  `stripplot` or `swarmplot` for that purpose"
   ]
  },
  {
   "cell_type": "markdown",
   "id": "9b14d867",
   "metadata": {
    "slideshow": {
     "slide_type": "slide"
    }
   },
   "source": [
    "### The `stripplot` command\n",
    "This command includes the possibility to group and slighly offset each category by stating `dodge=True` :"
   ]
  },
  {
   "cell_type": "code",
   "execution_count": null,
   "id": "238d2166",
   "metadata": {
    "scrolled": true,
    "slideshow": {
     "slide_type": "fragment"
    }
   },
   "outputs": [],
   "source": [
    "sbn.stripplot(data=penguinsDf, x=\"sex\", y=\"bill_length_mm\", hue=\"species\", dodge=True);"
   ]
  },
  {
   "cell_type": "markdown",
   "id": "76a3fef4",
   "metadata": {
    "slideshow": {
     "slide_type": "slide"
    }
   },
   "source": [
    "### The `swarmplot` command\n",
    "The swarmplot is similar, except that data points are drawn to never overlap: "
   ]
  },
  {
   "cell_type": "code",
   "execution_count": null,
   "id": "219f0092",
   "metadata": {
    "scrolled": true,
    "slideshow": {
     "slide_type": "fragment"
    }
   },
   "outputs": [],
   "source": [
    "sbn.swarmplot(data=penguinsDf, x=\"sex\", y=\"bill_length_mm\", hue=\"species\", dodge=True);"
   ]
  },
  {
   "cell_type": "markdown",
   "id": "d84027fb",
   "metadata": {
    "slideshow": {
     "slide_type": "slide"
    }
   },
   "source": [
    "### Plotting histograms\n",
    "\n",
    "- Histograms are used for describing how continuous variables are distributed\n",
    "- They're great for identifying the *center* and *spread* of a distribution\n",
    "- They can also be used to see frequent and infrequent (outlier) values"
   ]
  },
  {
   "cell_type": "code",
   "execution_count": null,
   "id": "ec9abfaa",
   "metadata": {
    "slideshow": {
     "slide_type": "fragment"
    }
   },
   "outputs": [],
   "source": [
    "sbn.histplot(data=penguinsDf, x=\"flipper_length_mm\");"
   ]
  },
  {
   "cell_type": "markdown",
   "id": "d47a4a1a",
   "metadata": {
    "slideshow": {
     "slide_type": "slide"
    }
   },
   "source": [
    "There are many settings in `histplot` that can be adjusted. Here is an example:"
   ]
  },
  {
   "cell_type": "code",
   "execution_count": null,
   "id": "daf7f767",
   "metadata": {
    "slideshow": {
     "slide_type": "fragment"
    }
   },
   "outputs": [],
   "source": [
    "sbn.histplot(penguinsDf, x=\"flipper_length_mm\", hue=\"species\", element=\"step\", stat=\"density\", alpha = 0.15);"
   ]
  },
  {
   "cell_type": "markdown",
   "id": "99793294",
   "metadata": {
    "slideshow": {
     "slide_type": "slide"
    }
   },
   "source": [
    "### Histograms of categorical data\n",
    "\n",
    "The command `catplot` provides the ability to visualize the discrete distribution of a categorical variable"
   ]
  },
  {
   "cell_type": "code",
   "execution_count": null,
   "id": "dce13bd3",
   "metadata": {
    "slideshow": {
     "slide_type": "fragment"
    }
   },
   "outputs": [],
   "source": [
    "sbn.catplot(data=penguinsDf, kind=\"bar\", x=\"species\", y=\"body_mass_g\", hue=\"sex\", palette=\"dark\", errorbar=None);"
   ]
  },
  {
   "cell_type": "markdown",
   "id": "bc63971a",
   "metadata": {
    "slideshow": {
     "slide_type": "slide"
    }
   },
   "source": [
    "### Standard line plots\n",
    "\n",
    "- Line graphs are best-suited for temporal data that goes across time\n",
    "- Let's use Seaborn's 'flights' data set to demonstrate this capability:"
   ]
  },
  {
   "cell_type": "code",
   "execution_count": null,
   "id": "9f243826",
   "metadata": {
    "slideshow": {
     "slide_type": "fragment"
    }
   },
   "outputs": [],
   "source": [
    "flightsDf = sbn.load_dataset(\"flights\")\n",
    "flightsDf.head(3)"
   ]
  },
  {
   "cell_type": "markdown",
   "id": "69ffc8ac",
   "metadata": {
    "slideshow": {
     "slide_type": "slide"
    }
   },
   "source": [
    "Exploring the data set with Pandas' `info()` method\n",
    "\n",
    "Data set contains the number of airline passengers per month "
   ]
  },
  {
   "cell_type": "code",
   "execution_count": null,
   "id": "e57572f3",
   "metadata": {
    "slideshow": {
     "slide_type": "fragment"
    }
   },
   "outputs": [],
   "source": [
    "flightsDf.info()"
   ]
  },
  {
   "cell_type": "markdown",
   "id": "34497d4e",
   "metadata": {
    "slideshow": {
     "slide_type": "slide"
    }
   },
   "source": [
    "We plot the number of passengers in May over the years:"
   ]
  },
  {
   "cell_type": "code",
   "execution_count": null,
   "id": "7df3b88e",
   "metadata": {
    "slideshow": {
     "slide_type": "fragment"
    }
   },
   "outputs": [],
   "source": [
    "may_flightsDf = flightsDf.query(\"month == 'May'\")               # Notice the string within the string\n",
    "sbn.lineplot(data=may_flightsDf, x=\"year\", y=\"passengers\");"
   ]
  },
  {
   "cell_type": "markdown",
   "id": "44dff120",
   "metadata": {
    "slideshow": {
     "slide_type": "slide"
    }
   },
   "source": [
    "### Pair-wise plots\n",
    "\n",
    "- A `pairplot` consists of a grid of scatterplots on off-diagonal elements\n",
    "- Histograms are on the diagonal showing the distribution of values in the variable"
   ]
  },
  {
   "cell_type": "code",
   "execution_count": null,
   "id": "12f7f946",
   "metadata": {
    "slideshow": {
     "slide_type": "fragment"
    }
   },
   "outputs": [],
   "source": [
    "subpenguinsDf = penguinsDf[['body_mass_g', 'flipper_length_mm']]\n",
    "sbn.pairplot(subpenguinsDf);"
   ]
  },
  {
   "cell_type": "markdown",
   "id": "ee3991b4",
   "metadata": {
    "slideshow": {
     "slide_type": "slide"
    }
   },
   "source": [
    "### Key Points\n",
    "- Seaborn is a powerful visualization tool that extends the capabilities of Matplotlib\n",
    "- It offers many capabilities including representing categorical data and performing linear regressions\n",
    "    - categorical data displayed with `catplot`, `stripplot`, and `swarmplot`\n",
    "- Seaborn pair plots can be used to display correlations between data sets\n"
   ]
  },
  {
   "cell_type": "markdown",
   "id": "591e05b1",
   "metadata": {
    "slideshow": {
     "slide_type": "slide"
    }
   },
   "source": [
    "### Further Reading\n",
    "- Seaborn reference manual is [here](https://seaborn.pydata.org/)"
   ]
  },
  {
   "cell_type": "markdown",
   "id": "b27a22d7",
   "metadata": {
    "slideshow": {
     "slide_type": "slide"
    }
   },
   "source": [
    "### What's Next?\n",
    "- Complete the exercises in this associated exercise notebook [X-21-Seaborn.ipynb](X-21-Seaborn.ipynb)\n",
    "- Next notebook is [N-22-VirtualEnv.ipynb](N-22-VirtualEnv.ipynb)"
   ]
  }
 ],
 "metadata": {
  "celltoolbar": "Slideshow",
  "kernelspec": {
   "display_name": "Python [conda env:rise] *",
   "language": "python",
   "name": "conda-env-rise-py"
  },
  "language_info": {
   "codemirror_mode": {
    "name": "ipython",
    "version": 3
   },
   "file_extension": ".py",
   "mimetype": "text/x-python",
   "name": "python",
   "nbconvert_exporter": "python",
   "pygments_lexer": "ipython3",
   "version": "3.12.7"
  }
 },
 "nbformat": 4,
 "nbformat_minor": 5
}

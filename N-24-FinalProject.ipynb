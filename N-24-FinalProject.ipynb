{
 "cells": [
  {
   "cell_type": "markdown",
   "id": "2b086218",
   "metadata": {
    "id": "7ddf1365",
    "slideshow": {
     "slide_type": "slide"
    }
   },
   "source": [
    "<img src=\"images/inmas.png\" width=130x align='right'/>\n",
    "\n",
    "# Notebook 24 - Final Project\n",
    "\n",
    "### Prerequisite\n",
    "Notebooks 00 to 19"
   ]
  },
  {
   "cell_type": "markdown",
   "id": "ba2ee2b3",
   "metadata": {
    "id": "9d4e410e",
    "slideshow": {
     "slide_type": "slide"
    }
   },
   "source": [
    "# Congratulations!!\n",
    "- You have now completed all the learning modules of the Python workshop\n",
    "- The only part left is the final project which will help you hone your skills"
   ]
  },
  {
   "cell_type": "markdown",
   "id": "fc4bc657",
   "metadata": {
    "id": "jMrvCvHb2_CV",
    "slideshow": {
     "slide_type": "slide"
    }
   },
   "source": [
    "### Further training\n",
    "This workshop was meant to\n",
    "- Give a good foundations to students not familiar with the Python programming language\n",
    "- While providing more proficient students with new material and challenges\n",
    "\n",
    "Due to these constraints, and additional time constraints, many topics were not covered:\n",
    "- Object inheritance and polymorphism\n",
    "- Some other parts of the Python language such as the 'chr' class\n",
    "- Many more Python modules for fintech, signal processing, optimization, etc."
   ]
  },
  {
   "cell_type": "markdown",
   "id": "bbc81ea6",
   "metadata": {
    "slideshow": {
     "slide_type": "slide"
    }
   },
   "source": [
    "### Speak a language to keep it\n",
    "It is important to keep practicing if you want to maintain and grow these skills\n",
    "\n",
    "Consider:\n",
    "- Taking part of a Python programming class at your University\n",
    "- Listening to LinkedIn's and Coursera's interesting courses - some are free to students\n"
   ]
  }
 ],
 "metadata": {
  "celltoolbar": "Slideshow",
  "colab": {
   "collapsed_sections": [],
   "name": "Notebook14_Redfin_Mini_project.ipynb",
   "provenance": []
  },
  "kernelspec": {
   "display_name": "Python 3 (ipykernel)",
   "language": "python",
   "name": "python3"
  },
  "language_info": {
   "codemirror_mode": {
    "name": "ipython",
    "version": 3
   },
   "file_extension": ".py",
   "mimetype": "text/x-python",
   "name": "python",
   "nbconvert_exporter": "python",
   "pygments_lexer": "ipython3",
   "version": "3.11.7"
  }
 },
 "nbformat": 4,
 "nbformat_minor": 5
}

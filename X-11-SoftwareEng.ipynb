{
 "cells": [
  {
   "cell_type": "markdown",
   "id": "09fafc10",
   "metadata": {},
   "source": [
    "<img src=\"images/inmas.png\" width=130x align=right />\n",
    "\n",
    "# Exercise 11 - Elements of Software Engineering\n",
    "\n",
    "\n",
    "### Prerequisite\n",
    "Notebook 11"
   ]
  },
  {
   "cell_type": "markdown",
   "id": "d905f52a",
   "metadata": {},
   "source": [
    "### 1.\n",
    "\n",
    "It is recommended to use iterators whenever possible. In a few situations, however, iterators can lead to problems. What are these cases?"
   ]
  },
  {
   "cell_type": "markdown",
   "id": "8dd6a229",
   "metadata": {},
   "source": [
    "### 2.\n",
    "\n",
    "Take a few minutes to browse the PEP 8 and discuss the situation when a line break is required for an expression too long to fit on a single line.\n",
    "    - Should the line break be before or after a binary operator?\n",
    "    - What is the recommended line length for Python code? Why?\n",
    "    - Discuss your pet peeves if any.\n"
   ]
  },
  {
   "cell_type": "markdown",
   "id": "a7b28462",
   "metadata": {},
   "source": [
    "### 3.\n",
    "\n",
    "- If not done yet, install 'git' on your computer.\n",
    "- Download the notebooks in a different directory using `git download` from a terminal."
   ]
  },
  {
   "cell_type": "markdown",
   "id": "1cb5fd39",
   "metadata": {},
   "source": [
    "### 4.\n",
    "Start from module Code_10/params.py as an example on how that could be implemented.\n",
    "- Use 'try' and 'except', modify the function above to better handle errors\n",
    "- Print error message on standard error (stderr) instead of standard output (stdout)\n",
    "- (Optional) Modify the code to store values in a dictionary with keys (test your code with file \"parameters.txt\" provided to you)\n"
   ]
  },
  {
   "cell_type": "markdown",
   "id": "4c3bb6c0",
   "metadata": {},
   "source": [
    "### 5.*\n",
    "Due to its vast array of modules, Python has addressed many of the common needs in programming. As such, a module called `configparser` contains most of the functionality that we need.  \n",
    "\n",
    "Implement a version of the same exercise as the previous one using the `configparser` module."
   ]
  },
  {
   "cell_type": "markdown",
   "id": "4de4ae12",
   "metadata": {},
   "source": [
    "### 6.\n",
    "Run the script through the following cell. \n",
    "- Try different values, different parameters in both the long and short forms.\n",
    "- Try entering a parameter that does not exist, e.g, `-z`."
   ]
  },
  {
   "cell_type": "code",
   "execution_count": null,
   "id": "042bf1dd",
   "metadata": {},
   "outputs": [],
   "source": [
    "!python Code_10/main_2.py -a 2 -b 3"
   ]
  },
  {
   "cell_type": "markdown",
   "id": "78e88480",
   "metadata": {},
   "source": [
    "### 7.\n",
    "\n",
    "Script `main_2.py` is a good starting point to read parameters from the command line. However, it has many deficiencies: The code is not re-usable as all default parameters are hard-coded in the function, including their names. This is definitely a handicap compared to the dictionary approach used in main_1.py. Also, parameters are mixed types, limiting re-usability. Let's fix this.\n",
    "\n",
    "#### 7.1*\n",
    "\n",
    "- Duplicate `main_2.py` as `main_3.py` and modify the file to use a dictionary to parse and store parameters. Use your favorite editor and use the same trick to generate code as in the first params module. Create a new module called `params2.py` that will contain your new function and make it re-usable.\n",
    "- Incorporating the original function from first 'params.py', implement functionality of reading from either a parameter file and/or command line arguments. Which mode should have precedence? Should a parameter override warning be given to the user?\n",
    "\n",
    "\n",
    "#### 7.2*  \n",
    "- Include a way to distinguish between optional and required parameters (Hint: use a reserved default value, e.g. `undef`, for required parameters).\n",
    "- Allow for comments in the parameter file by detecting and ignoring lines with a leading '#' character.\n",
    "- Implement the capability of recursively including other files using the '@include' keyword. Should you test for circular inclusions through a call depth counter?"
   ]
  },
  {
   "cell_type": "markdown",
   "id": "bfe417c7",
   "metadata": {},
   "source": [
    "\n",
    "### 8.\n",
    "Run the following test and see if you could improve a few things..."
   ]
  },
  {
   "cell_type": "code",
   "execution_count": null,
   "id": "c32a3b93",
   "metadata": {},
   "outputs": [],
   "source": [
    "import math\n",
    "def mycos(x):\n",
    "    '''Placeholder to define my own cosine function'''\n",
    "    return math.cos(x)\n",
    "\n",
    "def test_mycos1():\n",
    "    '''Test mycos() with respect to inverse function over float range'''\n",
    "    import random\n",
    "    i = 0\n",
    "    while (i < 10000):\n",
    "        i += 1\n",
    "        x = 2*random.random() - 1.\n",
    "        assert(mycos(math.acos(x)) == x)\n",
    "        \n",
    "test_mycos1()"
   ]
  },
  {
   "cell_type": "markdown",
   "id": "f055d9cc",
   "metadata": {},
   "source": [
    "### 9.\n",
    "Execute the following steps\n",
    "1) Load the module badstyle.py from directory Code_10 that we reformatted with black in notebook 10.\n",
    "2) Find out what the module contains using the help(modname) function\n",
    "3) Call `fiboSequence2()` for a sequence of 50 numbers\n",
    "4) Call `fiboSequence1()` for a sequence of the same length\n",
    "\n",
    "Explain your results. Discuss with your peers.\n"
   ]
  },
  {
   "cell_type": "code",
   "execution_count": null,
   "id": "a1959c1c",
   "metadata": {},
   "outputs": [],
   "source": []
  }
 ],
 "metadata": {
  "kernelspec": {
   "display_name": "Python 3 (ipykernel)",
   "language": "python",
   "name": "python3"
  },
  "language_info": {
   "codemirror_mode": {
    "name": "ipython",
    "version": 3
   },
   "file_extension": ".py",
   "mimetype": "text/x-python",
   "name": "python",
   "nbconvert_exporter": "python",
   "pygments_lexer": "ipython3"
  }
 },
 "nbformat": 4,
 "nbformat_minor": 5
}

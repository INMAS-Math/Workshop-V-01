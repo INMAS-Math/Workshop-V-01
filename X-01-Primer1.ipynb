{
 "cells": [
  {
   "cell_type": "markdown",
   "id": "6bbd5f66",
   "metadata": {},
   "source": [
    "<img align=right src=\"images/inmas.png\" width=130x />\n",
    "\n",
    "# Exercises 01 - Python Primer 1\n",
    "\n",
    "\n",
    "### Prerequisite\n",
    "Notebook 01\n",
    "\n",
    "----"
   ]
  },
  {
   "cell_type": "markdown",
   "id": "SqFdRpoFgEmd",
   "metadata": {},
   "source": [
    "### 1.\n",
    "\n",
    "Which of the following will cause an error? Run the cells to check."
   ]
  },
  {
   "cell_type": "code",
   "execution_count": null,
   "id": "RFiHdG3RgMGf",
   "metadata": {},
   "outputs": [],
   "source": [
    "Age = 62"
   ]
  },
  {
   "cell_type": "code",
   "execution_count": null,
   "id": "KEpnAc9UgQex",
   "metadata": {},
   "outputs": [],
   "source": [
    "1st_name = 'Emily'"
   ]
  },
  {
   "cell_type": "code",
   "execution_count": null,
   "id": "4JsDGGFHgWzq",
   "metadata": {},
   "outputs": [],
   "source": [
    "_baths = 3"
   ]
  },
  {
   "cell_type": "code",
   "execution_count": null,
   "id": "KCvxp2nHgs9T",
   "metadata": {},
   "outputs": [],
   "source": [
    "class = 'algebra'"
   ]
  },
  {
   "cell_type": "markdown",
   "id": "7fd408cc",
   "metadata": {},
   "source": [
    "Understand why statement succeeded or failed."
   ]
  },
  {
   "cell_type": "markdown",
   "id": "c6dd6fa9",
   "metadata": {},
   "source": [
    "### 2.\n",
    "\n",
    "Define a variable for each data type in: int, float, string, list, dictionary, and tuple through an assignment to a literal. Then, \n",
    "\n",
    "- Print the variable defined\n",
    "- Check its type\n",
    "- Print its length when appropriate\n"
   ]
  },
  {
   "cell_type": "code",
   "execution_count": null,
   "id": "f47fa5d2",
   "metadata": {},
   "outputs": [],
   "source": []
  },
  {
   "cell_type": "markdown",
   "id": "dcee68c4",
   "metadata": {},
   "source": [
    "### 3.\n",
    "\n",
    "Given"
   ]
  },
  {
   "cell_type": "code",
   "execution_count": null,
   "id": "8d0fe957",
   "metadata": {},
   "outputs": [],
   "source": [
    "pi = 3.1415926\n",
    "r = 10.2"
   ]
  },
  {
   "cell_type": "markdown",
   "id": "b6eb8505",
   "metadata": {},
   "source": [
    "Calculate the area, volume, and great circle of a sphere with radius `r`. You can use the exponentiation operator `**`. \n",
    "\n",
    "Print your results with a description."
   ]
  },
  {
   "cell_type": "code",
   "execution_count": null,
   "id": "c6aff255",
   "metadata": {},
   "outputs": [],
   "source": []
  },
  {
   "cell_type": "markdown",
   "id": "dbbb7010",
   "metadata": {},
   "source": [
    "### 4.\n",
    "Strings can be concatenated using the `+` and the `+=` operators.\n",
    "\n",
    "- Define two strings and print their sum using the two methods described.\n",
    "- What happens if you multiply a string by a an integer?\n",
    "- By a float?"
   ]
  },
  {
   "cell_type": "code",
   "execution_count": null,
   "id": "73ecaa5b",
   "metadata": {},
   "outputs": [],
   "source": []
  },
  {
   "cell_type": "markdown",
   "id": "51b7c862",
   "metadata": {},
   "source": [
    "### 5. \n",
    "\n",
    "Print a self-introduction: \n",
    "create a new cell before the one below, and define the needed variables so that the code below runs."
   ]
  },
  {
   "cell_type": "code",
   "execution_count": null,
   "id": "3ba24e44",
   "metadata": {},
   "outputs": [],
   "source": [
    "print('Hello, my name is', my_name, 'and I attend', my_university, '.')"
   ]
  },
  {
   "cell_type": "markdown",
   "id": "4b28dc67",
   "metadata": {},
   "source": [
    "Redo the same exercise using a single string for the final sentence. (using %)"
   ]
  },
  {
   "cell_type": "code",
   "execution_count": null,
   "id": "0e3a7ebe",
   "metadata": {},
   "outputs": [],
   "source": []
  },
  {
   "cell_type": "markdown",
   "id": "ea64d46f",
   "metadata": {},
   "source": [
    "### 6.\n",
    "\n",
    "Given the following list and index slicing operations"
   ]
  },
  {
   "cell_type": "code",
   "execution_count": null,
   "id": "12024d2a",
   "metadata": {},
   "outputs": [],
   "source": [
    "powersOfTwo = [1, 2, 4, 8, 16, 32, 64, 128, 256, 512, 1024]"
   ]
  },
  {
   "cell_type": "markdown",
   "id": "1bf0e6bb",
   "metadata": {},
   "source": [
    "- How would you print the values from \\$2^5\\$ to \\$2^8\\$.\n",
    "- Print the third to last entry only\n",
    "- What could `[][:]` mean?"
   ]
  },
  {
   "cell_type": "code",
   "execution_count": null,
   "id": "ad71dd0a",
   "metadata": {},
   "outputs": [],
   "source": []
  },
  {
   "cell_type": "markdown",
   "id": "a49f2865",
   "metadata": {},
   "source": [
    "### 7.\n",
    "Write a conditional `if`/`elif` code in the cell below that prints WOW! if the grade is greater than or equal to 90, Yay!, if the grade is between 70 and 90, or Meh! if the grade is less than or equal to 70."
   ]
  },
  {
   "cell_type": "code",
   "execution_count": null,
   "id": "0284d3d0",
   "metadata": {},
   "outputs": [],
   "source": []
  },
  {
   "cell_type": "markdown",
   "id": "a6f06a3b",
   "metadata": {},
   "source": [
    "### 8. \n",
    "Can you create a variable called `len`? What happens to call to the len() function then? How to fix? (*Hint:* `del`)\n",
    "\n"
   ]
  },
  {
   "cell_type": "code",
   "execution_count": null,
   "id": "f461862d",
   "metadata": {},
   "outputs": [],
   "source": []
  },
  {
   "cell_type": "markdown",
   "id": "371ac47e",
   "metadata": {},
   "source": [
    "### 9.\n",
    "Predict which values will actually print before running the follow code."
   ]
  },
  {
   "cell_type": "code",
   "execution_count": null,
   "id": "97a839f5",
   "metadata": {},
   "outputs": [],
   "source": [
    "if None:\n",
    "    print('None.')\n",
    "\n",
    "if 0:\n",
    "    print('0.')\n",
    "\n",
    "if []:\n",
    "    print('[]')\n",
    "\n",
    "if 1:\n",
    "    print('1.')"
   ]
  },
  {
   "cell_type": "markdown",
   "id": "aee69150",
   "metadata": {},
   "source": [
    "### 10.\n",
    "\n",
    "Using [this page](https://realpython.com/python-dicts/) or any other resource you prefer as a reference, to do the following exercise.\n",
    "\n",
    "Given a dictionary where the keys are the names of the members of your group and the values are their favorite food."
   ]
  },
  {
   "cell_type": "code",
   "execution_count": null,
   "id": "f3b54eec",
   "metadata": {},
   "outputs": [],
   "source": [
    "fav_foods = {\"Joseph\": \"pizza\", \"Adriana\": \"cake\", \"Shinhae\": \"coffee\"}"
   ]
  },
  {
   "cell_type": "markdown",
   "id": "b5405254",
   "metadata": {},
   "source": [
    "#### 10.1\n",
    "Add a new entry to the dictionary for Emily. Her favorite food is chocolate."
   ]
  },
  {
   "cell_type": "code",
   "execution_count": null,
   "id": "0dcc8a70",
   "metadata": {},
   "outputs": [],
   "source": []
  },
  {
   "cell_type": "markdown",
   "id": "f77e6798",
   "metadata": {},
   "source": [
    "#### 10.2\n",
    "Use the dictionary to print Joe's favorite food."
   ]
  },
  {
   "cell_type": "code",
   "execution_count": null,
   "id": "ff029ace",
   "metadata": {},
   "outputs": [],
   "source": []
  },
  {
   "cell_type": "markdown",
   "id": "41f2dd79",
   "metadata": {},
   "source": [
    "#### 10.3\n",
    "Remove the entry for Emily from the dictionary."
   ]
  },
  {
   "cell_type": "code",
   "execution_count": null,
   "id": "32e71957",
   "metadata": {},
   "outputs": [],
   "source": []
  },
  {
   "cell_type": "markdown",
   "id": "cd27a3c6",
   "metadata": {},
   "source": [
    "#### 10.4\n",
    "Try to add a second entry for Joseph. Does it work?"
   ]
  },
  {
   "cell_type": "code",
   "execution_count": null,
   "id": "824d7896",
   "metadata": {},
   "outputs": [],
   "source": []
  },
  {
   "cell_type": "markdown",
   "id": "6d0b694a",
   "metadata": {},
   "source": [
    "#### 10.5\n",
    "Print the dictionary keys."
   ]
  },
  {
   "cell_type": "code",
   "execution_count": null,
   "id": "aabdb91a",
   "metadata": {},
   "outputs": [],
   "source": []
  },
  {
   "cell_type": "markdown",
   "id": "b408d563",
   "metadata": {},
   "source": [
    "#### 10.6\n",
    "Print the dictionary values"
   ]
  },
  {
   "cell_type": "code",
   "execution_count": null,
   "id": "07fa338c",
   "metadata": {},
   "outputs": [],
   "source": []
  },
  {
   "cell_type": "markdown",
   "id": "cb058f94",
   "metadata": {},
   "source": [
    "#### 10.7\n",
    "Create an empty dictionary. Then use the method `.popitem()` to remove the last two entries from your original dictionary and add them to the new dictionary."
   ]
  },
  {
   "cell_type": "code",
   "execution_count": null,
   "id": "e6de1b00",
   "metadata": {},
   "outputs": [],
   "source": []
  },
  {
   "cell_type": "markdown",
   "id": "bc840e0b",
   "metadata": {},
   "source": [
    "### 11.\n",
    "Explain the behavior of the code in the next cell.\n",
    "\n",
    "Discuss with your peers."
   ]
  },
  {
   "cell_type": "code",
   "execution_count": null,
   "id": "26bc713f",
   "metadata": {},
   "outputs": [],
   "source": [
    "x = range(1,12)\n",
    "print('x is', x)\n",
    "print('type of x is', type(x))\n",
    "print('x[3] is', x[3])\n",
    "\n",
    "y = list(range(1,12))\n",
    "print('y is', y)\n",
    "print('type of y is', type(y))\n",
    "print('y[3] is', y[3])"
   ]
  },
  {
   "cell_type": "markdown",
   "id": "0358f7cd",
   "metadata": {},
   "source": [
    "### 12.\n",
    "What is the difference between these two function calls?\n",
    "\n",
    "Explain discussing with your peers."
   ]
  },
  {
   "cell_type": "code",
   "execution_count": null,
   "id": "f4ed9203",
   "metadata": {},
   "outputs": [],
   "source": [
    "print((2, 3, 4))\n",
    "print(2, 3, 4)\n",
    "\n",
    "len((2, 3, 4))\n",
    "len(2, 3, 4)"
   ]
  },
  {
   "cell_type": "markdown",
   "id": "d91cede8",
   "metadata": {},
   "source": [
    "### 13.\n",
    "Before fixing the code below, predict which of the following 9 statements are valid, and their oucome if so. \n",
    "\n",
    "Then fix invalid statements and run again."
   ]
  },
  {
   "cell_type": "code",
   "execution_count": null,
   "id": "37bb5d92",
   "metadata": {},
   "outputs": [],
   "source": [
    "x1 = {1: 'One', 2: 'Two', 3: 'Three'}[1]\n",
    "x2 = ['a', 'b', 'c', 'd'][2]\n",
    "x3 = 'When zombies arrive, quickly fax Judge Pat.'[:-1]\n",
    "x4 = 4 + 2^3\n",
    "x5 = [1]*2\n",
    "x6 = (1, 2, 3, 4)[::2]\n",
    "x7 = 2*0.1 == 0.2\n",
    "x8 = {1: 'Fox', 2: 'Birds', 3: 'Cats'}[-1]\n",
    "x9 = range(1:13:3)\n",
    "print(x1, x2, x3, x4, x5, x6, x7, x8, x9)"
   ]
  },
  {
   "cell_type": "markdown",
   "id": "372cebad",
   "metadata": {},
   "source": [
    "### 14.\n",
    "Predict the value and type of the following variables. Describe type in plain words."
   ]
  },
  {
   "cell_type": "code",
   "execution_count": null,
   "id": "d44fedee",
   "metadata": {},
   "outputs": [],
   "source": [
    "a1 = 0b10\n",
    "a2 = 'a1'\n",
    "a3 = 0E-1\n",
    "a4 = [[]]\n",
    "a5 = None\n",
    "a6 = (1)\n",
    "a7 = {(): []}\n",
    "a8 = list()\n",
    "a9 = float()\n",
    "a10 = ('hi!',)\n",
    "a11 = 1,200.3\n",
    "# print('a1', type(a1), 'a2', type(a2), 'a3', type(a3), 'a4', type(a4), 'a5', type(a5), 'a6', type(a6))\n",
    "# print('a7', type(a7), 'a8', type(a8), 'a9', type(a9), 'a10', type(a10), 'a11', type(a11))"
   ]
  },
  {
   "cell_type": "markdown",
   "id": "0dc49608",
   "metadata": {},
   "source": [
    "### 15.\n",
    "What is the value of x? The value of `dico`?"
   ]
  },
  {
   "cell_type": "code",
   "execution_count": null,
   "id": "76142866",
   "metadata": {},
   "outputs": [],
   "source": [
    "dico = {'a list': [1], 'a string': '1', 'a tuple': (1)}\n",
    "dico['a dictionary'] = dico\n",
    "x = tuple(dico)"
   ]
  },
  {
   "cell_type": "markdown",
   "id": "88937266",
   "metadata": {},
   "source": [
    "### 16.\n",
    "Show two ways of creating a tuple of a single integer."
   ]
  },
  {
   "cell_type": "code",
   "execution_count": null,
   "id": "74167ae0",
   "metadata": {},
   "outputs": [],
   "source": []
  },
  {
   "cell_type": "markdown",
   "id": "596a8674",
   "metadata": {},
   "source": [
    "### 17. \n",
    "Using the months variable in the next cell, "
   ]
  },
  {
   "cell_type": "code",
   "execution_count": null,
   "id": "17284f86",
   "metadata": {},
   "outputs": [],
   "source": [
    "months = ['January', 'February', 'March', 'April', 'May', 'June', 'July', 'August', 'September', 'October', 'November', 'December']"
   ]
  },
  {
   "cell_type": "markdown",
   "id": "026c3d8a",
   "metadata": {},
   "source": [
    "#### 17.1\n",
    "Create sublists ```summer_months``` and ```winter_months``` using slicing. For ```winter_months```, you may need to add two sublists (e.g. using append() or +)."
   ]
  },
  {
   "cell_type": "code",
   "execution_count": null,
   "id": "6059ed3c",
   "metadata": {},
   "outputs": [],
   "source": []
  },
  {
   "cell_type": "markdown",
   "id": "f1f94c6e",
   "metadata": {},
   "source": [
    "#### 17.2\n",
    "Predict the outcome of the slicing below."
   ]
  },
  {
   "cell_type": "code",
   "execution_count": null,
   "id": "8ce3dac9",
   "metadata": {},
   "outputs": [],
   "source": [
    "days = ['Sunday', 'Monday', 'Tuesday', 'Wednesday', 'Thursday', 'Friday', 'Saturday',]\n",
    "print(0, days)\n",
    "print(1, days[:2:])\n",
    "print(2, days[2:])\n",
    "print(3, days[::2])\n",
    "print(4, days[:])\n",
    "print(5, days[::])"
   ]
  },
  {
   "cell_type": "markdown",
   "id": "7c8862d6",
   "metadata": {},
   "source": [
    "#### 17.3\n",
    "Can you predict the output? Explain."
   ]
  },
  {
   "cell_type": "code",
   "execution_count": null,
   "id": "9e629ef2",
   "metadata": {},
   "outputs": [],
   "source": [
    "days = ['Sunday', 'Monday', 'Tuesday', 'Wednesday', 'Thursday', 'Friday', 'Saturday'],\n",
    "print(0, days)\n",
    "print(1, days[:2:])\n",
    "print(2, days[2:])\n",
    "print(3, days[::2])\n",
    "print(4, days[:])\n",
    "print(5, days[::])"
   ]
  },
  {
   "cell_type": "code",
   "execution_count": null,
   "id": "e866dfe6",
   "metadata": {},
   "outputs": [],
   "source": []
  },
  {
   "cell_type": "markdown",
   "id": "788e2da6",
   "metadata": {},
   "source": [
    "### 18.\n",
    "What is the difference between the `extend()` and the `append()` method for lists?"
   ]
  },
  {
   "cell_type": "markdown",
   "id": "80dc754b",
   "metadata": {},
   "source": [
    "Answer:"
   ]
  },
  {
   "cell_type": "markdown",
   "id": "8a85ec0e",
   "metadata": {},
   "source": [
    "### 19.*\n",
    "If `ls = list(range(0, 10))`, what are the values of variables `a, b, c` such that the output of `ls[a:b:c]` is\n",
    "`[9, 8, 7, 6, 5, 4, 3, 2, 1, 0]`?"
   ]
  }
 ],
 "metadata": {
  "colab": {
   "collapsed_sections": [],
   "provenance": []
  },
  "kernelspec": {
   "display_name": "Python [conda env:rise] *",
   "language": "python",
   "name": "conda-env-rise-py"
  },
  "language_info": {
   "codemirror_mode": {
    "name": "ipython",
    "version": 3
   },
   "file_extension": ".py",
   "mimetype": "text/x-python",
   "name": "python",
   "nbconvert_exporter": "python",
   "pygments_lexer": "ipython3",
   "version": "3.12.7"
  }
 },
 "nbformat": 4,
 "nbformat_minor": 5
}

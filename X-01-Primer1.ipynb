{
 "cells": [
  {
   "cell_type": "markdown",
   "id": "6bbd5f66",
   "metadata": {
    "id": "6bbd5f66",
    "slideshow": {
     "slide_type": "slide"
    }
   },
   "source": [
    "<img align=right src=\"images/inmas.png\" width=130x />\n",
    "\n",
    "# Exercises 01 - Python Primer 1\n",
    "\n",
    "\n",
    "### Prerequisite\n",
    "Notebook 01\n"
   ]
  },
  {
   "cell_type": "markdown",
   "id": "SqFdRpoFgEmd",
   "metadata": {
    "id": "SqFdRpoFgEmd",
    "slideshow": {
     "slide_type": "-"
    }
   },
   "source": [
    "### 1.\n",
    "\n",
    "Which of the following will cause an error? Run the cells to check."
   ]
  },
  {
   "cell_type": "code",
   "execution_count": null,
   "id": "RFiHdG3RgMGf",
   "metadata": {
    "id": "RFiHdG3RgMGf"
   },
   "outputs": [],
   "source": [
    "Age = 62"
   ]
  },
  {
   "cell_type": "code",
   "execution_count": null,
   "id": "KEpnAc9UgQex",
   "metadata": {
    "id": "KEpnAc9UgQex"
   },
   "outputs": [],
   "source": [
    "1st_name = 'Emily'"
   ]
  },
  {
   "cell_type": "code",
   "execution_count": null,
   "id": "4JsDGGFHgWzq",
   "metadata": {
    "id": "4JsDGGFHgWzq"
   },
   "outputs": [],
   "source": [
    "_baths = 3"
   ]
  },
  {
   "cell_type": "code",
   "execution_count": null,
   "id": "KCvxp2nHgs9T",
   "metadata": {
    "id": "KCvxp2nHgs9T"
   },
   "outputs": [],
   "source": [
    "class = 'algebra'"
   ]
  },
  {
   "cell_type": "markdown",
   "id": "7fd408cc",
   "metadata": {
    "id": "7fd408cc"
   },
   "source": [
    "Understand why statement succeeded or failed."
   ]
  },
  {
   "cell_type": "markdown",
   "id": "c6dd6fa9",
   "metadata": {
    "id": "c6dd6fa9"
   },
   "source": [
    "### 2.\n",
    "\n",
    "Define a variable for each data type in: int, float, string, list, dictionary, and tuple through an assignment to a literal. Then, \n",
    "\n",
    "- Print the variable defined\n",
    "- Check its type\n",
    "- Print its length when appropriate\n"
   ]
  },
  {
   "cell_type": "code",
   "execution_count": null,
   "id": "f47fa5d2",
   "metadata": {
    "id": "af9b1c15"
   },
   "outputs": [],
   "source": []
  },
  {
   "cell_type": "markdown",
   "id": "dcee68c4",
   "metadata": {
    "id": "dcee68c4"
   },
   "source": [
    "### 3.\n",
    "\n",
    "Given"
   ]
  },
  {
   "cell_type": "code",
   "execution_count": null,
   "id": "8d0fe957",
   "metadata": {
    "id": "8d0fe957"
   },
   "outputs": [],
   "source": [
    "pi = 3.1415926\n",
    "r = 10.2"
   ]
  },
  {
   "cell_type": "markdown",
   "id": "b6eb8505",
   "metadata": {
    "id": "b6eb8505"
   },
   "source": [
    "Calculate the area, volume, and great circle of a sphere with radius `r`. You can use the exponentiation operator `**`. \n",
    "\n",
    "Print your results with a description."
   ]
  },
  {
   "cell_type": "code",
   "execution_count": null,
   "id": "c6aff255",
   "metadata": {
    "id": "c6aff255"
   },
   "outputs": [],
   "source": []
  },
  {
   "cell_type": "markdown",
   "id": "dbbb7010",
   "metadata": {},
   "source": [
    "### 4.\n",
    "Strings can be concatenated by putting them side by side or by using the `+` operator.\n",
    "\n",
    "- Define two strings and print their sum using the two methods described.\n",
    "- What happens if you multiply a string by a an integer?\n",
    "- By a float?"
   ]
  },
  {
   "cell_type": "code",
   "execution_count": null,
   "id": "73ecaa5b",
   "metadata": {},
   "outputs": [],
   "source": []
  },
  {
   "cell_type": "markdown",
   "id": "51b7c862",
   "metadata": {
    "id": "51b7c862"
   },
   "source": [
    "### 5. \n",
    "\n",
    "Print a self-introduction: \n",
    "create a new cell before the one below, and define the needed variables so that the code below runs."
   ]
  },
  {
   "cell_type": "code",
   "execution_count": null,
   "id": "3ba24e44",
   "metadata": {
    "id": "3ba24e44",
    "scrolled": true
   },
   "outputs": [],
   "source": [
    "print('Hello, my name is', my_name, 'and I attend', my_university, '.')"
   ]
  },
  {
   "cell_type": "markdown",
   "id": "4b28dc67",
   "metadata": {},
   "source": [
    "Redo the same exercise using a single string for the final sentence."
   ]
  },
  {
   "cell_type": "code",
   "execution_count": null,
   "id": "0e3a7ebe",
   "metadata": {},
   "outputs": [],
   "source": []
  },
  {
   "cell_type": "markdown",
   "id": "ea64d46f",
   "metadata": {
    "id": "ea64d46f"
   },
   "source": [
    "### 6.\n",
    "\n",
    "Given the following list and index slicing operations"
   ]
  },
  {
   "cell_type": "code",
   "execution_count": null,
   "id": "12024d2a",
   "metadata": {
    "id": "12024d2a"
   },
   "outputs": [],
   "source": [
    "powersOfTwo = [1, 2, 4, 8, 16, 32, 64, 128, 256, 512, 1024]"
   ]
  },
  {
   "cell_type": "markdown",
   "id": "1bf0e6bb",
   "metadata": {},
   "source": [
    "- How would you print the values from \\$2^5\\$ to \\$2^8\\$.\n",
    "- Print the third to last entry only\n",
    "- What could `[][:]` mean?"
   ]
  },
  {
   "cell_type": "code",
   "execution_count": null,
   "id": "ad71dd0a",
   "metadata": {},
   "outputs": [],
   "source": []
  },
  {
   "cell_type": "markdown",
   "id": "a49f2865",
   "metadata": {},
   "source": [
    "### 7.\n",
    "Write a conditional `if`/`elif` code in the cell below that prints WOW! if the grade is greater than or equal to 90, YAY!, if the grade is between 70 and 90, or MEH! if the grade is less than or equal to 70."
   ]
  },
  {
   "cell_type": "code",
   "execution_count": null,
   "id": "A8pWGDvOtOS3",
   "metadata": {
    "id": "A8pWGDvOtOS3"
   },
   "outputs": [],
   "source": []
  },
  {
   "cell_type": "markdown",
   "id": "QeQagMwWtOS5",
   "metadata": {
    "id": "QeQagMwWtOS5"
   },
   "source": [
    "### 8.\n",
    "\n",
    "Using a `for` loop, compute the sum of all the numbers from 7 to 147."
   ]
  },
  {
   "cell_type": "code",
   "execution_count": null,
   "id": "cb463b3a",
   "metadata": {},
   "outputs": [],
   "source": []
  },
  {
   "cell_type": "markdown",
   "id": "1ef769b7",
   "metadata": {},
   "source": [
    "### 9.\n",
    "This exercise can help understanding how upper/lower bounds are working in the range() function. The series generated are identical, just the order is different.\n",
    "\n",
    "Explain the discrepancy. Which loop is closer to \\$ \\pi^2/6 \\$?\n",
    "\n",
    "Which approach is better? Discuss with your peers."
   ]
  },
  {
   "cell_type": "code",
   "execution_count": null,
   "id": "V1YUTJD-tOS5",
   "metadata": {
    "id": "V1YUTJD-tOS5"
   },
   "outputs": [],
   "source": [
    "import math as m\n",
    "\n",
    "sum1, sum2 = 0., 0.\n",
    "for i in range(1, 10000001):\n",
    "    sum1 += 1./i**2\n",
    "\n",
    "for i in range(10000000, 0, -1):\n",
    "    sum2 += 1./i**2\n",
    "\n",
    "exact = m.pi**2/6\n",
    "\n",
    "print('Sum of infinite series is', exact)\n",
    "print('difference of sum1 is', exact - sum1)\n",
    "print('difference of sum2 is', exact - sum2)\n"
   ]
  },
  {
   "cell_type": "markdown",
   "id": "living-assistant",
   "metadata": {
    "id": "living-assistant"
   },
   "source": [
    "### 10.\n",
    "\n",
    "Using a `while` loop, print all odd numbers between 100 and 110."
   ]
  },
  {
   "cell_type": "code",
   "execution_count": null,
   "id": "outstanding-zealand",
   "metadata": {
    "id": "outstanding-zealand"
   },
   "outputs": [],
   "source": []
  },
  {
   "cell_type": "markdown",
   "id": "bc840e0b",
   "metadata": {},
   "source": [
    "### 11.\n",
    "Explain the behavior of the code in the next cell.\n",
    "\n",
    "Discuss with your peers."
   ]
  },
  {
   "cell_type": "code",
   "execution_count": null,
   "id": "26bc713f",
   "metadata": {},
   "outputs": [],
   "source": [
    "x = range(1,12)\n",
    "print('x is', x)\n",
    "print('type of x is', type(x))\n",
    "print('x[3] is', x[3])\n",
    "\n",
    "y = list(range(1,12))\n",
    "print('y is', y)\n",
    "print('type of y is', type(y))\n",
    "print('y[3] is', y[3])\n"
   ]
  },
  {
   "cell_type": "markdown",
   "id": "0358f7cd",
   "metadata": {},
   "source": [
    "### 12.\n",
    "What is the difference between these two function calls?\n",
    "\n",
    "Explain discussing with your peers."
   ]
  },
  {
   "cell_type": "code",
   "execution_count": null,
   "id": "f4ed9203",
   "metadata": {},
   "outputs": [],
   "source": [
    "print((2, 3, 4))\n",
    "print(2, 3, 4)\n",
    "\n",
    "len((2, 3, 4))\n",
    "len(2, 3, 4)\n"
   ]
  },
  {
   "cell_type": "markdown",
   "id": "d91cede8",
   "metadata": {},
   "source": [
    "### 13.\n",
    "Before fixing the code below, predict which of the following 9 statements are valid, and their oucome if so. \n",
    "\n",
    "Then fix invalid statements and run again."
   ]
  },
  {
   "cell_type": "code",
   "execution_count": null,
   "id": "37bb5d92",
   "metadata": {},
   "outputs": [],
   "source": [
    "x1 = {1: 'One', 2: 'Two', 3: 'Three'}[1]\n",
    "x2 = ['a', 'b', 'c', 'd'][2]\n",
    "x3 = 'When zombies arrive, quickly fax Judge Pat.'[:-1]\n",
    "x4 = 4 + 2^3\n",
    "x5 = [1]*2\n",
    "x6 = (1, 2, 3, 4)[::2]\n",
    "x7 = 2*0.1 == 0.2\n",
    "x8 = {1: 'Fox', 2: 'Birds', 3: 'Cats'}[-1]\n",
    "x9 = range(1:13:3)\n",
    "print(x1, x2, x3, x4, x5, x6, x7, x8, x9)"
   ]
  },
  {
   "cell_type": "markdown",
   "id": "372cebad",
   "metadata": {},
   "source": [
    "### 14.\n",
    "Predict the value and type of the following variables. Describe type in plain words."
   ]
  },
  {
   "cell_type": "code",
   "execution_count": null,
   "id": "d44fedee",
   "metadata": {},
   "outputs": [],
   "source": [
    "a1 = 0b10\n",
    "a2 = 'a1'\n",
    "a3 = 0E-1\n",
    "a4 = [[]]\n",
    "a5 = None\n",
    "a6 = (1,)\n",
    "a7 = {(): []}\n",
    "a8 = list()\n",
    "a9 = float()\n",
    "a10 = 1,200.3"
   ]
  },
  {
   "cell_type": "markdown",
   "id": "0dc49608",
   "metadata": {},
   "source": [
    "#### 15.\n",
    "What is the value of x? The value of `dico`?"
   ]
  },
  {
   "cell_type": "code",
   "execution_count": null,
   "id": "76142866",
   "metadata": {},
   "outputs": [],
   "source": [
    "dico = {'a list': [1], 'a string': '1', 'a tuple': (1)}\n",
    "dico['a dictionary'] = dico\n",
    "x = tuple(dico)"
   ]
  }
 ],
 "metadata": {
  "colab": {
   "collapsed_sections": [],
   "provenance": []
  },
  "kernelspec": {
   "display_name": "Python 3 (ipykernel)",
   "language": "python",
   "name": "python3"
  },
  "language_info": {
   "codemirror_mode": {
    "name": "ipython",
    "version": 3
   },
   "file_extension": ".py",
   "mimetype": "text/x-python",
   "name": "python",
   "nbconvert_exporter": "python",
   "pygments_lexer": "ipython3",
   "version": "3.11.7"
  }
 },
 "nbformat": 4,
 "nbformat_minor": 5
}

{
 "cells": [
  {
   "cell_type": "markdown",
   "id": "08d3a007",
   "metadata": {},
   "source": [
    "<img src=\"images/inmas.png\" width=130x align='right' />\n",
    "\n",
    "# Exercise 21 - Visualizing with Seaborn\n",
    "\n",
    "### Prerequisite\n",
    "Notebook 21\n"
   ]
  },
  {
   "cell_type": "markdown",
   "id": "d0f0629a",
   "metadata": {},
   "source": [
    "### 1.\n",
    "\n",
    "Using the penguins data set \n",
    "```python\n",
    "penguinsDf = seaborn.load_dataset(\"penguins\")\n",
    "```\n",
    "#### 1.1\n",
    "- Create a pairplot of involvng all variables.\n",
    "- Add the argument `hue=\"species\"` to the plot. What do you expect will happen?"
   ]
  },
  {
   "cell_type": "markdown",
   "id": "0570a626",
   "metadata": {},
   "source": [
    "#### 1.2\n",
    "\n",
    "Construct a scatterplot with a linear trend line comparing `bill_length_mm` with `bill_depth_mm`. Color by island."
   ]
  },
  {
   "cell_type": "markdown",
   "id": "b545fa45",
   "metadata": {},
   "source": [
    "#### 1.3\n",
    "Construct a large grid plot with rows and columns being *island* and *species* respectively."
   ]
  },
  {
   "cell_type": "markdown",
   "id": "d84027fb",
   "metadata": {},
   "source": [
    "#### 1.4\n",
    "Create a histogram plot with the penguin data.\n",
    "- Start with 30 bins and adjust for best results\n",
    "- Add the argument `kde = True` "
   ]
  },
  {
   "cell_type": "markdown",
   "id": "470001ac",
   "metadata": {},
   "source": [
    "### 2.*\n",
    "- Revisit the last exercise in the SciPy module and use Seaborn to visualize the data.\n",
    "- Can you think of other Seaborn-specific ways to plot the data? (e.g., correlation plots)"
   ]
  },
  {
   "cell_type": "markdown",
   "id": "0769f5d3",
   "metadata": {},
   "source": [
    "### 3.*\n",
    "With the data of your choice, create a violin plot."
   ]
  },
  {
   "cell_type": "markdown",
   "id": "06ba21e2",
   "metadata": {},
   "source": [
    "### 4.*\n",
    "With the data of your choice, create a heat map plot."
   ]
  }
 ],
 "metadata": {
  "kernelspec": {
   "display_name": "Python 3 (ipykernel)",
   "language": "python",
   "name": "python3"
  },
  "language_info": {
   "codemirror_mode": {
    "name": "ipython",
    "version": 3
   },
   "file_extension": ".py",
   "mimetype": "text/x-python",
   "name": "python",
   "nbconvert_exporter": "python",
   "pygments_lexer": "ipython3",
   "version": "3.11.7"
  }
 },
 "nbformat": 4,
 "nbformat_minor": 5
}

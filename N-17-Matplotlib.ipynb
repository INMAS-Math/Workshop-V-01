{
 "cells": [
  {
   "cell_type": "markdown",
   "metadata": {
    "id": "POKNwSo25nzO",
    "slideshow": {
     "slide_type": "slide"
    }
   },
   "source": [
    "<img src=\"images/inmas.png\" width=130x align='right' />\n",
    "\n",
    "# Notebook 17 -  Visualization with Matplotlib\n",
    "\n",
    "In this notebook we will learn how to visualize data using the Matplotlib module.\n",
    "\n",
    "You’ll learn how to present your data visually using the following graphs:\n",
    "\n",
    "- Box plots\n",
    "- Histograms\n",
    "- Pie charts\n",
    "- Bar charts\n",
    "- Figures with multiple plots\n",
    "\n",
    "\n",
    "\n",
    "### Prerequisite\n",
    "Notebook 16"
   ]
  },
  {
   "cell_type": "markdown",
   "metadata": {
    "slideshow": {
     "slide_type": "slide"
    }
   },
   "source": [
    "### Housekeeping for matplotlib"
   ]
  },
  {
   "cell_type": "code",
   "execution_count": null,
   "metadata": {
    "id": "bt8_ZGsZ5slf",
    "slideshow": {
     "slide_type": "fragment"
    }
   },
   "outputs": [],
   "source": [
    "%matplotlib inline\n",
    "import numpy as np\n",
    "import matplotlib.pyplot as plt"
   ]
  },
  {
   "cell_type": "markdown",
   "metadata": {
    "id": "2biiSRus8ST9",
    "slideshow": {
     "slide_type": "slide"
    }
   },
   "source": [
    "### Figures\n",
    "What if we wanted multiple plots? This is where figures help us:\n",
    "- A figure is a diagram or a shape that can be formed by a collection of plots in different dimensions\n",
    "- You can think of the figure object as a canvas that holds subplots and other plot elements inside it\n",
    "- A figure can have one or more subplots inside it called axes, arranged in rows and columns\n",
    "- Every figure has at least one axis\n",
    "\n",
    "First let's look at a simple figure:"
   ]
  },
  {
   "cell_type": "code",
   "execution_count": null,
   "metadata": {
    "id": "cDGewqD98XqQ",
    "slideshow": {
     "slide_type": "slide"
    }
   },
   "outputs": [],
   "source": [
    "# Create a figure of one subplot (default)\n",
    "fig, ax1 = plt.subplots() \n",
    "\n",
    "# Plot\n",
    "ax1.scatter([1,2,3,4,5], [1,2,3,4,10], color='purple', marker='*') # scatter plot \n",
    "\n",
    "# Title, x and y labels, x and y limits\n",
    "ax1.set_title('Scatterplot Purple Stars')\n",
    "ax1.set_xlabel('x')  # x label\n",
    "ax1.set_ylabel('y')  # y label\n",
    "ax1.set_xlim(0, 6)   # x axis limits\n",
    "ax1.set_ylim(0, 12); # y axis limits\n",
    "# plt.show()         # Not required in interactive Python"
   ]
  },
  {
   "cell_type": "markdown",
   "metadata": {
    "id": "qPAjvP408XTu",
    "slideshow": {
     "slide_type": "slide"
    }
   },
   "source": [
    "### Subplots are an array of plots\n",
    "We use `plt.subplots()` to create a figure that contains a single plot (default) \n",
    "\n",
    "This creates and returns two objects:\n",
    "- the figure \n",
    "- the axes (subplots) inside the figure\n",
    "\n",
    "We called `plt.scatter()` to draw the points. Since there was only one axes by default, it drew the points on that axes itself.\n",
    "\n",
    "To add title and labels different methods are applied to the specific axes: \n",
    "- `set_title()`, `set_ylabel()`, and `set_xlabel()`"
   ]
  },
  {
   "cell_type": "markdown",
   "metadata": {
    "slideshow": {
     "slide_type": "slide"
    }
   },
   "source": [
    "### Markers in matplotlib (`marker=`)\n",
    "- **'.'** : Point\n",
    "- **'o'** : Circle\n",
    "- **'s'** : Square\n",
    "- **'^'** : Triangle (up)\n",
    "- **'v'** : Triangle (down)\n",
    "- **'+'** : Plus\n",
    "- **'x'** : X\n",
    "- **'\\*'** : Stars"
   ]
  },
  {
   "cell_type": "markdown",
   "metadata": {
    "slideshow": {
     "slide_type": "slide"
    }
   },
   "source": [
    "### Line styles in matplotlib (`linestyle=`)\n",
    "- **'-'** or 'solid': Solid line (default)\n",
    "- **'--'** or 'dashed': Dashed line\n",
    "- **'-.'** or 'dashdot': Dash-dot line\n",
    "- **':'** or 'dotted': Dotted line"
   ]
  },
  {
   "cell_type": "markdown",
   "metadata": {
    "slideshow": {
     "slide_type": "slide"
    }
   },
   "source": [
    "### Creating more than one subplot\n",
    "- `subplots()` can create a 1x2 array of plots by passing arguments `plt.subplots(1, 2)` \n",
    "\n",
    "- We demonstrate this capability by drawing two side-by-side plots with different symbols (purple stars and orange circles)\n",
    "\n",
    "`subplots(1, 2)` then returns a tuple of axes as handles to each of the subplots\n",
    "\n",
    "- When displaying 2 plots side-by-side, we need to be mindful of the aspect ratio\n",
    "    - For 1x2 figures, we would pass a geometry tuple of (10, 4.5) to figsize so that each graph is roughly square\n"
   ]
  },
  {
   "cell_type": "code",
   "execution_count": null,
   "metadata": {
    "id": "wJDcbFom-kLi",
    "slideshow": {
     "slide_type": "slide"
    }
   },
   "outputs": [],
   "source": [
    "def makeplot():\n",
    "    fig, (ax1, ax2) = plt.subplots(1, 2, figsize=(10,4.5))\n",
    "    colors = {ax1: 'purple', ax2: 'orange'}\n",
    "    markers = {ax1: '*', ax2: 'o'}\n",
    "    titles = {ax1: 'Scatterplot Purple Stars', ax2: 'ScatterPlot Orange Circle'}\n",
    "    for ax in (ax1, ax2):\n",
    "        ax.scatter([1,2,3,4,5], [1,4,9,16,25], color=colors[ax], marker=markers[ax])\n",
    "        ax.set_title(titles[ax])\n",
    "        ax.set_xlabel('x')\n",
    "        ax.set_ylabel('y')\n",
    "        ax.set_xlim(0, 6)\n",
    "        ax.set_ylim(0, 26)\n",
    "    # plt.show() # Only required in a script - not in interactive Python\n",
    "makeplot()"
   ]
  },
  {
   "cell_type": "markdown",
   "metadata": {
    "id": "wIJEyxEAAO_q",
    "slideshow": {
     "slide_type": "slide"
    }
   },
   "source": [
    "### Saving a Figure to a File\n",
    "\n",
    "- Figures can be saved to a file by using of `plt.savefig()`\n",
    "- Argument is the file name, with the extension\n",
    "- Image format will be dictates by  the file extension (.png, .jpg, .tiff, etc.)\n",
    "\n",
    "Let's see an example:"
   ]
  },
  {
   "cell_type": "markdown",
   "metadata": {
    "slideshow": {
     "slide_type": "slide"
    }
   },
   "source": [
    "- File *myfig.png* will contain an image of that plot\n",
    "- Run cell twice and notice that file gets happily overwritten - beware!"
   ]
  },
  {
   "cell_type": "code",
   "execution_count": null,
   "metadata": {
    "id": "OMWT5eYRAaVT",
    "slideshow": {
     "slide_type": "fragment"
    }
   },
   "outputs": [],
   "source": [
    "makeplot()\n",
    "plt.savefig(\"myfig.png\")\n"
   ]
  },
  {
   "cell_type": "markdown",
   "metadata": {
    "id": "LIyPlHtOAuDk",
    "slideshow": {
     "slide_type": "slide"
    }
   },
   "source": [
    "### Visualizing Data as Boxplots\n",
    "Let's generate some arrays with a random numbers from a Normal distribution:"
   ]
  },
  {
   "cell_type": "code",
   "execution_count": null,
   "metadata": {
    "id": "MPR-Ka7_6MhB"
   },
   "outputs": [],
   "source": [
    "x1 = 1 + 1*np.random.randn(100)\n",
    "x2 = 2 + 2*np.random.randn(100)\n",
    "x3 = 3 + 3*np.random.randn(100)\n",
    "x4 = 4 + 4*np.random.randn(100)"
   ]
  },
  {
   "cell_type": "markdown",
   "metadata": {
    "slideshow": {
     "slide_type": "fragment"
    }
   },
   "source": [
    "`x1` is a normal variable with mean 1 and standard deviation of 1, `x2` ...\n",
    "\n",
    "We will plot these multidimensional data sets using a boxplot:"
   ]
  },
  {
   "cell_type": "code",
   "execution_count": null,
   "metadata": {
    "id": "9_Ub0io06xK7",
    "slideshow": {
     "slide_type": "slide"
    }
   },
   "outputs": [],
   "source": [
    "fig, ax = plt.subplots()\n",
    "_ = ax.boxplot((x1, x2, x3, x4), vert=False, showmeans=True, meanline=True,\n",
    "           labels=('x1', 'x2', 'x3', 'x4'), patch_artist=True,\n",
    "           medianprops={'linewidth': 2, 'color': 'purple'},\n",
    "           meanprops={'linewidth': 2, 'color': 'red'})\n",
    "# plt.show()"
   ]
  },
  {
   "cell_type": "markdown",
   "metadata": {
    "id": "TkB2ojbd728L",
    "slideshow": {
     "slide_type": "slide"
    }
   },
   "source": [
    "### Boxplot arguments explained\n",
    "The parameters of `boxplot()` define the following:\n",
    "\n",
    "- **(x1,..):** is your data.\n",
    "- **vert:** sets the plot orientation to horizontal when False. The default orientation is vertical\n",
    "- **showmeans**: shows the mean of your data when True\n",
    "- **meanline:** represents the mean as a line when True. The default representation is a point\n",
    "- **labels:** the labels of your data\n",
    "- **patch_artist:** determines how to draw the graph\n",
    "- **medianprops:** denotes the properties of the line representing the median\n",
    "- **meanprops:** indicates the properties of the line or dot representing the mean"
   ]
  },
  {
   "cell_type": "markdown",
   "metadata": {
    "id": "TkB2ojbd728L",
    "slideshow": {
     "slide_type": "slide"
    }
   },
   "source": [
    "### Boxplot figure explained\n",
    "\n",
    "You can see four box plots. Each of them corresponds to a single dataset (x1, x2, x3, or x4) and shows the following:\n",
    "\n",
    "- The **mean** is the red dashed line\n",
    "- The **median** is the purple line\n",
    "- The **first quartile** is the left edge of the blue rectangle\n",
    "- The **third quartile** is the right edge of the blue rectangle\n",
    "- The **interquartile range** is the length of the blue rectangle\n",
    "- The **range** contains everything from left to right\n",
    "- The **outliers** are the circles to the left and right\n",
    "\n",
    "A box plot can show so much information in a single figure!"
   ]
  },
  {
   "cell_type": "markdown",
   "metadata": {
    "slideshow": {
     "slide_type": "slide"
    }
   },
   "source": [
    "With this information, let's see the boxplot again:"
   ]
  },
  {
   "cell_type": "code",
   "execution_count": null,
   "metadata": {
    "id": "9_Ub0io06xK7",
    "slideshow": {
     "slide_type": "fragment"
    }
   },
   "outputs": [],
   "source": [
    "fig, ax = plt.subplots()\n",
    "ax.boxplot((x1, x2, x3, x4), vert=False, showmeans=True, meanline=True,\n",
    "           labels=('x1', 'x2', 'x3', 'x4'), patch_artist=True,\n",
    "           medianprops={'linewidth': 2, 'color': 'purple'},\n",
    "           meanprops={'linewidth': 2, 'color': 'red'});\n",
    "# plt.show()"
   ]
  },
  {
   "cell_type": "markdown",
   "metadata": {
    "id": "GnbmTeBeCAfy",
    "slideshow": {
     "slide_type": "slide"
    }
   },
   "source": [
    "### Histograms\n",
    "\n",
    "- Histograms are particularly useful when there are a large number of unique values in a dataset\n",
    "    - The histogram divides the values from a sorted dataset into intervals, also called **bins**\n",
    "- Often, all bins are of equal width, though this doesn’t have to be the case\n",
    "    - The values of the lower and upper bounds of a bin are called the **bin edges**\n",
    "- By convention, all bins but the rightmost one are half-open\n",
    "    - Bins include the values equal to the lower bounds, but not values equal to the upper bounds\n",
    "    - The rightmost bin is closed because it includes both bounds\n",
    "- The **frequency** is a single value that corresponds to each bin\n",
    "    - It’s the number of elements of the dataset with the values between the edges of the bin   "
   ]
  },
  {
   "cell_type": "markdown",
   "metadata": {
    "id": "GnbmTeBeCAfy",
    "slideshow": {
     "slide_type": "slide"
    }
   },
   "source": [
    "### An simple example of a histogram\n",
    "Suppose you have data in the \\[0, 15\\] interval\n",
    "- If you divide a dataset in three equal bins with the 4 bin edges 0, 5, 10, and 15:\n",
    "    - the first and leftmost bin contains the values in interval \\[ 0, 5)\n",
    "    - second bin contains the values in interval \\[5, 10)\n",
    "    - third and rightmost bin contains the values in interval \\[10, 15\\]\n"
   ]
  },
  {
   "cell_type": "markdown",
   "metadata": {
    "slideshow": {
     "slide_type": "slide"
    }
   },
   "source": [
    "### Using NumPy to generate histograms\n",
    "The function `np.histogram()` is a convenient way to parse data for making histograms:"
   ]
  },
  {
   "cell_type": "code",
   "execution_count": null,
   "metadata": {
    "id": "9c-Mge2S7X7h",
    "slideshow": {
     "slide_type": "fragment"
    }
   },
   "outputs": [],
   "source": [
    "x1 = 1 + 1*np.random.randn(100)\n",
    "hist, bin_edges = np.histogram(x, bins=10)"
   ]
  },
  {
   "cell_type": "code",
   "execution_count": null,
   "metadata": {
    "id": "PGUD7-EhCogW",
    "slideshow": {
     "slide_type": "fragment"
    }
   },
   "outputs": [],
   "source": [
    "hist"
   ]
  },
  {
   "cell_type": "code",
   "execution_count": null,
   "metadata": {
    "id": "0uZ8JcbiCrAl",
    "slideshow": {
     "slide_type": "fragment"
    }
   },
   "outputs": [],
   "source": [
    "bin_edges"
   ]
  },
  {
   "cell_type": "markdown",
   "metadata": {
    "id": "bFLeRdS_FqSd",
    "slideshow": {
     "slide_type": "fragment"
    }
   },
   "source": [
    "`numpy.histogram()` takes the data array and the number of bins and returns two NumPy arrays:\n",
    "\n",
    "- hist contains the frequency or the number of items corresponding to each of the N bins\n",
    "- bin_edges contains the N + 1 edges or bounds of the bins\n",
    "\n"
   ]
  },
  {
   "cell_type": "markdown",
   "metadata": {
    "slideshow": {
     "slide_type": "slide"
    }
   },
   "source": [
    "### Creating Histograms plots with matplotlib\n",
    "Histogram plots are generated by the `hist()` method"
   ]
  },
  {
   "cell_type": "code",
   "execution_count": null,
   "metadata": {
    "id": "Lbdyx2zkCsKI",
    "slideshow": {
     "slide_type": "fragment"
    }
   },
   "outputs": [],
   "source": [
    "fig, ax = plt.subplots()\n",
    "ax.hist(x, bin_edges, cumulative=False)\n",
    "ax.set_title('Histogram')\n",
    "ax.set_xlabel('x')\n",
    "ax.set_ylabel('Frequency');"
   ]
  },
  {
   "cell_type": "markdown",
   "metadata": {
    "id": "44yzf25ZGCfW",
    "slideshow": {
     "slide_type": "slide"
    }
   },
   "source": [
    "### Pie Charts\n",
    "- Pie charts represent data with a small number of labels and given relative frequencies\n",
    "- They work well even with the labels that can’t be ordered (like nominal data)\n",
    "\n",
    "Let’s define data associated to three labels:"
   ]
  },
  {
   "cell_type": "code",
   "execution_count": null,
   "metadata": {
    "id": "wFYlohwcF2g5",
    "slideshow": {
     "slide_type": "fragment"
    }
   },
   "outputs": [],
   "source": [
    "a, b, c = 128, 256, 1024"
   ]
  },
  {
   "cell_type": "markdown",
   "metadata": {
    "id": "pWH2Ov29GbOC",
    "slideshow": {
     "slide_type": "slide"
    }
   },
   "source": [
    "### Creating a Pie Chart plots with matplotlib\n",
    "We use  the method `pie()` to create a pie chart"
   ]
  },
  {
   "cell_type": "code",
   "execution_count": null,
   "metadata": {
    "id": "ZeO69-NMGTix",
    "slideshow": {
     "slide_type": "fragment"
    }
   },
   "outputs": [],
   "source": [
    "fig, ax = plt.subplots()\n",
    "ax.pie((a, b, c), labels=('x', 'y', 'z'), autopct='%2.1f%%')\n",
    "ax.set_title('Pie Chart');"
   ]
  },
  {
   "cell_type": "markdown",
   "metadata": {
    "id": "JHsSfg8qGsJW",
    "slideshow": {
     "slide_type": "fragment"
    }
   },
   "source": [
    "**Note:**`autopct` defines the float format of the relative frequencies (in percent) shown on the figure "
   ]
  },
  {
   "cell_type": "markdown",
   "metadata": {
    "id": "IIK5kGixHNS7",
    "slideshow": {
     "slide_type": "slide"
    }
   },
   "source": [
    "\n",
    "### Bar Charts\n",
    "\n",
    "- Bar charts also illustrate data that correspond to given labels or discrete numeric values\n",
    "- They can show the pairs of data from two datasets\n",
    "- Items of one set are the labels, while the corresponding items of the other are their frequencies\n",
    "    - Optionally, they can show the errors related to the frequencies, as well\n",
    "\n",
    "- Bar charts show parallel rectangles called bars\n",
    "- Each bar corresponds to a single label and has a height proportional to the frequency or relative frequency of its label "
   ]
  },
  {
   "cell_type": "markdown",
   "metadata": {
    "slideshow": {
     "slide_type": "slide"
    }
   },
   "source": [
    "### Creating Bar Charts plots in matplotlib"
   ]
  },
  {
   "cell_type": "markdown",
   "metadata": {
    "id": "FIpKrrOmHhrh",
    "slideshow": {
     "slide_type": "fragment"
    }
   },
   "source": [
    "We can create a bar chart using the `bar()` method:"
   ]
  },
  {
   "cell_type": "code",
   "execution_count": null,
   "metadata": {
    "id": "8ZywJhxHHedA",
    "slideshow": {
     "slide_type": "fragment"
    }
   },
   "outputs": [],
   "source": [
    "x = np.arange(21)\n",
    "y = np.random.randint(21, size=21)\n",
    "fig, ax = plt.subplots()\n",
    "ax.bar(x, y)\n",
    "ax.set_xlabel('x')\n",
    "ax.set_ylabel('y');"
   ]
  },
  {
   "cell_type": "markdown",
   "metadata": {
    "id": "fnJnlzORIxB0",
    "slideshow": {
     "slide_type": "slide"
    }
   },
   "source": [
    "### Bar Charts with Categorical Data\n",
    "What if we have categorical data? We can visualize it using bar charts as well! "
   ]
  },
  {
   "cell_type": "code",
   "execution_count": null,
   "metadata": {
    "id": "2XFDMoOyHoMY",
    "slideshow": {
     "slide_type": "fragment"
    }
   },
   "outputs": [],
   "source": [
    "animals = ['Lions', 'Elephants', 'Birds', 'Sloths', 'Monkeys']\n",
    "amounts = [23, 17, 35, 29, 12]\n",
    "fig, ax= plt.subplots()\n",
    "ax.bar(animals, amounts)\n",
    "ax.set_title('Amount of Animals in the Zoo');"
   ]
  },
  {
   "cell_type": "markdown",
   "metadata": {
    "id": "wiek7bcNJ7nB",
    "slideshow": {
     "slide_type": "slide"
    }
   },
   "source": [
    "### Advanced bar charts in matplotlib\n",
    "- We can plot multiple bar charts by playing with the thickness and the positions of the bars\n",
    "\n",
    "Consider the following example:\n",
    "- The script on next slide shows three bar charts of four bars\n",
    "    - Bars are given a thickness of 0.25 units\n",
    "    - Each bar chart is shifted 0.25 units from the previous one\n",
    "    - The data object is a nested list containing number of candy sold each year\n",
    "\n",
    "Note a new function called `plt.xticks()`\n",
    "\n",
    "This function shifts the x-values of ticks, and then inputs the names of each of the 4 ticks in order"
   ]
  },
  {
   "cell_type": "code",
   "execution_count": null,
   "metadata": {
    "id": "lfOsR9LjJvy7",
    "slideshow": {
     "slide_type": "slide"
    }
   },
   "outputs": [],
   "source": [
    "data = [[30, 25, 50, 20], [40, 23, 51, 17], [35, 22, 45, 19]]\n",
    "X = np.arange(4)\n",
    "plt.bar(X + 0.00, data[0], width = 0.25, label= 'Lollipops' , color=\"pink\")\n",
    "plt.bar(X + 0.25, data[1], width = 0.25, label= 'Chocolate', color=\"brown\")\n",
    "plt.bar(X + 0.50, data[2], width = 0.25, label= 'Gummies', color='yellow')\n",
    "plt.title('Candy sold from 2017-2020')\n",
    "plt.xticks(X+0.25, ('2017','2018', '2019', '2020')) \n",
    "plt.legend();"
   ]
  },
  {
   "cell_type": "markdown",
   "metadata": {
    "slideshow": {
     "slide_type": "slide"
    }
   },
   "source": [
    "### Key Points\n",
    "- matplotlib can create scatterplots, box plots, histograms, pie charts, and more\n",
    "- Plots can be tiled using subplot\n",
    "- axes are associated to each plot\n",
    "- Different plots style can be shown side-by-side\n"
   ]
  },
  {
   "cell_type": "markdown",
   "metadata": {
    "id": "PkkQi6-_OU3V",
    "slideshow": {
     "slide_type": "slide"
    }
   },
   "source": [
    "### Further Reading\n",
    "- This notebook focuses on representing data and keeps stylistic settings to a minimum.\n",
    "[Here is a link](https://matplotlib.org/stable/api/pyplot_summary.html#basic) to the official documentation for used routines from `matplotlib.pyplot`, so you can explore the options that you didn't see here.\n",
    "\n",
    "There are many tutorials out there that will help you build the type of graph you want:\n",
    "* [Official Matplotlib Tutorials](https://matplotlib.org/3.3.3/tutorials/index.html)\n",
    "* [Adding Flair To Your Graphs](https://data-flair.training/blogs/python-matplotlib-tutorial/)\n",
    "* [More information at the Matplotlib web page](http://matplotlib.org/)\n"
   ]
  }
 ],
 "metadata": {
  "celltoolbar": "Slideshow",
  "colab": {
   "collapsed_sections": [],
   "provenance": []
  },
  "kernelspec": {
   "display_name": "Python 3 (ipykernel)",
   "language": "python",
   "name": "python3"
  },
  "language_info": {
   "codemirror_mode": {
    "name": "ipython",
    "version": 3
   },
   "file_extension": ".py",
   "mimetype": "text/x-python",
   "name": "python",
   "nbconvert_exporter": "python",
   "pygments_lexer": "ipython3",
   "version": "3.11.7"
  }
 },
 "nbformat": 4,
 "nbformat_minor": 4
}

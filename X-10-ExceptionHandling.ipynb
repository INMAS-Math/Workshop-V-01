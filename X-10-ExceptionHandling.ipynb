{
 "cells": [
  {
   "cell_type": "markdown",
   "id": "cb5140ef",
   "metadata": {},
   "source": [
    "<img src=\"images/inmas.png\" width=130x align=\"right\" />\n",
    "\n",
    "# Exercise 10 - Exception Handling\n",
    "\n",
    "\n",
    "### Prerequisite\n",
    "Notebook 10"
   ]
  },
  {
   "cell_type": "markdown",
   "id": "9e7cbbf6",
   "metadata": {},
   "source": [
    "### 1.\n",
    "Combine `with` and `try-except` constructs to write a short interactive algorithm for opening a file and printing its first line. Test with a file name that does not exist.\n",
    "\n",
    "User provides the file name. Do not use `if` for checking the file existence.\n",
    "\n",
    "- Understand the difference in purpose between `with` and the `try-except` construct (resource management vs. error handling)."
   ]
  },
  {
   "cell_type": "code",
   "execution_count": null,
   "id": "47321057",
   "metadata": {},
   "outputs": [],
   "source": []
  },
  {
   "cell_type": "markdown",
   "id": "d8244f7a",
   "metadata": {},
   "source": [
    "### 2.\n",
    "- Define a function that takes two lists as input and divides one list by the other, element by element. It returns a list of the same length with the results. Include checks that both lists are equal. Handle exceptions and use NaN for zero division result.\n",
    "- Create two lists of 10 numbers, both containing one zero element somewhere and test."
   ]
  },
  {
   "cell_type": "code",
   "execution_count": null,
   "id": "61d7ac3c",
   "metadata": {},
   "outputs": [],
   "source": []
  }
 ],
 "metadata": {
  "kernelspec": {
   "display_name": "Python 3 (ipykernel)",
   "language": "python",
   "name": "python3"
  },
  "language_info": {
   "codemirror_mode": {
    "name": "ipython",
    "version": 3
   },
   "file_extension": ".py",
   "mimetype": "text/x-python",
   "name": "python",
   "nbconvert_exporter": "python",
   "pygments_lexer": "ipython3",
   "version": "3.11.7"
  }
 },
 "nbformat": 4,
 "nbformat_minor": 5
}

{
 "cells": [
  {
   "cell_type": "markdown",
   "metadata": {
    "id": "91eq7qoAtkDL",
    "slideshow": {
     "slide_type": "slide"
    }
   },
   "source": [
    "<img align=right src=\"images/inmas.png\" width=130x />\n",
    "\n",
    "# Notebook 05 - Data Representation and Arithmetics\n",
    "\n",
    "A deeper look at data representation and memory sizes in Python\n",
    "\n",
    "### Prerequisite\n",
    "Notebook 04\n"
   ]
  },
  {
   "cell_type": "markdown",
   "metadata": {
    "id": "DAIQPBm7Ks7i",
    "slideshow": {
     "slide_type": "slide"
    }
   },
   "source": [
    "### Boolean arithmetics\n",
    "Boolean variables record logical True or False\n",
    "\n",
    "They support logical operations and arithmetics"
   ]
  },
  {
   "cell_type": "code",
   "execution_count": null,
   "metadata": {
    "id": "EVfJaf1FLETD",
    "slideshow": {
     "slide_type": "fragment"
    }
   },
   "outputs": [],
   "source": [
    "x = False\n",
    "y = True\n",
    "x and y"
   ]
  },
  {
   "cell_type": "code",
   "execution_count": null,
   "metadata": {
    "id": "0zGPKvBJLGmG",
    "slideshow": {
     "slide_type": "fragment"
    }
   },
   "outputs": [],
   "source": [
    "y = 1 < 5\n",
    "y = y and (4 < 8)\n",
    "y"
   ]
  },
  {
   "cell_type": "markdown",
   "metadata": {
    "slideshow": {
     "slide_type": "fragment"
    }
   },
   "source": [
    "Can you predict the content of list z?"
   ]
  },
  {
   "cell_type": "code",
   "execution_count": null,
   "metadata": {
    "colab": {
     "base_uri": "https://localhost:8080/"
    },
    "executionInfo": {
     "elapsed": 4,
     "status": "ok",
     "timestamp": 1634741335370,
     "user": {
      "displayName": "Emily Shinkle",
      "photoUrl": "https://lh3.googleusercontent.com/a/default-user=s64",
      "userId": "06575640438948846197"
     },
     "user_tz": 300
    },
    "id": "no13Q6d_LP-l",
    "outputId": "c3ed3c2a-2bd7-4579-bbc4-14807f3e74ff",
    "slideshow": {
     "slide_type": "fragment"
    }
   },
   "outputs": [],
   "source": [
    "z = [(1 < 0), (2 >= 4), (5 <= 5), (2 > 4)]\n",
    "z"
   ]
  },
  {
   "cell_type": "markdown",
   "metadata": {
    "slideshow": {
     "slide_type": "slide"
    }
   },
   "source": [
    "### Revisiting smart printing \n",
    "\n",
    "As we have seen before, we will use the Python construct `string % (values)` to build a string where we substitute data into the string. The values are inserted where the %\\*'s are located in the string.\n",
    "- %d a decimal representation of an integer\n",
    "- %f a float\n",
    "- %s a string\n",
    "- %r a default representation of the object, typically a string\n",
    "\n",
    "Let's look at a specific example:"
   ]
  },
  {
   "cell_type": "code",
   "execution_count": null,
   "metadata": {
    "slideshow": {
     "slide_type": "fragment"
    }
   },
   "outputs": [],
   "source": [
    "print('This string includes a string %s, a decimal %d, a float %f, and a list %r.' % ('yes!', 1, 2.0, [1,2]))"
   ]
  },
  {
   "cell_type": "markdown",
   "metadata": {
    "slideshow": {
     "slide_type": "fragment"
    }
   },
   "source": [
    "Obviously, `(values)` can include literals or variables"
   ]
  },
  {
   "cell_type": "markdown",
   "metadata": {
    "slideshow": {
     "slide_type": "slide"
    }
   },
   "source": [
    "### Booleans\n",
    "We use the `getsizeof()` function from the *sys* module to determine the size of an object in memory, and use the smart printing we just learned\n"
   ]
  },
  {
   "cell_type": "code",
   "execution_count": null,
   "metadata": {
    "id": "FQGHQiXBLVyU",
    "slideshow": {
     "slide_type": "fragment"
    }
   },
   "outputs": [],
   "source": [
    "import sys\n",
    "\n",
    "x = True\n",
    "print(\"x is %r\" % x)\n",
    "print(\"Type of x is %s\" % type(x))\n",
    "print(\"x takes %d bytes in memory\" % sys.getsizeof(x))"
   ]
  },
  {
   "cell_type": "markdown",
   "metadata": {
    "slideshow": {
     "slide_type": "fragment"
    }
   },
   "source": [
    "In principle, a Boolean decision variable can occupy 1 bit, but it is represented as an integer (4 bytes) and the other 24 bytes are part of the variable's header which contains metadata such as a hash and a reference counter used by the memory manager (garbage collector)"
   ]
  },
  {
   "cell_type": "code",
   "execution_count": null,
   "metadata": {
    "slideshow": {
     "slide_type": "fragment"
    }
   },
   "outputs": [],
   "source": [
    "print(bool.__bases__) # See that boolean is a subclass of integer"
   ]
  },
  {
   "cell_type": "markdown",
   "metadata": {
    "slideshow": {
     "slide_type": "slide"
    }
   },
   "source": [
    "### Integers\n",
    "Typically, a signed integer is represented by 4 bytes, and referred to as an int32. It can take values up to \\$-2^{31}\\$ to \\$+2^{31} - 1\\$ or from -2,147,483,648 to 2,147,483,647. One bit is used to store the sign, thus the 31.\n",
    "\n",
    "Let's look at the size for a small integer:"
   ]
  },
  {
   "cell_type": "code",
   "execution_count": null,
   "metadata": {
    "slideshow": {
     "slide_type": "fragment"
    }
   },
   "outputs": [],
   "source": [
    "x = 2\n",
    "print(\"x is %r\" % x)\n",
    "print(\"Type of x is %s\" % type(x))\n",
    "print(\"x takes %d bytes in memory\" % sys.getsizeof(x))"
   ]
  },
  {
   "cell_type": "markdown",
   "metadata": {
    "slideshow": {
     "slide_type": "fragment"
    }
   },
   "source": [
    "The total size including the header is 28 bytes, as what we found for Boolean"
   ]
  },
  {
   "cell_type": "markdown",
   "metadata": {
    "slideshow": {
     "slide_type": "slide"
    }
   },
   "source": [
    "Would the arithmetic overflow if we go beyond an int32's capacity? Can it store a number with 512 bits, i.e., 64 bytes?"
   ]
  },
  {
   "cell_type": "code",
   "execution_count": null,
   "metadata": {
    "slideshow": {
     "slide_type": "fragment"
    }
   },
   "outputs": [],
   "source": [
    "x = 2**512\n",
    "print(\"x is %r\" % x)\n",
    "print(\"Type of x is %s\" % type(x))\n",
    "print(\"x takes %d bytes in memory\" % sys.getsizeof(x))"
   ]
  },
  {
   "cell_type": "markdown",
   "metadata": {
    "slideshow": {
     "slide_type": "fragment"
    }
   },
   "source": [
    "Now the size has increased, allowing to store large arbitrary integers. Therefore, large calculations with integers are safe in Python as it adjusts the memory for integers to fit large numbers!"
   ]
  },
  {
   "cell_type": "markdown",
   "metadata": {
    "id": "interim-constraint",
    "scrolled": true,
    "slideshow": {
     "slide_type": "slide"
    }
   },
   "source": [
    "### Integers size\n",
    "How does the memory use increase with integer size?"
   ]
  },
  {
   "cell_type": "code",
   "execution_count": null,
   "metadata": {
    "id": "apparent-manchester",
    "scrolled": false,
    "slideshow": {
     "slide_type": "fragment"
    }
   },
   "outputs": [],
   "source": [
    "import sys\n",
    "x = 2\n",
    "for i in range(10):\n",
    "    x**=2\n",
    "    print('Memory(\"%d\") = %d bytes' % (x, sys.getsizeof(x)))"
   ]
  },
  {
   "cell_type": "markdown",
   "metadata": {
    "slideshow": {
     "slide_type": "slide"
    }
   },
   "source": [
    "### Arithmetics with integers"
   ]
  },
  {
   "cell_type": "code",
   "execution_count": null,
   "metadata": {
    "colab": {
     "base_uri": "https://localhost:8080/"
    },
    "executionInfo": {
     "elapsed": 263,
     "status": "ok",
     "timestamp": 1634741358381,
     "user": {
      "displayName": "Emily Shinkle",
      "photoUrl": "https://lh3.googleusercontent.com/a/default-user=s64",
      "userId": "06575640438948846197"
     },
     "user_tz": 300
    },
    "id": "Z0YF_JKmLXlZ",
    "outputId": "cb0ddef2-9671-41f2-efa0-65a79a86e0c8",
    "slideshow": {
     "slide_type": "fragment"
    }
   },
   "outputs": [],
   "source": [
    "a = 155\n",
    "b = 7\n",
    "c = a + b\n",
    "print(\"%d + %d = %r (%s)\" % (a, b, c, type(c)))"
   ]
  },
  {
   "cell_type": "code",
   "execution_count": null,
   "metadata": {
    "id": "e071330c",
    "slideshow": {
     "slide_type": "fragment"
    }
   },
   "outputs": [],
   "source": [
    "c = a - 50*b\n",
    "print(\"%d - 50*%d = %r (%s)\" % (a, b, c, type(c)))"
   ]
  },
  {
   "cell_type": "markdown",
   "metadata": {
    "slideshow": {
     "slide_type": "fragment"
    }
   },
   "source": [
    "The *int* type is preserved as long as all variables are integers, and operations are well defined between integers"
   ]
  },
  {
   "cell_type": "markdown",
   "metadata": {
    "id": "70ea370f",
    "slideshow": {
     "slide_type": "slide"
    }
   },
   "source": [
    "### Automatic casting"
   ]
  },
  {
   "cell_type": "code",
   "execution_count": null,
   "metadata": {
    "id": "9f2c3eed",
    "slideshow": {
     "slide_type": "fragment"
    }
   },
   "outputs": [],
   "source": [
    "a = 155\n",
    "b = 7\n",
    "c = a**b\n",
    "print(\"%d ^ %d = %r (%s)\" % (a, b, c, type(c)))\n",
    "c = a/b\n",
    "print(\"%d / %d = %r (%s)\" % (a, b, c, type(c)))"
   ]
  },
  {
   "cell_type": "markdown",
   "metadata": {
    "id": "7c08a268",
    "slideshow": {
     "slide_type": "fragment"
    }
   },
   "source": [
    "Python adjusts the *type* of integers as to fit the result of the arithmetic operation!"
   ]
  },
  {
   "cell_type": "markdown",
   "metadata": {
    "id": "8975dab1",
    "slideshow": {
     "slide_type": "slide"
    }
   },
   "source": [
    "### Integer floor and modulo divisions"
   ]
  },
  {
   "cell_type": "code",
   "execution_count": null,
   "metadata": {
    "id": "SSyBkyUxPv4g",
    "slideshow": {
     "slide_type": "fragment"
    }
   },
   "outputs": [],
   "source": [
    "a = 155\n",
    "b = 7\n",
    "c = a // b\n",
    "print(\"%d // %d = %r (%s)\" % (a, b, c, type(c)))\n",
    "c = a % b\n",
    "print(\"%d %% %d = %r (%s)\" % (a, b, c, type(c)))"
   ]
  },
  {
   "cell_type": "markdown",
   "metadata": {
    "colab": {
     "base_uri": "https://localhost:8080/",
     "height": 178
    },
    "executionInfo": {
     "elapsed": 238,
     "status": "error",
     "timestamp": 1634742863406,
     "user": {
      "displayName": "Emily Shinkle",
      "photoUrl": "https://lh3.googleusercontent.com/a/default-user=s64",
      "userId": "06575640438948846197"
     },
     "user_tz": 300
    },
    "id": "kuSQiNjWQUYx",
    "outputId": "7fc8c742-825a-4a3e-c7c8-ff6802e98c82",
    "slideshow": {
     "slide_type": "fragment"
    }
   },
   "source": [
    "These two operators always leave the type unchanged\n",
    "\n",
    "What if only `a` or `b` was a float? \n",
    "\n",
    "<small>(to find out, add a period at the end of the literal 7 or 155 and run the cell again)</small>"
   ]
  },
  {
   "cell_type": "markdown",
   "metadata": {
    "id": "gC--2nKEQaQ1",
    "slideshow": {
     "slide_type": "slide"
    }
   },
   "source": [
    "### Arithmetics mixing integers and booleans"
   ]
  },
  {
   "cell_type": "code",
   "execution_count": null,
   "metadata": {
    "slideshow": {
     "slide_type": "fragment"
    }
   },
   "outputs": [],
   "source": [
    "z = (1 < 5) - 5\n",
    "z"
   ]
  },
  {
   "cell_type": "code",
   "execution_count": null,
   "metadata": {
    "slideshow": {
     "slide_type": "fragment"
    }
   },
   "outputs": [],
   "source": [
    "x = 15\n",
    "z = x * (x > 10) + x**2 * (x < 10)\n",
    "z"
   ]
  },
  {
   "cell_type": "markdown",
   "metadata": {
    "slideshow": {
     "slide_type": "fragment"
    }
   },
   "source": [
    "What if `x` is 10 instead of 15 in the last example?"
   ]
  },
  {
   "cell_type": "markdown",
   "metadata": {
    "id": "95122fd8",
    "slideshow": {
     "slide_type": "slide"
    }
   },
   "source": [
    "### Floating point numbers (float)\n",
    "Let's have a look of how floats are stored in memory"
   ]
  },
  {
   "cell_type": "code",
   "execution_count": null,
   "metadata": {
    "id": "9def08db",
    "slideshow": {
     "slide_type": "fragment"
    }
   },
   "outputs": [],
   "source": [
    "x = 183.0\n",
    "print(\"x is %r\" % x)\n",
    "print(\"Type of x is %s\" % type(x))\n",
    "print(\"x takes %d bytes in memory\" % sys.getsizeof(x))"
   ]
  },
  {
   "cell_type": "markdown",
   "metadata": {
    "id": "ff6e7345",
    "slideshow": {
     "slide_type": "fragment"
    }
   },
   "source": [
    "Each float takes 24 bytes in memory. What are the limits? This can be found from the following command:"
   ]
  },
  {
   "cell_type": "code",
   "execution_count": null,
   "metadata": {
    "slideshow": {
     "slide_type": "fragment"
    }
   },
   "outputs": [],
   "source": [
    "sys.float_info"
   ]
  },
  {
   "cell_type": "markdown",
   "metadata": {
    "slideshow": {
     "slide_type": "slide"
    }
   },
   "source": [
    "### Maximum float\n",
    "Exceeding the capacity of a floating point number results in an OverflowError exception being raised:"
   ]
  },
  {
   "cell_type": "code",
   "execution_count": null,
   "metadata": {
    "slideshow": {
     "slide_type": "fragment"
    }
   },
   "outputs": [],
   "source": [
    "x = 2.0\n",
    "for i in range(10):\n",
    "    x **= 2\n",
    "    print('Memory(\"%e\") = %d bytes' % (x, sys.getsizeof(x)))"
   ]
  },
  {
   "cell_type": "markdown",
   "metadata": {
    "slideshow": {
     "slide_type": "slide"
    }
   },
   "source": [
    "### Espilon\n",
    "Roughly speaking, epsilon is the largest value such that\n",
    "\n",
    "$$\n",
    "1 + \\epsilon \\ne 1\n",
    "$$\n",
    "\n",
    "Per sys.float_info, epsilon=2.220446049250313e-16."
   ]
  },
  {
   "cell_type": "code",
   "execution_count": null,
   "metadata": {
    "slideshow": {
     "slide_type": "fragment"
    }
   },
   "outputs": [],
   "source": [
    "epsilon = 2.220446049250313e-16\n",
    "1. + 0.5 * epsilon == 1."
   ]
  },
  {
   "cell_type": "markdown",
   "metadata": {
    "slideshow": {
     "slide_type": "fragment"
    }
   },
   "source": [
    "Using epsilon is very important when verifying the equality of floating point numbers"
   ]
  },
  {
   "cell_type": "markdown",
   "metadata": {
    "slideshow": {
     "slide_type": "slide"
    }
   },
   "source": [
    "### Three special values: inf, -inf and NaN\n",
    "What if we exceed the limits listed in `sys.float_info`?"
   ]
  },
  {
   "cell_type": "code",
   "execution_count": null,
   "metadata": {
    "slideshow": {
     "slide_type": "fragment"
    }
   },
   "outputs": [],
   "source": [
    "sys.float_info"
   ]
  },
  {
   "cell_type": "markdown",
   "metadata": {
    "slideshow": {
     "slide_type": "fragment"
    }
   },
   "source": [
    "Set x to a number sligthly larger than max:"
   ]
  },
  {
   "cell_type": "code",
   "execution_count": null,
   "metadata": {
    "slideshow": {
     "slide_type": "fragment"
    }
   },
   "outputs": [],
   "source": [
    "x = 1.79769314e+308\n",
    "print(\"x is %r\" % x)\n",
    "print(\"Type of x is %s\" % type(x))\n",
    "print(\"x takes %d bytes in memory\" % sys.getsizeof(x))"
   ]
  },
  {
   "cell_type": "markdown",
   "metadata": {
    "slideshow": {
     "slide_type": "slide"
    }
   },
   "source": [
    "### Not a Number (NaN)\n",
    "In some cases, NaN is returned as a value if the computation do not make sense. One example is the following division:\n",
    "\n",
    "$$\n",
    "x = \\infty/\\infty\n",
    "$$\n",
    "\n",
    "The value NaN is also used by modules (such as pandas) when entries in data tables are missing"
   ]
  },
  {
   "cell_type": "code",
   "execution_count": null,
   "metadata": {
    "slideshow": {
     "slide_type": "fragment"
    }
   },
   "outputs": [],
   "source": [
    "import math as m\n",
    "x = m.inf/m.inf\n",
    "print('The value of x is', x, 'and the function math.isnan() returns', m.isnan(x))"
   ]
  },
  {
   "cell_type": "markdown",
   "metadata": {
    "slideshow": {
     "slide_type": "slide"
    }
   },
   "source": [
    "### Playing with infinity"
   ]
  },
  {
   "cell_type": "code",
   "execution_count": null,
   "metadata": {
    "slideshow": {
     "slide_type": "fragment"
    }
   },
   "outputs": [],
   "source": [
    "import math as m\n",
    "a = 12\n",
    "b = m.inf\n",
    "print('a/infinity = ', a/b)\n",
    "print('-a/infinity = ', -a/b)\n",
    "print('a + infinity = ', a + b)\n",
    "print('a - infinity = ', a - b)\n",
    "print('a * infinity = ', a * b)\n",
    "print('infinity - infinity = ', b - b)\n",
    "print('infinity/infinity = ', b/b)\n"
   ]
  },
  {
   "cell_type": "markdown",
   "metadata": {
    "slideshow": {
     "slide_type": "slide"
    }
   },
   "source": [
    "### Expressing log(0)\n",
    "The behavior of packages and libraries can vary from one to another\n",
    "\n",
    "- Run the cell below once with the math module and **then again** with importing the numpy module"
   ]
  },
  {
   "cell_type": "code",
   "execution_count": null,
   "metadata": {
    "id": "371cd355",
    "slideshow": {
     "slide_type": "fragment"
    }
   },
   "outputs": [],
   "source": [
    "import sys\n",
    "import math as m\n",
    "# import numpy as m\n",
    "x = m.log(0)                         # Implementations may vary in different packages/libraries!\n",
    "print(\"x is %r\" % x)\n",
    "print(\"Type of x is %s\" % type(x))\n",
    "print(\"x takes %d bytes in memory\" % sys.getsizeof(x))"
   ]
  },
  {
   "cell_type": "markdown",
   "metadata": {
    "id": "tvTF7_BQtkDe",
    "slideshow": {
     "slide_type": "slide"
    }
   },
   "source": [
    "### Complex numbers\n",
    "\n",
    "Representation for real and imaginary numbers. The literal `f + gj`, where *f* and *g* are floats or integers indicates a complex number."
   ]
  },
  {
   "cell_type": "code",
   "execution_count": null,
   "metadata": {
    "id": "appointed-rugby",
    "slideshow": {
     "slide_type": "fragment"
    }
   },
   "outputs": [],
   "source": [
    "x = 1j + 5\n",
    "print(\"x is %r\" % x)\n",
    "print(\"Type of x is %s\" % type(x))\n",
    "print(\"x takes %d bytes in memory\" % sys.getsizeof(x))"
   ]
  },
  {
   "cell_type": "markdown",
   "metadata": {
    "id": "working-cuisine",
    "slideshow": {
     "slide_type": "slide"
    }
   },
   "source": [
    "### Euler formula\n",
    "Let's verify Euler formula using the complex math library `cmath`:\n",
    "$$\n",
    "e^{i \\pi} + 1 = 0\n",
    "$$"
   ]
  },
  {
   "cell_type": "code",
   "execution_count": null,
   "metadata": {
    "id": "mineral-malaysia",
    "scrolled": true,
    "slideshow": {
     "slide_type": "fragment"
    }
   },
   "outputs": [],
   "source": [
    "from cmath import exp, pi\n",
    "x=1j\n",
    "x = exp(x*pi)+1\n",
    "print(\"x is %r\" % x)\n",
    "print(\"|x| is %1.20f\" % abs(x))\n",
    "print(\"Type of x is %s\" % type(x))\n",
    "print(\"x takes %d bytes in memory\" % sys.getsizeof(x))"
   ]
  },
  {
   "cell_type": "markdown",
   "metadata": {
    "id": "simplified-fitting",
    "slideshow": {
     "slide_type": "slide"
    }
   },
   "source": [
    "### Strings\n",
    "How are string represented?"
   ]
  },
  {
   "cell_type": "code",
   "execution_count": null,
   "metadata": {
    "id": "musical-shower",
    "slideshow": {
     "slide_type": "fragment"
    }
   },
   "outputs": [],
   "source": [
    "s = 'Hello world'\n",
    "print(\"s is %r\" % s)\n",
    "print(\"Type of s is %s\" % type(s))\n",
    "print(\"Length of \\\"%s\\\" is %d\" %(s,len(s)))\n",
    "print(\"s takes %d bytes in memory\" % sys.getsizeof(s))"
   ]
  },
  {
   "cell_type": "markdown",
   "metadata": {
    "slideshow": {
     "slide_type": "slide"
    }
   },
   "source": [
    "### Size of string objects\n",
    "How does the memory use increase with string size?"
   ]
  },
  {
   "cell_type": "code",
   "execution_count": null,
   "metadata": {
    "id": "first-nature",
    "slideshow": {
     "slide_type": "fragment"
    }
   },
   "outputs": [],
   "source": [
    "s = ''\n",
    "for i in range(10):\n",
    "    s += 'a'\n",
    "    print('Memory(\"%s\", %d symbols) = %d bytes' % (s, len(s), sys.getsizeof(s)))"
   ]
  },
  {
   "cell_type": "markdown",
   "metadata": {
    "id": "serious-death",
    "slideshow": {
     "slide_type": "slide"
    }
   },
   "source": [
    "### Each variable has an ID\n",
    "\n",
    "Python implements complex memory management system to avoid unnecessary memory allocation. The id() function returns unique int for a variable (reference). Here is an example:"
   ]
  },
  {
   "cell_type": "code",
   "execution_count": null,
   "metadata": {
    "slideshow": {
     "slide_type": "fragment"
    }
   },
   "outputs": [],
   "source": [
    "x = 10\n",
    "print(\"Initial id(x) is %s\" % id(x))\n",
    "\n",
    "y = x\n",
    "print(\"        id(y) is %s\" % id(y))\n",
    "\n",
    "y += x\n",
    "print(\"    Now id(y) is %s\" % id(y))"
   ]
  },
  {
   "cell_type": "markdown",
   "metadata": {
    "id": "adequate-mediterranean",
    "slideshow": {
     "slide_type": "slide"
    }
   },
   "source": [
    "### Composite variable types\n",
    "\n",
    "- **List** Collection of variables of any types, can be sliced like strings  \n",
    "- **Tuple** Same as list but immutable (can not be edited)\n",
    "- **Dictionary** Pairs of keys and values  \n",
    "- **Set** Unique elements of a collection (also has immutable counterpart)\n",
    "- **Range** Sequence of integers, useful for loops in the code!"
   ]
  },
  {
   "cell_type": "markdown",
   "metadata": {
    "slideshow": {
     "slide_type": "slide"
    }
   },
   "source": [
    "### Lists and tuples"
   ]
  },
  {
   "cell_type": "code",
   "execution_count": null,
   "metadata": {
    "id": "O7oIZh2UMYHf",
    "slideshow": {
     "slide_type": "fragment"
    }
   },
   "outputs": [],
   "source": [
    "x = [True, 5, 5.2, 'string',]  # trailing comma is ignored\n",
    "y = (True, 5, 5.2, 'string',)\n",
    "\n",
    "print(\"x is %r\" % x)\n",
    "print(\"Type of x is %s\" % type(x))\n",
    "print(\"x takes %d bytes in memory\" % sys.getsizeof(x))\n",
    "print()\n",
    "print(\"y is (%r,%r,%r,%r)\" % y)\n",
    "print(\"Type of y is %s\" % type(y))\n",
    "print(\"Y takes %d bytes in memory\" % sys.getsizeof(y))"
   ]
  },
  {
   "cell_type": "markdown",
   "metadata": {
    "slideshow": {
     "slide_type": "slide"
    }
   },
   "source": [
    "### Difference between lists and tuples\n",
    "Lists are mutable while tuples are not:"
   ]
  },
  {
   "cell_type": "code",
   "execution_count": null,
   "metadata": {
    "slideshow": {
     "slide_type": "fragment"
    }
   },
   "outputs": [],
   "source": [
    "x = [True, 5, 5.2, 'string',]  # last comma is ignored\n",
    "y = (True, 5, 5.2, 'string',)\n",
    "\n",
    "x[0] = 567;  # lists are mutable\n",
    "y[0] = 567;  # tuples are immutable -> ERROR"
   ]
  },
  {
   "cell_type": "markdown",
   "metadata": {
    "slideshow": {
     "slide_type": "fragment"
    }
   },
   "source": [
    "In a nutshell, immutable objects can never be on the left-had side of an assignment"
   ]
  },
  {
   "cell_type": "markdown",
   "metadata": {
    "slideshow": {
     "slide_type": "slide"
    }
   },
   "source": [
    "### Key Points\n",
    "- Integers have arbitrary size on Python\n",
    "- Floating point numbers have a fixed representation\n",
    "- Floats have three special values: +/- inf and NaN\n",
    "- Integers get upcasted to float when appropriate\n",
    "- Python supports complex numbers\n",
    "- Floating point operation behavior can vary depending on the library or module being used\n"
   ]
  },
  {
   "cell_type": "markdown",
   "metadata": {
    "slideshow": {
     "slide_type": "slide"
    }
   },
   "source": [
    "### What's Next?\n",
    "- Complete the exercises in this associated exercise notebook [X-05-Arithmetics.ipynb](X-05-Arithmetics.ipynb)\n",
    "- Next notebook is [N-06-CreatingModules.ipynb](N-06-CreatingModules.ipynb)"
   ]
  }
 ],
 "metadata": {
  "celltoolbar": "Slideshow",
  "colab": {
   "provenance": []
  },
  "kernelspec": {
   "display_name": "Python 3 (ipykernel)",
   "language": "python",
   "name": "python3"
  },
  "language_info": {
   "codemirror_mode": {
    "name": "ipython",
    "version": 3
   },
   "file_extension": ".py",
   "mimetype": "text/x-python",
   "name": "python",
   "nbconvert_exporter": "python",
   "pygments_lexer": "ipython3",
   "version": "3.11.7"
  }
 },
 "nbformat": 4,
 "nbformat_minor": 4
}

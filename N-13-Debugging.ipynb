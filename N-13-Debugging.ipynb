{
 "cells": [
  {
   "cell_type": "markdown",
   "id": "cb5140ef",
   "metadata": {
    "slideshow": {
     "slide_type": "slide"
    }
   },
   "source": [
    "<img src=\"images/inmas.png\" width=130x align=right />\n",
    "\n",
    "# Notebook 13 - A Short Primer on Debugging\n",
    "\n",
    "Material covered in this notebook:\n",
    "\n",
    "- What to do after importing faulty module\n",
    "- How to call the Python degugger\n",
    "- Basic commands in the debugger\n",
    "\n",
    "\n",
    "### Prerequisite\n",
    "Notebook 12"
   ]
  },
  {
   "cell_type": "markdown",
   "id": "3d48287c",
   "metadata": {
    "slideshow": {
     "slide_type": "slide"
    }
   },
   "source": [
    "### How to debug code\n",
    "Code development is a rewarding experience which can provide great short-term reward.\n",
    "\n",
    "On the flip side, code which does not behave as anticipated can be an extremely frustrating experience. And there we are, debugging and starting to brain-loop over our own code.\n",
    "\n",
    "This section will provide few tips and pointers on how to investigate your faulty code and hopefully reduce your frustrations.\n"
   ]
  },
  {
   "cell_type": "markdown",
   "id": "2bfeee2c",
   "metadata": {
    "slideshow": {
     "slide_type": "slide"
    }
   },
   "source": [
    "### The Poorman debugger\n",
    "A very common approach to debugging is to scatter `print()` statements all over your code.\n",
    "\n",
    "Python is great for that purpose as it natively understands how to print almost any object it creates. \n",
    "\n",
    "This approach is easy, but not particularly efficient when one deals with large arrays. We'll try to cover a few scenarios and give you a few better strategies for debugging your code."
   ]
  },
  {
   "cell_type": "markdown",
   "id": "5ae979a7",
   "metadata": {
    "slideshow": {
     "slide_type": "slide"
    }
   },
   "source": [
    "### Debugging modules\n",
    "When debugging modules, it is important to import them again after changes are made.\n",
    "\n",
    "Unfortunately, the way to reload modules has changed a few times with Python's versions.\n",
    "\n",
    "For Python versions after 3.4, this is done using the `importlib` module as `import` will not re-import a module already imported.\n",
    "\n",
    "Another way to re-import a module is to restart your kernel all together (Restart \\& Clear Output), but this is not always practical.\n",
    "\n",
    "We will cover an example over the next slides."
   ]
  },
  {
   "cell_type": "markdown",
   "id": "c4658aea",
   "metadata": {
    "slideshow": {
     "slide_type": "slide"
    }
   },
   "source": [
    "### Importing a faulty module from subdirectory\n",
    "Here, the module *faultyModule* is located in a directory called *Code_13*.\n",
    "Notice how the whole directory becomes considered as a unifying module."
   ]
  },
  {
   "cell_type": "code",
   "execution_count": null,
   "id": "64c8d71f",
   "metadata": {
    "slideshow": {
     "slide_type": "fragment"
    }
   },
   "outputs": [],
   "source": [
    "from Code_13 import faultyModule"
   ]
  },
  {
   "cell_type": "markdown",
   "id": "58f813b0",
   "metadata": {
    "slideshow": {
     "slide_type": "fragment"
    }
   },
   "source": [
    "We can investigate what is in this module using the `dir()` function."
   ]
  },
  {
   "cell_type": "code",
   "execution_count": null,
   "id": "49d29e93",
   "metadata": {
    "slideshow": {
     "slide_type": "fragment"
    }
   },
   "outputs": [],
   "source": [
    "dir(faultyModule)"
   ]
  },
  {
   "cell_type": "markdown",
   "id": "410844bd",
   "metadata": {
    "slideshow": {
     "slide_type": "fragment"
    }
   },
   "source": [
    "This module have many built-in default variables characterized by double underscores. Also notice the `computePi` symbol."
   ]
  },
  {
   "cell_type": "markdown",
   "id": "229e5524",
   "metadata": {
    "slideshow": {
     "slide_type": "slide"
    }
   },
   "source": [
    "### What does this module do?\n",
    "\n",
    "We can obtain help for the module itself that includes the function `computePi` by using the help() function."
   ]
  },
  {
   "cell_type": "code",
   "execution_count": null,
   "id": "0424ef01",
   "metadata": {
    "slideshow": {
     "slide_type": "fragment"
    }
   },
   "outputs": [],
   "source": [
    "help(faultyModule)\n",
    "print('---------')\n",
    "help(faultyModule.computePi)"
   ]
  },
  {
   "cell_type": "markdown",
   "id": "a73be6f1",
   "metadata": {
    "slideshow": {
     "slide_type": "slide"
    }
   },
   "source": [
    "### `help` gets its info from the docstrings\n",
    "As modules are loaded, the docstrings in them are stored in attribute `__doc__`. This is where `help()` gets its information:"
   ]
  },
  {
   "cell_type": "code",
   "execution_count": null,
   "id": "517470d2",
   "metadata": {
    "slideshow": {
     "slide_type": "fragment"
    }
   },
   "outputs": [],
   "source": [
    "print(\"faultyModule doc:\", faultyModule.__doc__)\n",
    "print(\"computePi doc:\", faultyModule.computePi.__doc__)"
   ]
  },
  {
   "cell_type": "markdown",
   "id": "5e332f84",
   "metadata": {
    "slideshow": {
     "slide_type": "slide"
    }
   },
   "source": [
    "Now let's run the only function in this module."
   ]
  },
  {
   "cell_type": "code",
   "execution_count": null,
   "id": "cbdb21f5",
   "metadata": {
    "slideshow": {
     "slide_type": "fragment"
    }
   },
   "outputs": [],
   "source": [
    "faultyModule.computePi()"
   ]
  },
  {
   "cell_type": "markdown",
   "id": "fd11385e",
   "metadata": {
    "slideshow": {
     "slide_type": "fragment"
    }
   },
   "source": [
    "Oops! We forgot to initialize a variable.\n",
    "\n",
    "Now edit the code in another Jupyter tab or your favorite editor and fix the problem."
   ]
  },
  {
   "cell_type": "markdown",
   "id": "fb56d3cf",
   "metadata": {
    "slideshow": {
     "slide_type": "slide"
    }
   },
   "source": [
    "### Can we import the fixed module?\n",
    "Let's first `import` the fixed module and try to run again."
   ]
  },
  {
   "cell_type": "code",
   "execution_count": null,
   "id": "c5b7fb7f",
   "metadata": {
    "slideshow": {
     "slide_type": "fragment"
    }
   },
   "outputs": [],
   "source": [
    "from Code_13 import faultyModule\n",
    "faultyModule.computePi()"
   ]
  },
  {
   "cell_type": "markdown",
   "id": "9ed70488",
   "metadata": {
    "slideshow": {
     "slide_type": "fragment"
    }
   },
   "source": [
    "It won't work. Modules are only loaded once for performance and initialization reasons.\n"
   ]
  },
  {
   "cell_type": "markdown",
   "id": "b4a79f87",
   "metadata": {
    "slideshow": {
     "slide_type": "slide"
    }
   },
   "source": [
    "### Reloading using the importlib module\n",
    "\n",
    "We need to use the importlib module to reimport a module using the `reload()` function and run again."
   ]
  },
  {
   "cell_type": "code",
   "execution_count": null,
   "id": "14b375a6",
   "metadata": {
    "slideshow": {
     "slide_type": "fragment"
    }
   },
   "outputs": [],
   "source": [
    "import importlib\n",
    "importlib.reload(Code_13/faultyModule)\n",
    "faultyModule.computePi()"
   ]
  },
  {
   "cell_type": "markdown",
   "id": "587d6c4d",
   "metadata": {
    "slideshow": {
     "slide_type": "fragment"
    }
   },
   "source": [
    "This was an easy bug to find as Python's run-time diagnostics have significantly improved with version number.\n",
    "\n",
    "Other situations might require to slowly go through the code and interrogate the various variables.\n",
    "\n",
    "This can be done with `pdb`, the Python debugger which we will cover shortly."
   ]
  },
  {
   "cell_type": "markdown",
   "id": "6bcb1b5a",
   "metadata": {
    "slideshow": {
     "slide_type": "slide"
    }
   },
   "source": [
    "### Module not found?\n",
    "Another common problem with Python is when a module is not found while importing it.\n",
    "\n",
    "This can be diagnosed using the following code searching for the module in the path environment."
   ]
  },
  {
   "cell_type": "code",
   "execution_count": null,
   "id": "11e5b727",
   "metadata": {
    "slideshow": {
     "slide_type": "fragment"
    }
   },
   "outputs": [],
   "source": [
    "import sys\n",
    "import os\n",
    "# print(sys.path)\n",
    "for dir in sys.path:\n",
    "    print('\"'+dir+'\"', os.path.isfile(os.path.join(dir, 'Code_11/faultyModule.py')))"
   ]
  },
  {
   "cell_type": "markdown",
   "id": "c5bf911f",
   "metadata": {
    "slideshow": {
     "slide_type": "slide"
    }
   },
   "source": [
    "### Debugging code\n",
    "The Python debugger can be run interactively. To turn this on this capability in Jupyter we use\n",
    "\n",
    "> %pdb on\n",
    "\n",
    "in the first line of the cell. The debugger remains active in all cells until turned off by\n",
    "\n",
    "> %pdb off"
   ]
  },
  {
   "cell_type": "markdown",
   "id": "c9f0de38",
   "metadata": {
    "slideshow": {
     "slide_type": "fragment"
    }
   },
   "source": [
    "Let's define a simple divide function raising an exception if the denominator is zero"
   ]
  },
  {
   "cell_type": "code",
   "execution_count": null,
   "id": "36846d2b",
   "metadata": {
    "slideshow": {
     "slide_type": "fragment"
    }
   },
   "outputs": [],
   "source": [
    "def divide(a, b):\n",
    "    if b == 0:\n",
    "        raise Exception('Variable b is zero!')\n",
    "    else:\n",
    "        return a/b"
   ]
  },
  {
   "cell_type": "markdown",
   "id": "5a0fdc88",
   "metadata": {
    "slideshow": {
     "slide_type": "slide"
    }
   },
   "source": [
    "### If an exception is raised (and not handled by the user), the debugger will be called\n",
    "Try with once `off` and once `on`  &emsp; --- &emsp; When `on`, type 'q' to quit debugger!"
   ]
  },
  {
   "cell_type": "code",
   "execution_count": null,
   "id": "f7026b86",
   "metadata": {
    "slideshow": {
     "slide_type": "fragment"
    }
   },
   "outputs": [],
   "source": [
    "%pdb on\n",
    "divide(2, 0)"
   ]
  },
  {
   "cell_type": "markdown",
   "id": "faff5272",
   "metadata": {
    "slideshow": {
     "slide_type": "slide"
    }
   },
   "source": [
    "### Using a debugger on the command line\n",
    "Python has the builtin function `breakpoint()` that will introduce a stop at the line. This will work from the command line but not from Jupyter as it has its own debugging capabilities.\n",
    "\n",
    "A breakpoint is introduced in the code below"
   ]
  },
  {
   "cell_type": "code",
   "execution_count": null,
   "id": "377b6d07",
   "metadata": {
    "slideshow": {
     "slide_type": "fragment"
    }
   },
   "outputs": [],
   "source": [
    "# %pdb on\n",
    "def twice(varx):\n",
    "    if varx == 0:\n",
    "        return 0\n",
    "    else:\n",
    "        breakpoint\n",
    "        return varx * 2\n",
    "twice(2)"
   ]
  },
  {
   "cell_type": "markdown",
   "id": "0faef935",
   "metadata": {
    "slideshow": {
     "slide_type": "fragment"
    }
   },
   "source": [
    "Try with pdb `on` and `off`: `breakpoint` has no effect in Jupyter"
   ]
  },
  {
   "cell_type": "markdown",
   "id": "499c9de5",
   "metadata": {
    "slideshow": {
     "slide_type": "slide"
    }
   },
   "source": [
    "### Using the pdb module\n",
    "In Jupyter, breakpoints are introduced using the `set_trace()` function from the pdb module.\n",
    "This will call the debugger where we can interact with the code interactively.\n",
    "\n",
    "- Due to the limited space, let's try only these two commands:\n",
    "    - 'varx' will print the value of variable `varx`\n",
    "    - 'q' to quit\n"
   ]
  },
  {
   "cell_type": "code",
   "execution_count": null,
   "id": "a2a040db",
   "metadata": {
    "slideshow": {
     "slide_type": "fragment"
    }
   },
   "outputs": [],
   "source": [
    "import pdb\n",
    "def twice(varx):\n",
    "    if varx == 0:\n",
    "        return 0\n",
    "    else:\n",
    "        pdb.set_trace()\n",
    "        return varx * 2\n",
    "twice(2)"
   ]
  },
  {
   "cell_type": "markdown",
   "id": "71ed6604",
   "metadata": {
    "slideshow": {
     "slide_type": "slide"
    }
   },
   "source": [
    "### A short summary of debugging commands\n",
    "With only a few commands, you will be able to achieve a lot in pdb. Here they are:\n",
    "- l (list)- Display 11 lines from where the current execution line is\n",
    "- s (step) - Execute one step from the current execution line\n",
    "- n (next) - Execute one step in the current function without going down in subfunctions\n",
    "- b (break) ... - set a break point at...\n",
    "- r (return) - Continue execution in current function until it returns\n",
    "- c (continue) - Continue the execution until next break point if any, or program termination\n",
    "- h (help) - Will list all commands. 'help list' will give you help on list\n",
    "- q (quit) - quit debugger.\n",
    "\n",
    "Typing the name of a variable will display its value. This means that variables called 'r', or 'l' are out of luck. Remember this when calling your variables in Python. Regardless of the software development environment that you use, these debugging commands are often the same. \n"
   ]
  },
  {
   "cell_type": "markdown",
   "id": "2a1c1b85",
   "metadata": {
    "slideshow": {
     "slide_type": "slide"
    }
   },
   "source": [
    "### Running in debugging mode\n"
   ]
  },
  {
   "cell_type": "markdown",
   "id": "dc36b012",
   "metadata": {
    "slideshow": {
     "slide_type": "fragment"
    }
   },
   "source": [
    "The code will stop at the breakpoint. Try 'l', 'varx'. To continue, hit 'c'."
   ]
  },
  {
   "cell_type": "code",
   "execution_count": null,
   "id": "dfac4c40",
   "metadata": {
    "slideshow": {
     "slide_type": "fragment"
    }
   },
   "outputs": [],
   "source": [
    "y = 4\n",
    "print('2 times', y, 'is', twice(y))"
   ]
  },
  {
   "cell_type": "markdown",
   "id": "070b8179",
   "metadata": {
    "slideshow": {
     "slide_type": "slide"
    }
   },
   "source": [
    "### Key Points\n",
    "- Document your code and modules\n",
    "- When modified, reload modules using the importlib module, or restart your kernel\n",
    "- Use the sys and os modules to understand why modules are not found when loading\n",
    "- Use the debugger for understanding the state of variables as the code progresses"
   ]
  }
 ],
 "metadata": {
  "celltoolbar": "Slideshow",
  "kernelspec": {
   "display_name": "Python 3 (ipykernel)",
   "language": "python",
   "name": "python3"
  },
  "language_info": {
   "codemirror_mode": {
    "name": "ipython",
    "version": 3
   },
   "file_extension": ".py",
   "mimetype": "text/x-python",
   "name": "python",
   "nbconvert_exporter": "python",
   "pygments_lexer": "ipython3",
   "version": "3.11.7"
  }
 },
 "nbformat": 4,
 "nbformat_minor": 5
}

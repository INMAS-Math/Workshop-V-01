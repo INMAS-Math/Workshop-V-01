{
 "cells": [
  {
   "cell_type": "markdown",
   "id": "355498ee",
   "metadata": {
    "id": "08d3a007",
    "slideshow": {
     "slide_type": "slide"
    }
   },
   "source": [
    "<img src=\"images/inmas.png\" width=130x align='right' />\n",
    "\n",
    "# Notebook 19 - Pandas\n",
    "\n",
    "In this notebook, you will learn:\n",
    "- basic reading and writing commands\n",
    "- the concept of data frames\n",
    "- manipulating amd cleaning data set with Pandas\n",
    "- masking and filtering\n",
    "\n",
    "### Prerequisite\n",
    "\n",
    "Notebook 18\n"
   ]
  },
  {
   "cell_type": "markdown",
   "id": "573d1d1a",
   "metadata": {
    "slideshow": {
     "slide_type": "slide"
    }
   },
   "source": [
    "### Housekeeping"
   ]
  },
  {
   "cell_type": "code",
   "execution_count": null,
   "id": "ce0043e7",
   "metadata": {
    "id": "a7f0d1c3",
    "slideshow": {
     "slide_type": "fragment"
    }
   },
   "outputs": [],
   "source": [
    "import pandas as pd"
   ]
  },
  {
   "cell_type": "markdown",
   "id": "d832aabd",
   "metadata": {
    "slideshow": {
     "slide_type": "slide"
    }
   },
   "source": [
    "### What is Pandas?\n",
    "- Pandas is a Python package which offers data structures and operations for manipulating numerical tables and time series\n",
    "- The term pandas is derived from \"panel data,\" an econometrics term describing a particular type of dataset"
   ]
  },
  {
   "cell_type": "markdown",
   "id": "560d6f23",
   "metadata": {
    "id": "60530b22",
    "slideshow": {
     "slide_type": "slide"
    }
   },
   "source": [
    "### Reading data from files\n",
    "\n",
    "- The primary way you'll likely use `pandas` is by exploring and manipulating data in tables\n",
    "    - often these data are from data warehouses elsewhere\n",
    "- Pandas can read and write files in a variety of data formats\n",
    "    - common data formats include CSV and TSV files (comma and tab separated values)\n",
    "    - data can also be imported from .json, Excel, SQL files, and more!"
   ]
  },
  {
   "cell_type": "markdown",
   "id": "91c2c4f8",
   "metadata": {
    "slideshow": {
     "slide_type": "slide"
    }
   },
   "source": [
    "Let's read a file named 'cereals.csv' stored in the *data* folder of this workshop. This file contains the nutritive value of boxed cereals. Values are separated by semicolons."
   ]
  },
  {
   "cell_type": "code",
   "execution_count": null,
   "id": "b8a4891c",
   "metadata": {
    "id": "5103240f",
    "scrolled": true,
    "slideshow": {
     "slide_type": "fragment"
    }
   },
   "outputs": [],
   "source": [
    "file = \"data/cereals.csv\" \n",
    "cerealsDf = pd.read_csv(file, sep=';')\n",
    "type(cerealsDf)"
   ]
  },
  {
   "cell_type": "markdown",
   "id": "2327ed15",
   "metadata": {
    "slideshow": {
     "slide_type": "fragment"
    }
   },
   "source": [
    "Notice the DataFrame object returned. These objects have many associated methods for exploring the data:\n",
    "* `head()`: Prints the first few lines\n",
    "* `tail()`: Prints the last few lines\n",
    "* `describe()`: Returns a short decription\n",
    "* `info()`: Provides info about the data frame\n",
    "\n",
    "* `shape`: Attribute storing the shape of the data frame"
   ]
  },
  {
   "cell_type": "markdown",
   "id": "5a5782eb",
   "metadata": {
    "slideshow": {
     "slide_type": "slide"
    }
   },
   "source": [
    "### Previewing with `head` and `describe` and `shape`\n",
    "- Pandas uses the first row of the data set to determine the name of the columns\n",
    "- When using Pandas' methods it is best not wrap these calls in the `print` function for nicer output:"
   ]
  },
  {
   "cell_type": "code",
   "execution_count": null,
   "id": "4cfd448c",
   "metadata": {
    "scrolled": true,
    "slideshow": {
     "slide_type": "fragment"
    }
   },
   "outputs": [],
   "source": [
    "cerealsDf.head()"
   ]
  },
  {
   "cell_type": "code",
   "execution_count": null,
   "id": "40cf0680",
   "metadata": {
    "slideshow": {
     "slide_type": "fragment"
    }
   },
   "outputs": [],
   "source": [
    "cerealsDf.describe()"
   ]
  },
  {
   "cell_type": "code",
   "execution_count": null,
   "id": "a199402f",
   "metadata": {
    "scrolled": true,
    "slideshow": {
     "slide_type": "fragment"
    }
   },
   "outputs": [],
   "source": [
    "cerealsDf.shape"
   ]
  },
  {
   "cell_type": "markdown",
   "id": "d0d9d946",
   "metadata": {
    "id": "cafc6e78",
    "slideshow": {
     "slide_type": "slide"
    }
   },
   "source": [
    "### Data often need to be cleaned\n",
    "\n",
    "- Often, there will be issues with your data that needs to be fixed before it can be used\n",
    "\n",
    "- Pandas offers many tools to help, the first one being\n",
    "\n",
    "If you go back to the `head` output, you'll notice that row 1 of the csv file contains the data type\n",
    "\n",
    "We'll skip it using the `skiprows` argument (giving a list of lines to skip):"
   ]
  },
  {
   "cell_type": "code",
   "execution_count": null,
   "id": "df4d766f",
   "metadata": {
    "id": "e4d74a12",
    "slideshow": {
     "slide_type": "fragment"
    }
   },
   "outputs": [],
   "source": [
    "cerealsDf = pd.read_csv(file, sep=';', skiprows=[1])\n",
    "cerealsDf.head()"
   ]
  },
  {
   "cell_type": "markdown",
   "id": "d0340796",
   "metadata": {
    "id": "16cd1a34",
    "slideshow": {
     "slide_type": "slide"
    }
   },
   "source": [
    "### Finding missing data\n",
    "The `info` method is very useful to assess the quality of the data file:\n"
   ]
  },
  {
   "cell_type": "code",
   "execution_count": null,
   "id": "c203d14a",
   "metadata": {
    "slideshow": {
     "slide_type": "fragment"
    }
   },
   "outputs": [],
   "source": [
    "cerealsDf.info()"
   ]
  },
  {
   "cell_type": "markdown",
   "id": "54d520a6",
   "metadata": {
    "slideshow": {
     "slide_type": "slide"
    }
   },
   "source": [
    "### Filling in missing data\n",
    "We found missing data in two columns are missing data: 'mfr' and 'rating'.\n",
    "- For the 9 rows missing manufacturer, we'll replace missing values by 'U' (for Unknown)\n",
    "- This is done using the `fillna` method which takes a dictionary as an argument\n",
    "\n",
    "This fills missing values in the `mfr` column with the 'U' string"
   ]
  },
  {
   "cell_type": "code",
   "execution_count": null,
   "id": "719329e5",
   "metadata": {
    "id": "22409e2c",
    "scrolled": true,
    "slideshow": {
     "slide_type": "fragment"
    }
   },
   "outputs": [],
   "source": [
    "cerealsDf = cerealsDf.fillna({'mfr': 'U'})"
   ]
  },
  {
   "cell_type": "markdown",
   "id": "85a5d04a",
   "metadata": {
    "slideshow": {
     "slide_type": "slide"
    }
   },
   "source": [
    "Running `info()` again, we see that the 'mfr' column is full:"
   ]
  },
  {
   "cell_type": "code",
   "execution_count": null,
   "id": "e04401fd",
   "metadata": {
    "id": "22409e2c",
    "scrolled": true,
    "slideshow": {
     "slide_type": "fragment"
    }
   },
   "outputs": [],
   "source": [
    "cerealsDf.info()"
   ]
  },
  {
   "cell_type": "markdown",
   "id": "813c6291",
   "metadata": {
    "id": "c983a44e",
    "slideshow": {
     "slide_type": "slide"
    }
   },
   "source": [
    "### Dropping missing data\n",
    "- For the 7 missing 'rating' values, there's no obvious substitution, so we'll drop those entries\n",
    "- Notice the `inplace` argument that prevent copying the dataframe"
   ]
  },
  {
   "cell_type": "code",
   "execution_count": null,
   "id": "bb24e1b3",
   "metadata": {
    "id": "f59c55a7",
    "scrolled": false,
    "slideshow": {
     "slide_type": "fragment"
    }
   },
   "outputs": [],
   "source": [
    "cerealsDf.dropna(inplace=True)\n",
    "cerealsDf.shape"
   ]
  },
  {
   "cell_type": "markdown",
   "id": "f6a0d2e7",
   "metadata": {
    "slideshow": {
     "slide_type": "fragment"
    }
   },
   "source": [
    "We now have 70 rows left\n",
    "\n",
    "Let's check info again..."
   ]
  },
  {
   "cell_type": "code",
   "execution_count": null,
   "id": "edda63d3",
   "metadata": {
    "slideshow": {
     "slide_type": "slide"
    }
   },
   "outputs": [],
   "source": [
    "cerealsDf.info()"
   ]
  },
  {
   "cell_type": "markdown",
   "id": "f693ab03",
   "metadata": {
    "id": "57b4e0c4",
    "slideshow": {
     "slide_type": "slide"
    }
   },
   "source": [
    "### About in-place operations\n",
    "\n",
    "Pandas has many operations that can be performed *in-place*\n",
    "\n",
    "- When *in-place*, the calling method directly alters the existing object and nothing is returned\n",
    "\n",
    "- In contrast, \"normal\" operations make a copy of the object, alter that object, and then return the altered object. \n",
    "\n",
    "- Methods `fillna()`, `dropna()`, and many others accept the boolean argument `inplace`\n",
    "\n",
    "Let's look at an example to highlight this behavior"
   ]
  },
  {
   "cell_type": "markdown",
   "id": "328e1723",
   "metadata": {
    "slideshow": {
     "slide_type": "slide"
    }
   },
   "source": [
    "### Demonstrating the in-place behavior\n",
    "Let's start with making a copy of our data frame from which we'll make changes"
   ]
  },
  {
   "cell_type": "code",
   "execution_count": null,
   "id": "ccc3ba51",
   "metadata": {
    "id": "57440cd5",
    "slideshow": {
     "slide_type": "fragment"
    }
   },
   "outputs": [],
   "source": [
    "cerealsDfCopy = cerealsDf.copy()\n",
    "# Drop the weight column NOT in-place\n",
    "cerealsDfCopy.drop([\"weight\"], axis = 1, inplace = False)\n",
    "cerealsDfCopy.head(3)"
   ]
  },
  {
   "cell_type": "markdown",
   "id": "fbb0de33",
   "metadata": {
    "id": "e56b0ccb"
   },
   "source": [
    "Notice that ```cerealsDFCcopy``` still has the column ```weight```. This is because the function did not alter the dataframe directly. Instead, a value was returned that had the altered data frame."
   ]
  },
  {
   "cell_type": "markdown",
   "id": "87f5d292",
   "metadata": {
    "slideshow": {
     "slide_type": "slide"
    }
   },
   "source": [
    "### Assigning altered data frame\n",
    "We now repeat the same operation but assign the value returned by `drop`:"
   ]
  },
  {
   "cell_type": "code",
   "execution_count": null,
   "id": "e4c6b394",
   "metadata": {
    "id": "b66d4dc8",
    "slideshow": {
     "slide_type": "fragment"
    }
   },
   "outputs": [],
   "source": [
    "cerealsDfCopyDrop = cerealsDfCopy.drop([\"weight\"], axis = 1, inplace = False)\n",
    "cerealsDfCopyDrop.head(3)"
   ]
  },
  {
   "cell_type": "markdown",
   "id": "12f6b045",
   "metadata": {
    "id": "33dbaa29",
    "slideshow": {
     "slide_type": "fragment"
    }
   },
   "source": [
    "Now compare this with the in-place version of the function, where we drop 'shelf' in-place instead"
   ]
  },
  {
   "cell_type": "code",
   "execution_count": null,
   "id": "be411971",
   "metadata": {
    "id": "c7d09360",
    "slideshow": {
     "slide_type": "fragment"
    }
   },
   "outputs": [],
   "source": [
    "cerealsDfCopy.drop([\"shelf\"], axis = 1, inplace = True)\n",
    "cerealsDfCopy.head(3)"
   ]
  },
  {
   "cell_type": "markdown",
   "id": "cf59b18a",
   "metadata": {
    "id": "3a3ffa36",
    "slideshow": {
     "slide_type": "slide"
    }
   },
   "source": [
    "### Assigning an in-place change\n",
    "\n",
    "Now what if one uses in-place and assigns the value?"
   ]
  },
  {
   "cell_type": "code",
   "execution_count": null,
   "id": "01895b15",
   "metadata": {
    "id": "14539973",
    "slideshow": {
     "slide_type": "fragment"
    }
   },
   "outputs": [],
   "source": [
    "cerealsDfCopyDrop = cerealsDfCopy.drop([\"cups\"], axis = 1, inplace = True)\n",
    "cerealsDfCopyDrop.head(3)"
   ]
  },
  {
   "cell_type": "markdown",
   "id": "4f65334d",
   "metadata": {
    "id": "83fdf05e",
    "slideshow": {
     "slide_type": "fragment"
    }
   },
   "source": [
    "What went wrong?"
   ]
  },
  {
   "cell_type": "markdown",
   "id": "cfc7051e",
   "metadata": {
    "id": "5db75948",
    "slideshow": {
     "slide_type": "slide"
    }
   },
   "source": [
    "###  Replacing values in named columns\n",
    "There are several allowed input formats to `replace()` entries in a column:\n"
   ]
  },
  {
   "cell_type": "code",
   "execution_count": null,
   "id": "6c522985",
   "metadata": {
    "id": "fb41dfe5",
    "scrolled": true,
    "slideshow": {
     "slide_type": "fragment"
    }
   },
   "outputs": [],
   "source": [
    "# Replace the letters in the `mfr` column with the actual names of the brands\n",
    "# Using a simple dictionary and a string\n",
    "cerealsDf.replace({\"mfr\": \"N\"}, \"Nabisco\", inplace = True)\n",
    "# Using a dictionary of column and dictionaries\n",
    "cerealsDf = cerealsDf.replace({\"mfr\" : {\"Q\" : \"Quaker\"}})\n",
    "\n",
    "cerealsDf.head(5)"
   ]
  },
  {
   "cell_type": "markdown",
   "id": "35112c5e",
   "metadata": {
    "id": "eff3452b",
    "slideshow": {
     "slide_type": "slide"
    }
   },
   "source": [
    "### Replacing column names\n",
    "The `replace()` method can also be used to change the name of columns:"
   ]
  },
  {
   "cell_type": "code",
   "execution_count": null,
   "id": "f0d714e8",
   "metadata": {
    "id": "5c052586",
    "slideshow": {
     "slide_type": "fragment"
    }
   },
   "outputs": [],
   "source": [
    "cerealsDf.rename(columns={\"protein\": \"protein (g)\", \"sodium\": \"sodium (mg)\"}, inplace = True)\n",
    "cerealsDf.head(3)"
   ]
  },
  {
   "cell_type": "markdown",
   "id": "03f5cb97",
   "metadata": {
    "id": "80835c91",
    "slideshow": {
     "slide_type": "slide"
    }
   },
   "source": [
    "### Extracting rows and columns from a data frame\n",
    "Extracting a column from a dataframe is very intuitive:"
   ]
  },
  {
   "cell_type": "code",
   "execution_count": null,
   "id": "446a5c4b",
   "metadata": {
    "id": "a81b6eb1",
    "scrolled": true,
    "slideshow": {
     "slide_type": "fragment"
    }
   },
   "outputs": [],
   "source": [
    "fiber = cerealsDf[\"fiber\"]\n",
    "print(fiber)"
   ]
  },
  {
   "cell_type": "markdown",
   "id": "81b53714",
   "metadata": {
    "id": "aed9443b",
    "slideshow": {
     "slide_type": "slide"
    }
   },
   "source": [
    "### Using data frames and NumPy\n",
    "We can easily convert a column to a NumPy array"
   ]
  },
  {
   "cell_type": "code",
   "execution_count": null,
   "id": "ae3e0343",
   "metadata": {
    "id": "7260556c",
    "scrolled": true,
    "slideshow": {
     "slide_type": "fragment"
    }
   },
   "outputs": [],
   "source": [
    "import numpy as np\n",
    "import matplotlib.pyplot as plt\n",
    "\n",
    "fiber = cerealsDf[\"fiber\"]\n",
    "fiber_array = fiber.to_numpy()\n",
    "\n",
    "plt.hist(fiber_array);"
   ]
  },
  {
   "cell_type": "markdown",
   "id": "1c4d8159",
   "metadata": {
    "id": "ae1a2d0b",
    "slideshow": {
     "slide_type": "slide"
    }
   },
   "source": [
    "### Extracting rows by index\n",
    "We can extract a row using its index using the `loc` attribute"
   ]
  },
  {
   "cell_type": "code",
   "execution_count": null,
   "id": "10672b4f",
   "metadata": {
    "id": "119cf576",
    "slideshow": {
     "slide_type": "fragment"
    }
   },
   "outputs": [],
   "source": [
    "row_2 = cerealsDf.loc[2] # 2 is the index of the row we want to extract\n",
    "print(row_2)"
   ]
  },
  {
   "cell_type": "markdown",
   "id": "c7e3461c",
   "metadata": {
    "slideshow": {
     "slide_type": "slide"
    }
   },
   "source": [
    "### Extracting multiple rows and columns\n",
    "To extract multiple rows and columns, we provide a list of values as an index"
   ]
  },
  {
   "cell_type": "code",
   "execution_count": null,
   "id": "6390a44a",
   "metadata": {
    "slideshow": {
     "slide_type": "fragment"
    }
   },
   "outputs": [],
   "source": [
    "mycols = [\"mfr\", \"fiber\"]\n",
    "myrows = [1, 3, 5,20]\n",
    "subset = cerealsDf[mycols].loc[myrows]\n",
    "print(subset)"
   ]
  },
  {
   "cell_type": "markdown",
   "id": "4a7300bf",
   "metadata": {
    "id": "21413ef2",
    "slideshow": {
     "slide_type": "slide"
    }
   },
   "source": [
    "### Sorting\n",
    "Data frames can be easily sorted:"
   ]
  },
  {
   "cell_type": "code",
   "execution_count": null,
   "id": "6c4dcf7f",
   "metadata": {
    "id": "34b1ac0b",
    "slideshow": {
     "slide_type": "fragment"
    }
   },
   "outputs": [],
   "source": [
    "cerealsDf.sort_values(by=[\"rating\"], ascending = False, inplace = True)\n",
    "cerealsDf.head(5)"
   ]
  },
  {
   "cell_type": "markdown",
   "id": "f0e40e22",
   "metadata": {
    "id": "5e1f2c45",
    "slideshow": {
     "slide_type": "slide"
    }
   },
   "source": [
    "### Filtering\n",
    "To filter, we can create a \"mask\", an array of the same size as our object, with entries `True` or `False` depending on whether a certain condition is met"
   ]
  },
  {
   "cell_type": "code",
   "execution_count": null,
   "id": "f86f567f",
   "metadata": {
    "id": "5eac4af9",
    "slideshow": {
     "slide_type": "fragment"
    }
   },
   "outputs": [],
   "source": [
    "mask = (cerealsDf[\"calories\"] > 90)\n",
    "mask"
   ]
  },
  {
   "cell_type": "markdown",
   "id": "3ba64faf",
   "metadata": {
    "id": "152f5d66",
    "slideshow": {
     "slide_type": "slide"
    }
   },
   "source": [
    "Then we can use the mask to filter the dataframe:"
   ]
  },
  {
   "cell_type": "code",
   "execution_count": null,
   "id": "8659f198",
   "metadata": {
    "id": "5b3a0ef8",
    "scrolled": true,
    "slideshow": {
     "slide_type": "fragment"
    }
   },
   "outputs": [],
   "source": [
    "cereals_high_calories = cerealsDf[mask]\n",
    "cereals_high_calories.head()"
   ]
  },
  {
   "cell_type": "markdown",
   "id": "e5095f6c",
   "metadata": {
    "slideshow": {
     "slide_type": "slide"
    }
   },
   "source": [
    "Masking can also be done directly:"
   ]
  },
  {
   "cell_type": "code",
   "execution_count": null,
   "id": "a1ed4a0a",
   "metadata": {
    "scrolled": true,
    "slideshow": {
     "slide_type": "fragment"
    }
   },
   "outputs": [],
   "source": [
    "cereals_high_fiber = cerealsDf[(cerealsDf[\"fiber\"] > 5)]\n",
    "cereals_high_fiber.head(6)"
   ]
  },
  {
   "cell_type": "markdown",
   "id": "da0aaf9a",
   "metadata": {
    "slideshow": {
     "slide_type": "fragment"
    }
   },
   "source": [
    "While head is requesting 6 values, only 4 cereals have more that 5 g of fiber"
   ]
  },
  {
   "cell_type": "markdown",
   "id": "7e02d2fe",
   "metadata": {
    "slideshow": {
     "slide_type": "slide"
    }
   },
   "source": [
    "### Key Points\n",
    "- Pandas is a powerful libray for manipulating data\n",
    "- It has many functions to clean the data by replacing or dropping entries\n",
    "- Pandas data type integrate very well with the NumPy library and can be used in matplotlib\n",
    "- Sorting can be done by column or rows\n",
    "- Filtering can be done with masking"
   ]
  },
  {
   "cell_type": "markdown",
   "id": "6a51838c",
   "metadata": {
    "slideshow": {
     "slide_type": "slide"
    }
   },
   "source": [
    "### Futher Reading\n",
    "- Pandas documentation is [here](https://pandas.pydata.org/docs/index.html)\n"
   ]
  }
 ],
 "metadata": {
  "celltoolbar": "Slideshow",
  "colab": {
   "provenance": []
  },
  "kernelspec": {
   "display_name": "Python 3 (ipykernel)",
   "language": "python",
   "name": "python3"
  },
  "language_info": {
   "codemirror_mode": {
    "name": "ipython",
    "version": 3
   },
   "file_extension": ".py",
   "mimetype": "text/x-python",
   "name": "python",
   "nbconvert_exporter": "python",
   "pygments_lexer": "ipython3",
   "version": "3.11.7"
  }
 },
 "nbformat": 4,
 "nbformat_minor": 5
}

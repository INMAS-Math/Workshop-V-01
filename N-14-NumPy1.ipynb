{
 "cells": [
  {
   "cell_type": "markdown",
   "metadata": {
    "id": "8FzPm-6HJYBp",
    "slideshow": {
     "slide_type": "slide"
    }
   },
   "source": [
    "<img src=\"images/inmas.png\" width=130x align=right />\n",
    "\n",
    "# Notebook 14 - NumPy 1 - Basics\n",
    "\n",
    "Material covered in this notebook:\n",
    "\n",
    "- How to import the numpy module\n",
    "- How to create arrays and the difference with list\n",
    "- How to perform basic linear algebra on those arrays\n",
    "- Matric computations\n",
    "\n",
    "### Prerequisite\n",
    "Notebooks 13"
   ]
  },
  {
   "cell_type": "markdown",
   "metadata": {
    "id": "gYhlG2rWJYBt",
    "slideshow": {
     "slide_type": "slide"
    }
   },
   "source": [
    "### Numerical Python\n",
    "The `numpy` package (module) is the de-facto module for dealing with array computations in Python \n",
    "\n",
    "NumPy provides high-performance vector, matrix, and higher-dimensional data structures for Python\n",
    "\n",
    "It is customary to import the `numpy` module using a shorter name, such as in the following example:"
   ]
  },
  {
   "cell_type": "code",
   "execution_count": null,
   "metadata": {
    "id": "QyPWqnbeJYBu",
    "slideshow": {
     "slide_type": "fragment"
    }
   },
   "outputs": [],
   "source": [
    "import numpy as np"
   ]
  },
  {
   "cell_type": "markdown",
   "metadata": {
    "id": "pwqPgSCaJYBv",
    "slideshow": {
     "slide_type": "slide"
    }
   },
   "source": [
    "### Arrays in NumPy\n",
    "- In `numpy` parlance, an *array* is used to designate vectors, matrices and higher-dimensional data objects\n",
    "- NumPy is designed for performance and extends Python's capabilities through operator overloading\n",
    "    - This allows to make computations more intuitive through vector and matrix arithmetics \n",
    "    "
   ]
  },
  {
   "cell_type": "markdown",
   "metadata": {
    "id": "mpSj8TExJYBv",
    "slideshow": {
     "slide_type": "slide"
    }
   },
   "source": [
    "### Creating a NumPy array\n",
    "There are a number of ways to create and initialize NumPy arrays, for example from\n",
    "\n",
    "* a Python list or tuples\n",
    "* using functions that are dedicated to generating numpy arrays\n",
    "    * such as `zeros`, `ones`, `arange`, `linspace`, etc.\n",
    "* reading data from files\n",
    "\n",
    "We will cover the first approach in this notebook and the latter two in a following notebook"
   ]
  },
  {
   "cell_type": "markdown",
   "metadata": {
    "id": "eSQLWo3jJYBw",
    "slideshow": {
     "slide_type": "slide"
    }
   },
   "source": [
    "### Creating arrays from lists\n",
    "To create new vector and matrix arrays from Python lists we use the `numpy.array` constructor function\n",
    "\n",
    "Creating a vector from a Python list would look like this:"
   ]
  },
  {
   "cell_type": "code",
   "execution_count": null,
   "metadata": {
    "id": "um7I_gcwJYBx",
    "slideshow": {
     "slide_type": "fragment"
    }
   },
   "outputs": [],
   "source": [
    "a = [1, 2, 3, 4]\n",
    "v = np.array(a)\n",
    "v"
   ]
  },
  {
   "cell_type": "markdown",
   "metadata": {
    "slideshow": {
     "slide_type": "slide"
    }
   },
   "source": [
    "### Creating a two-dimensional array from a list of lists\n",
    "Creating a 2-D integer array from a list of lists would look like this:"
   ]
  },
  {
   "cell_type": "code",
   "execution_count": null,
   "metadata": {
    "id": "RowsZKdLJYBx",
    "slideshow": {
     "slide_type": "fragment"
    }
   },
   "outputs": [],
   "source": [
    "M = np.array([[1, 2], [3, 4]], dtype=int)\n",
    "print(M)"
   ]
  },
  {
   "cell_type": "markdown",
   "metadata": {
    "id": "z1PH5fqnJYBy",
    "slideshow": {
     "slide_type": "fragment"
    }
   },
   "source": [
    "The `v` and `M` objects are both of the type `ndarray` that the `numpy` module provides"
   ]
  },
  {
   "cell_type": "code",
   "execution_count": null,
   "metadata": {
    "id": "Dbq-gh96JYBy",
    "slideshow": {
     "slide_type": "fragment"
    }
   },
   "outputs": [],
   "source": [
    "print(type(v))\n",
    "print(type(M))"
   ]
  },
  {
   "cell_type": "markdown",
   "metadata": {
    "slideshow": {
     "slide_type": "fragment"
    }
   },
   "source": [
    "Notice that while the method for constructing an array is called `array`, the objects created are `ndarray`s"
   ]
  },
  {
   "cell_type": "markdown",
   "metadata": {
    "id": "MB8wi0PGJYBz",
    "slideshow": {
     "slide_type": "slide"
    }
   },
   "source": [
    "### The concept of shape\n",
    "The `v` and `M` arrays differ in their shapes\n",
    "\n",
    "- We can get information about the shape of an array by using the `ndarray.shape` property\n",
    "- Note that `shape` is not a function but a public attribute of the ndarray class\n",
    "    - `shape` is a tuple representing the dimensions of the object"
   ]
  },
  {
   "cell_type": "code",
   "execution_count": null,
   "metadata": {
    "id": "6JqABgTFJYBz",
    "slideshow": {
     "slide_type": "fragment"
    }
   },
   "outputs": [],
   "source": [
    "print('Shape of v is', v.shape, '; and the shape of M is', M.shape)"
   ]
  },
  {
   "cell_type": "markdown",
   "metadata": {
    "slideshow": {
     "slide_type": "fragment"
    }
   },
   "source": [
    "The function `np.shape()` can also be used:"
   ]
  },
  {
   "cell_type": "code",
   "execution_count": null,
   "metadata": {
    "slideshow": {
     "slide_type": "fragment"
    }
   },
   "outputs": [],
   "source": [
    "print('Shape of v is', np.shape(v), '; and the shape of M is', np.shape(M))"
   ]
  },
  {
   "cell_type": "markdown",
   "metadata": {
    "slideshow": {
     "slide_type": "slide"
    }
   },
   "source": [
    "### NumPy arrays are not lists!\n",
    "There are significant differences between lists. Unlike lists, NumPy arrays...\n",
    "- ... are guarranteed to be contiguous in memory, ensuring good cache performance\n",
    "- ... cannot be as easily extended like lists can\n",
    "- ... contain objects of all the same type\n",
    "- ... have the concept of a `shape`, which can be modified\n",
    "- ... have associated arithmetics operators that are representative of linear algebra"
   ]
  },
  {
   "cell_type": "markdown",
   "metadata": {
    "id": "sZHFoN5VJYB2",
    "slideshow": {
     "slide_type": "slide"
    }
   },
   "source": [
    "### Lists vs NumPy's ndarrays\n",
    "So far `numpy.ndarray` looks awfully much like a Python list (or nested list). Why not simply use Python lists for computations instead of creating a new array type? \n",
    "\n",
    "There are several reasons:\n",
    "\n",
    "* Python lists are very general. They can contain any kind of object. They are dynamically typed. They do not support mathematical functions such as matrix and dot multiplications, etc. Implementing such functions for Python lists would not be very efficient because of the dynamic typing.\n",
    "* NumPy arrays are **statically typed** and **homogeneous**. The type of the elements is determined when the array is created.\n",
    "* NumPy arrays are memory efficient\n",
    "* Because of the static typing, fast implementation of mathematical functions such as multiplication and addition of `numpy` arrays can be implemented in a compiled language (C and Fortran is used)\n"
   ]
  },
  {
   "cell_type": "markdown",
   "metadata": {
    "slideshow": {
     "slide_type": "slide"
    }
   },
   "source": [
    "### Type of data in a `numpy` ndarray\n",
    "Using the `dtype` (data type) property of an `ndarray`, we can see what type the data of an array has:"
   ]
  },
  {
   "cell_type": "code",
   "execution_count": null,
   "metadata": {
    "id": "GAN1-0gcJYB2",
    "slideshow": {
     "slide_type": "fragment"
    }
   },
   "outputs": [],
   "source": [
    "print('Matrix M contains data of type', M.dtype)"
   ]
  },
  {
   "cell_type": "markdown",
   "metadata": {
    "id": "vW9jj46zJYB2",
    "slideshow": {
     "slide_type": "fragment"
    }
   },
   "source": [
    "We get an error if we try to assign a value of the wrong type to an element in a NumPy array:"
   ]
  },
  {
   "cell_type": "code",
   "execution_count": null,
   "metadata": {
    "id": "X3YmUB5oJYB2",
    "slideshow": {
     "slide_type": "fragment"
    }
   },
   "outputs": [],
   "source": [
    "M[0,0] = \"hello\""
   ]
  },
  {
   "cell_type": "markdown",
   "metadata": {
    "id": "gWAYLSxZJYCC",
    "slideshow": {
     "slide_type": "slide"
    }
   },
   "source": [
    "### Indexing arrays\n",
    "As `v` is a vector, it has only one dimension, therefore taking only one index.\n",
    "\n",
    "For example,"
   ]
  },
  {
   "cell_type": "code",
   "execution_count": null,
   "metadata": {
    "id": "ybVspK1uJYCC",
    "slideshow": {
     "slide_type": "fragment"
    }
   },
   "outputs": [],
   "source": [
    "v[0]"
   ]
  },
  {
   "cell_type": "markdown",
   "metadata": {
    "slideshow": {
     "slide_type": "fragment"
    }
   },
   "source": [
    "Arrays also understands slicing operators, returning a new array with a new shape matching the slice"
   ]
  },
  {
   "cell_type": "code",
   "execution_count": null,
   "metadata": {
    "slideshow": {
     "slide_type": "fragment"
    }
   },
   "outputs": [],
   "source": [
    "v2 = v[1:3]\n",
    "print('v2 is %r and has shape %r' % (v2, v2.shape))"
   ]
  },
  {
   "cell_type": "markdown",
   "metadata": {
    "slideshow": {
     "slide_type": "slide"
    }
   },
   "source": [
    "### Indexing arrays with multiple indices\n",
    "As `M` is a matrix, or a two-dimensional array, it takes two indices. For example,"
   ]
  },
  {
   "cell_type": "code",
   "execution_count": null,
   "metadata": {
    "id": "D_V4PSPAJYCD",
    "slideshow": {
     "slide_type": "fragment"
    }
   },
   "outputs": [],
   "source": [
    "M[1, 1]"
   ]
  },
  {
   "cell_type": "markdown",
   "metadata": {
    "slideshow": {
     "slide_type": "fragment"
    }
   },
   "source": [
    "or?"
   ]
  },
  {
   "cell_type": "code",
   "execution_count": null,
   "metadata": {
    "slideshow": {
     "slide_type": "fragment"
    }
   },
   "outputs": [],
   "source": [
    "M[1][1]"
   ]
  },
  {
   "cell_type": "markdown",
   "metadata": {
    "slideshow": {
     "slide_type": "fragment"
    }
   },
   "source": [
    "While both approaches give the same result in this case, the first method is much preferred as it is faster and more flexible. The second method is extremely inefficient. Why?"
   ]
  },
  {
   "cell_type": "markdown",
   "metadata": {
    "id": "F7CQG7RhJYCD",
    "slideshow": {
     "slide_type": "slide"
    }
   },
   "source": [
    "### NumPy objects can represent themselves\n",
    "We can print the whole object by referencing to it without indices:"
   ]
  },
  {
   "cell_type": "code",
   "execution_count": null,
   "metadata": {
    "id": "GCLJUZbNJYCD",
    "slideshow": {
     "slide_type": "fragment"
    }
   },
   "outputs": [],
   "source": [
    "print(M)"
   ]
  },
  {
   "cell_type": "markdown",
   "metadata": {
    "slideshow": {
     "slide_type": "fragment"
    }
   },
   "source": [
    "Or like this:"
   ]
  },
  {
   "cell_type": "code",
   "execution_count": null,
   "metadata": {
    "slideshow": {
     "slide_type": "fragment"
    }
   },
   "outputs": [],
   "source": [
    "M"
   ]
  },
  {
   "cell_type": "markdown",
   "metadata": {
    "slideshow": {
     "slide_type": "slide"
    }
   },
   "source": [
    "### Subarrays of a multidimensional array\n",
    "If we omit an index of a two-dimensional array it returns the whole row (or, more generally, an \\$N-1\\$ dimensional array):"
   ]
  },
  {
   "cell_type": "code",
   "execution_count": null,
   "metadata": {
    "id": "h5DsopKTJYCD",
    "slideshow": {
     "slide_type": "fragment"
    }
   },
   "outputs": [],
   "source": [
    "M[1]"
   ]
  },
  {
   "cell_type": "markdown",
   "metadata": {
    "id": "U2NaWw1kJYCE",
    "slideshow": {
     "slide_type": "fragment"
    }
   },
   "source": [
    "The same thing can be achieved by using `:` instead of omitting an index: "
   ]
  },
  {
   "cell_type": "code",
   "execution_count": null,
   "metadata": {
    "id": "334-Lny8JYCE",
    "slideshow": {
     "slide_type": "fragment"
    }
   },
   "outputs": [],
   "source": [
    "M[1,:] # row 1"
   ]
  },
  {
   "cell_type": "code",
   "execution_count": null,
   "metadata": {
    "id": "f5a5_gNpJYCE",
    "slideshow": {
     "slide_type": "fragment"
    }
   },
   "outputs": [],
   "source": [
    "M[:,1] # column 1"
   ]
  },
  {
   "cell_type": "markdown",
   "metadata": {
    "id": "i9uBsSeoJYCE",
    "slideshow": {
     "slide_type": "slide"
    }
   },
   "source": [
    "### Assignments to individual elements\n",
    "We can assign new values to elements in an array using indexing:"
   ]
  },
  {
   "cell_type": "code",
   "execution_count": null,
   "metadata": {
    "id": "veVcivi4JYCE",
    "slideshow": {
     "slide_type": "fragment"
    }
   },
   "outputs": [],
   "source": [
    "print(M)\n",
    "M[0, 0] = 0\n",
    "print(M)"
   ]
  },
  {
   "cell_type": "markdown",
   "metadata": {
    "id": "TidgYo6HJYCT",
    "slideshow": {
     "slide_type": "slide"
    }
   },
   "source": [
    "### NumPy for linear algebra\n",
    "NumPy's vectorizing capability is key to achieving efficient numerical calculations \n",
    "\n",
    "That means that when possible most of a program should be formulated in terms of matrix and vector operations, like matrix-matrix and matrix-vector multiplication\n",
    "\n",
    "This will lead to faster code and better readibility"
   ]
  },
  {
   "cell_type": "markdown",
   "metadata": {
    "id": "KkZRpGO2JYCU",
    "slideshow": {
     "slide_type": "slide"
    }
   },
   "source": [
    "### Scalar-array operations\n",
    "We can use the usual arithmetic operators to multiply, add, subtract, and divide arrays with scalar numbers\n",
    "\n",
    "In these cases, each element of the array will be subject to the specified operation"
   ]
  },
  {
   "cell_type": "code",
   "execution_count": null,
   "metadata": {
    "id": "QJ41bydfcR_a",
    "slideshow": {
     "slide_type": "fragment"
    }
   },
   "outputs": [],
   "source": [
    "v0 = np.array([1, 2, 3, 4])\n",
    "v1 = 2*v0 + 2\n",
    "v2 = 3*v1 \n",
    "print('Result is', v2)\n",
    "v2 == 6*v0 + 6"
   ]
  },
  {
   "cell_type": "markdown",
   "metadata": {
    "id": "iDY1opx0Ako8",
    "slideshow": {
     "slide_type": "slide"
    }
   },
   "source": [
    "### NumPy arrays do not behave like lists\n",
    "Compare with the same multiplication applied to a list:"
   ]
  },
  {
   "cell_type": "code",
   "execution_count": null,
   "metadata": {
    "id": "MX8HzkQYJYCU",
    "slideshow": {
     "slide_type": "fragment"
    }
   },
   "outputs": [],
   "source": [
    "[1, 2, 3, 4] * 2"
   ]
  },
  {
   "cell_type": "markdown",
   "metadata": {
    "id": "AzQtNrHZAyQK",
    "slideshow": {
     "slide_type": "fragment"
    }
   },
   "source": [
    "In this case, the object is multiplied rather than each element"
   ]
  },
  {
   "cell_type": "markdown",
   "metadata": {
    "slideshow": {
     "slide_type": "slide"
    }
   },
   "source": [
    "### Matrix-scalar operations\n",
    "We can also use operators on higher-dimensional arrays:"
   ]
  },
  {
   "cell_type": "code",
   "execution_count": null,
   "metadata": {
    "id": "9MYB-t3VJYCV",
    "slideshow": {
     "slide_type": "fragment"
    }
   },
   "outputs": [],
   "source": [
    "M0 = np.array([[1, 2], [3, 4]])\n",
    "M1 = 2 * M0 + 4\n",
    "M1"
   ]
  },
  {
   "cell_type": "markdown",
   "metadata": {
    "id": "og2uP5MAJYCV",
    "slideshow": {
     "slide_type": "slide"
    }
   },
   "source": [
    "### Element-wise array-array operations\n",
    "When we add, subtract, multiply and divide arrays with each other, the default behaviour is *element-wise* operations\n",
    "\n",
    "Here are two examples of *element-wise* multiplication:"
   ]
  },
  {
   "cell_type": "code",
   "execution_count": null,
   "metadata": {
    "id": "ZJfQhSm2JYCV",
    "slideshow": {
     "slide_type": "fragment"
    }
   },
   "outputs": [],
   "source": [
    "M2 = M0 * M0\n",
    "M2"
   ]
  },
  {
   "cell_type": "code",
   "execution_count": null,
   "metadata": {
    "id": "096I4smxJYCV",
    "slideshow": {
     "slide_type": "fragment"
    }
   },
   "outputs": [],
   "source": [
    "v1 = v0 * v0\n",
    "v1"
   ]
  },
  {
   "cell_type": "markdown",
   "metadata": {
    "id": "6Wa02Gv5JYCW",
    "slideshow": {
     "slide_type": "slide"
    }
   },
   "source": [
    "If we multiply arrays with compatible shapes, we get an element-wise multiplication of each row:"
   ]
  },
  {
   "cell_type": "code",
   "execution_count": null,
   "metadata": {
    "id": "GOIPyP-TVrod",
    "slideshow": {
     "slide_type": "fragment"
    }
   },
   "outputs": [],
   "source": [
    "A5x5 = np.array([[1,1,1,1,1],[2,2,2,2,2],[3,3,3,3,3],[4,4,4,4,4],[5,5,5,5,5]])\n",
    "v5 = np.array([1, 2, 3, 4, 5])\n",
    "print('Shapes are:', A5x5.shape, v5.shape)\n",
    "print('A * v = ', A5x5 * v5)\n",
    "print('v * A = ', v5 * A5x5)"
   ]
  },
  {
   "cell_type": "markdown",
   "metadata": {
    "slideshow": {
     "slide_type": "fragment"
    }
   },
   "source": [
    "This is not a matrix-vector multiplication!"
   ]
  },
  {
   "cell_type": "markdown",
   "metadata": {
    "slideshow": {
     "slide_type": "slide"
    }
   },
   "source": [
    "### Beware: `ndarrays` are not matrices\n",
    "- `numpy.array()` creates multi-dimensional arrays that can contain various types of similar data\n",
    "    - Unlike lists, however, all elements need to be of the same type - (they can all be strings)\n",
    "- `numpy.matrix()` creates two-dimensional objects that can only contain numerical values\n",
    "\n",
    "Run the following cell and examine the results:"
   ]
  },
  {
   "cell_type": "code",
   "execution_count": null,
   "metadata": {
    "slideshow": {
     "slide_type": "fragment"
    }
   },
   "outputs": [],
   "source": [
    "arr1 = np.array([[1, 2], [3, 4]])\n",
    "arr2 = np.array([[5, 6], [7, 8]])\n",
    "print('array1 * array2: %r' % (arr1 * arr2))             # Element-wise multiplication\n",
    "print('array2 * array1: %r' % (arr2 * arr1))\n",
    "mat1 = np.matrix([[1, 2], [3, 4]])\n",
    "mat2 = np.matrix([[5, 6], [7, 8]])\n",
    "print('matrix1 * matrix2: %r' % (mat1 * mat2))            # Matrix multiplication\n",
    "print('matrix2 * matrix1: %r' % (mat2 * mat1))"
   ]
  },
  {
   "cell_type": "markdown",
   "metadata": {
    "id": "jkA-xA8VJYCW",
    "slideshow": {
     "slide_type": "slide"
    }
   },
   "source": [
    "### Matrix algebra with arrays\n",
    "Can we have a matrix mutiplication with arrays? Yes, and this is achieved using the `dot` function.\n",
    "- `dot()` applies a matrix-matrix, matrix-vector, or inner vector multiplication to its two arguments: "
   ]
  },
  {
   "cell_type": "code",
   "execution_count": null,
   "metadata": {
    "id": "pxCkKjzQJYCW",
    "slideshow": {
     "slide_type": "fragment"
    }
   },
   "outputs": [],
   "source": [
    "print('arr1 dot arr2 =', np.dot(arr1, arr2))"
   ]
  },
  {
   "cell_type": "code",
   "execution_count": null,
   "metadata": {
    "id": "yfwdI62qJYCW",
    "slideshow": {
     "slide_type": "fragment"
    }
   },
   "outputs": [],
   "source": [
    "print('A5x5 dot v5 = ', np.dot(A5x5, v5))\n",
    "print('v5 dot A5x5 = ', np.dot(v5, A5x5))"
   ]
  },
  {
   "cell_type": "code",
   "execution_count": null,
   "metadata": {
    "id": "ayGV9omZJYCW",
    "slideshow": {
     "slide_type": "fragment"
    }
   },
   "outputs": [],
   "source": [
    "print('v5 dot v5 = ', np.dot(v5, v5))"
   ]
  },
  {
   "cell_type": "markdown",
   "metadata": {
    "id": "piNOysEsJYCW",
    "slideshow": {
     "slide_type": "slide"
    }
   },
   "source": [
    "### Using operator `@` to  express the `dot` function\n",
    "The `@` operator can be used as a shorthand for the `dot()` function:"
   ]
  },
  {
   "cell_type": "code",
   "execution_count": null,
   "metadata": {
    "id": "lEpNCHi_JYCX",
    "slideshow": {
     "slide_type": "fragment"
    }
   },
   "outputs": [],
   "source": [
    "print('A5x5 x A5x5 = ', A5x5 @ A5x5)"
   ]
  },
  {
   "cell_type": "code",
   "execution_count": null,
   "metadata": {
    "id": "xYwjBEWtJYCX",
    "slideshow": {
     "slide_type": "fragment"
    }
   },
   "outputs": [],
   "source": [
    "print('A5x5 dot v5 = ', A5x5 @ v5)\n",
    "print('v5 dot A5x5 = ', v5 @ A5x5)"
   ]
  },
  {
   "cell_type": "code",
   "execution_count": null,
   "metadata": {
    "id": "0iclQ92fJYCX",
    "slideshow": {
     "slide_type": "fragment"
    }
   },
   "outputs": [],
   "source": [
    "print('v5 dot v5 = ', v5 @ v5)"
   ]
  },
  {
   "cell_type": "markdown",
   "metadata": {
    "slideshow": {
     "slide_type": "slide"
    }
   },
   "source": [
    "### Using the matrix constructor whenever possible\n",
    "- Use the `matrix()` constructor over arrays whenever you need matrix functionality\n",
    "- moreover, `matrix()` allows to express row and column N-vectors as 1xN or Nx1 matrices, respectively\n",
    "- matrix objects can be transposed with the the transpose method\n",
    "\n",
    "Let's look at an example:"
   ]
  },
  {
   "cell_type": "code",
   "execution_count": null,
   "metadata": {
    "id": "fa5-uiH4JYCY",
    "slideshow": {
     "slide_type": "fragment"
    }
   },
   "outputs": [],
   "source": [
    "v5row = np.matrix([1, 2, 3, 4, 5])\n",
    "v5col = np.matrix([1, 2, 3, 4, 5]).transpose()      # Could have used the .T attribute instead of method transpose() \n",
    "print('Shape of row vector v5 is', v5row.shape, 'while the shape of column vector v5 is', v5col.shape)"
   ]
  },
  {
   "cell_type": "markdown",
   "metadata": {
    "slideshow": {
     "slide_type": "fragment"
    }
   },
   "source": [
    "It is also possible to use the attribute `.T` to obtain the transpose of an array/matrix. Try it!"
   ]
  },
  {
   "cell_type": "markdown",
   "metadata": {
    "slideshow": {
     "slide_type": "slide"
    }
   },
   "source": [
    "### Multiplication operator depends on the type of objects\n",
    "The behavior of the standard multiplication operator depends on the type of objects\n",
    "\n",
    "| type | operator | result |\n",
    "|---|---|---|\n",
    "|array| * | element-wise |\n",
    "|array| @ | matrix-like mul |\n",
    "|matrix | * or @ | matrix mul |\n",
    "\n",
    "Mixing matrices and arrays should be avoided"
   ]
  },
  {
   "cell_type": "markdown",
   "metadata": {
    "slideshow": {
     "slide_type": "slide"
    }
   },
   "source": [
    "### NumPy checks for compatible shapes in all its operations\n",
    "If we try to add, subtract or multiply objects with incompatible shapes we get \n",
    "an error\n",
    "\n",
    "For example, "
   ]
  },
  {
   "cell_type": "code",
   "execution_count": null,
   "metadata": {
    "id": "X57t48KSJYCY",
    "slideshow": {
     "slide_type": "fragment"
    }
   },
   "outputs": [],
   "source": [
    "M4x4 = np.matrix([[1, 2, 3, 4], [8, 7, 6, 5], [9, 1, 11, 12], [13, 1, 15, 1]])\n",
    "v3x1 = np.matrix([1, 2, 3]).T\n",
    "badresult = M4x4 * v3x1"
   ]
  },
  {
   "cell_type": "markdown",
   "metadata": {
    "id": "aV_NvuqbJYCa",
    "slideshow": {
     "slide_type": "slide"
    }
   },
   "source": [
    "### Computing the inverse of a matrix\n",
    "The inverse of a matrix can be calculated using the linear algebra submodule `numpy.linalg`\n",
    "\n",
    "For example, the inverse of a matrix is obtained using the `inv()` function:"
   ]
  },
  {
   "cell_type": "code",
   "execution_count": null,
   "metadata": {
    "id": "mDljWMohJYCa",
    "slideshow": {
     "slide_type": "fragment"
    }
   },
   "outputs": [],
   "source": [
    "M4x4inv = np.linalg.inv(M4x4)\n",
    "print('M^(-1) = ', M4x4inv)"
   ]
  },
  {
   "cell_type": "markdown",
   "metadata": {
    "id": "PglMRz-1JYCb",
    "slideshow": {
     "slide_type": "slide"
    }
   },
   "source": [
    "### Computing the determinant of a matrix\n",
    "The determinant of a matrix is obtained from the `linalg.det()` function:"
   ]
  },
  {
   "cell_type": "code",
   "execution_count": null,
   "metadata": {
    "id": "p5J1stR2JYCb",
    "slideshow": {
     "slide_type": "fragment"
    }
   },
   "outputs": [],
   "source": [
    "detM4x4 = np.linalg.det(M4x4)\n",
    "print('     |M| is', detM4x4)\n",
    "detM4x4inv = np.linalg.det(M4x4inv)\n",
    "print('|M^(-1)| is', detM4x4inv)"
   ]
  },
  {
   "cell_type": "markdown",
   "metadata": {
    "slideshow": {
     "slide_type": "fragment"
    }
   },
   "source": [
    "Let's check that the determinant of the inverse matrix is the multiplicative inverse of the determinant of the original matrix:"
   ]
  },
  {
   "cell_type": "code",
   "execution_count": null,
   "metadata": {
    "id": "SDo-4NHRJYCb",
    "slideshow": {
     "slide_type": "fragment"
    }
   },
   "outputs": [],
   "source": [
    "print('|M| * |M^(-1)| =', detM4x4 * detM4x4inv)"
   ]
  },
  {
   "cell_type": "markdown",
   "metadata": {
    "id": "yYZACdEqJYCZ",
    "slideshow": {
     "slide_type": "slide"
    }
   },
   "source": [
    "### Key Points\n",
    "- NumPy can create arrays from lists and tuples\n",
    "- NumPy `ndarray` and `matrix` behave slightly differently - Prefer using a matrix when a matrix is needed\n",
    "- Avoid loops on arrays - prefer using the operators provided for performance and readibility\n",
    "- Multidimensional arrays are not indexed like lists, but with all indices in one set of brackets `[i_1, i_2, ..., i_N]`\n",
    "- Slicing can also be used on each index\n"
   ]
  },
  {
   "cell_type": "markdown",
   "metadata": {
    "slideshow": {
     "slide_type": "slide"
    }
   },
   "source": [
    "### Further reading\n",
    "- See also other functions applying to arrays: `inner`, `outer`, `cross`, `kron`, `tensordot`\n",
    "    - Try for example `help(np.kron)`\n",
    "- The Help menu of Jupyter has an item called *NumPy Reference*\n",
    "    - Follow link in the help menu for useful info"
   ]
  },
  {
   "cell_type": "markdown",
   "metadata": {
    "slideshow": {
     "slide_type": "slide"
    }
   },
   "source": [
    "### What's Next?\n",
    "- Complete the exercises in this associated exercise notebook [X-14-NumPy1.ipynb](X-14-NumPy1.ipynb)\n",
    "- Next notebook is [N-15-NumPy2.ipynb](N-15-NumPy2.ipynb)"
   ]
  }
 ],
 "metadata": {
  "celltoolbar": "Slideshow",
  "colab": {
   "collapsed_sections": [],
   "name": "Notebook9_NumPy_basics.ipynb",
   "provenance": []
  },
  "kernelspec": {
   "display_name": "Python 3 (ipykernel)",
   "language": "python",
   "name": "python3"
  },
  "language_info": {
   "codemirror_mode": {
    "name": "ipython",
    "version": 3
   },
   "file_extension": ".py",
   "mimetype": "text/x-python",
   "name": "python",
   "nbconvert_exporter": "python",
   "pygments_lexer": "ipython3",
   "version": "3.11.7"
  }
 },
 "nbformat": 4,
 "nbformat_minor": 1
}

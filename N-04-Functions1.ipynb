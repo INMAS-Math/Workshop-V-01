{
 "cells": [
  {
   "cell_type": "markdown",
   "metadata": {
    "id": "SA6NTppk6RHc",
    "slideshow": {
     "slide_type": "slide"
    }
   },
   "source": [
    "<img src=\"images/inmas.png\" width=130x align=right />\n",
    "\n",
    "# Notebook 04 - Functions 1\n",
    "\n",
    "Material covered in this notebook:\n",
    "- How to call a function\n",
    "- How to define a new function\n",
    "- Understanding functions arguments - positional and named arguments\n",
    "\n",
    "### Prerequisite\n",
    "Notebook 03\n",
    "\n",
    "----"
   ]
  },
  {
   "cell_type": "markdown",
   "metadata": {
    "id": "LqSiHa-j6RHe",
    "slideshow": {
     "slide_type": "slide"
    }
   },
   "source": [
    "### Built-in functions\n",
    "Python has several functions that are readily available for use. These functions are called built-in functions.\n",
    "\n",
    "We have covered some of them already such as `print()`, `help()`, `range()`, `sum()`, `len()`, etc.\n",
    "\n",
    "Each of these functions have a short description displayed with the `help()` function:"
   ]
  },
  {
   "cell_type": "code",
   "execution_count": null,
   "metadata": {
    "colab": {
     "base_uri": "https://localhost:8080/"
    },
    "executionInfo": {
     "elapsed": 11,
     "status": "ok",
     "timestamp": 1634607651131,
     "user": {
      "displayName": "Shinhae Park",
      "photoUrl": "https://lh3.googleusercontent.com/a/default-user=s64",
      "userId": "11307119081955472096"
     },
     "user_tz": 300
    },
    "id": "_0FmL5N06RHg",
    "outputId": "82978561-6ff0-4be9-bcc9-e161279b662a",
    "scrolled": true,
    "slideshow": {
     "slide_type": "fragment"
    }
   },
   "outputs": [],
   "source": [
    "help(sum)"
   ]
  },
  {
   "cell_type": "markdown",
   "metadata": {
    "slideshow": {
     "slide_type": "slide"
    }
   },
   "source": [
    "Here is a concise example using some of the functions we learned so far:"
   ]
  },
  {
   "cell_type": "code",
   "execution_count": null,
   "metadata": {
    "colab": {
     "base_uri": "https://localhost:8080/"
    },
    "executionInfo": {
     "elapsed": 8,
     "status": "ok",
     "timestamp": 1634607651132,
     "user": {
      "displayName": "Shinhae Park",
      "photoUrl": "https://lh3.googleusercontent.com/a/default-user=s64",
      "userId": "11307119081955472096"
     },
     "user_tz": 300
    },
    "id": "kTdT8H8L6RHh",
    "outputId": "cf197e9c-b45f-4ffe-fc5e-e9b90d5b87b0",
    "slideshow": {
     "slide_type": "fragment"
    }
   },
   "outputs": [],
   "source": [
    "myList = list(range(1, 11))\n",
    "print('myList is %r. It has %d elements and its sum is %d.' % (myList, len(myList), sum(myList)))"
   ]
  },
  {
   "cell_type": "markdown",
   "metadata": {
    "id": "NfQEnVqX6RHi",
    "slideshow": {
     "slide_type": "slide"
    }
   },
   "source": [
    "### Creating a function\n",
    "In Python, a function is defined using the keyword `def`, followed by a function name, a signature within parentheses `()`, and a colon `:`\n",
    "\n",
    "The indented block of code following the definition line constitutes the function's body\n",
    "\n",
    "Let's look at an example:"
   ]
  },
  {
   "cell_type": "code",
   "execution_count": null,
   "metadata": {
    "id": "e52iRtol6RHi",
    "slideshow": {
     "slide_type": "fragment"
    }
   },
   "outputs": [],
   "source": [
    "def func0():   \n",
    "    print('test')"
   ]
  },
  {
   "cell_type": "markdown",
   "metadata": {
    "slideshow": {
     "slide_type": "fragment"
    }
   },
   "source": [
    "Once defined, it can be called like any other function:"
   ]
  },
  {
   "cell_type": "code",
   "execution_count": null,
   "metadata": {
    "colab": {
     "base_uri": "https://localhost:8080/"
    },
    "executionInfo": {
     "elapsed": 5,
     "status": "ok",
     "timestamp": 1634607655291,
     "user": {
      "displayName": "Shinhae Park",
      "photoUrl": "https://lh3.googleusercontent.com/a/default-user=s64",
      "userId": "11307119081955472096"
     },
     "user_tz": 300
    },
    "id": "deNFSFL96RHj",
    "outputId": "75ab0b3b-c227-484c-ba57-374d0801a8d7",
    "scrolled": true,
    "slideshow": {
     "slide_type": "fragment"
    }
   },
   "outputs": [],
   "source": [
    "func0()"
   ]
  },
  {
   "cell_type": "markdown",
   "metadata": {
    "id": "i66T3h1k6RHk",
    "slideshow": {
     "slide_type": "slide"
    }
   },
   "source": [
    "### Use docstrings to document your code\n",
    "Optionally, but highly recommended, we can define a so-called \"docstring\", which is a description of the function's purpose and behavior\n",
    "\n",
    "The docstring follows directly after the function definition, before the code in the function body. Three sequential quotes allow you to have a message running over multiple lines. These lines are displayed with the `help()` function as we have just seen."
   ]
  },
  {
   "cell_type": "code",
   "execution_count": null,
   "metadata": {
    "id": "deCAbaF66RHk",
    "slideshow": {
     "slide_type": "fragment"
    }
   },
   "outputs": [],
   "source": [
    "def charCount(s):\n",
    "    '''\n",
    "    Print string \"s\" and tell how many characters it has.\n",
    "    English version\n",
    "    ''' \n",
    "    print(s + ' has ' + str(len(s)) + ' characters.')"
   ]
  },
  {
   "cell_type": "code",
   "execution_count": null,
   "metadata": {
    "colab": {
     "base_uri": "https://localhost:8080/"
    },
    "executionInfo": {
     "elapsed": 6,
     "status": "ok",
     "timestamp": 1634607657785,
     "user": {
      "displayName": "Shinhae Park",
      "photoUrl": "https://lh3.googleusercontent.com/a/default-user=s64",
      "userId": "11307119081955472096"
     },
     "user_tz": 300
    },
    "id": "NlvReABd6RHl",
    "outputId": "fa94062f-b863-4fed-86bf-bf0f17e78178",
    "scrolled": false,
    "slideshow": {
     "slide_type": "fragment"
    }
   },
   "outputs": [],
   "source": [
    "help(charCount)"
   ]
  },
  {
   "cell_type": "markdown",
   "metadata": {
    "slideshow": {
     "slide_type": "slide"
    }
   },
   "source": [
    "### Calling user-defined functions\n",
    "The function we just defined lives in the same namespace and can be called directly, just like the built-in functions we used before\n",
    "\n",
    "Let's try it:"
   ]
  },
  {
   "cell_type": "code",
   "execution_count": null,
   "metadata": {
    "slideshow": {
     "slide_type": "fragment"
    }
   },
   "outputs": [],
   "source": [
    "charCount(\"test\")"
   ]
  },
  {
   "cell_type": "markdown",
   "metadata": {
    "id": "THkbyhMC6RHm",
    "slideshow": {
     "slide_type": "slide"
    }
   },
   "source": [
    "### Returning values from functions\n",
    "Functions that returns a value use the `return` keyword:"
   ]
  },
  {
   "cell_type": "code",
   "execution_count": null,
   "metadata": {
    "id": "RyCRRO5G6RHm",
    "slideshow": {
     "slide_type": "fragment"
    }
   },
   "outputs": [],
   "source": [
    "def square(x):\n",
    "    '''\n",
    "    Return the square of x.\n",
    "    '''\n",
    "    return x**2"
   ]
  },
  {
   "cell_type": "code",
   "execution_count": null,
   "metadata": {
    "colab": {
     "base_uri": "https://localhost:8080/"
    },
    "executionInfo": {
     "elapsed": 7,
     "status": "ok",
     "timestamp": 1634607663652,
     "user": {
      "displayName": "Shinhae Park",
      "photoUrl": "https://lh3.googleusercontent.com/a/default-user=s64",
      "userId": "11307119081955472096"
     },
     "user_tz": 300
    },
    "id": "51mag-_A6RHn",
    "outputId": "25ac7bc8-01b2-478e-e905-73612d05a0ac",
    "slideshow": {
     "slide_type": "fragment"
    }
   },
   "outputs": [],
   "source": [
    "square(4)"
   ]
  },
  {
   "cell_type": "markdown",
   "metadata": {
    "slideshow": {
     "slide_type": "slide"
    }
   },
   "source": [
    "### Functions not returning a value return None"
   ]
  },
  {
   "cell_type": "code",
   "execution_count": null,
   "metadata": {
    "slideshow": {
     "slide_type": "fragment"
    }
   },
   "outputs": [],
   "source": [
    "def myappend(a, b):\n",
    "    a.append(b)\n",
    "\n",
    "a = [0, 1]\n",
    "b = 2\n",
    "x = myappend(a, b)\n",
    "print('The value of x is', x)"
   ]
  },
  {
   "cell_type": "markdown",
   "metadata": {
    "slideshow": {
     "slide_type": "slide"
    }
   },
   "source": [
    "### Functions can have multiple return points\n",
    "\n",
    "There could be multiple decision points in the function's algorithm for where to return\n",
    "\n",
    "For example:"
   ]
  },
  {
   "cell_type": "code",
   "execution_count": null,
   "metadata": {
    "id": "cM2I-CCY6RHn",
    "slideshow": {
     "slide_type": "fragment"
    }
   },
   "outputs": [],
   "source": [
    "def sign(x):\n",
    "    '''Return the sign of x as a verbose string.'''\n",
    "    if x > 0:\n",
    "        return 'positive'\n",
    "    elif x < 0:\n",
    "        return 'negative'\n",
    "    else:\n",
    "        return 'zero'"
   ]
  },
  {
   "cell_type": "code",
   "execution_count": null,
   "metadata": {
    "colab": {
     "base_uri": "https://localhost:8080/"
    },
    "executionInfo": {
     "elapsed": 725,
     "status": "ok",
     "timestamp": 1634607666340,
     "user": {
      "displayName": "Shinhae Park",
      "photoUrl": "https://lh3.googleusercontent.com/a/default-user=s64",
      "userId": "11307119081955472096"
     },
     "user_tz": 300
    },
    "id": "ZzvsonwQ6RHo",
    "outputId": "af39ce03-9a33-471b-f1fa-f5979cab86f5",
    "slideshow": {
     "slide_type": "fragment"
    }
   },
   "outputs": [],
   "source": [
    "for x in [-10, -0, 0, 100]:\n",
    "    print(x, 'is', sign(x), end=', ')"
   ]
  },
  {
   "cell_type": "markdown",
   "metadata": {
    "id": "-M7P4zjd6RHp",
    "slideshow": {
     "slide_type": "slide"
    }
   },
   "source": [
    "### Functions can return multiple values\n",
    "We can return multiple values from a function using tuples (tuples contain objects, like lists, but unlike lists, they can't be changed (i.e., no appending, deleting, inserting, etc.) - read more [here](https://stackoverflow.com/questions/1708510/list-vs-tuple-when-to-use-each)):"
   ]
  },
  {
   "cell_type": "code",
   "execution_count": null,
   "metadata": {
    "id": "_FS2PglV6RHq",
    "slideshow": {
     "slide_type": "fragment"
    }
   },
   "outputs": [],
   "source": [
    "def powers(x):\n",
    "    '''Return the square, cubic, and fourth powers of x.'''\n",
    "    return x**2, x**3, x**4"
   ]
  },
  {
   "cell_type": "code",
   "execution_count": null,
   "metadata": {
    "colab": {
     "base_uri": "https://localhost:8080/"
    },
    "executionInfo": {
     "elapsed": 208,
     "status": "ok",
     "timestamp": 1634607671989,
     "user": {
      "displayName": "Shinhae Park",
      "photoUrl": "https://lh3.googleusercontent.com/a/default-user=s64",
      "userId": "11307119081955472096"
     },
     "user_tz": 300
    },
    "id": "aMSRtWkp6RHq",
    "outputId": "b01c9e9b-e8ba-4de3-fb16-6094f1ba62da",
    "slideshow": {
     "slide_type": "fragment"
    }
   },
   "outputs": [],
   "source": [
    "powers(3)"
   ]
  },
  {
   "cell_type": "markdown",
   "metadata": {
    "slideshow": {
     "slide_type": "fragment"
    }
   },
   "source": [
    "And here is how we would use this function in an assignment:"
   ]
  },
  {
   "cell_type": "code",
   "execution_count": null,
   "metadata": {
    "colab": {
     "base_uri": "https://localhost:8080/"
    },
    "executionInfo": {
     "elapsed": 201,
     "status": "ok",
     "timestamp": 1634607672949,
     "user": {
      "displayName": "Shinhae Park",
      "photoUrl": "https://lh3.googleusercontent.com/a/default-user=s64",
      "userId": "11307119081955472096"
     },
     "user_tz": 300
    },
    "id": "9hgKC2K06RHr",
    "outputId": "a48776d6-9ca6-48f3-c908-2bdd647a44f9",
    "slideshow": {
     "slide_type": "fragment"
    }
   },
   "outputs": [],
   "source": [
    "x2, x3, x4 = powers(3)\n",
    "print(x2, x3, x4)"
   ]
  },
  {
   "cell_type": "markdown",
   "metadata": {
    "slideshow": {
     "slide_type": "slide"
    }
   },
   "source": [
    "### Returning various data types\n",
    "Functions can return any data type or combination thereof"
   ]
  },
  {
   "cell_type": "code",
   "execution_count": null,
   "metadata": {
    "colab": {
     "base_uri": "https://localhost:8080/"
    },
    "executionInfo": {
     "elapsed": 10,
     "status": "ok",
     "timestamp": 1634607673938,
     "user": {
      "displayName": "Shinhae Park",
      "photoUrl": "https://lh3.googleusercontent.com/a/default-user=s64",
      "userId": "11307119081955472096"
     },
     "user_tz": 300
    },
    "id": "tQeQ7btW6RHr",
    "outputId": "328c42d9-be52-487f-8c45-39ecef852178",
    "slideshow": {
     "slide_type": "fragment"
    }
   },
   "outputs": [],
   "source": [
    "def powers2(x):\n",
    "    '''Return the 3 first integer powers of x as a tuple.'''\n",
    "    return (x**2, x**3, x**4)\n",
    "\n",
    "def powers3(x):\n",
    "    '''Return the 3 first integer powers of x as a list.'''\n",
    "    return [x**2, x**3, x**4]\n",
    "\n",
    "def powers4(x):\n",
    "    '''Return the 3 first integer powers of x as a dictionary.'''\n",
    "    return {'%d^2'%x: x**2, '%d^3'%x: x**3, '%d^4'%x: x**4}\n",
    "\n",
    "print(powers2(8))\n",
    "print(powers3(8))\n",
    "print(powers4(8))"
   ]
  },
  {
   "cell_type": "markdown",
   "metadata": {
    "id": "2WxrXDt_6RHt",
    "slideshow": {
     "slide_type": "slide"
    }
   },
   "source": [
    "### Data types of function arguments\n",
    "Now, if you have done programming in many languages you may be wondering about something\n",
    "\n",
    "How come the data types for the function's arguments are not specified? Python has a syntax to specify type:\n",
    "```python\n",
    "def f(x: int):\n",
    "    return x + 2\n",
    "```"
   ]
  },
  {
   "cell_type": "code",
   "execution_count": null,
   "metadata": {
    "id": "InnOZ6jd6RHt",
    "slideshow": {
     "slide_type": "fragment"
    }
   },
   "outputs": [],
   "source": [
    "def f(x: int):\n",
    "    return x + 2"
   ]
  },
  {
   "cell_type": "markdown",
   "metadata": {
    "slideshow": {
     "slide_type": "fragment"
    }
   },
   "source": [
    "However, passing a float would go through by upcasting all operations to float:"
   ]
  },
  {
   "cell_type": "code",
   "execution_count": null,
   "metadata": {
    "slideshow": {
     "slide_type": "fragment"
    }
   },
   "outputs": [],
   "source": [
    "f(2), f(3.5)"
   ]
  },
  {
   "cell_type": "markdown",
   "metadata": {
    "slideshow": {
     "slide_type": "slide"
    }
   },
   "source": [
    "### Functions operate as long as operations make sense"
   ]
  },
  {
   "cell_type": "code",
   "execution_count": null,
   "metadata": {
    "slideshow": {
     "slide_type": "fragment"
    }
   },
   "outputs": [],
   "source": [
    "def twice(arg: int):\n",
    "    return arg*2\n",
    "\n",
    "allTypes = [ 1, 1., 'one', (1,), 1 + 0j, [1], True, ]  # Won't work for None or a dictionary\n",
    "for el in allTypes:\n",
    "    print('twice(%r) of type %r = %r'%(el, type(el), times2(el)))"
   ]
  },
  {
   "cell_type": "markdown",
   "metadata": {
    "id": "uoeTKmw86RHu",
    "slideshow": {
     "slide_type": "slide"
    }
   },
   "source": [
    "### Loose data typing\n",
    "\n",
    "The idea is that Python uses something coined *Duck typing*, i.e., if it looks like a duck, walks like a duck, and sounds like a duck, then it is a duck\n",
    "\n",
    "More precisely, as long as an object supports the necessary methods for a given type, it is treated as that type, even if it is more complex\n",
    "\n",
    "In the cell above, even though we tried to restrict our arguments to type *int*, we can still pass many other things as a valid argument\n",
    "\n",
    "This means you have to be a little careful"
   ]
  },
  {
   "cell_type": "markdown",
   "metadata": {
    "id": "WUE6pp5E6RH2",
    "slideshow": {
     "slide_type": "slide"
    }
   },
   "source": [
    "### Type hinting\n",
    "As we have hinted before (pun intended), the type of expected arguments and return values of a function can be specified using the following syntax:"
   ]
  },
  {
   "cell_type": "code",
   "execution_count": null,
   "metadata": {
    "colab": {
     "base_uri": "https://localhost:8080/"
    },
    "executionInfo": {
     "elapsed": 356,
     "status": "ok",
     "timestamp": 1634608277608,
     "user": {
      "displayName": "Shinhae Park",
      "photoUrl": "https://lh3.googleusercontent.com/a/default-user=s64",
      "userId": "11307119081955472096"
     },
     "user_tz": 300
    },
    "id": "FvSqZEFV6RH2",
    "outputId": "b375f0dd-ff29-44d7-c530-3022bfa1bb86",
    "scrolled": true,
    "slideshow": {
     "slide_type": "fragment"
    }
   },
   "outputs": [],
   "source": [
    "def tot_length1(word: str, num: int) -> int: \n",
    "    return len(word) * num\n",
    "\n",
    "tot_length1(\"i love you\", 10)"
   ]
  },
  {
   "cell_type": "code",
   "execution_count": null,
   "metadata": {
    "colab": {
     "base_uri": "https://localhost:8080/"
    },
    "executionInfo": {
     "elapsed": 6,
     "status": "ok",
     "timestamp": 1634608277808,
     "user": {
      "displayName": "Shinhae Park",
      "photoUrl": "https://lh3.googleusercontent.com/a/default-user=s64",
      "userId": "11307119081955472096"
     },
     "user_tz": 300
    },
    "id": "n-xPI-GA6RH2",
    "outputId": "67016456-4b0d-4bf0-9331-c3a94156e8e7",
    "slideshow": {
     "slide_type": "fragment"
    }
   },
   "outputs": [],
   "source": [
    "def tot_length2(word: str, num: int) -> None:\n",
    "    print(len(word) * num)\n",
    "\n",
    "tot_length2(\"hello world!\", 10)"
   ]
  },
  {
   "cell_type": "markdown",
   "metadata": {
    "id": "vLg9nkQq6RHv",
    "slideshow": {
     "slide_type": "slide"
    }
   },
   "source": [
    "### Function arguments - keyword arguments (a.k.a. named arguments)\n",
    "Python allows functions to be called using keyword (named) arguments\n",
    "\n",
    "The value specified becomes the default parameter if no parameter is given\n",
    "\n",
    "For example,"
   ]
  },
  {
   "cell_type": "code",
   "execution_count": null,
   "metadata": {
    "id": "1UJ1QvXy6RHv",
    "outputId": "4ca4e5e0-32dd-4b84-f538-d23463007aba",
    "slideshow": {
     "slide_type": "fragment"
    }
   },
   "outputs": [],
   "source": [
    "def hello(name, loud=False):\n",
    "    if loud:\n",
    "        print('HELLO, %s' % name.upper())\n",
    "    else:\n",
    "        print('Hello, %s!' % name)\n",
    "\n",
    "hello('Bob')\n",
    "hello('Fred', loud=True)"
   ]
  },
  {
   "cell_type": "markdown",
   "metadata": {
    "id": "O1umNPjV6RHv",
    "slideshow": {
     "slide_type": "slide"
    }
   },
   "source": [
    "\n",
    "### Order of positional and named arguments\n",
    "Positional arguments cannot follow named arguments, e.g., \n",
    "```python\n",
    "def hello(loud=False, name):\n",
    "```\n",
    "would generate a SyntaxError. When we call functions using named arguments, the order (position) of the arguments can be changed.\n",
    "\n",
    "But providing a positional argument after a keyword argument will generate an error:"
   ]
  },
  {
   "cell_type": "code",
   "execution_count": null,
   "metadata": {
    "id": "WDnzvWNg6RHw",
    "outputId": "a80bfbbb-b9ce-40e8-f308-a50e2ce73557",
    "slideshow": {
     "slide_type": "fragment"
    }
   },
   "outputs": [],
   "source": [
    "hello(name='Fred', loud=True)     # 2 named arguments\n",
    "hello(loud=True, name='Fred')     # 2 named arguments (out of order)\n",
    "hello('Fred', loud=True)          # 1 positional, 1 named argument\n",
    "\n",
    "# Positional argument after a named argument. Uncomment to check\n",
    "# hello(loud=True, 'Jack')"
   ]
  },
  {
   "cell_type": "markdown",
   "metadata": {
    "id": "lMwOlwKU6RHx",
    "slideshow": {
     "slide_type": "slide"
    }
   },
   "source": [
    "### Variable-length arguments\n",
    "\n",
    "Variable-length arguments, or varargs for short, are arguments that can take an unspecified amount of input. Some functions have no arguments, others have multiple. There are times we have functions with arguments we don't know about beforehand, e.g., the `print()`, `format()` functions."
   ]
  },
  {
   "cell_type": "code",
   "execution_count": null,
   "metadata": {
    "id": "o92dlfdt6RHy",
    "outputId": "cc21f645-ac26-412b-9404-f0123e9833fc",
    "slideshow": {
     "slide_type": "fragment"
    }
   },
   "outputs": [],
   "source": [
    "print()\n",
    "print('Hello', 'World', '', int(1), float(2), '3')"
   ]
  },
  {
   "cell_type": "markdown",
   "metadata": {
    "id": "YlOv3D2l6RHy",
    "slideshow": {
     "slide_type": "slide"
    }
   },
   "source": [
    "### Defining function with varargs\n",
    "In Python, we can create functions taking an arbitrary number of arguments. With the `*args` syntax, we can accept multiple **positional** arguments in an iterable tuple sequence.\n",
    "\n",
    "You can use any other name than `args`. In the function definition, we use a single asterisk (\\*) before the parameter name to denote vararg. Here is an example."
   ]
  },
  {
   "cell_type": "code",
   "execution_count": null,
   "metadata": {
    "id": "XGwoUpbL6RHz",
    "outputId": "fcff8c83-16d8-4743-c388-6fc70aae4b34",
    "slideshow": {
     "slide_type": "fragment"
    }
   },
   "outputs": [],
   "source": [
    "def find_min(*numbers):\n",
    "    '''Returns the minimum of the numbers listed in the arguments.'''\n",
    "    result = numbers[0]\n",
    "    for num in numbers:\n",
    "        if num < result:\n",
    "            result = num\n",
    "            \n",
    "    print(result)\n",
    "    return \n",
    "\n",
    "find_min(4, 5)\n",
    "find_min(4, 5, 6, 7, 2)"
   ]
  },
  {
   "cell_type": "markdown",
   "metadata": {
    "id": "LMDuQnt6ctnd",
    "slideshow": {
     "slide_type": "slide"
    }
   },
   "source": [
    "###  Multiple keyword arguments\n",
    "\n",
    "Python can accept multiple **keyword** arguments, known as `**kwargs`. It behaves similarly to `*args`, but `**kwargs` stores the named arguments in a dictionary that is then passed to the function.\n",
    "\n",
    "+ `*args`    : arguments in tuple (vararg) - *order is preserved and important*\n",
    "+ `**kwargs` : arguments in dictionary (named parameter) - *can be disordered*\n",
    "\n",
    "While the names *args* and *kwargs* are common, any other name can be used. Here's an example:"
   ]
  },
  {
   "cell_type": "code",
   "execution_count": null,
   "metadata": {
    "id": "Sn5kmUU8cftr",
    "slideshow": {
     "slide_type": "fragment"
    }
   },
   "outputs": [],
   "source": [
    "def kwargs_func(**mykwargs):\n",
    "    print('mykwargs dictionary is:', mykwargs)\n",
    "    for k,v in mykwargs.items():\n",
    "        print('%r is %r,' % (k, v), end=' ')\n",
    "    print()\n",
    "\n",
    "kwargs_func(firstname=\"Jon\")\n",
    "kwargs_func(lastname=\"Snow\", firstname=\"Jon\", title=\"Night's Watch\")"
   ]
  },
  {
   "cell_type": "markdown",
   "metadata": {
    "id": "rgs75yOuc0Vj",
    "slideshow": {
     "slide_type": "slide"
    }
   },
   "source": [
    "### Combining `*args` and `**kwargs`\n",
    "\n",
    "Positional arguments go before named arguments. Order of arguments:\n",
    "\n",
    "1. Required positional arguments\n",
    "2. `*args`\n",
    "3. Known named arguments\n",
    "4. `**kwargs`\n"
   ]
  },
  {
   "cell_type": "code",
   "execution_count": null,
   "metadata": {
    "id": "XJXiaLxLc3SY",
    "slideshow": {
     "slide_type": "fragment"
    }
   },
   "outputs": [],
   "source": [
    "def example(arg_1, arg_2, *args, arg_3 = [], **kwargs):              # arg_1 and arg_2 are required (positional) arguments\n",
    "    print(arg_1, arg_2, args, arg_3, kwargs)\n",
    "\n",
    "example(10, 20)\n",
    "example(10, 20, 'INMAS', 'Python', 'Workshop', arg_3 = [1,2,3], month='10', day='23', year = '2021')"
   ]
  },
  {
   "cell_type": "markdown",
   "metadata": {
    "slideshow": {
     "slide_type": "slide"
    }
   },
   "source": [
    "### New `/` operator in argument list\n",
    "Since Python 3.8, it is possible to include `/` in the argument list to indicate that all arguments to the left of argument `/` are positional arguments only. Those on the right are varargs, or named arguments.\n",
    "\n",
    "Let's look at `help(str)` to find out about the methods of the built-in string class and see how it applies:"
   ]
  },
  {
   "cell_type": "code",
   "execution_count": null,
   "metadata": {
    "slideshow": {
     "slide_type": "fragment"
    }
   },
   "outputs": [],
   "source": [
    "help(str)"
   ]
  },
  {
   "cell_type": "markdown",
   "metadata": {
    "slideshow": {
     "slide_type": "slide"
    }
   },
   "source": [
    "### Functions vs. Methods\n",
    "Functions are called with arguments and are not associated with any objects. An example is\n",
    "```\n",
    "f(x)\n",
    "```\n",
    "\n",
    "Methods are special functions that are attached to an object. Many objects have associated methods. File objects are one case. The string class also has many methods that can be applied to a string object. The newline character can be removed, dangling spaces, capitalize, swap case, etc. These are called as\n",
    "```\n",
    "object.f(...)\n",
    "```\n",
    "In practice, it looks like this:\n"
   ]
  },
  {
   "cell_type": "code",
   "execution_count": null,
   "metadata": {
    "slideshow": {
     "slide_type": "fragment"
    }
   },
   "outputs": [],
   "source": [
    "myString = '   hello there!   '\n",
    "print(myString.strip().capitalize())\n"
   ]
  },
  {
   "cell_type": "markdown",
   "metadata": {
    "slideshow": {
     "slide_type": "slide"
    }
   },
   "source": [
    "### String methods\n",
    "We will explore string methods as we go through these notebooks\n",
    "\n",
    "Notice that each method called in the last example returned a string; This allows to daisy-chain the methods as we did (go back to see it again if needed).\n",
    "\n",
    "Let's look at `help(str)` again to find all methods for the `str` class. Methods are all the functions having `self` as the first argument. We will discuss classes and the `self` argument in a following notebook."
   ]
  },
  {
   "cell_type": "code",
   "execution_count": null,
   "metadata": {
    "slideshow": {
     "slide_type": "fragment"
    }
   },
   "outputs": [],
   "source": [
    "help(str)"
   ]
  },
  {
   "cell_type": "markdown",
   "metadata": {
    "slideshow": {
     "slide_type": "slide"
    }
   },
   "source": [
    "### Key Points\n",
    "- Functions are defined with the `def` keyword\n",
    "- A docstring should be given to document the function and allow the help() function to report back\n",
    "- The `return` keyword is used to return values from the function\n",
    "- There are two types of arguments: *positional* and *named*\n",
    "- Positional arguments are required\n",
    "- Known named arguments are provided a default value\n",
    "- varargs are indicated by an asterisk and contents is stored in a tuple\n",
    "- kwargs are indicated with a double asterisk and contents is stored in a dictionary\n",
    "- Methods are functions associated with an object\n",
    "- Each object in Python, including functions, belong to a class found with the `type()` built-in function"
   ]
  },
  {
   "cell_type": "markdown",
   "metadata": {
    "slideshow": {
     "slide_type": "slide"
    }
   },
   "source": [
    "### What's Next?\n",
    "- Complete the exercises in this associated exercise notebook [X-04-Functions1.ipynb](X-04-Functions1.ipynb)\n",
    "- Next notebook is [N-05-Arithmetics.ipynb](N-05-Arithmetics.ipynb)"
   ]
  }
 ],
 "metadata": {
  "celltoolbar": "Slideshow",
  "colab": {
   "collapsed_sections": [],
   "name": "Notebook8_Functions.ipynb",
   "provenance": [],
   "toc_visible": true
  },
  "kernelspec": {
   "display_name": "Python [conda env:rise] *",
   "language": "python",
   "name": "conda-env-rise-py"
  },
  "language_info": {
   "codemirror_mode": {
    "name": "ipython",
    "version": 3
   },
   "file_extension": ".py",
   "mimetype": "text/x-python",
   "name": "python",
   "nbconvert_exporter": "python",
   "pygments_lexer": "ipython3",
   "version": "3.12.7"
  }
 },
 "nbformat": 4,
 "nbformat_minor": 1
}

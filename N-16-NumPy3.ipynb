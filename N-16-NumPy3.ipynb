{
 "cells": [
  {
   "cell_type": "markdown",
   "metadata": {
    "id": "8FzPm-6HJYBp",
    "slideshow": {
     "slide_type": "slide"
    }
   },
   "source": [
    "<img src=\"images/inmas.png\" width=130x align='right' />\n",
    "\n",
    "# Notebook 16 - More Advanced NumPy\n",
    "Material covered in this notebook:\n",
    "\n",
    "- Basic statistical functions\n",
    "- More array manipulations\n",
    "- Linear algebra with NumPy\n",
    "\n",
    "### Prerequisite\n",
    "Notebook 15\n",
    "\n",
    "----"
   ]
  },
  {
   "cell_type": "markdown",
   "metadata": {
    "slideshow": {
     "slide_type": "slide"
    }
   },
   "source": [
    "### Housekeeping for matplotlib\n",
    "\n",
    "Let's first import matplotlib and ensure that the plots are embedded nicely in the notebook"
   ]
  },
  {
   "cell_type": "code",
   "execution_count": null,
   "metadata": {
    "id": "PCGaRDrRJYBs",
    "slideshow": {
     "slide_type": "fragment"
    }
   },
   "outputs": [],
   "source": [
    "%matplotlib inline \n",
    "\n",
    "import matplotlib.pyplot as plt\n",
    "import numpy as np"
   ]
  },
  {
   "cell_type": "markdown",
   "metadata": {
    "id": "fxxNEEeYJYCc",
    "slideshow": {
     "slide_type": "slide"
    }
   },
   "source": [
    "### Basic Statistical Functions\n",
    "Numpy provides a number of functions to calculate statistics of datasets in arrays\n",
    "\n",
    "For example, let's calculate some properties from the Stockholm temperature dataset used before:"
   ]
  },
  {
   "cell_type": "code",
   "execution_count": null,
   "metadata": {
    "slideshow": {
     "slide_type": "fragment"
    }
   },
   "outputs": [],
   "source": [
    "data = np.genfromtxt('./data/stockholm_td_adj.csv', delimiter=',', skip_header=1)\n",
    "np.shape(data)"
   ]
  },
  {
   "cell_type": "markdown",
   "metadata": {
    "id": "K2bjHIUJJYCc",
    "slideshow": {
     "slide_type": "fragment"
    }
   },
   "source": [
    "The average temperature can be computed by taking the mean of column 3:"
   ]
  },
  {
   "cell_type": "code",
   "execution_count": null,
   "metadata": {
    "id": "1WU1PPR-JYCc",
    "slideshow": {
     "slide_type": "fragment"
    }
   },
   "outputs": [],
   "source": [
    "np.mean(data[:,3])"
   ]
  },
  {
   "cell_type": "markdown",
   "metadata": {
    "id": "P_XB_odRJYCc",
    "slideshow": {
     "slide_type": "fragment"
    }
   },
   "source": [
    "The daily mean temperature in Stockholm over the last 200 years has been about 5.8 C."
   ]
  },
  {
   "cell_type": "markdown",
   "metadata": {
    "id": "7ZY3D6P3JYCc",
    "slideshow": {
     "slide_type": "slide"
    }
   },
   "source": [
    "### Standard deviation and variance\n",
    "Let's now compute the standard deviation, and variance of the temperature by these functions:"
   ]
  },
  {
   "cell_type": "code",
   "execution_count": null,
   "metadata": {
    "id": "mJlTrinGJYCc",
    "slideshow": {
     "slide_type": "fragment"
    }
   },
   "outputs": [],
   "source": [
    "print('std deviation is %.3e and the variance %.3e.' % (np.std(data[:,3]), np.var(data[:,3])))"
   ]
  },
  {
   "cell_type": "markdown",
   "metadata": {
    "id": "mlBMQ3tbJYCc",
    "slideshow": {
     "slide_type": "fragment"
    }
   },
   "source": [
    "### min and max\n",
    "The minimum and maximum values can be computed either through array methods or NumPy functions:"
   ]
  },
  {
   "cell_type": "code",
   "execution_count": null,
   "metadata": {
    "id": "6OW6hxMrJYCd",
    "slideshow": {
     "slide_type": "fragment"
    }
   },
   "outputs": [],
   "source": [
    "print('The lowest and highest daily temperatures are %.1fC and %.1fC.' % (data[:,3].min(), data[:,3].max()))\n",
    "print('The lowest and highest daily temperatures are %.1fC and %.1fC.' % (np.min(data[:,3]), np.max(data[:,3])))"
   ]
  },
  {
   "cell_type": "markdown",
   "metadata": {
    "id": "2TtcLJ-VJYCe",
    "slideshow": {
     "slide_type": "slide"
    }
   },
   "source": [
    "### Computations on subsets of arrays\n",
    "- Subsets of the data can be extracted from an array using indexing, fancy indexing, and other methods masking methods\n",
    "- We now cover additional methods to extract data from an array\n",
    "\n",
    "For example, let's go back to the temperature dataset:"
   ]
  },
  {
   "cell_type": "code",
   "execution_count": null,
   "metadata": {
    "id": "duTNWV4UJYCe",
    "slideshow": {
     "slide_type": "fragment"
    }
   },
   "outputs": [],
   "source": [
    "# On macOS and Linux uncomment the following line\n",
    "# !head -n 3 data/stockholm_td_adj.csv\n",
    "# On Windows use the following commands\n",
    "!type data\\stockholm_td_adj.csv"
   ]
  },
  {
   "cell_type": "markdown",
   "metadata": {
    "id": "3nXY40aMJYCe",
    "slideshow": {
     "slide_type": "fragment"
    }
   },
   "source": [
    "The dataformat is: year, month, day, daily average temperature\n",
    "\n",
    "If we are interested in the average temperature only in a particular month, say February, then we can create a index mask and use it to select only the data for that month using:"
   ]
  },
  {
   "cell_type": "markdown",
   "metadata": {
    "slideshow": {
     "slide_type": "slide"
    }
   },
   "source": [
    "### Other masking techniques\n",
    "Let's say we want to make sure that months are all between 1 and 12:"
   ]
  },
  {
   "cell_type": "code",
   "execution_count": null,
   "metadata": {
    "id": "NwB2Ha5WJYCe",
    "slideshow": {
     "slide_type": "fragment"
    }
   },
   "outputs": [],
   "source": [
    "months = np.unique(data[:,1]) # the month column takes values from 1 to 12\n",
    "print('months values are all amongst', months)"
   ]
  },
  {
   "cell_type": "markdown",
   "metadata": {
    "slideshow": {
     "slide_type": "fragment"
    }
   },
   "source": [
    "If one is interested in the mean temperature in February, a mask for that month can be created:"
   ]
  },
  {
   "cell_type": "code",
   "execution_count": null,
   "metadata": {
    "id": "iWU0uZqDQZqi",
    "slideshow": {
     "slide_type": "fragment"
    }
   },
   "outputs": [],
   "source": [
    "mask_feb = (data[:,1] == 2)\n",
    "print('The mean temperature in February is %.2fC.' % np.mean(data[mask_feb,3]))"
   ]
  },
  {
   "cell_type": "markdown",
   "metadata": {
    "slideshow": {
     "slide_type": "fragment"
    }
   },
   "source": [
    "This can also be done in single line, demonstrating the power of NumPy:"
   ]
  },
  {
   "cell_type": "code",
   "execution_count": null,
   "metadata": {
    "slideshow": {
     "slide_type": "fragment"
    }
   },
   "outputs": [],
   "source": [
    "print('The mean temperature in February is %.2fC.' % np.mean(data[(data[:,1] == 2), 3]))"
   ]
  },
  {
   "cell_type": "markdown",
   "metadata": {
    "id": "kuz8tlxmJYCf",
    "slideshow": {
     "slide_type": "slide"
    }
   },
   "source": [
    "### Calculations along axes of higher-dimensional data\n",
    "- When functions such as `min`, `max`, `sum`, etc. are applied to a multidimensional arrays, it is sometimes useful to apply the calculation to the entire array, and sometimes only on a row or column basis\n",
    "\n",
    "- Using the `axis` argument we can specify how these functions should behave: \n"
   ]
  },
  {
   "cell_type": "code",
   "execution_count": null,
   "metadata": {
    "id": "hY2Y-8rrJYCg",
    "slideshow": {
     "slide_type": "fragment"
    }
   },
   "outputs": [],
   "source": [
    "A = np.random.rand(3, 3)\n",
    "print('A random square array\\n', A)\n",
    "print('The global maximum is', np.max(A))\n",
    "print('The maximum in each column is', np.max(A, axis=0))\n",
    "print('The maximum in each row is', np.max(A, axis=1))"
   ]
  },
  {
   "cell_type": "markdown",
   "metadata": {
    "id": "tRaT2NECJYCh",
    "slideshow": {
     "slide_type": "fragment"
    }
   },
   "source": [
    "Many other functions and methods in the `ndarray` and `matrix` classes accept the same (optional) `axis` keyword argument"
   ]
  },
  {
   "cell_type": "markdown",
   "metadata": {
    "id": "3l6845LnJYCm",
    "slideshow": {
     "slide_type": "slide"
    }
   },
   "source": [
    "### Assignment and copies\n",
    "- To achieve high performance, assignments in NumPy usually do not copy the underlaying objects\n",
    "- Also, when objects are passed between functions, a reference is passed to avoid an excessive amount of memory copying\n",
    "- This behavior is very similar to lists and dictionaries\n",
    "\n",
    "Let's consider a simple assignment"
   ]
  },
  {
   "cell_type": "code",
   "execution_count": null,
   "metadata": {
    "id": "vLYPzJ4eJYCm",
    "slideshow": {
     "slide_type": "fragment"
    }
   },
   "outputs": [],
   "source": [
    "A = np.array([[1, 2], [3, 4]])\n",
    "print('A is a 2x2 array:\\n', A)\n",
    "B = A                            # Now B is referring to the same array data as A\n",
    "print('A is a 2x2 array:\\n', A)"
   ]
  },
  {
   "cell_type": "markdown",
   "metadata": {
    "slideshow": {
     "slide_type": "slide"
    }
   },
   "source": [
    "Now we make some changes to `B`:"
   ]
  },
  {
   "cell_type": "code",
   "execution_count": null,
   "metadata": {
    "id": "OMPB2Fs9JYCm",
    "slideshow": {
     "slide_type": "fragment"
    }
   },
   "outputs": [],
   "source": [
    "B[0, 0] = 10                     # Changing B affects A\n",
    "print('B after changing B_00 = 10:\\n', B)"
   ]
  },
  {
   "cell_type": "markdown",
   "metadata": {
    "slideshow": {
     "slide_type": "fragment"
    }
   },
   "source": [
    "Changes have also affected `A` as they are the same object!"
   ]
  },
  {
   "cell_type": "code",
   "execution_count": null,
   "metadata": {
    "id": "rUcQfT_zJYCn",
    "slideshow": {
     "slide_type": "fragment"
    }
   },
   "outputs": [],
   "source": [
    "print('A after changes made on B\\n', A)\n",
    "print(\"No surprise since A's and B's ids are identical:\", id(A), id(B))"
   ]
  },
  {
   "cell_type": "markdown",
   "metadata": {
    "id": "KUC5aHrYJYCn",
    "slideshow": {
     "slide_type": "slide"
    }
   },
   "source": [
    "### Copying arrays\n",
    "- If we want to change this behavior, so that when we get a new completely independent object `B` copied from `A`\n",
    "- This is done with the function `copy()`:"
   ]
  },
  {
   "cell_type": "code",
   "execution_count": null,
   "metadata": {
    "id": "UtXUXM4VJYCn",
    "slideshow": {
     "slide_type": "fragment"
    }
   },
   "outputs": [],
   "source": [
    "B = np.copy(A)\n",
    "print('A is a 2x2 array:\\n', A)\n",
    "print('B is a 2x2 array:\\n', B)"
   ]
  },
  {
   "cell_type": "markdown",
   "metadata": {
    "slideshow": {
     "slide_type": "slide"
    }
   },
   "source": [
    "Now, if we modify B, A is not affected"
   ]
  },
  {
   "cell_type": "code",
   "execution_count": null,
   "metadata": {
    "id": "i5acyCKZJYCn",
    "slideshow": {
     "slide_type": "fragment"
    }
   },
   "outputs": [],
   "source": [
    "B[0, 0] = -5\n",
    "print('B after changes made on B is:\\n', B)\n",
    "print('A after changes made on B is:\\n', A)"
   ]
  },
  {
   "cell_type": "code",
   "execution_count": null,
   "metadata": {
    "id": "034jA62XJYCn",
    "slideshow": {
     "slide_type": "fragment"
    }
   },
   "outputs": [],
   "source": [
    "print(\"No surprise since A's and B's ids are different:\", id(A), id(B))"
   ]
  },
  {
   "cell_type": "markdown",
   "metadata": {
    "id": "aWqWr0SKJYCo",
    "slideshow": {
     "slide_type": "slide"
    }
   },
   "source": [
    "### Iterating over array elements\n",
    "- we want to avoid iterating over the elements of arrays whenever we can\n",
    "- Iterations are slow compared to vectorized operations \n",
    "- In some cases, however, iterations are necessary\n",
    "\n",
    "For such cases, the Python `for` loop is the most convenient way to iterate over an array:"
   ]
  },
  {
   "cell_type": "code",
   "execution_count": null,
   "metadata": {
    "id": "E1hYfmA_JYCo",
    "slideshow": {
     "slide_type": "fragment"
    }
   },
   "outputs": [],
   "source": [
    "v = np.array([1, 2, 3, 4, 5, 6])\n",
    "for element in v[:-1]:\n",
    "    print(element, end=', ')\n",
    "print(v[-1])"
   ]
  },
  {
   "cell_type": "markdown",
   "metadata": {
    "slideshow": {
     "slide_type": "fragment"
    }
   },
   "source": [
    "When converted to a list, a multi-dimensional array becomes a list of arrays:"
   ]
  },
  {
   "cell_type": "code",
   "execution_count": null,
   "metadata": {
    "id": "rn0KhXMzJYCo",
    "slideshow": {
     "slide_type": "fragment"
    }
   },
   "outputs": [],
   "source": [
    "M = np.array([[1,2], [3,4]])\n",
    "listofM = list(M)\n",
    "print(listofM)"
   ]
  },
  {
   "cell_type": "markdown",
   "metadata": {
    "slideshow": {
     "slide_type": "slide"
    }
   },
   "source": [
    "If we iterate over a multi-dimensional array as here:"
   ]
  },
  {
   "cell_type": "code",
   "execution_count": null,
   "metadata": {
    "id": "rn0KhXMzJYCo",
    "slideshow": {
     "slide_type": "fragment"
    }
   },
   "outputs": [],
   "source": [
    "M = np.array([[1,2], [3,4]])\n",
    "for row in M:\n",
    "    print(\"row\", row)\n",
    "    \n",
    "    for element in row:\n",
    "        print(element)"
   ]
  },
  {
   "cell_type": "markdown",
   "metadata": {
    "slideshow": {
     "slide_type": "fragment"
    }
   },
   "source": [
    "We needed to iterate again as each iterator returns an object of N - 1 dimensions"
   ]
  },
  {
   "cell_type": "markdown",
   "metadata": {
    "id": "MqAU23t5JYCo",
    "slideshow": {
     "slide_type": "slide"
    }
   },
   "source": [
    "### Using `enumerate()`\n",
    "- When iterating over each element of an array, it is convenient to use the `enumerate` function to obtain both the element and its index in the `for` loop:"
   ]
  },
  {
   "cell_type": "code",
   "execution_count": null,
   "metadata": {
    "id": "Joh-WujGJYCp",
    "slideshow": {
     "slide_type": "fragment"
    }
   },
   "outputs": [],
   "source": [
    "for row_idx, row in enumerate(M):\n",
    "    print(\"row_idx\", row_idx, \"row\", row)\n",
    "    for col_idx, element in enumerate(row):\n",
    "        print(\"col_idx\", col_idx, \"element\", element)\n",
    "        M[row_idx, col_idx] = element ** 2                    # update array M: square each element"
   ]
  },
  {
   "cell_type": "markdown",
   "metadata": {
    "id": "MPgtvh0fJYCp",
    "slideshow": {
     "slide_type": "fragment"
    }
   },
   "source": [
    "Each element in M is now squared:"
   ]
  },
  {
   "cell_type": "code",
   "execution_count": null,
   "metadata": {
    "slideshow": {
     "slide_type": "fragment"
    }
   },
   "outputs": [],
   "source": [
    "M"
   ]
  },
  {
   "cell_type": "markdown",
   "metadata": {
    "id": "QdeNd5_sJYCq",
    "slideshow": {
     "slide_type": "slide"
    }
   },
   "source": [
    "### Using arrays in conditions\n",
    "When using arrays in conditions,for example `if` statements and other boolean expressions, one needs to use `any` or `all`, which requires that any or all elements in the array evalutes to `True`:"
   ]
  },
  {
   "cell_type": "code",
   "execution_count": null,
   "metadata": {
    "id": "BBeZb0nfJYCq",
    "slideshow": {
     "slide_type": "fragment"
    }
   },
   "outputs": [],
   "source": [
    "M"
   ]
  },
  {
   "cell_type": "code",
   "execution_count": null,
   "metadata": {
    "id": "4HjlHiM7JYCq",
    "slideshow": {
     "slide_type": "fragment"
    }
   },
   "outputs": [],
   "source": [
    "if (M > 5).any():\n",
    "    print(\"at least one element in M is larger than 5\")\n",
    "else:\n",
    "    print(\"no element in M is larger than 5\")"
   ]
  },
  {
   "cell_type": "code",
   "execution_count": null,
   "metadata": {
    "id": "C9y8KjBJJYCq",
    "slideshow": {
     "slide_type": "fragment"
    }
   },
   "outputs": [],
   "source": [
    "if (M > 5).all():\n",
    "    print(\"all elements in M are larger than 5\")\n",
    "else:\n",
    "    print(\"all elements in M are not larger than 5\")"
   ]
  },
  {
   "cell_type": "markdown",
   "metadata": {
    "id": "hZXmoUoWJYCh",
    "slideshow": {
     "slide_type": "slide"
    }
   },
   "source": [
    "### Reshaping, resizing, and stacking arrays\n",
    "- The shape of an NumPy array can be modified without copying the underlaying data, which makes it a fast operation even for large arrays\n",
    "\n",
    "Let's look at some examples:"
   ]
  },
  {
   "cell_type": "code",
   "execution_count": null,
   "metadata": {
    "id": "ZxcLWZbgJYCh",
    "slideshow": {
     "slide_type": "fragment"
    }
   },
   "outputs": [],
   "source": [
    "A"
   ]
  },
  {
   "cell_type": "code",
   "execution_count": null,
   "metadata": {
    "id": "UbgwUj4AJYCh",
    "slideshow": {
     "slide_type": "fragment"
    }
   },
   "outputs": [],
   "source": [
    "n, m = A.shape"
   ]
  },
  {
   "cell_type": "code",
   "execution_count": null,
   "metadata": {
    "id": "DfRpzTc6JYCh",
    "slideshow": {
     "slide_type": "fragment"
    }
   },
   "outputs": [],
   "source": [
    "B = A.reshape((1, n*m))\n",
    "B"
   ]
  },
  {
   "cell_type": "code",
   "execution_count": null,
   "metadata": {
    "id": "kGKbv2InJYCh",
    "slideshow": {
     "slide_type": "slide"
    }
   },
   "outputs": [],
   "source": [
    "B[0,0:5] = 5 # modify the array\n",
    "\n",
    "B"
   ]
  },
  {
   "cell_type": "code",
   "execution_count": null,
   "metadata": {
    "id": "-SOqaXLMJYCi",
    "slideshow": {
     "slide_type": "fragment"
    }
   },
   "outputs": [],
   "source": [
    "A # and the original variable is also changed. B is only a different view of the same data"
   ]
  },
  {
   "cell_type": "markdown",
   "metadata": {
    "id": "fdn3qxVJJYCi",
    "slideshow": {
     "slide_type": "slide"
    }
   },
   "source": [
    "### Flattening arrays\n",
    "We can also use the function `flatten()` to make a higher-dimensional array into a vector. But this function creates a copy of the data."
   ]
  },
  {
   "cell_type": "code",
   "execution_count": null,
   "metadata": {
    "id": "jFvkKY7PJYCi",
    "slideshow": {
     "slide_type": "fragment"
    }
   },
   "outputs": [],
   "source": [
    "B = A.flatten()\n",
    "B"
   ]
  },
  {
   "cell_type": "code",
   "execution_count": null,
   "metadata": {
    "id": "DeQPtpNaJYCi",
    "slideshow": {
     "slide_type": "fragment"
    }
   },
   "outputs": [],
   "source": [
    "B[0:5] = 10\n",
    "B"
   ]
  },
  {
   "cell_type": "code",
   "execution_count": null,
   "metadata": {
    "id": "5YPmSEq1JYCi",
    "slideshow": {
     "slide_type": "fragment"
    }
   },
   "outputs": [],
   "source": [
    "A # now A has not changed, because B's data is a copy of A's, not referring to the same data"
   ]
  },
  {
   "cell_type": "markdown",
   "metadata": {
    "id": "MEDFVKJkJYCk",
    "slideshow": {
     "slide_type": "slide"
    }
   },
   "source": [
    "### Stacking and repeating arrays\n",
    "- Using functions `repeat`, `tile`, `vstack`, `hstack`, and `concatenate` we can create larger vectors and matrices from smaller ones\n",
    "\n",
    "Let's look at `tile()` and `repeat()`:"
   ]
  },
  {
   "cell_type": "code",
   "execution_count": null,
   "metadata": {
    "id": "tte8wW_2JYCk",
    "slideshow": {
     "slide_type": "fragment"
    }
   },
   "outputs": [],
   "source": [
    "a = np.array([[1, 2], [3, 4]])"
   ]
  },
  {
   "cell_type": "code",
   "execution_count": null,
   "metadata": {
    "id": "BMe2Ju2gJYCk",
    "slideshow": {
     "slide_type": "fragment"
    }
   },
   "outputs": [],
   "source": [
    "# repeat each element 3 times\n",
    "np.repeat(a, 3)"
   ]
  },
  {
   "cell_type": "code",
   "execution_count": null,
   "metadata": {
    "id": "iXAU0Ks8JYCl",
    "slideshow": {
     "slide_type": "fragment"
    }
   },
   "outputs": [],
   "source": [
    "# tile the matrix 3 times \n",
    "np.tile(a, 3)"
   ]
  },
  {
   "cell_type": "markdown",
   "metadata": {
    "id": "4lnqP01eJYCl",
    "slideshow": {
     "slide_type": "slide"
    }
   },
   "source": [
    "### Concatenating arrays\n",
    "Arrays can be concatenated togother using a function with the same name:"
   ]
  },
  {
   "cell_type": "code",
   "execution_count": null,
   "metadata": {
    "id": "eI7Al0PZJYCl",
    "slideshow": {
     "slide_type": "fragment"
    }
   },
   "outputs": [],
   "source": [
    "a = np.array([[1, 2], [3, 4]])\n",
    "b = np.array([[5, 6]])"
   ]
  },
  {
   "cell_type": "code",
   "execution_count": null,
   "metadata": {
    "id": "Ik9YNvhZJYCl",
    "slideshow": {
     "slide_type": "fragment"
    }
   },
   "outputs": [],
   "source": [
    "np.concatenate((a, b), axis=0)"
   ]
  },
  {
   "cell_type": "code",
   "execution_count": null,
   "metadata": {
    "id": "dBvSm9bJJYCl",
    "slideshow": {
     "slide_type": "fragment"
    }
   },
   "outputs": [],
   "source": [
    "np.concatenate((a, b.T), axis=1)"
   ]
  },
  {
   "cell_type": "markdown",
   "metadata": {
    "id": "WvMF6MkDJYCl",
    "slideshow": {
     "slide_type": "slide"
    }
   },
   "source": [
    "### Arrays can be stacked horizontally or vertically\n",
    "Using `hstack()` and `vstack()`, arrays can be stacked as follows:"
   ]
  },
  {
   "cell_type": "code",
   "execution_count": null,
   "metadata": {
    "slideshow": {
     "slide_type": "fragment"
    }
   },
   "outputs": [],
   "source": [
    "a = np.array([[1, 2], [3, 4]])\n",
    "b = np.array([[5, 6]])"
   ]
  },
  {
   "cell_type": "code",
   "execution_count": null,
   "metadata": {
    "id": "xM7bj6A_JYCl",
    "slideshow": {
     "slide_type": "fragment"
    }
   },
   "outputs": [],
   "source": [
    "np.vstack((a, b))"
   ]
  },
  {
   "cell_type": "code",
   "execution_count": null,
   "metadata": {
    "id": "2ucJIsfAJYCl",
    "slideshow": {
     "slide_type": "fragment"
    }
   },
   "outputs": [],
   "source": [
    "np.hstack((a, b.T))"
   ]
  },
  {
   "cell_type": "markdown",
   "metadata": {
    "slideshow": {
     "slide_type": "slide"
    }
   },
   "source": [
    "### Stacking along a new axis"
   ]
  },
  {
   "cell_type": "code",
   "execution_count": null,
   "metadata": {
    "slideshow": {
     "slide_type": "fragment"
    }
   },
   "outputs": [],
   "source": [
    "arr1 = np.array([1, 2, 3])\n",
    "arr2 = np.array([4, 5, 6])\n",
    "\n",
    "stacked_vertical = np.vstack((arr1, arr2))\n",
    "print('vertical -> new shape:', stacked_vertical.shape, '\\n', stacked_vertical)\n",
    "\n",
    "stacked_horizontal = np.hstack((arr1, arr2))\n",
    "print('horizontal -> new shape:', stacked_horizontal.shape, '\\n', stacked_horizontal)\n",
    "\n",
    "stacked_new_axis = np.stack((arr1, arr2), axis=1)\n",
    "print('new axis -> new shape:', stacked_new_axis.shape, '\\n', stacked_new_axis)"
   ]
  },
  {
   "cell_type": "markdown",
   "metadata": {
    "slideshow": {
     "slide_type": "slide"
    }
   },
   "source": [
    "### Key Points\n",
    "- As lists and dictionaries, arrays assignment does not copy the array\n",
    "- Avoid using for loops on arrays\n",
    "    - when necessary, use enumerate\n",
    "- Slicing and masking are powerful techniques for avoiding loops\n",
    "- NumPy arrays support basic statistical operations\n",
    "- The `axis` keyword can select specific axes\n",
    "- Arrays can be concatenated, tiled, repeated, and stacked\n"
   ]
  },
  {
   "cell_type": "markdown",
   "metadata": {
    "id": "4vj9RX7pm-0J",
    "slideshow": {
     "slide_type": "slide"
    }
   },
   "source": [
    "### Further Readings\n",
    "- NumPy reference [manual](https://numpy.org/doc/stable/reference/)"
   ]
  },
  {
   "cell_type": "markdown",
   "metadata": {
    "slideshow": {
     "slide_type": "slide"
    }
   },
   "source": [
    "### What's Next?\n",
    "- Complete the exercises in this associated exercise notebook [X-16-NumPy3.ipynb](X-16-NumPy3.ipynb)\n",
    "- Next notebook is [N-17-Matplotlib.ipynb](N-17-Matplotlib.ipynb)"
   ]
  }
 ],
 "metadata": {
  "celltoolbar": "Slideshow",
  "colab": {
   "collapsed_sections": [],
   "name": "Notebook10_Numpy_intermediate.ipynb",
   "provenance": [],
   "toc_visible": true
  },
  "kernelspec": {
   "display_name": "Python [conda env:rise] *",
   "language": "python",
   "name": "conda-env-rise-py"
  },
  "language_info": {
   "codemirror_mode": {
    "name": "ipython",
    "version": 3
   },
   "file_extension": ".py",
   "mimetype": "text/x-python",
   "name": "python",
   "nbconvert_exporter": "python",
   "pygments_lexer": "ipython3",
   "version": "3.12.7"
  }
 },
 "nbformat": 4,
 "nbformat_minor": 4
}

{
 "cells": [
  {
   "cell_type": "markdown",
   "id": "08d3a007",
   "metadata": {
    "slideshow": {
     "slide_type": "-"
    }
   },
   "source": [
    "<img src=\"images/inmas.png\" width=130x align='right' />\n",
    "\n",
    "# Exercises 22 - Virtual Environments in Anaconda\n",
    "    \n",
    "This notebook requires that you concurrently use a terminal. Use virtual desktops if possible (e.g., Windows Key+Ctl+arrows).\n",
    "\n",
    "### Prerequisite\n",
    "Notebook 22"
   ]
  },
  {
   "cell_type": "markdown",
   "id": "4098cea4",
   "metadata": {},
   "source": [
    "### 1.\n",
    "This exercise will create the environment needed for the next notebook on using the OpenAI API.\n",
    "\n",
    "Using a terminal and the command line, create a new environment called *chatgpt*:\n",
    "- Make sure that the environment is visible in Jupyter\n",
    "- Add the following packages: openai, playsound (version 1.2.2 is needed), and pvrecorder\n",
    "    - some of those packages might require a `pip install` rather than `conda`\n",
    "    - to specify the version in pip: `pip install package==VERSION`\n",
    "- Test if you can load these modules from an empty Jupyter Notebook "
   ]
  },
  {
   "cell_type": "markdown",
   "id": "d6ca9afb",
   "metadata": {},
   "source": [
    "### 2.\n",
    "List two ways by which you can check if package *soundscope* is installed in\n",
    "- the base environment\n",
    "- the *chatgpt* environment you just created"
   ]
  },
  {
   "cell_type": "markdown",
   "id": "7f679a2a",
   "metadata": {},
   "source": [
    "### 3.\n",
    "Can you rename an environment? If so, what is the syntax?"
   ]
  }
 ],
 "metadata": {
  "celltoolbar": "Slideshow",
  "kernelspec": {
   "display_name": "Python 3 (ipykernel)",
   "language": "python",
   "name": "python3"
  },
  "language_info": {
   "codemirror_mode": {
    "name": "ipython",
    "version": 3
   },
   "file_extension": ".py",
   "mimetype": "text/x-python",
   "name": "python",
   "nbconvert_exporter": "python",
   "pygments_lexer": "ipython3",
   "version": "3.11.7"
  }
 },
 "nbformat": 4,
 "nbformat_minor": 5
}

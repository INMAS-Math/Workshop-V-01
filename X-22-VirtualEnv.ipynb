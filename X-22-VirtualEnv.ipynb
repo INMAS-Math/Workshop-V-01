{
 "cells": [
  {
   "cell_type": "markdown",
   "id": "08d3a007",
   "metadata": {
    "slideshow": {
     "slide_type": "-"
    }
   },
   "source": [
    "<img src=\"images/inmas.png\" width=130x align='right' />\n",
    "\n",
    "# Exercises 22 - Virtual Environments in Anaconda\n",
    "    \n",
    "This notebook requires that you concurrently use a terminal. Use virtual desktops if possible (e.g., Windows Key+Ctl+arrows).\n",
    "\n",
    "### Prerequisite\n",
    "Notebook 22\n",
    "\n",
    "----"
   ]
  },
  {
   "cell_type": "markdown",
   "id": "4098cea4",
   "metadata": {},
   "source": [
    "### 1.\n",
    "This exercise will create the environment needed for the next notebook on using the OpenAI API.\n",
    "\n",
    "Using a terminal and the command line, create a new environment called *chatgpt*:\n",
    "- Make sure that the environment is visible in Jupyter:\n",
    "    - `conda install nb_conda_kernels` in *base* or *rise*\n",
    "    - `conda create -n chatgpt` from *base* or *rise*\n",
    "    - `conda activate chatgpt`\n",
    "    - `conda install ipykernel` in *chatgpt* for the environment to be seen\n",
    "    - refresh the page on your browser\n",
    "- Add the following packages: openai, playsound3, and pvrecorder from `conda-forge` or elsewhere\n",
    "    - `conda install openai` other packages are not on conda-forge and will require `pip`\n",
    "    - `pip` requires the `expat` package to be present (`conda list expat` or `conda install expat` if not present)\n",
    "    - we need version 1.2.2 of playsound. This is done using `pip install playsound3`    \n",
    "    - `conda install playsound3`\n",
    "- Test if you can import the `playsound3` module from an empty Jupyter Notebook\n",
    "    - Test with the *base* kernel (*Kernel -> Change kernel -> Python [conda env:base]*)\n",
    "    - Then try with the *chatgpt* kernel"
   ]
  },
  {
   "cell_type": "markdown",
   "id": "d6ca9afb",
   "metadata": {},
   "source": [
    "### 2.\n",
    "List two ways by which you can check if package *soundscope* is installed in\n",
    "- the base environment\n",
    "- the *chatgpt* environment you just created"
   ]
  },
  {
   "cell_type": "markdown",
   "id": "7f679a2a",
   "metadata": {},
   "source": [
    "### 3.\n",
    "Can you rename an environment? If so, what is the syntax?"
   ]
  }
 ],
 "metadata": {
  "celltoolbar": "Slideshow",
  "kernelspec": {
   "display_name": "Python [conda env:rise] *",
   "language": "python",
   "name": "conda-env-rise-py"
  },
  "language_info": {
   "codemirror_mode": {
    "name": "ipython",
    "version": 3
   },
   "file_extension": ".py",
   "mimetype": "text/x-python",
   "name": "python",
   "nbconvert_exporter": "python",
   "pygments_lexer": "ipython3",
   "version": "3.12.7"
  }
 },
 "nbformat": 4,
 "nbformat_minor": 5
}

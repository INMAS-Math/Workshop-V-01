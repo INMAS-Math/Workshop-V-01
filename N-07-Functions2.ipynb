{
 "cells": [
  {
   "cell_type": "markdown",
   "metadata": {
    "id": "SA6NTppk6RHc",
    "slideshow": {
     "slide_type": "slide"
    }
   },
   "source": [
    "<img src=\"images/inmas.png\" width=130x align=right />\n",
    "\n",
    "# Notebook 07 - Functions 2\n",
    "\n",
    "\n",
    "Material covered in this notebook:\n",
    "- the concept of passing by assignment\n",
    "- assignment of functions\n",
    "- lambda expressions and their use\n",
    "- nested functions\n",
    "\n",
    "### Prerequisite\n",
    "Notebook 06"
   ]
  },
  {
   "cell_type": "markdown",
   "metadata": {
    "slideshow": {
     "slide_type": "slide"
    }
   },
   "source": [
    "### Assignments\n",
    "How are values preserved between assignments. Let's look at the following code:"
   ]
  },
  {
   "cell_type": "code",
   "execution_count": null,
   "metadata": {
    "slideshow": {
     "slide_type": "fragment"
    }
   },
   "outputs": [],
   "source": [
    "a, b = 1, 2\n",
    "c = a\n",
    "a = 3\n",
    "print(a, b, c)\n",
    "print(id(a), id(b), id(c))"
   ]
  },
  {
   "cell_type": "markdown",
   "metadata": {
    "slideshow": {
     "slide_type": "fragment"
    }
   },
   "source": [
    "Notice how  the assignment\n",
    "```python\n",
    "c = a\n",
    "```\n",
    "just makes `c` have the same value as `a`. They are two different variables as shown by the `id()` built-in function."
   ]
  },
  {
   "cell_type": "markdown",
   "metadata": {
    "slideshow": {
     "slide_type": "slide"
    }
   },
   "source": [
    "### Two examples with lists"
   ]
  },
  {
   "cell_type": "code",
   "execution_count": null,
   "metadata": {
    "slideshow": {
     "slide_type": "fragment"
    }
   },
   "outputs": [],
   "source": [
    "a, b = [1], [2]\n",
    "c = a\n",
    "a = [3]\n",
    "print(a, b, c)\n",
    "print(id(a), id(b), id(c))"
   ]
  },
  {
   "cell_type": "markdown",
   "metadata": {
    "slideshow": {
     "slide_type": "fragment"
    }
   },
   "source": [
    "Variables `a`, `b`, and `c` are three distinct lists"
   ]
  },
  {
   "cell_type": "code",
   "execution_count": null,
   "metadata": {
    "slideshow": {
     "slide_type": "fragment"
    }
   },
   "outputs": [],
   "source": [
    "a, b, c = [], [], []\n",
    "a.append(1)\n",
    "b.append(2)\n",
    "c = a\n",
    "a[0] = 3\n",
    "print(a, b, c)\n",
    "print(id(a), id(b), id(c))"
   ]
  },
  {
   "cell_type": "markdown",
   "metadata": {
    "slideshow": {
     "slide_type": "fragment"
    }
   },
   "source": [
    "This time, variables `a` and `c` point to the same list, as shown by the `id()` identifier"
   ]
  },
  {
   "cell_type": "markdown",
   "metadata": {
    "slideshow": {
     "slide_type": "slide"
    }
   },
   "source": [
    "### Passing by assignement\n",
    "If you are familiar with C, or C++, then passing by value, pointer, and reference are concepts that you should know. A common confusion while coming to Python is that none of these concepts exist.\n",
    "\n",
    "In Python functions, arguments are passed by assignment"
   ]
  },
  {
   "cell_type": "code",
   "execution_count": null,
   "metadata": {
    "slideshow": {
     "slide_type": "fragment"
    }
   },
   "outputs": [],
   "source": [
    "def times2(a):\n",
    "    a *= 2\n",
    "    return a\n",
    "\n",
    "a = 2\n",
    "b = times2(a)\n",
    "print(a, b)"
   ]
  },
  {
   "cell_type": "markdown",
   "metadata": {
    "slideshow": {
     "slide_type": "fragment"
    }
   },
   "source": [
    "Notice that the value of `a` hasn't changed. The function has a new copy of the value of 2 assigned to a local variable also called `a`."
   ]
  },
  {
   "cell_type": "markdown",
   "metadata": {
    "slideshow": {
     "slide_type": "slide"
    }
   },
   "source": [
    "### Same example with a list\n",
    "Let's reuse the very same `times2` function, but this time with a list:"
   ]
  },
  {
   "cell_type": "code",
   "execution_count": null,
   "metadata": {
    "slideshow": {
     "slide_type": "fragment"
    }
   },
   "outputs": [],
   "source": [
    "def times2(a):\n",
    "    a *= 2\n",
    "    return a\n",
    "\n",
    "a = [4]\n",
    "b = times2(a)\n",
    "print(a, b)\n",
    "print(id(a), id(b))"
   ]
  },
  {
   "cell_type": "markdown",
   "metadata": {
    "slideshow": {
     "slide_type": "fragment"
    }
   },
   "source": [
    "This time, `a` and `b` are the same list. Make sure you understand what happened. This will save you a lot of headaches!\n",
    "\n",
    "This example also demonstrate the power of Python in overloading functions. This can sometimes be a source of unforeseen behavior as functions will swallow anything for which the operations are defined."
   ]
  },
  {
   "cell_type": "markdown",
   "metadata": {
    "slideshow": {
     "slide_type": "slide"
    }
   },
   "source": [
    "### Assignment with functions\n",
    "A function can be assigned to a variable. In essence, it creates a new name for the same function. The assignment is done with the function name without the `()` parentheses.\n",
    "\n",
    "Let's look at an example where we pass an existing function to another function: "
   ]
  },
  {
   "cell_type": "code",
   "execution_count": null,
   "metadata": {
    "slideshow": {
     "slide_type": "fragment"
    }
   },
   "outputs": [],
   "source": [
    "import math as m\n",
    "def apply(func, target):\n",
    "    return func(target)\n",
    "\n",
    "print(apply(m.sin, m.pi/2))\n",
    "execute = apply\n",
    "print(execute(m.cos, m.pi))\n",
    "print('execute is of type', type(execute))"
   ]
  },
  {
   "cell_type": "markdown",
   "metadata": {
    "slideshow": {
     "slide_type": "fragment"
    }
   },
   "source": [
    "This capability is handy when the behavior of the program needs to be changed, for example, in the case where the required algorithm depends on the user's input"
   ]
  },
  {
   "cell_type": "markdown",
   "metadata": {
    "slideshow": {
     "slide_type": "slide"
    }
   },
   "source": [
    "### Lambda expressions (inline functions)\n",
    " A lambda function is a small function that can be passed as an expression. It can take any number of arguments, but can only have one expression. The syntax is\n",
    "\n",
    "   `lambda` *arglist : expression*\n",
    " \n",
    "A lambda expression can optionally be associated to a name through an assignment operator. Here are some examples:"
   ]
  },
  {
   "cell_type": "code",
   "execution_count": null,
   "metadata": {
    "slideshow": {
     "slide_type": "fragment"
    }
   },
   "outputs": [],
   "source": [
    "Max = lambda a, b : a if(a > b) else b\n",
    "\n",
    "Max(1, 2)"
   ]
  },
  {
   "cell_type": "markdown",
   "metadata": {
    "slideshow": {
     "slide_type": "slide"
    }
   },
   "source": [
    "### lambda expressions are small functions\n",
    "The main use of lambda expressions is to quickly pass an algorithm as an argument to a function instead defining a function. We will see specific examples shortly.\n",
    "\n",
    "When named, lambda expressions can be used just as functions:"
   ]
  },
  {
   "cell_type": "code",
   "execution_count": null,
   "metadata": {
    "slideshow": {
     "slide_type": "fragment"
    }
   },
   "outputs": [],
   "source": [
    "def mul_10(num):\n",
    "    return num * 10\n",
    "\n",
    "mul_10(5)"
   ]
  },
  {
   "cell_type": "code",
   "execution_count": null,
   "metadata": {
    "slideshow": {
     "slide_type": "fragment"
    }
   },
   "outputs": [],
   "source": [
    "lambda_mul_10 = lambda x: x * 10\n",
    "\n",
    "print(type(lambda_mul_10))\n",
    "lambda_mul_10(5)"
   ]
  },
  {
   "cell_type": "markdown",
   "metadata": {
    "slideshow": {
     "slide_type": "slide"
    }
   },
   "source": [
    "### Passing lambda expressions as argument\n",
    "As we mentionned, lambda expressions can be passed as argument to another function. This is often done for performance reasons as the receiving function is ingesting the algorithm instead of being given a handle to an external function. Here's an example:"
   ]
  },
  {
   "cell_type": "code",
   "execution_count": null,
   "metadata": {
    "slideshow": {
     "slide_type": "fragment"
    }
   },
   "outputs": [],
   "source": [
    "def func_final(x, y, func, z):\n",
    "    print(x * y * func(z))\n",
    "\n",
    "func_final(10, 10, lambda x: x * 1000, 2)"
   ]
  },
  {
   "cell_type": "markdown",
   "metadata": {
    "id": "chyJ9TZS6RH3",
    "slideshow": {
     "slide_type": "slide"
    }
   },
   "source": [
    "### Using lambda functions in filter, map, and reduce\n",
    "`lambda` expressions are generally used when we need a function temporarily for a short period of time. They are often used inside the functions `filter`, `map` and `reduce`."
   ]
  },
  {
   "cell_type": "code",
   "execution_count": null,
   "metadata": {
    "slideshow": {
     "slide_type": "fragment"
    }
   },
   "outputs": [],
   "source": [
    "items = [1, 2, 3, 4, 5]\n",
    "squared = list(map(lambda x: x**2, items))\n",
    "squared"
   ]
  },
  {
   "cell_type": "code",
   "execution_count": null,
   "metadata": {
    "colab": {
     "base_uri": "https://localhost:8080/"
    },
    "executionInfo": {
     "elapsed": 4,
     "status": "ok",
     "timestamp": 1634608290875,
     "user": {
      "displayName": "Shinhae Park",
      "photoUrl": "https://lh3.googleusercontent.com/a/default-user=s64",
      "userId": "11307119081955472096"
     },
     "user_tz": 300
    },
    "id": "KXWWDUZC6RH5",
    "outputId": "a00947e5-b938-45ad-ba3b-e197bd761073",
    "slideshow": {
     "slide_type": "fragment"
    }
   },
   "outputs": [],
   "source": [
    "from functools import reduce\n",
    "product = reduce((lambda x, y: x * y), [1, 2, 3, 4, 5])\n",
    "product"
   ]
  },
  {
   "cell_type": "markdown",
   "metadata": {
    "slideshow": {
     "slide_type": "fragment"
    }
   },
   "source": [
    "Can you figure out what the `map` and `reduce` functions are doing?"
   ]
  },
  {
   "cell_type": "markdown",
   "metadata": {
    "id": "kcxr0MRv6RH2",
    "slideshow": {
     "slide_type": "slide"
    }
   },
   "source": [
    "### Nested functions (closure)\n",
    "In some cases, one could need to define functions within functions and return a handle to them\n",
    "\n",
    "Think of this as a function factory"
   ]
  },
  {
   "cell_type": "code",
   "execution_count": null,
   "metadata": {
    "colab": {
     "base_uri": "https://localhost:8080/"
    },
    "executionInfo": {
     "elapsed": 195,
     "status": "ok",
     "timestamp": 1634608283304,
     "user": {
      "displayName": "Shinhae Park",
      "photoUrl": "https://lh3.googleusercontent.com/a/default-user=s64",
      "userId": "11307119081955472096"
     },
     "user_tz": 300
    },
    "id": "SdH2eTOM6RH2",
    "outputId": "2a65e1f4-c58b-4c84-aa64-98b6b7883ebf",
    "scrolled": true,
    "slideshow": {
     "slide_type": "fragment"
    }
   },
   "outputs": [],
   "source": [
    "def calc(a = 3, b = 5):   # Outer enclosing function\n",
    "    def mul_add(x):       # The nested function\n",
    "        return a * x + b  # Use nonlocal variables a and b\n",
    "    return mul_add        # returns the nested function\n",
    " \n",
    "c = calc(1, 0)\n",
    "print(c(1), c(2), c(3), c(4), c(5))"
   ]
  },
  {
   "cell_type": "markdown",
   "metadata": {
    "slideshow": {
     "slide_type": "slide"
    }
   },
   "source": [
    "### Scope of variables in nested functions\n",
    "Variables defined in functions have only local scope to the function itself"
   ]
  },
  {
   "cell_type": "code",
   "execution_count": null,
   "metadata": {
    "slideshow": {
     "slide_type": "fragment"
    }
   },
   "outputs": [],
   "source": [
    "def my_function(a, b):\n",
    "    def my_nested_function(c, d):\n",
    "        print(\"my_nested_function variables:\")         # Printing all variables in the scope of the function\n",
    "        for symbol, value in locals().items():\n",
    "            print (\"    %s = %r \" % (symbol, value))\n",
    "        return c + d\n",
    "\n",
    "    print(\"my_function variables are:\")                # Printing all variables in the scope of the function\n",
    "    for symbol, value in locals().items():\n",
    "        print (\"    %s = %r \"%(symbol, value))\n",
    "\n",
    "    x = a * b * my_nested_function(a+1, b+2)\n",
    "    return x\n",
    "\n",
    "x, y = 10, 2                                           # Call from the main program\n",
    "print('The output from my function is', my_function(x, y))"
   ]
  },
  {
   "cell_type": "markdown",
   "metadata": {
    "slideshow": {
     "slide_type": "slide"
    }
   },
   "source": [
    "### Key Points\n",
    "- Functions can be assigned just like variables\n",
    "- lambda expressions are small functions that are typically passed to other functions\n",
    "- Nested functions can be used as function factories\n"
   ]
  },
  {
   "cell_type": "markdown",
   "metadata": {
    "slideshow": {
     "slide_type": "slide"
    }
   },
   "source": [
    "### What's Next?\n",
    "- Complete the exercises in this associated exercise notebook [X-07-Functions2.ipynb](X-07-Functions2.ipynb)\n",
    "- Next notebook is [N-08-InputOutput.ipynb](N-08-InputOutput.ipynb)"
   ]
  }
 ],
 "metadata": {
  "celltoolbar": "Slideshow",
  "colab": {
   "collapsed_sections": [],
   "name": "Notebook8_Functions.ipynb",
   "provenance": [],
   "toc_visible": true
  },
  "kernelspec": {
   "display_name": "Python 3 (ipykernel)",
   "language": "python",
   "name": "python3"
  },
  "language_info": {
   "codemirror_mode": {
    "name": "ipython",
    "version": 3
   },
   "file_extension": ".py",
   "mimetype": "text/x-python",
   "name": "python",
   "nbconvert_exporter": "python",
   "pygments_lexer": "ipython3",
   "version": "3.11.7"
  }
 },
 "nbformat": 4,
 "nbformat_minor": 1
}

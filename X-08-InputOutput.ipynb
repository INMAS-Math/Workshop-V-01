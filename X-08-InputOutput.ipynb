{
 "cells": [
  {
   "cell_type": "markdown",
   "metadata": {},
   "source": [
    "<img src=\"images/inmas.png\" width=130x align=right />\n",
    "\n",
    "# Exercises 08 - Input and Output\n",
    "\n",
    "\n",
    "### Prerequisite\n",
    "Notebook 08\n",
    "\n",
    "----"
   ]
  },
  {
   "cell_type": "markdown",
   "metadata": {},
   "source": [
    "### 1.\n",
    "\n",
    "Using\n",
    "```\n",
    "filename = 'data/sample.txt'\n",
    "```\n",
    "\n",
    "Open the file, but this time, using the absolute path, i.e., the one starting with the root directory ('/'). (Hint: use os.path to find it.)\n",
    "\n",
    "Then print the first seven characters of the file. Make sure the file is closed by the construct you are using."
   ]
  },
  {
   "cell_type": "code",
   "execution_count": null,
   "metadata": {},
   "outputs": [],
   "source": []
  },
  {
   "cell_type": "markdown",
   "metadata": {},
   "source": [
    "### 2.\n",
    "\n",
    "Open the *biostats.csv* file in the *data* folder providing the named argument `delimiter= '\\t'` to the `csv.reader()` function. Print its contents."
   ]
  },
  {
   "cell_type": "code",
   "execution_count": null,
   "metadata": {},
   "outputs": [],
   "source": []
  },
  {
   "cell_type": "markdown",
   "metadata": {},
   "source": [
    "### 3.\n",
    "\n",
    "Open the *biostats.csv* file using pandas. What happens? How do you fix it?"
   ]
  },
  {
   "cell_type": "code",
   "execution_count": null,
   "metadata": {},
   "outputs": [],
   "source": []
  },
  {
   "cell_type": "markdown",
   "metadata": {},
   "source": [
    "### 4.\n",
    "\n",
    "Create a file called *sample2.txt* within the data folder that contains the two lines 'Hello' and 'World!'.\n",
    "\n",
    "```python\n",
    "# Writing file using write()\n",
    "lines = ['Hello', 'World!']\n",
    "\n",
    "with open(\"data/sample2.txt\", 'w') as f:\n",
    "    ...\n",
    "```"
   ]
  },
  {
   "cell_type": "markdown",
   "metadata": {},
   "source": []
  },
  {
   "cell_type": "markdown",
   "metadata": {},
   "source": [
    "### 5.\n",
    "\n",
    "Open *sample2.txt* and print its contents to see what the code in the previous cell did. Number each line at the beginning."
   ]
  },
  {
   "cell_type": "code",
   "execution_count": null,
   "metadata": {},
   "outputs": [],
   "source": []
  },
  {
   "cell_type": "markdown",
   "metadata": {},
   "source": [
    "### 6.\n",
    "\n",
    "Read the file *data/sample.txt* and convert all characters to uppercase. Then write the results to a file *data/sample3.txt* using `with` statement."
   ]
  },
  {
   "cell_type": "code",
   "execution_count": null,
   "metadata": {},
   "outputs": [],
   "source": []
  },
  {
   "cell_type": "markdown",
   "metadata": {},
   "source": [
    "### 7.\n",
    "- Create a function that counts the number of times a certain word appears in a text file.\n",
    "- Use it to count the number of times the word *Python* appears in all notebooks in this directory (all files starting with 'N-'). (Hint: use the `glob` module)"
   ]
  },
  {
   "cell_type": "code",
   "execution_count": null,
   "metadata": {},
   "outputs": [],
   "source": []
  },
  {
   "cell_type": "markdown",
   "metadata": {},
   "source": [
    "### 8.*\n",
    "Given the following lists of data:"
   ]
  },
  {
   "cell_type": "code",
   "execution_count": null,
   "metadata": {},
   "outputs": [],
   "source": [
    "data0 = [[0, 1, 2, 3, 4, 5, 6, 7, 8, 9, 10],\n",
    "         [1e-4, 0.124, .2655, .369, .4357686, .5293, .672435, .753878, .83432, .91233, 1.004]]"
   ]
  },
  {
   "cell_type": "markdown",
   "metadata": {},
   "source": [
    "- Save the list data0 to a file called *mydata.dat*.\n",
    "- Then read the data back to a different list called data1.\n",
    "- Compare data0 with data1."
   ]
  },
  {
   "cell_type": "code",
   "execution_count": null,
   "metadata": {},
   "outputs": [],
   "source": []
  }
 ],
 "metadata": {
  "colab": {
   "collapsed_sections": [],
   "name": "Notebook5_Input_Output.ipynb",
   "provenance": []
  },
  "kernelspec": {
   "display_name": "Python 3 (ipykernel)",
   "language": "python",
   "name": "python3"
  },
  "language_info": {
   "codemirror_mode": {
    "name": "ipython",
    "version": 3
   },
   "file_extension": ".py",
   "mimetype": "text/x-python",
   "name": "python",
   "nbconvert_exporter": "python",
   "pygments_lexer": "ipython3",
   "version": "3.11.7"
  }
 },
 "nbformat": 4,
 "nbformat_minor": 1
}

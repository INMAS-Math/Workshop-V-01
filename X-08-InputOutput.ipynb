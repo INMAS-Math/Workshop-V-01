{
 "cells": [
  {
   "cell_type": "markdown",
   "metadata": {
    "id": "A7h_kPcP8zaU"
   },
   "source": [
    "<img src=\"images/inmas.png\" width=130x align=right />\n",
    "\n",
    "# Exercises 08 - Input and Output\n",
    "\n",
    "\n",
    "### Prerequisite\n",
    "Notebooks 08"
   ]
  },
  {
   "cell_type": "markdown",
   "metadata": {
    "id": "3XP-CdD71gSF"
   },
   "source": [
    "### 1.\n",
    "\n",
    "Using\n",
    "```\n",
    "filename = 'data/sample.txt'\n",
    "```\n",
    "\n",
    "Open the file, and this time, using the absolute path, i.e., the one starting with the root directory ('/').\n",
    "\n",
    "Then print the first seven characters of the file. Make sure the file is closed by the construct you are using."
   ]
  },
  {
   "cell_type": "code",
   "execution_count": null,
   "metadata": {
    "id": "2wS3dPpLYGyV"
   },
   "outputs": [],
   "source": []
  },
  {
   "cell_type": "markdown",
   "metadata": {
    "id": "AxpWhPXfX-GA"
   },
   "source": [
    "### 2.\n",
    "\n",
    "Open the *biostats.csv* file in the *data* folder providing the named argument `delimiter= '\\t'` to the `csv.reader()` function."
   ]
  },
  {
   "cell_type": "code",
   "execution_count": null,
   "metadata": {
    "id": "1z8MsmBXYFBo"
   },
   "outputs": [],
   "source": []
  },
  {
   "cell_type": "markdown",
   "metadata": {
    "id": "7sFJYbCaX-GC"
   },
   "source": [
    "### 3.\n",
    "\n",
    "Open the *biostats.csv* file using pandas. What happens? How do you fix it?"
   ]
  },
  {
   "cell_type": "code",
   "execution_count": null,
   "metadata": {
    "id": "G3_x4mtxYIww"
   },
   "outputs": [],
   "source": []
  },
  {
   "cell_type": "markdown",
   "metadata": {
    "id": "lTtZ58zLX-GD"
   },
   "source": [
    "### 4.\n",
    "\n",
    "Create an empty text file called sample2.txt within the data folder and then run the code below. "
   ]
  },
  {
   "cell_type": "code",
   "execution_count": null,
   "metadata": {
    "id": "fdesC-YEYLPT"
   },
   "outputs": [],
   "source": [
    "# Writing file using write()\n",
    "lines = ['Hello', 'World!']\n",
    "\n",
    "with open(\"data/sample2.txt\", 'w') as f:\n",
    "    for line in lines:\n",
    "        f.write(line)\n",
    "        f.write('\\n')"
   ]
  },
  {
   "cell_type": "markdown",
   "metadata": {
    "id": "xOxglDp3X-GD"
   },
   "source": [
    "### 5.\n",
    "\n",
    "Open sample2.txt and print its contents to see what the code above did. "
   ]
  },
  {
   "cell_type": "code",
   "execution_count": null,
   "metadata": {
    "id": "Fr7DUk3xX-GD"
   },
   "outputs": [],
   "source": []
  },
  {
   "cell_type": "markdown",
   "metadata": {
    "id": "FAEqUN5Z8zac"
   },
   "source": [
    "### 6.\n",
    "\n",
    "Read the file *data/sample.txt* and write its contents to a file *data/sample2.txt* using `with` statement."
   ]
  },
  {
   "cell_type": "code",
   "execution_count": null,
   "metadata": {
    "id": "yQn6z9RxX-GE"
   },
   "outputs": [],
   "source": []
  },
  {
   "cell_type": "markdown",
   "metadata": {},
   "source": [
    "#### 7.\n",
    "- Create a function that counts the number of times a certain word appears in a text file.\n",
    "- Use it to count the number of times the word *Python* appears in all notebooks in this directory (all files starting with 'N-')."
   ]
  },
  {
   "cell_type": "code",
   "execution_count": null,
   "metadata": {},
   "outputs": [],
   "source": []
  },
  {
   "cell_type": "markdown",
   "metadata": {},
   "source": [
    "### 8.\n",
    "Given the following lists of data:"
   ]
  },
  {
   "cell_type": "code",
   "execution_count": null,
   "metadata": {},
   "outputs": [],
   "source": [
    "data0 = [[0, 1, 2, 3, 4, 5, 6, 7, 8, 9, 10],\n",
    "         [1e-4, 0.124, .2655, .369, .4357686, .5293, .672435, .753878, .83432, .91233, 1.004]]"
   ]
  },
  {
   "cell_type": "markdown",
   "metadata": {},
   "source": [
    "- Save the list data0 to a file called mydata.dat.\n",
    "- Then read the data back to a different list called data1.\n",
    "- Compare data0 with data1."
   ]
  },
  {
   "cell_type": "code",
   "execution_count": null,
   "metadata": {},
   "outputs": [],
   "source": []
  }
 ],
 "metadata": {
  "colab": {
   "collapsed_sections": [],
   "name": "Notebook5_Input_Output.ipynb",
   "provenance": []
  },
  "kernelspec": {
   "display_name": "Python 3 (ipykernel)",
   "language": "python",
   "name": "python3"
  },
  "language_info": {
   "codemirror_mode": {
    "name": "ipython",
    "version": 3
   },
   "file_extension": ".py",
   "mimetype": "text/x-python",
   "name": "python",
   "nbconvert_exporter": "python",
   "pygments_lexer": "ipython3",
   "version": "3.11.7"
  }
 },
 "nbformat": 4,
 "nbformat_minor": 1
}

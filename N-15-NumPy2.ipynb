{
 "cells": [
  {
   "cell_type": "markdown",
   "metadata": {
    "id": "8FzPm-6HJYBp",
    "slideshow": {
     "slide_type": "slide"
    }
   },
   "source": [
    "<img src=\"images/inmas.png\" width=130x align='right' />\n",
    "\n",
    "# Notebook 15 - Intermediate NumPy\n",
    "Material covered in this notebook:\n",
    "\n",
    "- How to generate arrays from functions\n",
    "- Performing I/O with arrays\n",
    "- Manipulating arrays\n",
    "- Slicing and masking\n",
    "\n",
    "### Prerequisite\n",
    "Notebook 14\n"
   ]
  },
  {
   "cell_type": "markdown",
   "metadata": {
    "slideshow": {
     "slide_type": "slide"
    }
   },
   "source": [
    "### Housekeeping for matplotlib\n",
    "\n",
    "Let's first import matplotlib and ensure that the plots are embedded nicely in the notebook"
   ]
  },
  {
   "cell_type": "code",
   "execution_count": null,
   "metadata": {
    "id": "PCGaRDrRJYBs",
    "slideshow": {
     "slide_type": "fragment"
    }
   },
   "outputs": [],
   "source": [
    "%matplotlib inline \n",
    "\n",
    "import matplotlib.pyplot as plt\n",
    "import numpy as np"
   ]
  },
  {
   "cell_type": "markdown",
   "metadata": {
    "slideshow": {
     "slide_type": "slide"
    }
   },
   "source": [
    "### Mathematical functions in NumPy\n",
    "As for operators, NumPy provides mathematical functions that can operate on each element of an array\n",
    "\n",
    "For example:"
   ]
  },
  {
   "cell_type": "code",
   "execution_count": null,
   "metadata": {
    "slideshow": {
     "slide_type": "fragment"
    }
   },
   "outputs": [],
   "source": [
    "v0 = np.array([4, 3, 2, 1])\n",
    "v0 = 1/v0 * np.pi/2\n",
    "v1 = np.sin(v0)\n",
    "v1"
   ]
  },
  {
   "cell_type": "markdown",
   "metadata": {
    "slideshow": {
     "slide_type": "fragment"
    }
   },
   "source": [
    "All math functions are available and operate element-wise on an array (returning an array), or on a scalar"
   ]
  },
  {
   "cell_type": "markdown",
   "metadata": {
    "id": "8gZWFDZAJYB3",
    "slideshow": {
     "slide_type": "slide"
    }
   },
   "source": [
    "### Creating NumPy arrays using array-generating functions\n",
    "- For large arrays it is inpractical to initialize the data manually, using explicit Python lists.\n",
    "- Instead we can use one of the many functions in `numpy` that generate arrays of different forms. \n",
    "\n",
    "- Some of the more common are:\n",
    "    - `arange(start, stop, step)`: similar to `range()` but can also generate floats\n",
    "    - `linspace(start, stop., step`: similar to `arange()` except end points are included\n",
    "    - `logspace(start, end, step)`: similar to `linrange()` but points are regularly spaced on a log scale\n",
    "    - `zeros(shape)` and `ones(shape)`: fill the array with 0 or 1"
   ]
  },
  {
   "cell_type": "markdown",
   "metadata": {
    "id": "AkkFshTKJYB4",
    "slideshow": {
     "slide_type": "slide"
    }
   },
   "source": [
    "### The `arange` array generators\n",
    "The `arange()` function is similar to the `range()` function and creates values using arguments start, stop, and step"
   ]
  },
  {
   "cell_type": "code",
   "execution_count": null,
   "metadata": {
    "id": "XyLAAxgoJYB4",
    "scrolled": true,
    "slideshow": {
     "slide_type": "fragment"
    }
   },
   "outputs": [],
   "source": [
    "x = np.arange(0, 10, 1)\n",
    "print(x.shape)\n",
    "print(x)"
   ]
  },
  {
   "cell_type": "markdown",
   "metadata": {
    "slideshow": {
     "slide_type": "fragment"
    }
   },
   "source": [
    "Unlike its cousin `range()` which only accepts integer arguments, `arange()` understands floats"
   ]
  },
  {
   "cell_type": "code",
   "execution_count": null,
   "metadata": {
    "slideshow": {
     "slide_type": "fragment"
    }
   },
   "outputs": [],
   "source": [
    "y = np.arange(0.1, 2.1, 0.1)\n",
    "y"
   ]
  },
  {
   "cell_type": "markdown",
   "metadata": {
    "slideshow": {
     "slide_type": "fragment"
    }
   },
   "source": [
    "This function is convenient for generating graphs of mathematical functions"
   ]
  },
  {
   "cell_type": "markdown",
   "metadata": {
    "slideshow": {
     "slide_type": "slide"
    }
   },
   "source": [
    "### The following displays a graph of a *sin* function"
   ]
  },
  {
   "cell_type": "code",
   "execution_count": null,
   "metadata": {
    "id": "JgOGYIN34DQD",
    "slideshow": {
     "slide_type": "fragment"
    }
   },
   "outputs": [],
   "source": [
    "x = np.arange(-np.pi, np.pi, 0.1)   # start,stop,step\n",
    "y = np.sin(x)\n",
    "plt.plot(x,y)\n",
    "plt.axhline(y=0, linestyle='dotted', color='gray')\n",
    "plt.xlabel('x-values')\n",
    "plt.ylabel('sin(x)')\n",
    "plt.xticks((-np.pi, 0, np.pi), ('-$\\pi$', '0', '$\\pi$'))\n",
    "plt.title('Plot of the Sine Function')\n",
    "plt.show()"
   ]
  },
  {
   "cell_type": "markdown",
   "metadata": {
    "slideshow": {
     "slide_type": "slide"
    }
   },
   "source": [
    "### A few matplotlib tricks\n",
    "Our sinusoid graph is more instructive when using $pi$ units\n",
    "- The small bars on the $x$-axis are called ticks, which can be associated with labels by using the function `plt.xticks()`\n",
    "    - xticks takes two tuples (or lists) of matching length for values and labels\n",
    "- The $x$ axis is added by drawing a horizontal line at $y=0$\n",
    "- One could have salso used `plt.grid()`\n",
    "\n",
    "Notice on the previous graph how the last data point is one step short to $\\pi$"
   ]
  },
  {
   "cell_type": "markdown",
   "metadata": {
    "id": "441-D5OeJYB5",
    "slideshow": {
     "slide_type": "slide"
    }
   },
   "source": [
    "### The `linspace` and `logspace` array-generating functions\n",
    "- The `linspace()` and `logspace()` functions are used for regularly-spaced points in their  domains\n",
    "- Unlike `arange()`, these functions accept (start, end, N) where N is the number of elements\n",
    "- Unlike `arange()`, the end points are included in these functions\n",
    "\n",
    "Let's look at specific examples:"
   ]
  },
  {
   "cell_type": "code",
   "execution_count": null,
   "metadata": {
    "id": "T8qhmp5jJYB5",
    "slideshow": {
     "slide_type": "fragment"
    }
   },
   "outputs": [],
   "source": [
    "np.linspace(0, 10, 5)"
   ]
  },
  {
   "cell_type": "markdown",
   "metadata": {
    "slideshow": {
     "slide_type": "fragment"
    }
   },
   "source": [
    "`logspace` accepts an optional `base` argument (default=10)"
   ]
  },
  {
   "cell_type": "code",
   "execution_count": null,
   "metadata": {
    "id": "2L1mYrXrJYB5",
    "slideshow": {
     "slide_type": "fragment"
    }
   },
   "outputs": [],
   "source": [
    "print(np.logspace(0, 3, 4))\n",
    "print(np.logspace(0, 3, 4, base=np.e))"
   ]
  },
  {
   "cell_type": "markdown",
   "metadata": {
    "id": "1ByIPsbIJYB7",
    "slideshow": {
     "slide_type": "slide"
    }
   },
   "source": [
    "### Generating arrays with random data\n",
    "NumPy has different functions for generating random series through the `random` submodule\n",
    "- For a uniform distribution, the `random.rand()` function is used for populating an array of a specified size with numbers uniformly distributed in the $[0,1)$ interval\n",
    "- `random.rand()` does not accept a tuple for the shape, but rather integers for dimensions"
   ]
  },
  {
   "cell_type": "code",
   "execution_count": null,
   "metadata": {
    "id": "QFE3yhNUJYB7",
    "slideshow": {
     "slide_type": "fragment"
    }
   },
   "outputs": [],
   "source": [
    "np.random.rand(2, 5)"
   ]
  },
  {
   "cell_type": "markdown",
   "metadata": {
    "slideshow": {
     "slide_type": "fragment"
    }
   },
   "source": [
    "- The `random.randn()` function (*n* for Normal), on the other hand, is used for populating an array of a given size with numbers from a Gaussian distribution of mean 0 and variance 1"
   ]
  },
  {
   "cell_type": "code",
   "execution_count": null,
   "metadata": {
    "id": "xAsqWRGQJYB7",
    "slideshow": {
     "slide_type": "fragment"
    }
   },
   "outputs": [],
   "source": [
    "np.random.randn(2, 4)"
   ]
  },
  {
   "cell_type": "markdown",
   "metadata": {
    "id": "tPKVSSF4JYB7",
    "slideshow": {
     "slide_type": "slide"
    }
   },
   "source": [
    "### Creating diagonal arrays\n",
    "Square diagonal arrays can be created directly using the `diag()` constructor\n",
    "\n",
    "- It takes a list as an argument for specifying the values of the diagonal elements\n",
    "\n",
    "For example:"
   ]
  },
  {
   "cell_type": "code",
   "execution_count": null,
   "metadata": {
    "id": "jlNIejdtJYB8",
    "slideshow": {
     "slide_type": "fragment"
    }
   },
   "outputs": [],
   "source": [
    "x = np.diag([1,2,3])\n",
    "print('x is of type %r and dimensions %s.'%(type(x), x.shape))\n",
    "x"
   ]
  },
  {
   "cell_type": "markdown",
   "metadata": {
    "id": "tPKVSSF4JYB7",
    "slideshow": {
     "slide_type": "slide"
    }
   },
   "source": [
    "### Creating diagonal matrices\n",
    "Square diagonal matrices are created from square arrays through an additional matrix() constructor\n",
    "\n",
    "- `diag()` can also accept an additional offset argument using the `k` keyword which defaults to 0\n",
    "\n",
    "For example, we build a diagonal **matrix** with an offset of 1"
   ]
  },
  {
   "cell_type": "code",
   "execution_count": null,
   "metadata": {
    "id": "lEF8fYC9JYB8",
    "scrolled": true,
    "slideshow": {
     "slide_type": "fragment"
    }
   },
   "outputs": [],
   "source": [
    "x = np.matrix(np.diag([1, 2, 3], k=1))\n",
    "print('x is of type %r and dimensions %s.'%(type(x), x.shape))\n",
    "x"
   ]
  },
  {
   "cell_type": "markdown",
   "metadata": {
    "slideshow": {
     "slide_type": "fragment"
    }
   },
   "source": [
    "Notice how the offset makes the shape of the matrix one size larger"
   ]
  },
  {
   "cell_type": "markdown",
   "metadata": {
    "id": "oRzfk2SeJYB8",
    "slideshow": {
     "slide_type": "slide"
    }
   },
   "source": [
    "### `zeros` and `ones` constructors\n",
    "- It is good practice to initialize the elements in an array when it is created, and often with 0, or 1\n",
    "- For this purpose, the `zeros()` and `ones()` functions are used\n",
    "- Unlike `rand()`, the required argument is a **tuple** representing the shape of the desired array, thus the double parentheses"
   ]
  },
  {
   "cell_type": "code",
   "execution_count": null,
   "metadata": {
    "id": "j4nhwUpXJYB8",
    "slideshow": {
     "slide_type": "fragment"
    }
   },
   "outputs": [],
   "source": [
    "np.zeros((2, 4))"
   ]
  },
  {
   "cell_type": "code",
   "execution_count": null,
   "metadata": {
    "id": "IxxxYXWsJYB9",
    "scrolled": true,
    "slideshow": {
     "slide_type": "fragment"
    }
   },
   "outputs": [],
   "source": [
    "np.ones((3, 5))"
   ]
  },
  {
   "cell_type": "markdown",
   "metadata": {
    "slideshow": {
     "slide_type": "slide"
    }
   },
   "source": [
    "### Shortcuts to copy the shape of an array\n",
    "To use the shape of another object, the `ones_like()` and the `zeros_like()` functions can be used"
   ]
  },
  {
   "cell_type": "code",
   "execution_count": null,
   "metadata": {
    "id": "ZgOafuBzJYB9",
    "slideshow": {
     "slide_type": "fragment"
    }
   },
   "outputs": [],
   "source": [
    "y = np.random.randn(2, 5)\n",
    "z = np.ones_like(y)\n",
    "z"
   ]
  },
  {
   "cell_type": "code",
   "execution_count": null,
   "metadata": {
    "id": "tvGB1kBjJYB9",
    "slideshow": {
     "slide_type": "fragment"
    }
   },
   "outputs": [],
   "source": [
    "z = np.zeros_like(y)\n",
    "z"
   ]
  },
  {
   "cell_type": "markdown",
   "metadata": {
    "id": "CpcJi3iAJYB9",
    "slideshow": {
     "slide_type": "slide"
    }
   },
   "source": [
    "###  Comma-separated values (CSV)\n",
    "- CSV is a common text format for data files, or related formats such as TSV (tab-separated values)\n",
    "\n",
    "Here is such a file (mouse scroll to see more) that contains the temperature (C) in Stockholm from the 1800's:"
   ]
  },
  {
   "cell_type": "code",
   "execution_count": null,
   "metadata": {
    "id": "hoZZQ1KaJYB-",
    "slideshow": {
     "slide_type": "fragment"
    }
   },
   "outputs": [],
   "source": [
    "datafile = data/stockholm_td_adj2.csv\n",
    "# On macOS and Linux uncomment the following line\n",
    "# !head data/stockholm_td_adj2.csv\n",
    "# On Windows use the following commands\n",
    "!type data\\stockholm_td_adj2.csv"
   ]
  },
  {
   "cell_type": "markdown",
   "metadata": {
    "slideshow": {
     "slide_type": "slide"
    }
   },
   "source": [
    "### Reading comma-separated values (CSV) in NumPy\n",
    "- To read data from such files into Numpy arrays we can use the `numpy.genfromtxt()` function"
   ]
  },
  {
   "cell_type": "code",
   "execution_count": null,
   "metadata": {
    "id": "QsE6sYRxJYB-",
    "slideshow": {
     "slide_type": "fragment"
    }
   },
   "outputs": [],
   "source": [
    "data = np.genfromtxt('./data/stockholm_td_adj2.csv', delimiter=',')\n",
    "data.shape"
   ]
  },
  {
   "cell_type": "markdown",
   "metadata": {
    "slideshow": {
     "slide_type": "fragment"
    }
   },
   "source": [
    "We can see that it read the 4 columns for year, month, day, and temperature values\n",
    "\n",
    "- The function `genfromtxt()` converted the characters read in ASCII to IEEE floats\n",
    "- It also recognized the delimiters (comma) to separate the values"
   ]
  },
  {
   "cell_type": "markdown",
   "metadata": {
    "slideshow": {
     "slide_type": "slide"
    }
   },
   "source": [
    "### Plotting the data we just read\n",
    "We will now use matplotlib to display the content of this data file"
   ]
  },
  {
   "cell_type": "code",
   "execution_count": null,
   "metadata": {
    "id": "m9D4cHBxJYB_",
    "slideshow": {
     "slide_type": "fragment"
    }
   },
   "outputs": [],
   "source": [
    "fig, ax = plt.subplots(figsize=(14,4))\n",
    "ax.plot(data[:,0]+data[:,1]/12.0+data[:,2]/365, data[:,3])\n",
    "ax.axis('tight')\n",
    "ax.set_title('temperatures in Stockholm')\n",
    "ax.set_xlabel('year')\n",
    "ax.set_ylabel('temperature (C)');"
   ]
  },
  {
   "cell_type": "markdown",
   "metadata": {
    "id": "hGGsJSUrTzTO",
    "slideshow": {
     "slide_type": "slide"
    }
   },
   "source": [
    "### Doing more with `genfromtxt()`\n",
    "The first line of the data file contains a text description of the columns\n",
    "\n",
    "Let's look at how NumPy read the first two lines: "
   ]
  },
  {
   "cell_type": "code",
   "execution_count": null,
   "metadata": {
    "slideshow": {
     "slide_type": "fragment"
    }
   },
   "outputs": [],
   "source": [
    "data[0:2,:]"
   ]
  },
  {
   "cell_type": "markdown",
   "metadata": {
    "slideshow": {
     "slide_type": "fragment"
    }
   },
   "source": [
    "Oops! Without our knowledge, matplotlib silently ignored these values while plotting the data\n",
    "\n",
    "A proper way to read the file would be to skip the header as follows:"
   ]
  },
  {
   "cell_type": "code",
   "execution_count": null,
   "metadata": {
    "slideshow": {
     "slide_type": "fragment"
    }
   },
   "outputs": [],
   "source": [
    "data = np.genfromtxt('./data/stockholm_td_adj2.csv', delimiter=',', skip_header=1)\n",
    "data[0:2, :]"
   ]
  },
  {
   "cell_type": "markdown",
   "metadata": {
    "id": "nZ5NulXQe_5J",
    "slideshow": {
     "slide_type": "slide"
    }
   },
   "source": [
    "### Options for `genfromtxt()`\n",
    "\n",
    "- the `delimiter` keyword is used to define how the splitting should take place\n",
    "    - By default, `genfromtxt` assumes `delimiter=None`, meaning that the line is split along white spaces (including tabs)\n",
    "    - Common delimiters include a comma (,), a semicolon (;), or tab ('\\t')\n",
    "\n",
    "- `dtype` is used to define the data type of the resulting array. `float` is the default value\n",
    "    - If `dtype = None`, the dtypes will be determined by the contents of each column, individually\n",
    "\n",
    "- `skip_header` is used to skip at the beginning of the file. Default is `skip_header=0`\n",
    "\n",
    "- `names` is a Boolean used to define the field names in a structured dtype\n",
    "    - If `names=True`, the field names are read from the first line after the first `skip_header` lines"
   ]
  },
  {
   "cell_type": "markdown",
   "metadata": {
    "slideshow": {
     "slide_type": "slide"
    }
   },
   "source": [
    "### Take two\n",
    "Let's read the file again using the structured data type"
   ]
  },
  {
   "cell_type": "code",
   "execution_count": null,
   "metadata": {
    "id": "GXvHR75mT6OU",
    "slideshow": {
     "slide_type": "fragment"
    }
   },
   "outputs": [],
   "source": [
    "data2 = np.genfromtxt(\n",
    "    './data/stockholm_td_adj2.csv', \n",
    "    delimiter=',', # comma separated values\n",
    "    names = True, # the field names are read from the first valid line\n",
    "    dtype = None) # guess the dtype of each column\n",
    "data2"
   ]
  },
  {
   "cell_type": "markdown",
   "metadata": {
    "id": "SH3B9wDPgPRa",
    "slideshow": {
     "slide_type": "fragment"
    }
   },
   "source": [
    "Above array are said to have structured datatype, or, structured arrays. Indexing with the field name allows us to access (and modify) individual fields of a structured array:"
   ]
  },
  {
   "cell_type": "code",
   "execution_count": null,
   "metadata": {
    "id": "vW-VrWT7gL9X",
    "slideshow": {
     "slide_type": "fragment"
    }
   },
   "outputs": [],
   "source": [
    "data2['Year']"
   ]
  },
  {
   "cell_type": "markdown",
   "metadata": {
    "id": "S5A5K5IBJYB_",
    "slideshow": {
     "slide_type": "slide"
    }
   },
   "source": [
    "### Writing data to a file with NumPy\n",
    "The function `numpy.savetxt()` can store a Numpy array to a file in CSV format:"
   ]
  },
  {
   "cell_type": "code",
   "execution_count": null,
   "metadata": {
    "id": "dkB6asZtJYB_",
    "slideshow": {
     "slide_type": "fragment"
    }
   },
   "outputs": [],
   "source": [
    "M = np.random.rand(3, 3)\n",
    "print('Random matrix M:', M)\n",
    "print('---- default options:')\n",
    "np.savetxt('random-matrix.csv', M)             # savetxt() calls overwrite any existing file. Be cautious!\n",
    "!cat random-matrix.csv\n",
    "print('---- using five decimal floats:')\n",
    "np.savetxt('random-matrix.csv', M, fmt='%.5f') # fmt specifies the float string format (5 decimal points)\n",
    "!cat random-matrix.csv"
   ]
  },
  {
   "cell_type": "markdown",
   "metadata": {
    "id": "658u8Ct3JYCA",
    "slideshow": {
     "slide_type": "slide"
    }
   },
   "source": [
    "### Saving data using Numpy's native file format\n",
    "- It can easily be realized from the previous slide that precision can be lost when writing data in text format and reading the data at a later time\n",
    "- For these reasons (and reducing disk space), NumPy has functions for writing and reading data in its native binary format\n",
    "    - These functions are `numpy.save` and `numpy.load`"
   ]
  },
  {
   "cell_type": "code",
   "execution_count": null,
   "metadata": {
    "id": "3PTkAd2KJYCB",
    "slideshow": {
     "slide_type": "fragment"
    }
   },
   "outputs": [],
   "source": [
    "np.save(\"random-matrix.npy\", M)     # The file created is a binary file\n",
    "!file random-matrix.npy"
   ]
  },
  {
   "cell_type": "code",
   "execution_count": null,
   "metadata": {
    "id": "muaOL-RwJYCB",
    "slideshow": {
     "slide_type": "fragment"
    }
   },
   "outputs": [],
   "source": [
    "M2 = np.load(\"random-matrix.npy\")\n",
    "np.sum(np.abs(M2 - M))              # These data are guaranteed to equal with bit-precision "
   ]
  },
  {
   "cell_type": "markdown",
   "metadata": {
    "id": "PmC3GdODJYCC",
    "slideshow": {
     "slide_type": "slide"
    }
   },
   "source": [
    "### Manipulating arrays with index slicing\n",
    "- We have seen index slicing with lists, strings, and tuples\n",
    "\n",
    "- Same syntax can be used with arrays, where an index is expected `M[..., lower:upper:step, ...]`\n",
    "- For a one-dimensional array, it is exactly like the slicing in native Python:"
   ]
  },
  {
   "cell_type": "code",
   "execution_count": null,
   "metadata": {
    "id": "o-Y3bQMBJYCF",
    "slideshow": {
     "slide_type": "fragment"
    }
   },
   "outputs": [],
   "source": [
    "v = np.array([1, 2, 3, 4, 5])\n",
    "print(v[1:3])"
   ]
  },
  {
   "cell_type": "markdown",
   "metadata": {
    "id": "S2IO2Jo5JYCG",
    "slideshow": {
     "slide_type": "fragment"
    }
   },
   "source": [
    "We can omit any of the three parameters in `M[lower:upper:step]`:"
   ]
  },
  {
   "cell_type": "code",
   "execution_count": null,
   "metadata": {
    "id": "ARzwKYzbJYCH",
    "slideshow": {
     "slide_type": "fragment"
    }
   },
   "outputs": [],
   "source": [
    "print(v[:3])        # first 3 elements\n",
    "print(v[3:])        # elements after the third element\n",
    "print(v[:0:-1])     # lower, upper, step all take the default values"
   ]
  },
  {
   "cell_type": "markdown",
   "metadata": {
    "slideshow": {
     "slide_type": "slide"
    }
   },
   "source": [
    "### Slicing with negative indices\n",
    "Let's see some examples of slicing with negative indices:"
   ]
  },
  {
   "cell_type": "code",
   "execution_count": null,
   "metadata": {
    "id": "ARzwKYzbJYCH",
    "slideshow": {
     "slide_type": "fragment"
    }
   },
   "outputs": [],
   "source": [
    "v = np.array([1, 2, 3, 4, 5])\n",
    "print(v[:-3])             # elements up to third from the end\n",
    "print(v[-3:])             # last 3 elements\n",
    "print(v[::-1])            # reverse order\n"
   ]
  },
  {
   "cell_type": "markdown",
   "metadata": {
    "slideshow": {
     "slide_type": "slide"
    }
   },
   "source": [
    "### Assigning with slices\n",
    "Array slices are *mutable*, i.e, they can be on the left-hand side of an assignment"
   ]
  },
  {
   "cell_type": "code",
   "execution_count": null,
   "metadata": {
    "id": "jVVbFdKmJYCG",
    "slideshow": {
     "slide_type": "fragment"
    }
   },
   "outputs": [],
   "source": [
    "v = np.array([1, 2, 3, 4, 5])\n",
    "v[1:3] = [-2,-3]\n",
    "v"
   ]
  },
  {
   "cell_type": "markdown",
   "metadata": {
    "id": "8uPmftvcJYCI",
    "slideshow": {
     "slide_type": "slide"
    }
   },
   "source": [
    "### Slicing with multidimensional arrays\n",
    "Index slicing works exactly the same way for multidimensional arrays\n",
    "\n",
    "We first build an array using a list comprehension:"
   ]
  },
  {
   "cell_type": "code",
   "execution_count": null,
   "metadata": {
    "id": "TGC_0DPGJYCI",
    "slideshow": {
     "slide_type": "fragment"
    }
   },
   "outputs": [],
   "source": [
    "A = np.array([[n + m*10 for n in range(5)] for m in range(3)])\n",
    "print(A)"
   ]
  },
  {
   "cell_type": "code",
   "execution_count": null,
   "metadata": {
    "id": "CJFBlPUsJYCJ",
    "slideshow": {
     "slide_type": "fragment"
    }
   },
   "outputs": [],
   "source": [
    "# a block from the original array\n",
    "A[1:3, 3:5]"
   ]
  },
  {
   "cell_type": "code",
   "execution_count": null,
   "metadata": {
    "id": "uqZABGJLJYCJ",
    "slideshow": {
     "slide_type": "fragment"
    }
   },
   "outputs": [],
   "source": [
    "# strides\n",
    "A[::2, ::2]"
   ]
  },
  {
   "cell_type": "markdown",
   "metadata": {
    "id": "eL51WXfbJYCJ",
    "slideshow": {
     "slide_type": "slide"
    }
   },
   "source": [
    "### Fancy indexing\n",
    "Fancy indexing is the name for when an array or list is used in-place of an index:"
   ]
  },
  {
   "cell_type": "code",
   "execution_count": null,
   "metadata": {
    "id": "ibhcLDp_JYCJ",
    "slideshow": {
     "slide_type": "fragment"
    }
   },
   "outputs": [],
   "source": [
    "row_indices = [1, 2, 3]\n",
    "A[row_indices]"
   ]
  },
  {
   "cell_type": "code",
   "execution_count": null,
   "metadata": {
    "id": "DCHBu3LJJYCK",
    "slideshow": {
     "slide_type": "fragment"
    }
   },
   "outputs": [],
   "source": [
    "col_indices = [1, 2, -1] # remember, index -1 means the last element\n",
    "A[row_indices, col_indices]"
   ]
  },
  {
   "cell_type": "markdown",
   "metadata": {
    "id": "lqUNDrhpJYCK",
    "slideshow": {
     "slide_type": "slide"
    }
   },
   "source": [
    "### Index masks\n",
    "We can also use index masks: If the index mask is an NumPy array of data type `bool`, then an element is selected (True) or not (False) depending on the value of the index mask at the position of each element: "
   ]
  },
  {
   "cell_type": "code",
   "execution_count": null,
   "metadata": {
    "id": "W8stcheRJYCK",
    "slideshow": {
     "slide_type": "fragment"
    }
   },
   "outputs": [],
   "source": [
    "B = np.array([n for n in range(5)])\n",
    "B"
   ]
  },
  {
   "cell_type": "code",
   "execution_count": null,
   "metadata": {
    "id": "pvlbpYV_JYCK",
    "slideshow": {
     "slide_type": "fragment"
    }
   },
   "outputs": [],
   "source": [
    "row_mask = np.array([True, False, True, False, False])\n",
    "B[row_mask]"
   ]
  },
  {
   "cell_type": "code",
   "execution_count": null,
   "metadata": {
    "id": "HH1Ced6GJYCL"
   },
   "outputs": [],
   "source": [
    "# same thing\n",
    "row_mask = np.array([1,0,1,0,0], dtype=bool)\n",
    "B[row_mask]"
   ]
  },
  {
   "cell_type": "markdown",
   "metadata": {
    "id": "cx9tG6meJYCL",
    "slideshow": {
     "slide_type": "slide"
    }
   },
   "source": [
    "### Creating index masks from element-wise comparisons\n",
    "This feature is very useful to conditionally select elements from an array, using for example comparison operators:"
   ]
  },
  {
   "cell_type": "code",
   "execution_count": null,
   "metadata": {
    "id": "VQD4bIoXJYCL",
    "slideshow": {
     "slide_type": "fragment"
    }
   },
   "outputs": [],
   "source": [
    "x = np.arange(0, 10, 0.5)\n",
    "x"
   ]
  },
  {
   "cell_type": "code",
   "execution_count": null,
   "metadata": {
    "id": "6oRTuAL6JYCL",
    "slideshow": {
     "slide_type": "fragment"
    }
   },
   "outputs": [],
   "source": [
    "mask = (5 < x) * (x < 7.5)\n",
    "mask"
   ]
  },
  {
   "cell_type": "code",
   "execution_count": null,
   "metadata": {
    "id": "I2sJpY51JYCL",
    "slideshow": {
     "slide_type": "fragment"
    }
   },
   "outputs": [],
   "source": [
    "x[mask]"
   ]
  },
  {
   "cell_type": "markdown",
   "metadata": {
    "slideshow": {
     "slide_type": "slide"
    }
   },
   "source": [
    "### Key Points\n",
    "- Use the NumPy math functions and avoid problems\n",
    "- Save data in native format to avoid loosing precision and unforeseen errors"
   ]
  },
  {
   "cell_type": "markdown",
   "metadata": {
    "id": "4vj9RX7pm-0J",
    "slideshow": {
     "slide_type": "slide"
    }
   },
   "source": [
    "### Further Readings\n",
    "- For more details on `genfromtxt()`, see [here](https://numpy.org/doc/stable/reference/generated/numpy.genfromtxt.html). "
   ]
  }
 ],
 "metadata": {
  "celltoolbar": "Slideshow",
  "colab": {
   "collapsed_sections": [],
   "name": "Notebook10_Numpy_intermediate.ipynb",
   "provenance": [],
   "toc_visible": true
  },
  "kernelspec": {
   "display_name": "Python 3 (ipykernel)",
   "language": "python",
   "name": "python3"
  },
  "language_info": {
   "codemirror_mode": {
    "name": "ipython",
    "version": 3
   },
   "file_extension": ".py",
   "mimetype": "text/x-python",
   "name": "python",
   "nbconvert_exporter": "python",
   "pygments_lexer": "ipython3",
   "version": "3.11.7"
  }
 },
 "nbformat": 4,
 "nbformat_minor": 4
}

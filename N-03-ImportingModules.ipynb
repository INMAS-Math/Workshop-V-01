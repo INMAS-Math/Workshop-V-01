{
 "cells": [
  {
   "cell_type": "markdown",
   "id": "af4ee8a4",
   "metadata": {
    "slideshow": {
     "slide_type": "slide"
    }
   },
   "source": [
    "<img src=\"images/inmas.png\" width=130x align=right />\n",
    "\n",
    "# Notebook 03 - Importing Modules\n",
    "\n",
    "Material covered in this notebook:\n",
    "\n",
    "- How to import a module\n",
    "- How to call functions in a module\n",
    "- A short introduction to Matplotlib\n",
    "\n",
    "### Prerequisite\n",
    "Notebook 02\n"
   ]
  },
  {
   "cell_type": "markdown",
   "id": "99a9d433",
   "metadata": {
    "slideshow": {
     "slide_type": "slide"
    }
   },
   "source": [
    "## Importing Python modules\n",
    "Most of the functionality in Python is provided by *modules*. The Python Standard Library is a large collection of modules that provides *cross-platform* implementations of common facilities such as access to the operating system, file I/O, string management, network communication, and much more.\n",
    "\n",
    "To use a module in a Python program it first has to be imported. A module can be imported using the `import` statement. For example, importing the module `math`, which contains many standard mathematical functions can be done with: "
   ]
  },
  {
   "cell_type": "code",
   "execution_count": null,
   "id": "8a693245",
   "metadata": {
    "slideshow": {
     "slide_type": "fragment"
    }
   },
   "outputs": [],
   "source": [
    "import math"
   ]
  },
  {
   "cell_type": "markdown",
   "id": "6c58f9b5",
   "metadata": {
    "slideshow": {
     "slide_type": "slide"
    }
   },
   "source": [
    "This includes the whole module and makes it available for use later in the program. The functions in the `math` module can now be called:"
   ]
  },
  {
   "cell_type": "code",
   "execution_count": null,
   "id": "6fee5cab",
   "metadata": {
    "slideshow": {
     "slide_type": "fragment"
    }
   },
   "outputs": [],
   "source": [
    "x = math.cos(2 * math.pi)\n",
    "print(x)"
   ]
  },
  {
   "cell_type": "markdown",
   "id": "8da439b2",
   "metadata": {
    "slideshow": {
     "slide_type": "slide"
    }
   },
   "source": [
    "### Importing modules as shorter names\n",
    "We can also import a module with a different name for easier coding: "
   ]
  },
  {
   "cell_type": "code",
   "execution_count": null,
   "id": "7cf2a011",
   "metadata": {
    "slideshow": {
     "slide_type": "fragment"
    }
   },
   "outputs": [],
   "source": [
    "import math as m\n",
    "\n",
    "x = m.cos(2 * m.pi)\n",
    "print(x)"
   ]
  },
  {
   "cell_type": "markdown",
   "id": "18c458bc",
   "metadata": {
    "slideshow": {
     "slide_type": "fragment"
    }
   },
   "source": [
    "This is current practice, so much that many users use the same common names as abbreviation. For example,\n",
    "\n",
    "```python\n",
    "import numpy as np\n",
    "import matplotlib as mplot\n",
    "import matplotlib.pyplot as plt\n",
    "...\n",
    "```"
   ]
  },
  {
   "cell_type": "markdown",
   "id": "e57377e0",
   "metadata": {
    "slideshow": {
     "slide_type": "slide"
    }
   },
   "source": [
    "Alternatively, we can chose to import all symbols (functions and variables) into the current namespace (eliminating the need to prepend \"math.\" every time we use something from the math module):"
   ]
  },
  {
   "cell_type": "code",
   "execution_count": null,
   "id": "81d4e379",
   "metadata": {
    "slideshow": {
     "slide_type": "fragment"
    }
   },
   "outputs": [],
   "source": [
    "from math import *\n",
    "\n",
    "x = cos(2 * pi)\n",
    "print(x)"
   ]
  },
  {
   "cell_type": "markdown",
   "id": "b6586509",
   "metadata": {
    "slideshow": {
     "slide_type": "fragment"
    }
   },
   "source": [
    "While this pattern can seem convenient, including all symbols from a module in large programs that include many other modules can lead to namespace collisions and undesired behavior. It is best to keep symbols from each module in their own namespaces, by using the `import math as m` pattern, for example."
   ]
  },
  {
   "cell_type": "markdown",
   "id": "13a75eeb",
   "metadata": {
    "slideshow": {
     "slide_type": "slide"
    }
   },
   "source": [
    "As a third option, one can chose to import only the few needed symbols from a module by explicitly listing which ones to import instead of using the wildcard character '\\*':"
   ]
  },
  {
   "cell_type": "code",
   "execution_count": null,
   "id": "18d4825b",
   "metadata": {
    "slideshow": {
     "slide_type": "fragment"
    }
   },
   "outputs": [],
   "source": [
    "from math import cos, pi\n",
    "\n",
    "x = cos(2 * pi)\n",
    "print(x)"
   ]
  },
  {
   "cell_type": "markdown",
   "id": "742fb849",
   "metadata": {
    "slideshow": {
     "slide_type": "slide"
    }
   },
   "source": [
    "Once a module is imported, we can list the symbols it provides using the `dir` function:"
   ]
  },
  {
   "cell_type": "code",
   "execution_count": null,
   "id": "ecce00fe",
   "metadata": {
    "slideshow": {
     "slide_type": "fragment"
    }
   },
   "outputs": [],
   "source": [
    "import math\n",
    "\n",
    "print(dir(math))"
   ]
  },
  {
   "cell_type": "markdown",
   "id": "335efd70",
   "metadata": {
    "slideshow": {
     "slide_type": "slide"
    }
   },
   "source": [
    "Using the function `help` we can get a description of each function (almost... not all functions have docstrings, as they are technically called, but the vast majority of functions are documented this way). Note how the `help` function allows you to see the arguments that the function takes in."
   ]
  },
  {
   "cell_type": "code",
   "execution_count": null,
   "id": "4777dc39",
   "metadata": {
    "slideshow": {
     "slide_type": "fragment"
    }
   },
   "outputs": [],
   "source": [
    "help(math.log)"
   ]
  },
  {
   "cell_type": "markdown",
   "id": "GsVia-mhi9bm",
   "metadata": {
    "slideshow": {
     "slide_type": "fragment"
    }
   },
   "source": [
    "It is often tempting to use a search engine instead of the `help` function. However, learning how to use `help` is important, especially when using custom modules written by colleagues and not published on the Internet.\n"
   ]
  },
  {
   "cell_type": "markdown",
   "id": "48c3d2a7",
   "metadata": {
    "slideshow": {
     "slide_type": "slide"
    }
   },
   "source": [
    "- We can also use the `help` function directly on modules: For example, you could type\n",
    "\n",
    "    help(math) \n",
    "\n",
    "- Some very useful modules form the Python standard library\n",
    "\n",
    "- They include `os`, `sys`, `math`, `cmath`, `shutil`, `re`, `subprocess`, `multiprocessing`, `threading` \n",
    "\n",
    "A complete list of standard modules for Python 3 is available [here](http://docs.python.org/3/library/)"
   ]
  },
  {
   "cell_type": "markdown",
   "id": "10528ca7",
   "metadata": {
    "slideshow": {
     "slide_type": "slide"
    }
   },
   "source": [
    "### What is importing?\n",
    "- The mechanics of importing modules is to read files that are named *modulename*.py in a predetermined search path governed by the environment variable $PYTHONPATH\n",
    "- This path contains the current directory, and therefore a file named *myfile.py* containing Python code and located in the current directory can be read and executed by importing it as `import myfile`\n",
    "- `import` has additional checks insuring that files are only imported once, avoiding potential conflicts in initialization\n",
    "\n",
    "Let's see how this works with a simple example\n",
    "\n",
    "Executing the following cell will write the statements in a file called *mysimplemodule.py* located in the current directory:"
   ]
  },
  {
   "cell_type": "code",
   "execution_count": null,
   "id": "aee9c65f",
   "metadata": {
    "slideshow": {
     "slide_type": "fragment"
    }
   },
   "outputs": [],
   "source": [
    "%%writefile mysimplemodule.py\n",
    "urgent = 911\n",
    "assistance = 411\n",
    "jenny = 8675309"
   ]
  },
  {
   "cell_type": "markdown",
   "id": "bf51c17c",
   "metadata": {
    "slideshow": {
     "slide_type": "slide"
    }
   },
   "source": [
    "### Importing our own modules\n",
    "Let's now import the file we just created:"
   ]
  },
  {
   "cell_type": "code",
   "execution_count": null,
   "id": "7403e79b",
   "metadata": {
    "slideshow": {
     "slide_type": "fragment"
    }
   },
   "outputs": [],
   "source": [
    "import mysimplemodule as tel\n",
    "print(tel.jenny)"
   ]
  },
  {
   "cell_type": "markdown",
   "id": "f76df0ad",
   "metadata": {
    "slideshow": {
     "slide_type": "slide"
    }
   },
   "source": [
    "At this point, the data, functions, classes defined in the imported module are accessible from the program, using the right name\n",
    "\n",
    "To get the symbol in the same current namespace (but not recommended):"
   ]
  },
  {
   "cell_type": "code",
   "execution_count": null,
   "id": "badfa79c",
   "metadata": {
    "slideshow": {
     "slide_type": "fragment"
    }
   },
   "outputs": [],
   "source": [
    "from mysimplemodule import *\n",
    "print(urgent)"
   ]
  },
  {
   "cell_type": "markdown",
   "id": "936ed6e2",
   "metadata": {
    "slideshow": {
     "slide_type": "slide"
    }
   },
   "source": [
    "### Importing from sub-directories\n",
    "The syntax to import files from sub-directories is very similar\n",
    "\n",
    "Assume that a file called *mymodule.py* is located in the following directory\n",
    "\n",
    "> `./folder1/subfolder2/subsubfolder3/mymodule.py`\n",
    "\n",
    "Importing the module can be done with the following command:\n",
    "\n",
    "> `import folder1.subfolder2.subsubfolder3.mymodule as mymod`"
   ]
  },
  {
   "cell_type": "markdown",
   "id": "62ad6465",
   "metadata": {
    "slideshow": {
     "slide_type": "slide"
    }
   },
   "source": [
    "### A short introduction to Matplotlib \n",
    "\n",
    "`matplotlib` is the most popular data visualization library within the Python programming language\n",
    "\n",
    "We will mainly use `pyplot`, which is a module from `matplotlib`, and use it to display a simple graph\n",
    "\n",
    "- We will cover Matplotlib in detail in a separate Notebook\n",
    "\n"
   ]
  },
  {
   "cell_type": "markdown",
   "id": "d8642bfc",
   "metadata": {
    "slideshow": {
     "slide_type": "slide"
    }
   },
   "source": [
    "### A simple plot\n",
    "We will plot two lists of numbers with a single function call. Notice how the module is imported.\n",
    "\n",
    "- We first contruct two lists for plotting, and then call the `plot()` function:"
   ]
  },
  {
   "cell_type": "code",
   "execution_count": null,
   "id": "6690d50a",
   "metadata": {
    "slideshow": {
     "slide_type": "fragment"
    }
   },
   "outputs": [],
   "source": [
    "import matplotlib.pyplot as plt\n",
    "\n",
    "x = range(1, 11)\n",
    "y = [i**2 for i in x]   # Using a list comprehension\n",
    "_ = plt.plot(x, y)      # Use dummy variable for return as function returns a handle"
   ]
  },
  {
   "cell_type": "markdown",
   "id": "3b864ca4",
   "metadata": {
    "slideshow": {
     "slide_type": "slide"
    }
   },
   "source": [
    "The following functions can be used to further configure the plot:\n",
    "\n",
    "* `plt.title()`: Set a title, which appears above the plot\n",
    "* `plt.grid()`: Configure the grid lines\n",
    "* `plt.legend()`: Place a legend, which appears inside the figure\n",
    "* `plt.xlabel()` and `plt.ylabel()`: Set labels for the axes\n",
    "* `plt.xlim()` and `plt.ylim()`: Set the limit ranges for the axes "
   ]
  },
  {
   "cell_type": "code",
   "execution_count": null,
   "id": "4e58852d",
   "metadata": {
    "slideshow": {
     "slide_type": "slide"
    }
   },
   "outputs": [],
   "source": [
    "plt.plot(x, y) \n",
    "plt.title('Simple Linear Graph') # title\n",
    "plt.grid()                       # gridlines\n",
    "plt.xlabel('x values')           # label for x\n",
    "plt.ylabel('$x^2$ values')       # label for y - see that it understands LaTeX\n",
    "plt.xlim([0, 10])                # limits for x axis\n",
    "plt.ylim([0, 100]);              # limits for y axis\n",
    "#plt.legend()                    # add a legend - not needed for a single line\n",
    "#plt.show()                      # not needed in Jupyter interactive sessions\n",
    "#plt.savefig('myFigure.png')"
   ]
  },
  {
   "cell_type": "markdown",
   "id": "bdea01b9",
   "metadata": {
    "slideshow": {
     "slide_type": "slide"
    }
   },
   "source": [
    "### Non-interactive plotting\n",
    "When using a .py script, instead of Jupyter, you always need to write `plt.show()` after finishing your graph. This will allow you to see the graph you have created, and pausing the script."
   ]
  },
  {
   "cell_type": "markdown",
   "id": "c59d7b17",
   "metadata": {
    "slideshow": {
     "slide_type": "fragment"
    }
   },
   "source": [
    "Graphs can also be saved as figures."
   ]
  },
  {
   "cell_type": "code",
   "execution_count": null,
   "id": "16c3d156",
   "metadata": {
    "slideshow": {
     "slide_type": "fragment"
    }
   },
   "outputs": [],
   "source": [
    "plt.savefig('myFigure.png')"
   ]
  },
  {
   "cell_type": "markdown",
   "id": "4552214d",
   "metadata": {
    "slideshow": {
     "slide_type": "slide"
    }
   },
   "source": [
    "## LaTeX\n",
    "If you have a working LaTeX installation on your computer, you can have publication-quality plots. The results are very nice, especially when you take care to use the same fonts in your figures as in the main document.\n",
    "\n",
    "Note how we used LateX commands to make the label nicer! We can include LateX code by just putting the code inside dollar signs inside a string. \n",
    "\n",
    "Let's see the the graph below on the next slide:"
   ]
  },
  {
   "cell_type": "code",
   "execution_count": null,
   "id": "78e9bc67",
   "metadata": {
    "slideshow": {
     "slide_type": "slide"
    }
   },
   "outputs": [],
   "source": [
    "plt.plot([1,2,3,4], [1,4,9,16], color= 'magenta')\n",
    "plt.title(\"Plot $x^2$\")\n",
    "plt.xlabel('$x$ values')\n",
    "plt.ylabel(\"$f(x)= x^2$\")\n",
    "plt.show()"
   ]
  },
  {
   "cell_type": "markdown",
   "id": "74070dc3",
   "metadata": {
    "slideshow": {
     "slide_type": "slide"
    }
   },
   "source": [
    "### Key Points\n",
    "- Functions in modules can be accessed once the module is imported using the `import` command\n",
    "- It is better to keep the namespace separated and avoid to use `from module import *`\n",
    "- There are many modules available - this makes Python very versatile\n",
    "- `matplotlib` is a module that allows to make plot somehow following the MATLAB syntax\n",
    "- It is possible to include \\$\\LaTeX\\$ code in the labels and titles of a plot"
   ]
  },
  {
   "cell_type": "markdown",
   "id": "f20a9dc8",
   "metadata": {
    "slideshow": {
     "slide_type": "slide"
    }
   },
   "source": [
    "### Further Reading\n",
    "* Complete list of standard modules for Python 3 is available [here](http://docs.python.org/3/library/)\n",
    "\n",
    "There are many tutorials out there that will help you build the type of Matplotlib graph you need:\n",
    "* [Official Matplotlib Tutorials](https://matplotlib.org/3.3.3/tutorials/index.html)\n",
    "* [Adding Flair To Your Graphs](https://data-flair.training/blogs/python-matplotlib-tutorial/)\n",
    "* [More information at the Matplotlib web page](http://matplotlib.org/)"
   ]
  }
 ],
 "metadata": {
  "celltoolbar": "Slideshow",
  "colab": {
   "collapsed_sections": [],
   "provenance": []
  },
  "kernelspec": {
   "display_name": "Python 3 (ipykernel)",
   "language": "python",
   "name": "python3"
  },
  "language_info": {
   "codemirror_mode": {
    "name": "ipython",
    "version": 3
   },
   "file_extension": ".py",
   "mimetype": "text/x-python",
   "name": "python",
   "nbconvert_exporter": "python",
   "pygments_lexer": "ipython3",
   "version": "3.11.7"
  }
 },
 "nbformat": 4,
 "nbformat_minor": 5
}

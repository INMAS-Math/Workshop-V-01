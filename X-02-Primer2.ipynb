{
 "cells": [
  {
   "cell_type": "markdown",
   "metadata": {
    "id": "91eq7qoAtkDL"
   },
   "source": [
    "<img align=right src=\"images/inmas.png\" width=130x />\n",
    "\n",
    "# Exercises 02 - Python Primer 2\n",
    "\n",
    "\n",
    "### Prerequisite\n",
    "Notebook 02\n"
   ]
  },
  {
   "cell_type": "markdown",
   "metadata": {},
   "source": [
    "### 1. \n",
    "Can you create a variable called `len`? What happens to call to the len() function then? How to fix? (*Hint:* `del`)"
   ]
  },
  {
   "cell_type": "code",
   "execution_count": null,
   "metadata": {},
   "outputs": [],
   "source": []
  },
  {
   "cell_type": "markdown",
   "metadata": {
    "id": "63e3f5f8"
   },
   "source": [
    "### 2. \n",
    "Using the months variable in the next cell, "
   ]
  },
  {
   "cell_type": "code",
   "execution_count": null,
   "metadata": {
    "id": "b138cc0a"
   },
   "outputs": [],
   "source": [
    "months = ['January', 'February', 'March', 'April', 'May', 'June', 'July', 'August', 'September', 'October', 'November', 'December']"
   ]
  },
  {
   "cell_type": "markdown",
   "metadata": {},
   "source": [
    "#### 2.1\n",
    "Create sublists ```summer_months``` and ```winter_months``` using slicing. For ```winter_months```, you may need to add two sublists (e.g. using append() or +)."
   ]
  },
  {
   "cell_type": "code",
   "execution_count": null,
   "metadata": {},
   "outputs": [],
   "source": []
  },
  {
   "cell_type": "markdown",
   "metadata": {
    "id": "IMlSBve9MaqR"
   },
   "source": [
    "#### 2.2\n",
    "Predict the outcome of the slicing below."
   ]
  },
  {
   "cell_type": "code",
   "execution_count": null,
   "metadata": {
    "colab": {
     "base_uri": "https://localhost:8080/"
    },
    "executionInfo": {
     "elapsed": 227,
     "status": "ok",
     "timestamp": 1634741839059,
     "user": {
      "displayName": "Emily Shinkle",
      "photoUrl": "https://lh3.googleusercontent.com/a/default-user=s64",
      "userId": "06575640438948846197"
     },
     "user_tz": 300
    },
    "id": "dgIAwSbnNE6q",
    "outputId": "ed01ea42-738c-422f-e997-2c6db342548d"
   },
   "outputs": [],
   "source": [
    "print(0, months)\n",
    "print(1, months[:2:])\n",
    "print(2, months[2:])\n",
    "print(3, months[::2])\n",
    "print(4, months[:])\n",
    "print(5, months[::])"
   ]
  },
  {
   "cell_type": "markdown",
   "metadata": {},
   "source": [
    "#### 2.3\n",
    "Repeat the exercise here. Can you predict the output? Explain."
   ]
  },
  {
   "cell_type": "code",
   "execution_count": null,
   "metadata": {},
   "outputs": [],
   "source": [
    "days = ['Sunday', 'Monday', 'Tuesday', 'Wednesday', 'Thursday', 'Friday', 'Saturday'],"
   ]
  },
  {
   "cell_type": "code",
   "execution_count": null,
   "metadata": {},
   "outputs": [],
   "source": [
    "print(0, days)\n",
    "print(1, days[:2:])\n",
    "print(2, days[2:])\n",
    "print(3, days[::2])\n",
    "print(4, days[:])\n",
    "print(5, days[::])"
   ]
  },
  {
   "cell_type": "markdown",
   "metadata": {},
   "source": [
    "### 3.\n",
    "Given the following nested list of strings"
   ]
  },
  {
   "cell_type": "code",
   "execution_count": null,
   "metadata": {
    "id": "9def08db"
   },
   "outputs": [],
   "source": [
    "nested = [['rock', 'paper', 'scissors'],\n",
    "          ['piedra', 'papel', 'tijeras'],\n",
    "          ['roche', 'papier', 'ciseaux']]"
   ]
  },
  {
   "cell_type": "markdown",
   "metadata": {
    "id": "dd581d41"
   },
   "source": [
    "Print `'paper, roche, tijeras'` by extracting the strings from the nested list."
   ]
  },
  {
   "cell_type": "code",
   "execution_count": null,
   "metadata": {},
   "outputs": [],
   "source": []
  },
  {
   "cell_type": "markdown",
   "metadata": {
    "id": "3ADQZiRytkDc"
   },
   "source": [
    "### 4.\n",
    "Predict which values will actually print before running the follow code."
   ]
  },
  {
   "cell_type": "code",
   "execution_count": null,
   "metadata": {
    "id": "civic-pasta"
   },
   "outputs": [],
   "source": [
    "if None:\n",
    "    print('None.')\n",
    "\n",
    "if 0:\n",
    "    print('0.')\n",
    "\n",
    "if []:\n",
    "    print('[]')\n",
    "\n",
    "if 1:\n",
    "    print('1.')"
   ]
  },
  {
   "cell_type": "markdown",
   "metadata": {
    "id": "wired-crack"
   },
   "source": [
    "### 5.\n",
    "Modify the program below to test divisibility by 4."
   ]
  },
  {
   "cell_type": "code",
   "execution_count": null,
   "metadata": {
    "id": "democratic-jesus"
   },
   "outputs": [],
   "source": [
    "num = 1\n",
    "while num > 0:\n",
    "    num = int(input())\n",
    "    if num%2 == 0:\n",
    "        if num%3 == 0:\n",
    "            print (num, \"is divisible by 2 and 3.\")\n",
    "        else:\n",
    "            print (num, \"is divisible by 2 and not divisible by 3\")\n",
    "    else:\n",
    "        if num%3 == 0:\n",
    "            print (num, 0\"is divisible by 3 and not divisible by 2\")\n",
    "        else:\n",
    "            print  (num, \"is not divisible by 2 and not divisible by 3\")"
   ]
  },
  {
   "cell_type": "markdown",
   "metadata": {
    "id": "10d5m9SstkDd"
   },
   "source": [
    "### 6.\n",
    "Sometimes we need to loop over multiple lists of equal length at once. The `zip()` built-in function can provide a tuple of one element from each list. Here is an example:"
   ]
  },
  {
   "cell_type": "code",
   "execution_count": null,
   "metadata": {
    "id": "qpIxhGvRtkDe"
   },
   "outputs": [],
   "source": [
    "names = [\"Ann\",\"Bob\",\"Charles\",\"Debbie\"]\n",
    "favorite_fruit = [\"Apple\",\"Banana\",\"Cherrie\",\"Date\"]\n",
    "for name, fruit in zip(names, favorite_fruit):\n",
    "    print(name,\":\", fruit)"
   ]
  },
  {
   "cell_type": "markdown",
   "metadata": {
    "id": "provincial-declaration"
   },
   "source": [
    "In a much feared math class, letter grades will be assigned according to the percentage:\n",
    "- 100.00 % - 98.00 % → A+ \n",
    "- 97.99 % - 93.00 % → A \n",
    "- 92.99% - 90.00% → A- \n",
    "- 89.99 % -87.00 % → B+ \n",
    "- 86.99 % - 83.00 % → B \n",
    "- 82.99 % - 80.00 % → B- \n",
    "- 79.99 % - 70.00 % → C\n",
    "- 69.99 % and below → F\n",
    "\n",
    "Use a for loop and `if-elif-else` and determine the letter grades for the following list of percent grades. \n",
    "- Print out the name of their student and their letter grade, e.g. \"Adam received a B+\". \n",
    "- To keep it short, for grades lower than B-, just print that student didn't do so well..."
   ]
  },
  {
   "cell_type": "code",
   "execution_count": null,
   "metadata": {
    "id": "JFL9PLGYtkDe"
   },
   "outputs": [],
   "source": [
    "students = [\"Connor\" , \"Robert\" , \"Adam\" , \"Joshua\" , \"Lucas\" , \"Candice\" , \"Christian\" , \"Andrew\" , \"Mya\" , \"Lexi\" , \"Logan\" , \"Mary\" , \"Kelsey\" , \"Gwyneth\" , \"Kendal\" , \"Ellora\" , \"Cameron\" , \"Lindsay\" , \"Saahil\" , \"Andrea\" , \"Kylie\" , \"Allison\" , \"Rachel\" , \"Ariana\" , \"Sean\" , \"Kristy\" , \"Lauren\" , \"Jacob\" , \"Brianna\" , \"Michael\" , \"Alexandria\" , \"Samuel\" , \"Brandon\" , \"Dalton\" , \"Jachob\" , \"Terrance\" , \"Benjamin\" , \"Alexander\" , \"Dylan\" , \"Paige\" , \"Brennen\" , \"Christopher\" , \"Ben\" , \"Mary\" , \"Amy\" , \"Sarah\" , \"Ellie\" , \"Mickey\" , \"Mike\" , \"Laura\"]\n",
    "grades = [90.42,57.47,93.07,66.74,80.30,88.19,65.57,96.99,64.18,66.96, 17.94,99.91,62.16,90.78,91.41,93.31,90.35,77.09,90.39,87.24,81.81, 72.27,88.82,75.12,85.47,78.43,85.18,87.18,96.91,88.23,76.28,10.67,83.44,69.61,78.32,82.27,85.44,93.22,63.82,79.68,91.04,84.05,82.46,87.13,98.09,70.44,89.26,68.86,77.35,2.16]"
   ]
  },
  {
   "cell_type": "code",
   "execution_count": null,
   "metadata": {},
   "outputs": [],
   "source": []
  },
  {
   "cell_type": "markdown",
   "metadata": {
    "id": "molecular-theory"
   },
   "source": [
    "### 7.\n",
    "Using `if` or `for` only, \n",
    "1. Find the maximum and minimum of [22, 1, 3, 4, 7, 98, 21, 55, 87, 99, 19, 20, 45]. \n",
    "2. Evaluate the average of the list above. "
   ]
  },
  {
   "cell_type": "code",
   "execution_count": null,
   "metadata": {
    "id": "waiting-beatles"
   },
   "outputs": [],
   "source": [
    "numList = [22, 1, 3, 4, 7, 98, 21, 55, 87, 99, 19, 20, 45]"
   ]
  },
  {
   "cell_type": "markdown",
   "metadata": {
    "id": "srlx3elaGgTV"
   },
   "source": [
    "### 8.\n",
    "Write a program that  checks whether an integer is a prime number or not."
   ]
  },
  {
   "cell_type": "code",
   "execution_count": null,
   "metadata": {
    "id": "113P6PgMHCVd"
   },
   "outputs": [],
   "source": []
  },
  {
   "cell_type": "markdown",
   "metadata": {
    "id": "9Pi_sfkfLBQt"
   },
   "source": [
    "### 9.\n",
    "Find the first 6-digit number that is divisible by 157."
   ]
  },
  {
   "cell_type": "code",
   "execution_count": null,
   "metadata": {
    "id": "-3JAPMLlLci1"
   },
   "outputs": [],
   "source": []
  },
  {
   "cell_type": "markdown",
   "metadata": {},
   "source": [
    "### 10.\n",
    "In one line of code, create a list of numbers \\$x^y\\$ for \\$ x \\in \\\\{1,2, ..., 10\\\\} \\$ and \\$ y \\in \\\\{2, 3, 6, 7, 8 \\\\}\\$ only if \\$ x + y \\$ is even."
   ]
  },
  {
   "cell_type": "code",
   "execution_count": null,
   "metadata": {},
   "outputs": [],
   "source": []
  },
  {
   "cell_type": "markdown",
   "metadata": {
    "id": "13iYBTsrHati"
   },
   "source": [
    "### 11.\n",
    "Use these methods to do the following with the list below.\n",
    "\n",
    "- Create a blank list called `served_customers` and move the first six customers of `waiting_customers` to this list. (Hint: use `list.pop()`.)\n",
    "- Flip the order of `served_customers` so that the most recently served customer is at the front of the list.\n",
    "- Report the number of customers served and customers waiting.\n",
    "- Allow Ana Lloyd to cut in line and be served next.\n",
    "- Alphabetize the remaining waiting customers by first name."
   ]
  },
  {
   "cell_type": "code",
   "execution_count": null,
   "metadata": {
    "id": "k5Tj1IwnH83S"
   },
   "outputs": [],
   "source": [
    "waiting_customers=['Chance Maxwell', 'Ray Rawlings', 'Omer Hollis', 'Ava-Rose O\\'Gallagher', 'Jocelyn Green', 'Sammy John', 'Stevie Mcfarland', 'Romany Goff', 'Edmund Downes', 'Umayr Sykes', 'Bret Oliver','Katy Chung', 'Ana Lloyd', 'Ricardo Sullivan', 'Daryl Shepard']"
   ]
  },
  {
   "cell_type": "code",
   "execution_count": null,
   "metadata": {},
   "outputs": [],
   "source": []
  },
  {
   "cell_type": "markdown",
   "metadata": {
    "id": "SlYl5iwHS4ra"
   },
   "source": [
    "### 12.\n",
    "\n",
    "There is a pair of integers $x$, $y$ such that $x^2 + y^2 = 223065$. Use `for` or `while` loops to find them!"
   ]
  },
  {
   "cell_type": "code",
   "execution_count": null,
   "metadata": {
    "id": "HjGWXVUySnf3"
   },
   "outputs": [],
   "source": []
  },
  {
   "cell_type": "markdown",
   "metadata": {
    "id": "MXIVojpPTXHj"
   },
   "source": [
    "### 13.\n",
    "\n",
    "Define $W_0 = 2$ and $W_n = W_{n-1}^{W_{n-1}}$ for all integers $n \\geq 1$. Use a while loop to find the smallest \\$ n\\$ such that $W_n > 1030$."
   ]
  },
  {
   "cell_type": "code",
   "execution_count": null,
   "metadata": {
    "id": "UrbJdbYYfYzw"
   },
   "outputs": [],
   "source": []
  },
  {
   "cell_type": "markdown",
   "metadata": {
    "id": "7L-5Tlf6fZTW"
   },
   "source": [
    "### 14.*.\n",
    "\n",
    "Create a list of length $10$ where entry $i$ has value $0^2 + 1^2 + 2^2 + \\ldots + i^2$ (without using the formula for that if you happen to know it). Can you do it with only one for loop?\n",
    "\n"
   ]
  },
  {
   "cell_type": "code",
   "execution_count": null,
   "metadata": {
    "id": "_bM8T1xTiJUN"
   },
   "outputs": [],
   "source": []
  },
  {
   "cell_type": "markdown",
   "metadata": {
    "id": "rsApif_0hrFH"
   },
   "source": [
    "### 15.*\n",
    "\n",
    "Set $n=100$ and create two nested `for` loops iterating `i` and `j` through `range(n)`. Can you find a way to exit **both** `for` loops when `i=49` and `j=76`? So after you run it, `i` should have value $49$ and `j` should have value $76$."
   ]
  },
  {
   "cell_type": "code",
   "execution_count": null,
   "metadata": {
    "id": "RZy9T41EiuMg"
   },
   "outputs": [],
   "source": []
  },
  {
   "cell_type": "markdown",
   "metadata": {
    "id": "o4y88iN_izjg"
   },
   "source": [
    "### 16.\n",
    "\n",
    "Set `A` to be a list of numbers of your choice. Set `B` equals to `A`. Use `for` loops to set each entry in `B` equal to itself plus all the 'later entries' (entries corresponding to a larger index) in `B`. After doing that (to `B` only), what is the value of `A`?"
   ]
  },
  {
   "cell_type": "code",
   "execution_count": null,
   "metadata": {
    "id": "faFhiyoEizSh"
   },
   "outputs": [],
   "source": []
  },
  {
   "cell_type": "markdown",
   "metadata": {
    "id": "EDpc4f920NVL"
   },
   "source": [
    "### 17.*\n",
    "\n",
    "Using [this page](https://www.freecodecamp.org/news/python-string-manipulation-handbook/) or any other resource you prefer as a reference, and given the string below:"
   ]
  },
  {
   "cell_type": "code",
   "execution_count": null,
   "metadata": {
    "id": "dbQsVykd0_VA"
   },
   "outputs": [],
   "source": [
    "text = \"Lorem ipsum dolor sit amet, consectetur adipiscing elit. Curabitur eu tortor a eros bibendum vestibulum. Aliquam mollis efficitur odio eget rutrum. Ut finibus porttitor nisi, et sollicitudin nisi luctus quis. Nulla facilisi. Sed dapibus eleifend ex, ut mattis nibh tincidunt eget. Nullam tincidunt tellus sit amet posuere hendrerit. Suspendisse ac ipsum eget velit ornare tincidunt. Morbi quis dignissim enim, a elementum nisl. Sed faucibus venenatis risus, eu vulputate lorem porttitor gravida. Sed sed nisi ultricies, pellentesque sapien vel, aliquet magna. Morbi enim ligula, bibendum quis justo vel, sollicitudin semper nisi. Proin vitae lobortis lorem, aliquet aliquam diam. Donec suscipit malesuada lorem, ac rutrum est pharetra consectetur.\""
   ]
  },
  {
   "cell_type": "markdown",
   "metadata": {},
   "source": [
    "#### 17.1\n",
    "Make the entire string lower case."
   ]
  },
  {
   "cell_type": "code",
   "execution_count": null,
   "metadata": {
    "id": "UGpsoJSf3HVQ"
   },
   "outputs": [],
   "source": []
  },
  {
   "cell_type": "markdown",
   "metadata": {},
   "source": [
    "#### 17.2\n",
    "Print a word count."
   ]
  },
  {
   "cell_type": "code",
   "execution_count": null,
   "metadata": {},
   "outputs": [],
   "source": []
  },
  {
   "cell_type": "markdown",
   "metadata": {},
   "source": [
    "#### 17.3\n",
    "Print the number of times the letter `s` appears in the string."
   ]
  },
  {
   "cell_type": "code",
   "execution_count": null,
   "metadata": {},
   "outputs": [],
   "source": []
  },
  {
   "cell_type": "markdown",
   "metadata": {},
   "source": [
    "#### 17.4*\n",
    "Move the first sentence of the text to the end of the text."
   ]
  },
  {
   "cell_type": "code",
   "execution_count": null,
   "metadata": {},
   "outputs": [],
   "source": []
  },
  {
   "cell_type": "markdown",
   "metadata": {
    "id": "C4JEc1ad3H2L"
   },
   "source": [
    "### 18.\n",
    "\n",
    "Using [this page](https://realpython.com/python-dicts/) or any other resource you prefer as a reference, to do the following exercise.\n",
    "\n",
    "Given a dictionary where the keys are the names of the members of your group and the values are their favorite food."
   ]
  },
  {
   "cell_type": "code",
   "execution_count": null,
   "metadata": {
    "id": "4HjxzNdmtkDl"
   },
   "outputs": [],
   "source": [
    "fav_foods = {\"Joseph\": \"pizza\", \"Adriana\": \"cake\", \"Shinhae\": \"coffee\"}"
   ]
  },
  {
   "cell_type": "markdown",
   "metadata": {},
   "source": [
    "#### 18.1\n",
    "Add a new entry to the dictionary for Emily. Her favorite food is chocolate."
   ]
  },
  {
   "cell_type": "code",
   "execution_count": null,
   "metadata": {},
   "outputs": [],
   "source": []
  },
  {
   "cell_type": "markdown",
   "metadata": {},
   "source": [
    "#### 18.2\n",
    "Use the dictionary to print Joe's favorite food."
   ]
  },
  {
   "cell_type": "code",
   "execution_count": null,
   "metadata": {},
   "outputs": [],
   "source": []
  },
  {
   "cell_type": "markdown",
   "metadata": {},
   "source": [
    "#### 18.3\n",
    "Remove the entry for Emily from the dictionary."
   ]
  },
  {
   "cell_type": "code",
   "execution_count": null,
   "metadata": {},
   "outputs": [],
   "source": []
  },
  {
   "cell_type": "markdown",
   "metadata": {},
   "source": [
    "#### 18.4\n",
    "Try to add a second entry for Joseph. Does it work?"
   ]
  },
  {
   "cell_type": "code",
   "execution_count": null,
   "metadata": {},
   "outputs": [],
   "source": []
  },
  {
   "cell_type": "markdown",
   "metadata": {},
   "source": [
    "#### 18.5\n",
    "Print the dictionary keys."
   ]
  },
  {
   "cell_type": "code",
   "execution_count": null,
   "metadata": {},
   "outputs": [],
   "source": []
  },
  {
   "cell_type": "markdown",
   "metadata": {},
   "source": [
    "#### 18.6\n",
    "Print the dictionary values"
   ]
  },
  {
   "cell_type": "code",
   "execution_count": null,
   "metadata": {},
   "outputs": [],
   "source": []
  },
  {
   "cell_type": "markdown",
   "metadata": {},
   "source": [
    "#### 18.7\n",
    "Create an empty dictionary. Then use the method `.popitem()` to remove the last two entries from your original dictionary and add them to the new dictionary."
   ]
  },
  {
   "cell_type": "code",
   "execution_count": null,
   "metadata": {},
   "outputs": [],
   "source": []
  },
  {
   "cell_type": "markdown",
   "metadata": {},
   "source": [
    "### 19.\n",
    "\n",
    "The **Sieve of Eratosthenes** is an algorithm to find prime numbers up to a certain value.\n",
    "\n",
    "Algorithm:\n",
    "- initialize a list of primes with all integers\n",
    "- go through a list of divisors (have to be in the list of primes)\n",
    "- cross all candidates divisible by the considered divisor\n",
    "- stop when all divisors up to the boundary are considered\n",
    "\n",
    "Here is a version. Can you simplify the algorithm using an `else` with the `while`?"
   ]
  },
  {
   "cell_type": "code",
   "execution_count": null,
   "metadata": {},
   "outputs": [],
   "source": [
    "upper = 23\n",
    "primes = list(range(1, upper + 1))      # all numbers between 1 and upper\n",
    "divisor = 1                             # initial divisor\n",
    "while True:\n",
    "    divisor += 1                        # next divisor\n",
    "    if divisor > upper:                 # checked all divisors (?)\n",
    "        break\n",
    "    if not divisor in primes:\n",
    "        continue                        # skip divisor which is not itself prime\n",
    "    i = 0\n",
    "    while i < len(primes):\n",
    "        if primes[i] != divisor and primes[i] % divisor == 0:\n",
    "            primes.remove(primes[i])   # remove, next is with the same index - don't increment i\n",
    "        else:\n",
    "            i += 1                     # skip to go to next\n",
    "    print('divisor %d:' % divisor, primes)\n",
    "    \n",
    "print('Primes up to %d are:' % upper ,primes)"
   ]
  },
  {
   "cell_type": "markdown",
   "metadata": {},
   "source": [
    "### 20.\n",
    "We have seen how to use the `input()` function in the following example: "
   ]
  },
  {
   "cell_type": "code",
   "execution_count": null,
   "metadata": {},
   "outputs": [],
   "source": [
    "instring = ''\n",
    "while instring != 'stop':\n",
    "    instring = input('Enter a word (\"stop\" to exit): ')\n",
    "    print(instring.capitalize())\n",
    "else:\n",
    "    print('Thank you!')"
   ]
  },
  {
   "cell_type": "markdown",
   "metadata": {},
   "source": [
    "Modify the code to avoid having the work *Stop* being printed on exiting the loop. (Hint: You need a `break`)"
   ]
  }
 ],
 "metadata": {
  "colab": {
   "provenance": []
  },
  "kernelspec": {
   "display_name": "Python 3 (ipykernel)",
   "language": "python",
   "name": "python3"
  },
  "language_info": {
   "codemirror_mode": {
    "name": "ipython",
    "version": 3
   },
   "file_extension": ".py",
   "mimetype": "text/x-python",
   "name": "python",
   "nbconvert_exporter": "python",
   "pygments_lexer": "ipython3",
   "version": "3.11.7"
  }
 },
 "nbformat": 4,
 "nbformat_minor": 4
}

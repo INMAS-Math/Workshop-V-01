{
 "cells": [
  {
   "cell_type": "markdown",
   "metadata": {},
   "source": [
    "<img src=\"images/inmas.png\" width=130x align='right' />\n",
    "\n",
    "# Exercise 16 - More Advanced NumPy\n",
    "\n",
    "\n",
    "### Prerequisite\n",
    "Notebook 16"
   ]
  },
  {
   "cell_type": "markdown",
   "metadata": {},
   "source": [
    "### 1.\n",
    "Using the following data"
   ]
  },
  {
   "cell_type": "code",
   "execution_count": null,
   "metadata": {},
   "outputs": [],
   "source": [
    "data = np.genfromtxt('./data/stockholm_td_adj.csv', delimiter=',', skip_header=1)\n",
    "months = ['January', 'February', 'March',\n",
    "          'April', 'May', 'June',\n",
    "          'July', 'August', 'September',\n",
    "          'October', 'November', 'December',\n",
    "         ]"
   ]
  },
  {
   "cell_type": "markdown",
   "metadata": {},
   "source": [
    "1.   Extract the mean monthly average temperatures for each month of the year.\n",
    "2.   Plot the extracted mean values by months, with the proper month labeling."
   ]
  },
  {
   "cell_type": "code",
   "execution_count": null,
   "metadata": {},
   "outputs": [],
   "source": []
  },
  {
   "cell_type": "markdown",
   "metadata": {},
   "source": [
    "### 2.*\n",
    "__Newton's method__\n",
    "\n",
    "This problem has three parts: \n",
    "\n",
    "* __2.1__: [Newton's Method](https://en.wikipedia.org/wiki/Newton%27s_method) is a root finding method that uses linear approximation. In particular, we guess a solution $x_0$ of the equation $f(x)= 0$, compute the linear approximation of $f(x)$ at $x_0$ and then find the x-intercept of the linear approximation. The general scheme of Newton's method may be written as: \n",
    "$$ x_{n+1} = x_n - \\dfrac{f(x_n)}{f'(x_n)} $$ for $n=0,1, 2, ...$. The computation is repeated until $f(x_n)$ is close enough to zero. More precisely, we test if $|f(x_n)|< \\epsilon$ , with $\\epsilon$ being a small number. Write a function that returns an approximation of a solution of  $f(x)=0$ by Newton's method. Make sure that your function prints out an array containing the approximations as a function of iterations. \n",
    "    \n",
    "* __2.2__: Let $f(x)= x^2- 9$. Using the function from Part 1, calculate an approximation for the solution of $f(x)=0$ using $x_0= 1000$ and $\\epsilon= 0.01$. Make a convergence plot of the approximate solution as a function of iteration. Make this plot a scatter plot with scales log linear (x axis linear, y axis logarithmic).\n",
    "    \n",
    "* __2.3__: Create a Figure with two subplots, one next to the other. \n",
    "    * First plot: Plot the function $f(x)$ using `x=np.arange(0, 10)`. You should label where the solution to $f(x)=0$ is at, i.e. label the point $(3,0)$. Draw a horizontal line at $y =0$, you can use `plt.hlines()`.\n",
    "    * Second plot: Plot the array from Part 2. \n",
    "    \n",
    "    Make sure each graph has a title, labels, and correct limits."
   ]
  },
  {
   "cell_type": "code",
   "execution_count": null,
   "metadata": {},
   "outputs": [],
   "source": []
  },
  {
   "cell_type": "markdown",
   "metadata": {},
   "source": [
    "### 3.*\n",
    "\n",
    "__Euler's method for solving ordinary differential equation__\n",
    "\n",
    "For a first order ordinary differential equation, \n",
    "$$\\frac{dS(t)}{dt} = F(t, S(t))$$\n",
    "the linear approximation of $S(t)$ around $t_j$ at $t_{j+1}$ is called the *Explicit Euler Formula* :\n",
    "$$ S(t_{j+1})= S(t_j) + hF(t_j, S(t_j))$$\n",
    "where $h = t_{j+1} - t_j$ is a stepsize of the interval $[t_0, t_f]$.\n",
    "Given initial value of $S_0 = S(t_0)$, we can use the formula to integrate the states up to $S(t_f)$. These $S(t)$ values are an approximated solution of the differential equation.\n",
    "\n",
    "Consider the differential equation \n",
    "$$\\frac{df(t)}{dt} = e^{-t} $$ with initial condition $f(0)=−1$.  Approximate the solution to this initial value problem between 0 and 1 in increments of 0.01 using the Euler's method. Plot the approximated solution with the exact solution. Note that the exact solution is $f(t)=-e^{-t}$."
   ]
  },
  {
   "cell_type": "code",
   "execution_count": null,
   "metadata": {},
   "outputs": [],
   "source": []
  },
  {
   "cell_type": "markdown",
   "metadata": {},
   "source": [
    "#### 4.\n",
    "Can the transpose of a matrix be obtained through the `reshape` method? Explain."
   ]
  },
  {
   "cell_type": "markdown",
   "metadata": {},
   "source": []
  }
 ],
 "metadata": {
  "colab": {
   "collapsed_sections": [],
   "name": "Notebook10_Numpy_intermediate.ipynb",
   "provenance": [],
   "toc_visible": true
  },
  "kernelspec": {
   "display_name": "Python 3 (ipykernel)",
   "language": "python",
   "name": "python3"
  },
  "language_info": {
   "codemirror_mode": {
    "name": "ipython",
    "version": 3
   },
   "file_extension": ".py",
   "mimetype": "text/x-python",
   "name": "python",
   "nbconvert_exporter": "python",
   "pygments_lexer": "ipython3",
   "version": "3.11.7"
  }
 },
 "nbformat": 4,
 "nbformat_minor": 4
}

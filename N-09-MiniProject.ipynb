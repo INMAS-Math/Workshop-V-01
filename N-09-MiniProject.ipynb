{
 "cells": [
  {
   "cell_type": "markdown",
   "id": "c4e678b4",
   "metadata": {
    "id": "c4e678b4",
    "slideshow": {
     "slide_type": "slide"
    }
   },
   "source": [
    "<img src=\"images/inmas.png\" width=130x align=right />\n",
    "\n",
    "# Notebook 09 - Mini-Projects\n",
    " \n",
    "\n",
    "\n",
    "### Prerequisites\n",
    "Notebooks 00 to 08"
   ]
  },
  {
   "cell_type": "markdown",
   "id": "966b0335",
   "metadata": {
    "slideshow": {
     "slide_type": "slide"
    }
   },
   "source": [
    "### Mini-Projects\n",
    "This workshop module has no theory - only some exercices for coding practice on a small project\n",
    "\n",
    "Pick one of two games to implement:\n",
    "- **Project a**: Rock, Paper, Scissors\n",
    "- **Project b**: Hangman"
   ]
  },
  {
   "cell_type": "markdown",
   "id": "d742e8b7",
   "metadata": {
    "slideshow": {
     "slide_type": "slide"
    }
   },
   "source": [
    "### Project 9a: Rock, Paper, Scissors\n",
    "\n",
    "- Goal: Develop an interactive game to play Rock, Paper, Scissors\n",
    "- Level of difficulty: medium low\n",
    "- Recommended for beginners"
   ]
  },
  {
   "cell_type": "markdown",
   "id": "189df8e7",
   "metadata": {
    "slideshow": {
     "slide_type": "slide"
    }
   },
   "source": [
    "### Project 9b: Hangman\n",
    "- Goal: Develop an interactive game to play Hangman\n",
    "- Level of difficulty: medium high\n",
    "- Recommended for more experienced coders"
   ]
  },
  {
   "cell_type": "markdown",
   "id": "462779a3",
   "metadata": {
    "slideshow": {
     "slide_type": "slide"
    }
   },
   "source": [
    "### What's Next?\n",
    "- Complete the exercises in one of these associated exercise notebooks:\n",
    "    - Rock, Paper, Scissors [X-09a-MiniProject.ipynb](X-09a-MiniProject.ipynb)\n",
    "    - Hangman [X-09b-MiniProject.ipynb](X-09b-MiniProject.ipynb)\n",
    "- Next notebook is [N-10-ExceptionHandling.ipynb](N-10-ExceptionHandling.ipynb)"
   ]
  }
 ],
 "metadata": {
  "celltoolbar": "Slideshow",
  "colab": {
   "collapsed_sections": [],
   "provenance": []
  },
  "kernelspec": {
   "display_name": "Python 3 (ipykernel)",
   "language": "python",
   "name": "python3"
  },
  "language_info": {
   "codemirror_mode": {
    "name": "ipython",
    "version": 3
   },
   "file_extension": ".py",
   "mimetype": "text/x-python",
   "name": "python",
   "nbconvert_exporter": "python",
   "pygments_lexer": "ipython3",
   "version": "3.11.7"
  }
 },
 "nbformat": 4,
 "nbformat_minor": 5
}
